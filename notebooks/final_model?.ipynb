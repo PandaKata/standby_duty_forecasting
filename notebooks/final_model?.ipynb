{
 "cells": [
  {
   "cell_type": "code",
   "execution_count": 1,
   "metadata": {},
   "outputs": [],
   "source": [
    "# Model Sara"
   ]
  },
  {
   "cell_type": "code",
   "execution_count": 20,
   "metadata": {},
   "outputs": [],
   "source": [
    "import pandas as pd\n",
    "import numpy as np\n",
    "import matplotlib.pyplot as plt\n",
    "from sklearn.ensemble import RandomForestRegressor\n",
    "from sklearn.linear_model import LinearRegression, Lasso, Ridge\n",
    "from sklearn.metrics import mean_squared_error\n",
    "from sklearn.model_selection import cross_val_score\n"
   ]
  },
  {
   "cell_type": "code",
   "execution_count": 7,
   "metadata": {},
   "outputs": [
    {
     "name": "stdout",
     "output_type": "stream",
     "text": [
      "<class 'pandas.core.frame.DataFrame'>\n",
      "Int64Index: 1152 entries, 0 to 1151\n",
      "Data columns (total 13 columns):\n",
      " #   Column        Non-Null Count  Dtype         \n",
      "---  ------        --------------  -----         \n",
      " 0   date          1152 non-null   datetime64[ns]\n",
      " 1   n_sick        1152 non-null   int64         \n",
      " 2   calls         1152 non-null   float64       \n",
      " 3   n_duty        1152 non-null   int64         \n",
      " 4   n_sby         1152 non-null   int64         \n",
      " 5   sby_need      1152 non-null   float64       \n",
      " 6   dafted        1152 non-null   float64       \n",
      " 7   year          1152 non-null   int64         \n",
      " 8   month         1152 non-null   int64         \n",
      " 9   day_of_week   1152 non-null   int64         \n",
      " 10  week          1152 non-null   int64         \n",
      " 11  day_of_month  1152 non-null   int64         \n",
      " 12  day_of_year   1152 non-null   int64         \n",
      "dtypes: datetime64[ns](1), float64(3), int64(9)\n",
      "memory usage: 126.0 KB\n"
     ]
    }
   ],
   "source": [
    "df = pd.read_csv('/Users/kata/Desktop/GitHub/standby_duty_forecasting/sickness_table.csv', index_col=0)\n",
    "df['date'] = pd.to_datetime(df['date'])\n",
    "df['year']= df['date'].dt.year\n",
    "df['month']= df['date'].dt.month\n",
    "df['day_of_week'] = df['date'].dt.dayofweek\n",
    "df['week'] = df['date'].dt.isocalendar().week\n",
    "df['day_of_month'] = df['date'].dt.day\n",
    "df['day_of_year'] = df['date'].dt.dayofyear\n",
    "# change type to not get error\n",
    "df['week'] = df['week'].astype(np.int64)\n",
    "df.info()"
   ]
  },
  {
   "cell_type": "code",
   "execution_count": 8,
   "metadata": {},
   "outputs": [],
   "source": [
    "# predict calls with RF\n",
    "# define X and y data\n",
    "X = df[['year', 'month', 'day_of_week',\n",
    "       'week', 'n_duty', 'n_sby', 'day_of_month', 'day_of_year']]\n",
    "y = df.calls"
   ]
  },
  {
   "cell_type": "code",
   "execution_count": 9,
   "metadata": {},
   "outputs": [],
   "source": [
    "# train test split\n",
    "def train_test_split(data, n_test):\n",
    "\treturn data[:n_test], data[n_test:]\n",
    "\n",
    "\n",
    "x_train, x_test = train_test_split(X, 922)\n",
    "y_train, y_test = train_test_split(y, 922)"
   ]
  },
  {
   "cell_type": "code",
   "execution_count": 10,
   "metadata": {},
   "outputs": [],
   "source": [
    "model = RandomForestRegressor(n_estimators=1000, random_state=6)\n",
    "model.fit(x_train, y_train)\n",
    "pred = model.predict(x_test)"
   ]
  },
  {
   "cell_type": "code",
   "execution_count": 11,
   "metadata": {},
   "outputs": [],
   "source": [
    "# change pred to series for visualizing\n",
    "\n",
    "pred = pd.Series(pred)\n",
    "pred = pred.reset_index()\n",
    "y_test = y_test.reset_index()"
   ]
  },
  {
   "cell_type": "code",
   "execution_count": 12,
   "metadata": {},
   "outputs": [],
   "source": [
    "# create df to compare data\n",
    "df_calls_rf = pd.concat([pred, y_test], axis=1).reset_index(drop=True)\n",
    "df_calls_rf = df_calls_rf.drop(['index'], axis=1)\n",
    "df_calls_rf['predicted'] = df_calls_rf[0]\n",
    "df_calls_rf = df_calls_rf.drop([0], axis=1)"
   ]
  },
  {
   "cell_type": "code",
   "execution_count": 13,
   "metadata": {},
   "outputs": [
    {
     "name": "stdout",
     "output_type": "stream",
     "text": [
      "The MSE for predicting calls with Random Forest is: 1526209.779417026\n"
     ]
    }
   ],
   "source": [
    "# calculate MSE\n",
    "mse_rf = mean_squared_error(df_calls_rf['calls'], df_calls_rf['predicted'])\n",
    "print('The MSE for predicting calls with Random Forest is:', mse_rf)"
   ]
  },
  {
   "cell_type": "code",
   "execution_count": 43,
   "metadata": {},
   "outputs": [],
   "source": [
    "# create df with predicted calls\n",
    "calls_new = pd.concat([df['calls'].iloc[:922], df_calls_rf['predicted']], axis=0).reset_index(drop=True)\n",
    "df['calls_new'] = calls_new"
   ]
  },
  {
   "cell_type": "code",
   "execution_count": null,
   "metadata": {},
   "outputs": [],
   "source": []
  },
  {
   "cell_type": "code",
   "execution_count": null,
   "metadata": {},
   "outputs": [],
   "source": []
  },
  {
   "cell_type": "code",
   "execution_count": 46,
   "metadata": {},
   "outputs": [],
   "source": [
    "# new data for Lasso Regression\n",
    "# predict calls with RF\n",
    "# define X and y data\n",
    "X = df[['year', 'month', 'day_of_week', 'calls_new',\n",
    "       'week', 'n_duty', 'n_sby', 'day_of_month', 'day_of_year']]\n",
    "y = df.sby_need"
   ]
  },
  {
   "cell_type": "code",
   "execution_count": 47,
   "metadata": {},
   "outputs": [],
   "source": [
    "x_train, x_test = train_test_split(X, 922)\n",
    "y_train, y_test = train_test_split(y, 922)"
   ]
  },
  {
   "cell_type": "code",
   "execution_count": 48,
   "metadata": {},
   "outputs": [],
   "source": [
    "# Develop Ridge(L2) Regression Model:\n",
    "# Estimate different values for lamda\n",
    "alpha = []\n",
    "cross_val_scores_ridge = []"
   ]
  },
  {
   "cell_type": "code",
   "execution_count": 49,
   "metadata": {},
   "outputs": [],
   "source": [
    "for i in range(1, 9):\n",
    "     ridgeModel = Ridge(alpha = i * 0.25)\n",
    "     ridgeModel.fit(x_train, y_train)\n",
    "     scores = cross_val_score(ridgeModel, X, y, cv = 10)\n",
    "     avg_cross_val_score = np.mean(scores)\n",
    "     cross_val_scores_ridge.append(avg_cross_val_score)\n",
    "     alpha.append(i * 0.25)"
   ]
  },
  {
   "cell_type": "code",
   "execution_count": 50,
   "metadata": {},
   "outputs": [],
   "source": [
    "# predict sby_need with calls & lasso regression\n",
    "# Lasso\n",
    "# Develop Lasso(L1) Regression Model:\n",
    "# Estimate different values for lamda\n",
    "lamda = []\n",
    "cross_val_scores_lasso = []\n",
    "# Loop to compute the different scores\n",
    "for i in range(1, 9):\n",
    "    lassoModel = Lasso(alpha = i * 0.25, tol = 0.0925)\n",
    "    lassoModel.fit(x_train, y_train)\n",
    "    scores = cross_val_score(lassoModel, X, y, cv = 10)\n",
    "    avg_cross_val_score = np.mean(scores)\n",
    "    cross_val_scores_lasso.append(avg_cross_val_score)\n",
    "    lamda.append(i * 0.25)"
   ]
  },
  {
   "cell_type": "code",
   "execution_count": 51,
   "metadata": {},
   "outputs": [
    {
     "name": "stdout",
     "output_type": "stream",
     "text": [
      "0.25 : -0.2498881851603504\n",
      "0.5 : -0.24383261133568265\n",
      "0.75 : -0.23337240362347397\n",
      "1.0 : -0.22294429171192426\n",
      "1.25 : -0.21358559866124033\n",
      "1.5 : -0.20490891125863478\n",
      "1.75 : -0.19670510308419958\n",
      "2.0 : -0.18911700911966026\n"
     ]
    }
   ],
   "source": [
    "# Loop to print the different scores\n",
    "for i in range(0, len(alpha)):\n",
    "    print(str(alpha[i])+' : '+str(cross_val_scores_lasso[i]))"
   ]
  },
  {
   "cell_type": "code",
   "execution_count": 79,
   "metadata": {},
   "outputs": [
    {
     "name": "stderr",
     "output_type": "stream",
     "text": [
      "<ipython-input-79-baf7fedf42b4>:4: UserWarning: With alpha=0, this algorithm does not converge well. You are advised to use the LinearRegression estimator\n",
      "  lassoModelChosen.fit(x_train, y_train)\n",
      "/Users/kata/opt/anaconda3/lib/python3.8/site-packages/sklearn/linear_model/_coordinate_descent.py:529: UserWarning: Coordinate descent with no regularization may lead to unexpected results and is discouraged.\n",
      "  model = cd_fast.enet_coordinate_descent(\n",
      "/Users/kata/opt/anaconda3/lib/python3.8/site-packages/sklearn/linear_model/_coordinate_descent.py:529: ConvergenceWarning: Objective did not converge. You might want to increase the number of iterations. Duality gap: 1233146.4539321652, tolerance: 4616.0459392624725\n",
      "  model = cd_fast.enet_coordinate_descent(\n"
     ]
    },
    {
     "data": {
      "text/plain": [
       "Lasso(alpha=0, tol=0.001)"
      ]
     },
     "execution_count": 79,
     "metadata": {},
     "output_type": "execute_result"
    }
   ],
   "source": [
    "# the best value of lamda for the data is 2\n",
    "# Build the Lasso Regression model for the best lamda\n",
    "lassoModelChosen = Lasso(alpha = 0, tol = 0.001)\n",
    "lassoModelChosen.fit(x_train, y_train)"
   ]
  },
  {
   "cell_type": "code",
   "execution_count": 80,
   "metadata": {},
   "outputs": [],
   "source": [
    "pred = lassoModelChosen.predict(x_test)\n",
    "pred = pd.Series(pred)\n",
    "pred = pred.apply(lambda x: 0 if x < 0 else x)"
   ]
  },
  {
   "cell_type": "code",
   "execution_count": 81,
   "metadata": {},
   "outputs": [
    {
     "name": "stdout",
     "output_type": "stream",
     "text": [
      "MSE of the improved model is: 8995.414326160024\n"
     ]
    }
   ],
   "source": [
    "print('MSE of the improved model is:' , mean_squared_error(y_test, pred))"
   ]
  },
  {
   "cell_type": "code",
   "execution_count": 82,
   "metadata": {},
   "outputs": [
    {
     "data": {
      "text/plain": [
       "array([12.54231462, -7.95664537, -0.22206149,  0.03894655,  0.44965829,\n",
       "       -0.30081206,  0.        , -1.00335061,  0.19044622])"
      ]
     },
     "execution_count": 82,
     "metadata": {},
     "output_type": "execute_result"
    }
   ],
   "source": [
    "lassoModelChosen.coef_"
   ]
  },
  {
   "cell_type": "code",
   "execution_count": null,
   "metadata": {},
   "outputs": [],
   "source": []
  },
  {
   "cell_type": "code",
   "execution_count": null,
   "metadata": {},
   "outputs": [],
   "source": [
    "# Linear regression besser?"
   ]
  },
  {
   "cell_type": "code",
   "execution_count": 76,
   "metadata": {},
   "outputs": [],
   "source": [
    "model = LinearRegression()\n",
    "model.fit(x_train, y_train)\n",
    "pred = model.predict(x_test)"
   ]
  },
  {
   "cell_type": "code",
   "execution_count": 77,
   "metadata": {},
   "outputs": [],
   "source": [
    "pred = pd.Series(pred)\n",
    "pred = pred.apply(lambda x: 0 if x < 0 else x)"
   ]
  },
  {
   "cell_type": "code",
   "execution_count": 78,
   "metadata": {},
   "outputs": [
    {
     "name": "stdout",
     "output_type": "stream",
     "text": [
      "MSE of the improved model is: 9825.294220719987\n"
     ]
    }
   ],
   "source": [
    "print('MSE of the improved model is:' , mean_squared_error(y_test, pred))"
   ]
  },
  {
   "cell_type": "code",
   "execution_count": 83,
   "metadata": {},
   "outputs": [
    {
     "data": {
      "text/plain": [
       "array([-1.50142322e-03, -2.37893749e+02,  9.05428771e-03,  4.05404754e-02,\n",
       "        2.62393346e-01, -1.50142322e-01,  3.55271368e-14, -8.47654560e+00,\n",
       "        7.76849833e+00])"
      ]
     },
     "execution_count": 83,
     "metadata": {},
     "output_type": "execute_result"
    }
   ],
   "source": [
    "model.coef_"
   ]
  },
  {
   "cell_type": "code",
   "execution_count": null,
   "metadata": {},
   "outputs": [],
   "source": []
  }
 ],
 "metadata": {
  "kernelspec": {
   "display_name": "Python 3.8.5 ('base')",
   "language": "python",
   "name": "python3"
  },
  "language_info": {
   "codemirror_mode": {
    "name": "ipython",
    "version": 3
   },
   "file_extension": ".py",
   "mimetype": "text/x-python",
   "name": "python",
   "nbconvert_exporter": "python",
   "pygments_lexer": "ipython3",
   "version": "3.8.5"
  },
  "orig_nbformat": 4,
  "vscode": {
   "interpreter": {
    "hash": "5c3cd99063abd1b4c15ea40868a5df46d871e2273225f116d3d00cd8553a7cf8"
   }
  }
 },
 "nbformat": 4,
 "nbformat_minor": 2
}
