{
 "cells": [
  {
   "cell_type": "code",
   "execution_count": 74,
   "metadata": {},
   "outputs": [],
   "source": [
    "import pandas_datareader.data as web\n",
    "import datetime\n",
    "import pandas as pd\n",
    "import matplotlib.pyplot as plt\n",
    "import seaborn as sns\n",
    "from sklearn.metrics import mean_squared_error"
   ]
  },
  {
   "cell_type": "code",
   "execution_count": null,
   "metadata": {},
   "outputs": [],
   "source": [
    "pd.set_option('display.max_columns', None) \n",
    "pd.set_option('display.max_rows', None)"
   ]
  },
  {
   "cell_type": "code",
   "execution_count": 75,
   "metadata": {},
   "outputs": [
    {
     "data": {
      "text/html": [
       "<div>\n",
       "<style scoped>\n",
       "    .dataframe tbody tr th:only-of-type {\n",
       "        vertical-align: middle;\n",
       "    }\n",
       "\n",
       "    .dataframe tbody tr th {\n",
       "        vertical-align: top;\n",
       "    }\n",
       "\n",
       "    .dataframe thead th {\n",
       "        text-align: right;\n",
       "    }\n",
       "</style>\n",
       "<table border=\"1\" class=\"dataframe\">\n",
       "  <thead>\n",
       "    <tr style=\"text-align: right;\">\n",
       "      <th></th>\n",
       "      <th>date</th>\n",
       "      <th>n_sick</th>\n",
       "      <th>calls</th>\n",
       "      <th>n_duty</th>\n",
       "      <th>n_sby</th>\n",
       "      <th>sby_need</th>\n",
       "      <th>dafted</th>\n",
       "    </tr>\n",
       "  </thead>\n",
       "  <tbody>\n",
       "    <tr>\n",
       "      <th>0</th>\n",
       "      <td>2016-04-01</td>\n",
       "      <td>73</td>\n",
       "      <td>8154.0</td>\n",
       "      <td>1700</td>\n",
       "      <td>90</td>\n",
       "      <td>4.0</td>\n",
       "      <td>0.0</td>\n",
       "    </tr>\n",
       "    <tr>\n",
       "      <th>1</th>\n",
       "      <td>2016-04-02</td>\n",
       "      <td>64</td>\n",
       "      <td>8526.0</td>\n",
       "      <td>1700</td>\n",
       "      <td>90</td>\n",
       "      <td>70.0</td>\n",
       "      <td>0.0</td>\n",
       "    </tr>\n",
       "    <tr>\n",
       "      <th>2</th>\n",
       "      <td>2016-04-03</td>\n",
       "      <td>68</td>\n",
       "      <td>8088.0</td>\n",
       "      <td>1700</td>\n",
       "      <td>90</td>\n",
       "      <td>0.0</td>\n",
       "      <td>0.0</td>\n",
       "    </tr>\n",
       "    <tr>\n",
       "      <th>3</th>\n",
       "      <td>2016-04-04</td>\n",
       "      <td>71</td>\n",
       "      <td>7044.0</td>\n",
       "      <td>1700</td>\n",
       "      <td>90</td>\n",
       "      <td>0.0</td>\n",
       "      <td>0.0</td>\n",
       "    </tr>\n",
       "    <tr>\n",
       "      <th>4</th>\n",
       "      <td>2016-04-05</td>\n",
       "      <td>63</td>\n",
       "      <td>7236.0</td>\n",
       "      <td>1700</td>\n",
       "      <td>90</td>\n",
       "      <td>0.0</td>\n",
       "      <td>0.0</td>\n",
       "    </tr>\n",
       "  </tbody>\n",
       "</table>\n",
       "</div>"
      ],
      "text/plain": [
       "         date  n_sick   calls  n_duty  n_sby  sby_need  dafted\n",
       "0  2016-04-01      73  8154.0    1700     90       4.0     0.0\n",
       "1  2016-04-02      64  8526.0    1700     90      70.0     0.0\n",
       "2  2016-04-03      68  8088.0    1700     90       0.0     0.0\n",
       "3  2016-04-04      71  7044.0    1700     90       0.0     0.0\n",
       "4  2016-04-05      63  7236.0    1700     90       0.0     0.0"
      ]
     },
     "execution_count": 75,
     "metadata": {},
     "output_type": "execute_result"
    }
   ],
   "source": [
    "df = pd.read_csv('/Users/kata/Desktop/GitHub/standby_duty_forecasting/sickness_table.csv', index_col=0)\n",
    "df.head()"
   ]
  },
  {
   "cell_type": "markdown",
   "metadata": {},
   "source": [
    "# Mean Squared Error Model"
   ]
  },
  {
   "cell_type": "markdown",
   "metadata": {},
   "source": [
    "Calculate the MSE for the exising practice with 90 standby drivers by default."
   ]
  },
  {
   "cell_type": "code",
   "execution_count": null,
   "metadata": {},
   "outputs": [],
   "source": [
    "mean_squared_error(df.n_sby.iloc[920:], df.sby_need.iloc[920:])"
   ]
  },
  {
   "cell_type": "markdown",
   "metadata": {},
   "source": [
    "The mean squared error for the existing method is 10830732.0"
   ]
  },
  {
   "cell_type": "markdown",
   "metadata": {},
   "source": [
    "# Linear Regression for comparison"
   ]
  },
  {
   "cell_type": "code",
   "execution_count": 76,
   "metadata": {},
   "outputs": [],
   "source": [
    "from sklearn.linear_model import LinearRegression\n",
    "from sklearn.model_selection import train_test_split"
   ]
  },
  {
   "cell_type": "code",
   "execution_count": 77,
   "metadata": {},
   "outputs": [],
   "source": [
    "model = LinearRegression()"
   ]
  },
  {
   "cell_type": "code",
   "execution_count": 78,
   "metadata": {},
   "outputs": [],
   "source": [
    "# train test split\n",
    "X = df.index.values.reshape(-1,1)\n",
    "y = df.sby_need.values.reshape(-1,1)"
   ]
  },
  {
   "cell_type": "code",
   "execution_count": 79,
   "metadata": {},
   "outputs": [],
   "source": [
    "def train_test_split(data, n_test):\n",
    "\treturn data[:-n_test, :], data[-n_test:, :]"
   ]
  },
  {
   "cell_type": "code",
   "execution_count": 109,
   "metadata": {},
   "outputs": [],
   "source": [
    "x_test, x_train = train_test_split(X, 920)\n",
    "y_test, y_train = train_test_split(X, 920)"
   ]
  },
  {
   "cell_type": "code",
   "execution_count": 110,
   "metadata": {},
   "outputs": [
    {
     "data": {
      "text/plain": [
       "LinearRegression()"
      ]
     },
     "execution_count": 110,
     "metadata": {},
     "output_type": "execute_result"
    }
   ],
   "source": [
    "model.fit(x_train, y_train)"
   ]
  },
  {
   "cell_type": "code",
   "execution_count": 117,
   "metadata": {},
   "outputs": [
    {
     "data": {
      "text/plain": [
       "array([[1.13686838e-13],\n",
       "       [1.00000000e+00],\n",
       "       [2.00000000e+00],\n",
       "       [3.00000000e+00],\n",
       "       [4.00000000e+00],\n",
       "       [5.00000000e+00],\n",
       "       [6.00000000e+00],\n",
       "       [7.00000000e+00],\n",
       "       [8.00000000e+00],\n",
       "       [9.00000000e+00],\n",
       "       [1.00000000e+01],\n",
       "       [1.10000000e+01],\n",
       "       [1.20000000e+01],\n",
       "       [1.30000000e+01],\n",
       "       [1.40000000e+01],\n",
       "       [1.50000000e+01],\n",
       "       [1.60000000e+01],\n",
       "       [1.70000000e+01],\n",
       "       [1.80000000e+01],\n",
       "       [1.90000000e+01],\n",
       "       [2.00000000e+01],\n",
       "       [2.10000000e+01],\n",
       "       [2.20000000e+01],\n",
       "       [2.30000000e+01],\n",
       "       [2.40000000e+01],\n",
       "       [2.50000000e+01],\n",
       "       [2.60000000e+01],\n",
       "       [2.70000000e+01],\n",
       "       [2.80000000e+01],\n",
       "       [2.90000000e+01],\n",
       "       [3.00000000e+01],\n",
       "       [3.10000000e+01],\n",
       "       [3.20000000e+01],\n",
       "       [3.30000000e+01],\n",
       "       [3.40000000e+01],\n",
       "       [3.50000000e+01],\n",
       "       [3.60000000e+01],\n",
       "       [3.70000000e+01],\n",
       "       [3.80000000e+01],\n",
       "       [3.90000000e+01],\n",
       "       [4.00000000e+01],\n",
       "       [4.10000000e+01],\n",
       "       [4.20000000e+01],\n",
       "       [4.30000000e+01],\n",
       "       [4.40000000e+01],\n",
       "       [4.50000000e+01],\n",
       "       [4.60000000e+01],\n",
       "       [4.70000000e+01],\n",
       "       [4.80000000e+01],\n",
       "       [4.90000000e+01],\n",
       "       [5.00000000e+01],\n",
       "       [5.10000000e+01],\n",
       "       [5.20000000e+01],\n",
       "       [5.30000000e+01],\n",
       "       [5.40000000e+01],\n",
       "       [5.50000000e+01],\n",
       "       [5.60000000e+01],\n",
       "       [5.70000000e+01],\n",
       "       [5.80000000e+01],\n",
       "       [5.90000000e+01],\n",
       "       [6.00000000e+01],\n",
       "       [6.10000000e+01],\n",
       "       [6.20000000e+01],\n",
       "       [6.30000000e+01],\n",
       "       [6.40000000e+01],\n",
       "       [6.50000000e+01],\n",
       "       [6.60000000e+01],\n",
       "       [6.70000000e+01],\n",
       "       [6.80000000e+01],\n",
       "       [6.90000000e+01],\n",
       "       [7.00000000e+01],\n",
       "       [7.10000000e+01],\n",
       "       [7.20000000e+01],\n",
       "       [7.30000000e+01],\n",
       "       [7.40000000e+01],\n",
       "       [7.50000000e+01],\n",
       "       [7.60000000e+01],\n",
       "       [7.70000000e+01],\n",
       "       [7.80000000e+01],\n",
       "       [7.90000000e+01],\n",
       "       [8.00000000e+01],\n",
       "       [8.10000000e+01],\n",
       "       [8.20000000e+01],\n",
       "       [8.30000000e+01],\n",
       "       [8.40000000e+01],\n",
       "       [8.50000000e+01],\n",
       "       [8.60000000e+01],\n",
       "       [8.70000000e+01],\n",
       "       [8.80000000e+01],\n",
       "       [8.90000000e+01],\n",
       "       [9.00000000e+01],\n",
       "       [9.10000000e+01],\n",
       "       [9.20000000e+01],\n",
       "       [9.30000000e+01],\n",
       "       [9.40000000e+01],\n",
       "       [9.50000000e+01],\n",
       "       [9.60000000e+01],\n",
       "       [9.70000000e+01],\n",
       "       [9.80000000e+01],\n",
       "       [9.90000000e+01],\n",
       "       [1.00000000e+02],\n",
       "       [1.01000000e+02],\n",
       "       [1.02000000e+02],\n",
       "       [1.03000000e+02],\n",
       "       [1.04000000e+02],\n",
       "       [1.05000000e+02],\n",
       "       [1.06000000e+02],\n",
       "       [1.07000000e+02],\n",
       "       [1.08000000e+02],\n",
       "       [1.09000000e+02],\n",
       "       [1.10000000e+02],\n",
       "       [1.11000000e+02],\n",
       "       [1.12000000e+02],\n",
       "       [1.13000000e+02],\n",
       "       [1.14000000e+02],\n",
       "       [1.15000000e+02],\n",
       "       [1.16000000e+02],\n",
       "       [1.17000000e+02],\n",
       "       [1.18000000e+02],\n",
       "       [1.19000000e+02],\n",
       "       [1.20000000e+02],\n",
       "       [1.21000000e+02],\n",
       "       [1.22000000e+02],\n",
       "       [1.23000000e+02],\n",
       "       [1.24000000e+02],\n",
       "       [1.25000000e+02],\n",
       "       [1.26000000e+02],\n",
       "       [1.27000000e+02],\n",
       "       [1.28000000e+02],\n",
       "       [1.29000000e+02],\n",
       "       [1.30000000e+02],\n",
       "       [1.31000000e+02],\n",
       "       [1.32000000e+02],\n",
       "       [1.33000000e+02],\n",
       "       [1.34000000e+02],\n",
       "       [1.35000000e+02],\n",
       "       [1.36000000e+02],\n",
       "       [1.37000000e+02],\n",
       "       [1.38000000e+02],\n",
       "       [1.39000000e+02],\n",
       "       [1.40000000e+02],\n",
       "       [1.41000000e+02],\n",
       "       [1.42000000e+02],\n",
       "       [1.43000000e+02],\n",
       "       [1.44000000e+02],\n",
       "       [1.45000000e+02],\n",
       "       [1.46000000e+02],\n",
       "       [1.47000000e+02],\n",
       "       [1.48000000e+02],\n",
       "       [1.49000000e+02],\n",
       "       [1.50000000e+02],\n",
       "       [1.51000000e+02],\n",
       "       [1.52000000e+02],\n",
       "       [1.53000000e+02],\n",
       "       [1.54000000e+02],\n",
       "       [1.55000000e+02],\n",
       "       [1.56000000e+02],\n",
       "       [1.57000000e+02],\n",
       "       [1.58000000e+02],\n",
       "       [1.59000000e+02],\n",
       "       [1.60000000e+02],\n",
       "       [1.61000000e+02],\n",
       "       [1.62000000e+02],\n",
       "       [1.63000000e+02],\n",
       "       [1.64000000e+02],\n",
       "       [1.65000000e+02],\n",
       "       [1.66000000e+02],\n",
       "       [1.67000000e+02],\n",
       "       [1.68000000e+02],\n",
       "       [1.69000000e+02],\n",
       "       [1.70000000e+02],\n",
       "       [1.71000000e+02],\n",
       "       [1.72000000e+02],\n",
       "       [1.73000000e+02],\n",
       "       [1.74000000e+02],\n",
       "       [1.75000000e+02],\n",
       "       [1.76000000e+02],\n",
       "       [1.77000000e+02],\n",
       "       [1.78000000e+02],\n",
       "       [1.79000000e+02],\n",
       "       [1.80000000e+02],\n",
       "       [1.81000000e+02],\n",
       "       [1.82000000e+02],\n",
       "       [1.83000000e+02],\n",
       "       [1.84000000e+02],\n",
       "       [1.85000000e+02],\n",
       "       [1.86000000e+02],\n",
       "       [1.87000000e+02],\n",
       "       [1.88000000e+02],\n",
       "       [1.89000000e+02],\n",
       "       [1.90000000e+02],\n",
       "       [1.91000000e+02],\n",
       "       [1.92000000e+02],\n",
       "       [1.93000000e+02],\n",
       "       [1.94000000e+02],\n",
       "       [1.95000000e+02],\n",
       "       [1.96000000e+02],\n",
       "       [1.97000000e+02],\n",
       "       [1.98000000e+02],\n",
       "       [1.99000000e+02],\n",
       "       [2.00000000e+02],\n",
       "       [2.01000000e+02],\n",
       "       [2.02000000e+02],\n",
       "       [2.03000000e+02],\n",
       "       [2.04000000e+02],\n",
       "       [2.05000000e+02],\n",
       "       [2.06000000e+02],\n",
       "       [2.07000000e+02],\n",
       "       [2.08000000e+02],\n",
       "       [2.09000000e+02],\n",
       "       [2.10000000e+02],\n",
       "       [2.11000000e+02],\n",
       "       [2.12000000e+02],\n",
       "       [2.13000000e+02],\n",
       "       [2.14000000e+02],\n",
       "       [2.15000000e+02],\n",
       "       [2.16000000e+02],\n",
       "       [2.17000000e+02],\n",
       "       [2.18000000e+02],\n",
       "       [2.19000000e+02],\n",
       "       [2.20000000e+02],\n",
       "       [2.21000000e+02],\n",
       "       [2.22000000e+02],\n",
       "       [2.23000000e+02],\n",
       "       [2.24000000e+02],\n",
       "       [2.25000000e+02],\n",
       "       [2.26000000e+02],\n",
       "       [2.27000000e+02],\n",
       "       [2.28000000e+02],\n",
       "       [2.29000000e+02],\n",
       "       [2.30000000e+02],\n",
       "       [2.31000000e+02]])"
      ]
     },
     "execution_count": 117,
     "metadata": {},
     "output_type": "execute_result"
    }
   ],
   "source": [
    "import numpy as np\n",
    "pred = model.predict(y_test)\n",
    "\n",
    "pred    \n",
    "#df['y_predicted'] = pred"
   ]
  },
  {
   "cell_type": "code",
   "execution_count": 102,
   "metadata": {},
   "outputs": [
    {
     "data": {
      "text/html": [
       "<div>\n",
       "<style scoped>\n",
       "    .dataframe tbody tr th:only-of-type {\n",
       "        vertical-align: middle;\n",
       "    }\n",
       "\n",
       "    .dataframe tbody tr th {\n",
       "        vertical-align: top;\n",
       "    }\n",
       "\n",
       "    .dataframe thead th {\n",
       "        text-align: right;\n",
       "    }\n",
       "</style>\n",
       "<table border=\"1\" class=\"dataframe\">\n",
       "  <thead>\n",
       "    <tr style=\"text-align: right;\">\n",
       "      <th></th>\n",
       "      <th>date</th>\n",
       "      <th>n_sick</th>\n",
       "      <th>calls</th>\n",
       "      <th>n_duty</th>\n",
       "      <th>n_sby</th>\n",
       "      <th>sby_need</th>\n",
       "      <th>dafted</th>\n",
       "      <th>y_predicted</th>\n",
       "    </tr>\n",
       "  </thead>\n",
       "  <tbody>\n",
       "    <tr>\n",
       "      <th>0</th>\n",
       "      <td>2016-04-01</td>\n",
       "      <td>73</td>\n",
       "      <td>8154.0</td>\n",
       "      <td>1700</td>\n",
       "      <td>90</td>\n",
       "      <td>4.0</td>\n",
       "      <td>0.0</td>\n",
       "      <td>7.510551</td>\n",
       "    </tr>\n",
       "    <tr>\n",
       "      <th>1</th>\n",
       "      <td>2016-04-02</td>\n",
       "      <td>64</td>\n",
       "      <td>8526.0</td>\n",
       "      <td>1700</td>\n",
       "      <td>90</td>\n",
       "      <td>70.0</td>\n",
       "      <td>0.0</td>\n",
       "      <td>7.571026</td>\n",
       "    </tr>\n",
       "    <tr>\n",
       "      <th>2</th>\n",
       "      <td>2016-04-03</td>\n",
       "      <td>68</td>\n",
       "      <td>8088.0</td>\n",
       "      <td>1700</td>\n",
       "      <td>90</td>\n",
       "      <td>0.0</td>\n",
       "      <td>0.0</td>\n",
       "      <td>7.631501</td>\n",
       "    </tr>\n",
       "    <tr>\n",
       "      <th>3</th>\n",
       "      <td>2016-04-04</td>\n",
       "      <td>71</td>\n",
       "      <td>7044.0</td>\n",
       "      <td>1700</td>\n",
       "      <td>90</td>\n",
       "      <td>0.0</td>\n",
       "      <td>0.0</td>\n",
       "      <td>7.691977</td>\n",
       "    </tr>\n",
       "    <tr>\n",
       "      <th>4</th>\n",
       "      <td>2016-04-05</td>\n",
       "      <td>63</td>\n",
       "      <td>7236.0</td>\n",
       "      <td>1700</td>\n",
       "      <td>90</td>\n",
       "      <td>0.0</td>\n",
       "      <td>0.0</td>\n",
       "      <td>7.752452</td>\n",
       "    </tr>\n",
       "  </tbody>\n",
       "</table>\n",
       "</div>"
      ],
      "text/plain": [
       "         date  n_sick   calls  n_duty  n_sby  sby_need  dafted  y_predicted\n",
       "0  2016-04-01      73  8154.0    1700     90       4.0     0.0     7.510551\n",
       "1  2016-04-02      64  8526.0    1700     90      70.0     0.0     7.571026\n",
       "2  2016-04-03      68  8088.0    1700     90       0.0     0.0     7.631501\n",
       "3  2016-04-04      71  7044.0    1700     90       0.0     0.0     7.691977\n",
       "4  2016-04-05      63  7236.0    1700     90       0.0     0.0     7.752452"
      ]
     },
     "execution_count": 102,
     "metadata": {},
     "output_type": "execute_result"
    }
   ],
   "source": [
    "df.head()"
   ]
  },
  {
   "cell_type": "code",
   "execution_count": 103,
   "metadata": {},
   "outputs": [
    {
     "data": {
      "text/html": [
       "<div>\n",
       "<style scoped>\n",
       "    .dataframe tbody tr th:only-of-type {\n",
       "        vertical-align: middle;\n",
       "    }\n",
       "\n",
       "    .dataframe tbody tr th {\n",
       "        vertical-align: top;\n",
       "    }\n",
       "\n",
       "    .dataframe thead th {\n",
       "        text-align: right;\n",
       "    }\n",
       "</style>\n",
       "<table border=\"1\" class=\"dataframe\">\n",
       "  <thead>\n",
       "    <tr style=\"text-align: right;\">\n",
       "      <th></th>\n",
       "      <th>date</th>\n",
       "      <th>n_sick</th>\n",
       "      <th>calls</th>\n",
       "      <th>n_duty</th>\n",
       "      <th>n_sby</th>\n",
       "      <th>sby_need</th>\n",
       "      <th>dafted</th>\n",
       "      <th>y_predicted</th>\n",
       "    </tr>\n",
       "  </thead>\n",
       "  <tbody>\n",
       "    <tr>\n",
       "      <th>0</th>\n",
       "      <td>2016-04-01</td>\n",
       "      <td>73</td>\n",
       "      <td>8154.0</td>\n",
       "      <td>1700</td>\n",
       "      <td>90</td>\n",
       "      <td>4.0</td>\n",
       "      <td>0.0</td>\n",
       "      <td>7.510551</td>\n",
       "    </tr>\n",
       "    <tr>\n",
       "      <th>1</th>\n",
       "      <td>2016-04-02</td>\n",
       "      <td>64</td>\n",
       "      <td>8526.0</td>\n",
       "      <td>1700</td>\n",
       "      <td>90</td>\n",
       "      <td>70.0</td>\n",
       "      <td>0.0</td>\n",
       "      <td>7.571026</td>\n",
       "    </tr>\n",
       "    <tr>\n",
       "      <th>2</th>\n",
       "      <td>2016-04-03</td>\n",
       "      <td>68</td>\n",
       "      <td>8088.0</td>\n",
       "      <td>1700</td>\n",
       "      <td>90</td>\n",
       "      <td>0.0</td>\n",
       "      <td>0.0</td>\n",
       "      <td>7.631501</td>\n",
       "    </tr>\n",
       "    <tr>\n",
       "      <th>3</th>\n",
       "      <td>2016-04-04</td>\n",
       "      <td>71</td>\n",
       "      <td>7044.0</td>\n",
       "      <td>1700</td>\n",
       "      <td>90</td>\n",
       "      <td>0.0</td>\n",
       "      <td>0.0</td>\n",
       "      <td>7.691977</td>\n",
       "    </tr>\n",
       "    <tr>\n",
       "      <th>4</th>\n",
       "      <td>2016-04-05</td>\n",
       "      <td>63</td>\n",
       "      <td>7236.0</td>\n",
       "      <td>1700</td>\n",
       "      <td>90</td>\n",
       "      <td>0.0</td>\n",
       "      <td>0.0</td>\n",
       "      <td>7.752452</td>\n",
       "    </tr>\n",
       "  </tbody>\n",
       "</table>\n",
       "</div>"
      ],
      "text/plain": [
       "         date  n_sick   calls  n_duty  n_sby  sby_need  dafted  y_predicted\n",
       "0  2016-04-01      73  8154.0    1700     90       4.0     0.0     7.510551\n",
       "1  2016-04-02      64  8526.0    1700     90      70.0     0.0     7.571026\n",
       "2  2016-04-03      68  8088.0    1700     90       0.0     0.0     7.631501\n",
       "3  2016-04-04      71  7044.0    1700     90       0.0     0.0     7.691977\n",
       "4  2016-04-05      63  7236.0    1700     90       0.0     0.0     7.752452"
      ]
     },
     "execution_count": 103,
     "metadata": {},
     "output_type": "execute_result"
    }
   ],
   "source": [
    "df.head()"
   ]
  },
  {
   "cell_type": "code",
   "execution_count": 104,
   "metadata": {},
   "outputs": [
    {
     "data": {
      "text/plain": [
       "array([[0.06047522]])"
      ]
     },
     "execution_count": 104,
     "metadata": {},
     "output_type": "execute_result"
    }
   ],
   "source": [
    "# slope of the line\n",
    "model.coef_"
   ]
  },
  {
   "cell_type": "code",
   "execution_count": 105,
   "metadata": {},
   "outputs": [
    {
     "data": {
      "text/plain": [
       "array([-6.51969939])"
      ]
     },
     "execution_count": 105,
     "metadata": {},
     "output_type": "execute_result"
    }
   ],
   "source": [
    "# intercept of the line\n",
    "model.intercept_"
   ]
  },
  {
   "cell_type": "code",
   "execution_count": 106,
   "metadata": {},
   "outputs": [],
   "source": [
    "# calculate mse\n",
    "from sklearn.metrics import mean_squared_error, r2_score"
   ]
  },
  {
   "cell_type": "code",
   "execution_count": 107,
   "metadata": {},
   "outputs": [
    {
     "name": "stdout",
     "output_type": "stream",
     "text": [
      "Coefficients:\n",
      "Slope: [[0.06047522]]\n",
      "y-intercept: [-6.51969939]\n",
      "Mean squared error: 6895.98\n",
      "Coefficient of determination: -0.09\n"
     ]
    }
   ],
   "source": [
    "# The coefficients\n",
    "print(\"Coefficients:\")\n",
    "print(\"Slope: \" + str(model.coef_))\n",
    "print(\"y-intercept: \" + str(model.intercept_))\n",
    "# The mean squared error\n",
    "print(\"Mean squared error: %.2f\" % mean_squared_error(df['sby_need'], df['y_predicted']))\n",
    "# The coefficient of determination: 1 is perfect prediction\n",
    "print(\"Coefficient of determination: %.2f\" % r2_score(df['sby_need'], df['y_predicted']))\n"
   ]
  },
  {
   "cell_type": "code",
   "execution_count": 108,
   "metadata": {},
   "outputs": [
    {
     "data": {
      "image/png": "[encoded data removed]",
      "text/plain": [
       "<Figure size 1008x576 with 1 Axes>"
      ]
     },
     "metadata": {
      "needs_background": "light"
     },
     "output_type": "display_data"
    }
   ],
   "source": [
    "# plot the results\n",
    "plt.figure(figsize=(14, 8))\n",
    "ax = plt.axes()\n",
    "ax.scatter(df.date, y)\n",
    "ax.plot(df.date, pred, color='red', linewidth=3)\n",
    "\n",
    "ax.set_xlabel('x')\n",
    "ax.set_ylabel('y')\n",
    "\n",
    "ax.axis('tight')\n",
    "\n",
    "\n",
    "plt.show()"
   ]
  },
  {
   "cell_type": "code",
   "execution_count": null,
   "metadata": {},
   "outputs": [],
   "source": [
    "import sys"
   ]
  },
  {
   "cell_type": "code",
   "execution_count": null,
   "metadata": {},
   "outputs": [],
   "source": [
    "print(sys.executable)"
   ]
  },
  {
   "cell_type": "code",
   "execution_count": null,
   "metadata": {},
   "outputs": [],
   "source": [
    "mean_squared_error(df.y_predicted.iloc[:920], df.sby_need.iloc[:920])"
   ]
  },
  {
   "cell_type": "code",
   "execution_count": null,
   "metadata": {},
   "outputs": [],
   "source": []
  }
 ],
 "metadata": {
  "interpreter": {
   "hash": "5c3cd99063abd1b4c15ea40868a5df46d871e2273225f116d3d00cd8553a7cf8"
  },
  "kernelspec": {
   "display_name": "Python 3.8.5 ('base')",
   "language": "python",
   "name": "python3"
  },
  "language_info": {
   "codemirror_mode": {
    "name": "ipython",
    "version": 3
   },
   "file_extension": ".py",
   "mimetype": "text/x-python",
   "name": "python",
   "nbconvert_exporter": "python",
   "pygments_lexer": "ipython3",
   "version": "3.8.5"
  }
 },
 "nbformat": 4,
 "nbformat_minor": 4
}
