{
 "cells": [
  {
   "cell_type": "markdown",
   "metadata": {},
   "source": [
    "# SARIMA with calls"
   ]
  },
  {
   "cell_type": "code",
   "execution_count": 1,
   "metadata": {},
   "outputs": [],
   "source": [
    "# # https://towardsdatascience.com/an-end-to-end-project-on-time-series-analysis-and-forecasting-with-python-4835e6bf050b\n",
    "\n",
    "# https://towardsdatascience.com/time-series-forecasting-with-arima-sarima-and-sarimax-ee61099e78f6"
   ]
  },
  {
   "cell_type": "code",
   "execution_count": 2,
   "metadata": {},
   "outputs": [
    {
     "name": "stdout",
     "output_type": "stream",
     "text": [
      "/Users/kata/opt/anaconda3/bin/python\n"
     ]
    }
   ],
   "source": [
    "import sys\n",
    "print(sys.executable)"
   ]
  },
  {
   "cell_type": "code",
   "execution_count": 3,
   "metadata": {},
   "outputs": [],
   "source": [
    "from datetime import datetime, date \n",
    "import pandas as pd\n",
    "import matplotlib.pyplot as plt\n",
    "import seaborn as sns\n",
    "import numpy as np\n",
    "from scipy.stats import pearsonr\n",
    "import statsmodels.api as sm\n",
    "from statsmodels.tsa.stattools import adfuller\n",
    "import itertools\n",
    "import warnings\n",
    "\n",
    "warnings.simplefilter(action='ignore')"
   ]
  },
  {
   "cell_type": "code",
   "execution_count": 4,
   "metadata": {},
   "outputs": [
    {
     "name": "stdout",
     "output_type": "stream",
     "text": [
      "3.8.5\n"
     ]
    }
   ],
   "source": [
    "import platform\n",
    "print(platform.python_version())"
   ]
  },
  {
   "cell_type": "code",
   "execution_count": 5,
   "metadata": {},
   "outputs": [
    {
     "name": "stdout",
     "output_type": "stream",
     "text": [
      "/Users/kata/opt/anaconda3/bin/python\n"
     ]
    }
   ],
   "source": [
    "import sys\n",
    "print(sys.executable)"
   ]
  },
  {
   "cell_type": "code",
   "execution_count": 6,
   "metadata": {},
   "outputs": [
    {
     "data": {
      "text/html": [
       "<div>\n",
       "<style scoped>\n",
       "    .dataframe tbody tr th:only-of-type {\n",
       "        vertical-align: middle;\n",
       "    }\n",
       "\n",
       "    .dataframe tbody tr th {\n",
       "        vertical-align: top;\n",
       "    }\n",
       "\n",
       "    .dataframe thead th {\n",
       "        text-align: right;\n",
       "    }\n",
       "</style>\n",
       "<table border=\"1\" class=\"dataframe\">\n",
       "  <thead>\n",
       "    <tr style=\"text-align: right;\">\n",
       "      <th></th>\n",
       "      <th>Unnamed: 0</th>\n",
       "      <th>date</th>\n",
       "      <th>n_sick</th>\n",
       "      <th>calls</th>\n",
       "      <th>n_duty</th>\n",
       "      <th>n_sby</th>\n",
       "      <th>sby_need</th>\n",
       "      <th>dafted</th>\n",
       "    </tr>\n",
       "  </thead>\n",
       "  <tbody>\n",
       "    <tr>\n",
       "      <th>0</th>\n",
       "      <td>0</td>\n",
       "      <td>2016-04-01</td>\n",
       "      <td>73</td>\n",
       "      <td>8154.0</td>\n",
       "      <td>1700</td>\n",
       "      <td>90</td>\n",
       "      <td>4.0</td>\n",
       "      <td>0.0</td>\n",
       "    </tr>\n",
       "    <tr>\n",
       "      <th>1</th>\n",
       "      <td>1</td>\n",
       "      <td>2016-04-02</td>\n",
       "      <td>64</td>\n",
       "      <td>8526.0</td>\n",
       "      <td>1700</td>\n",
       "      <td>90</td>\n",
       "      <td>70.0</td>\n",
       "      <td>0.0</td>\n",
       "    </tr>\n",
       "    <tr>\n",
       "      <th>2</th>\n",
       "      <td>2</td>\n",
       "      <td>2016-04-03</td>\n",
       "      <td>68</td>\n",
       "      <td>8088.0</td>\n",
       "      <td>1700</td>\n",
       "      <td>90</td>\n",
       "      <td>0.0</td>\n",
       "      <td>0.0</td>\n",
       "    </tr>\n",
       "    <tr>\n",
       "      <th>3</th>\n",
       "      <td>3</td>\n",
       "      <td>2016-04-04</td>\n",
       "      <td>71</td>\n",
       "      <td>7044.0</td>\n",
       "      <td>1700</td>\n",
       "      <td>90</td>\n",
       "      <td>0.0</td>\n",
       "      <td>0.0</td>\n",
       "    </tr>\n",
       "    <tr>\n",
       "      <th>4</th>\n",
       "      <td>4</td>\n",
       "      <td>2016-04-05</td>\n",
       "      <td>63</td>\n",
       "      <td>7236.0</td>\n",
       "      <td>1700</td>\n",
       "      <td>90</td>\n",
       "      <td>0.0</td>\n",
       "      <td>0.0</td>\n",
       "    </tr>\n",
       "  </tbody>\n",
       "</table>\n",
       "</div>"
      ],
      "text/plain": [
       "   Unnamed: 0       date  n_sick   calls  n_duty  n_sby  sby_need  dafted\n",
       "0           0 2016-04-01      73  8154.0    1700     90       4.0     0.0\n",
       "1           1 2016-04-02      64  8526.0    1700     90      70.0     0.0\n",
       "2           2 2016-04-03      68  8088.0    1700     90       0.0     0.0\n",
       "3           3 2016-04-04      71  7044.0    1700     90       0.0     0.0\n",
       "4           4 2016-04-05      63  7236.0    1700     90       0.0     0.0"
      ]
     },
     "execution_count": 6,
     "metadata": {},
     "output_type": "execute_result"
    }
   ],
   "source": [
    "df = pd.read_csv('/Users/kata/Desktop/GitHub/standby_duty_forecasting/sickness_table.csv') #, index_col=0)\n",
    "df['date'] = pd.to_datetime(df['date'])\n",
    "df.head()"
   ]
  },
  {
   "cell_type": "code",
   "execution_count": 7,
   "metadata": {},
   "outputs": [
    {
     "name": "stdout",
     "output_type": "stream",
     "text": [
      "Examples of parameter combinations for Seasonal ARIMA...\n",
      "SARIMAX: (0, 0, 1) x (0, 0, 1, 12)\n",
      "SARIMAX: (0, 0, 1) x (0, 1, 0, 12)\n",
      "SARIMAX: (0, 1, 0) x (0, 1, 1, 12)\n",
      "SARIMAX: (0, 1, 0) x (1, 0, 0, 12)\n"
     ]
    }
   ],
   "source": [
    "p = d = q = range(0, 2)\n",
    "pdq = list(itertools.product(p, d, q))\n",
    "seasonal_pdq = [(x[0], x[1], x[2], 12) for x in list(itertools.product(p, d, q))]\n",
    "print('Examples of parameter combinations for Seasonal ARIMA...')\n",
    "print('SARIMAX: {} x {}'.format(pdq[1], seasonal_pdq[1]))\n",
    "print('SARIMAX: {} x {}'.format(pdq[1], seasonal_pdq[2]))\n",
    "print('SARIMAX: {} x {}'.format(pdq[2], seasonal_pdq[3]))\n",
    "print('SARIMAX: {} x {}'.format(pdq[2], seasonal_pdq[4]))"
   ]
  },
  {
   "cell_type": "code",
   "execution_count": 8,
   "metadata": {},
   "outputs": [
    {
     "name": "stdout",
     "output_type": "stream",
     "text": [
      "ARIMA(0, 0, 0)x(0, 0, 0, 12)12 - AIC:23963.73681168237\n",
      "ARIMA(0, 0, 0)x(0, 0, 1, 12)12 - AIC:22974.603497980905\n",
      "ARIMA(0, 0, 0)x(0, 1, 0, 12)12 - AIC:19921.917631175063\n",
      "ARIMA(0, 0, 0)x(0, 1, 1, 12)12 - AIC:19227.765579377894\n",
      "ARIMA(0, 0, 0)x(1, 0, 0, 12)12 - AIC:19935.305049125094\n",
      "ARIMA(0, 0, 0)x(1, 0, 1, 12)12 - AIC:19499.062452887236\n",
      "ARIMA(0, 0, 0)x(1, 1, 0, 12)12 - AIC:19404.98343825983\n",
      "ARIMA(0, 0, 0)x(1, 1, 1, 12)12 - AIC:19219.64381810111\n",
      "ARIMA(0, 0, 1)x(0, 0, 0, 12)12 - AIC:23177.096885476\n",
      "ARIMA(0, 0, 1)x(0, 0, 1, 12)12 - AIC:21632.629101445447\n",
      "ARIMA(0, 0, 1)x(0, 1, 0, 12)12 - AIC:19839.082387283008\n",
      "ARIMA(0, 0, 1)x(0, 1, 1, 12)12 - AIC:19116.500910752682\n",
      "ARIMA(0, 0, 1)x(1, 0, 0, 12)12 - AIC:19868.144406144096\n",
      "ARIMA(0, 0, 1)x(1, 0, 1, 12)12 - AIC:20281.535251699566\n",
      "ARIMA(0, 0, 1)x(1, 1, 0, 12)12 - AIC:19342.47802268839\n",
      "ARIMA(0, 0, 1)x(1, 1, 1, 12)12 - AIC:19117.646968077755\n",
      "ARIMA(0, 1, 0)x(0, 0, 0, 12)12 - AIC:19744.562830897245\n",
      "ARIMA(0, 1, 0)x(0, 0, 1, 12)12 - AIC:19546.09865956202\n",
      "ARIMA(0, 1, 0)x(0, 1, 0, 12)12 - AIC:20365.78308364511\n",
      "ARIMA(0, 1, 0)x(0, 1, 1, 12)12 - AIC:19485.894446375714\n",
      "ARIMA(0, 1, 0)x(1, 0, 0, 12)12 - AIC:19562.216429868215\n",
      "ARIMA(0, 1, 0)x(1, 0, 1, 12)12 - AIC:19547.623697169736\n",
      "ARIMA(0, 1, 0)x(1, 1, 0, 12)12 - AIC:19839.67361988431\n",
      "ARIMA(0, 1, 0)x(1, 1, 1, 12)12 - AIC:19454.68971650255\n",
      "ARIMA(0, 1, 1)x(0, 0, 0, 12)12 - AIC:19237.231011868145\n",
      "ARIMA(0, 1, 1)x(0, 0, 1, 12)12 - AIC:19020.568531503035\n",
      "ARIMA(0, 1, 1)x(0, 1, 0, 12)12 - AIC:19925.923779746583\n",
      "ARIMA(0, 1, 1)x(0, 1, 1, 12)12 - AIC:18887.372317924826\n",
      "ARIMA(0, 1, 1)x(1, 0, 0, 12)12 - AIC:19057.08042469283\n",
      "ARIMA(0, 1, 1)x(1, 0, 1, 12)12 - AIC:19018.292474312104\n",
      "ARIMA(0, 1, 1)x(1, 1, 0, 12)12 - AIC:19391.5513532067\n",
      "ARIMA(0, 1, 1)x(1, 1, 1, 12)12 - AIC:18879.689929468375\n",
      "ARIMA(1, 0, 0)x(0, 0, 0, 12)12 - AIC:19755.402249692976\n",
      "ARIMA(1, 0, 0)x(0, 0, 1, 12)12 - AIC:19557.572019619038\n",
      "ARIMA(1, 0, 0)x(0, 1, 0, 12)12 - AIC:19849.566048485485\n",
      "ARIMA(1, 0, 0)x(0, 1, 1, 12)12 - AIC:19075.316123346347\n",
      "ARIMA(1, 0, 0)x(1, 0, 0, 12)12 - AIC:19557.511030858528\n",
      "ARIMA(1, 0, 0)x(1, 0, 1, 12)12 - AIC:19352.67678073916\n",
      "ARIMA(1, 0, 0)x(1, 1, 0, 12)12 - AIC:19315.361346761565\n",
      "ARIMA(1, 0, 0)x(1, 1, 1, 12)12 - AIC:19071.980488623747\n",
      "ARIMA(1, 0, 1)x(0, 0, 0, 12)12 - AIC:19260.340781253133\n",
      "ARIMA(1, 0, 1)x(0, 1, 0, 12)12 - AIC:19829.768319426847\n",
      "ARIMA(1, 0, 1)x(0, 1, 1, 12)12 - AIC:18903.831304585576\n",
      "ARIMA(1, 0, 1)x(1, 0, 0, 12)12 - AIC:19071.547642989048\n",
      "ARIMA(1, 0, 1)x(1, 0, 1, 12)12 - AIC:19131.372906399436\n",
      "ARIMA(1, 0, 1)x(1, 1, 0, 12)12 - AIC:19314.467949058388\n"
     ]
    }
   ],
   "source": [
    "# grid search arima parameters\n",
    "for param in pdq:\n",
    "    for param_seasonal in seasonal_pdq:\n",
    "        try:\n",
    "            mod = sm.tsa.statespace.SARIMAX(df.calls, order=param, seasonal_order=param_seasonal, enforce_stationarity=False, enforce_invertibility=False)\n",
    "\n",
    "            results = mod.fit()\n",
    "            print('ARIMA{}x{}12 - AIC:{}'.format(param, param_seasonal, results.aic))\n",
    "        except:\n",
    "            continue"
   ]
  },
  {
   "cell_type": "markdown",
   "metadata": {},
   "source": [
    "The above output suggests that SARIMAX(1, 1, 1)x(1, 1, 1, 12) yields the lowest AIC value of 18858.03. Therefore we should consider this to be optimal option."
   ]
  },
  {
   "cell_type": "code",
   "execution_count": null,
   "metadata": {},
   "outputs": [],
   "source": [
    "# fitting the arima model\n",
    "\n",
    "mod = sm.tsa.statespace.SARIMAX(df.calls.iloc[:920],\n",
    "                                order=(1, 1, 1),\n",
    "                                seasonal_order=(1, 1, 1, 12),\n",
    "                                enforce_stationarity=False,\n",
    "                                enforce_invertibility=False)\n",
    "results = mod.fit()\n",
    "print(results.summary().tables[1])\n",
    "#print(results.summary())"
   ]
  },
  {
   "cell_type": "code",
   "execution_count": null,
   "metadata": {},
   "outputs": [],
   "source": [
    "# run model diagnostics to investigate any unusual behavior.\n",
    "results.plot_diagnostics(figsize=(16, 8))\n",
    "plt.show()"
   ]
  },
  {
   "cell_type": "markdown",
   "metadata": {},
   "source": [
    "There are no obvious patterns in the residuals, with values having a mean of zero and having a uniform variance.\n",
    "<br>\n",
    "<br>\n",
    "Is KDE curve similar??\n",
    "<br>\n",
    "<br>\n",
    "Most of the points should lie on the straight line\n",
    "<br>\n",
    "<br>"
   ]
  },
  {
   "cell_type": "code",
   "execution_count": null,
   "metadata": {},
   "outputs": [],
   "source": [
    "df = df[['date', 'calls']]\n",
    "# df = df.set_index('date')\n",
    "df.index"
   ]
  },
  {
   "cell_type": "code",
   "execution_count": null,
   "metadata": {},
   "outputs": [],
   "source": [
    "# Validating forecasts\n",
    "\n",
    "df['forecast']=results.predict(start=920, end=1151, dynamic=True)\n",
    "df[['calls','forecast']].plot(figsize=(14,10))"
   ]
  },
  {
   "cell_type": "code",
   "execution_count": null,
   "metadata": {},
   "outputs": [],
   "source": [
    "\n"
   ]
  },
  {
   "cell_type": "code",
   "execution_count": null,
   "metadata": {},
   "outputs": [],
   "source": [
    "df_noindex = df.drop(columns=['date', 'forecast'])\n",
    "df_noindex"
   ]
  },
  {
   "cell_type": "code",
   "execution_count": null,
   "metadata": {},
   "outputs": [],
   "source": [
    "\n",
    "pred = results.get_prediction(start=920, end=1151, dynamic=False)\n",
    "pred_ci = pred.conf_int()\n",
    "ax = df_noindex.iloc[0:].plot(label='observed')\n",
    "pred.predicted_mean.plot(ax=ax, label='One-step ahead Forecast', alpha=.7, figsize=(14, 7))\n",
    "ax.fill_between(pred_ci.index,\n",
    "                pred_ci.iloc[:, 0],\n",
    "                pred_ci.iloc[:, 1], color='k', alpha=.2)\n",
    "ax.set_xlabel('Date')\n",
    "ax.set_ylabel('Calls')\n",
    "#ax.set_xticks((0, 920))\n",
    "#ax.set_xticklabels(['1. 4. 2016', '8. 10. 2018'])\n",
    "#plt.axvline(x=920, color = 'red')\n",
    "plt.legend()\n",
    "plt.show()"
   ]
  },
  {
   "cell_type": "code",
   "execution_count": null,
   "metadata": {},
   "outputs": [],
   "source": [
    "# with pred mean\n",
    "y_forecasted = pred.predicted_mean\n",
    "y_truth = df.calls[920:]\n",
    "mse = ((y_forecasted - y_truth) ** 2).mean()\n",
    "print('The Mean Squared Error of our forecasts is {}'.format(round(mse, 2)))\n",
    "print('The Root Mean Squared Error is {}'.format(round(np.sqrt(mse), 2)))"
   ]
  },
  {
   "cell_type": "code",
   "execution_count": null,
   "metadata": {},
   "outputs": [],
   "source": [
    "series1=results.predict(start=920, end=1151, dynamic=False)\n",
    "\n",
    "series2 = pred.predicted_mean"
   ]
  },
  {
   "cell_type": "code",
   "execution_count": null,
   "metadata": {},
   "outputs": [],
   "source": [
    "y_forecasted2 = series1\n",
    "y_truth2 = df.calls[920:]\n",
    "mse2 = ((y_forecasted2 - y_truth2) ** 2).mean()\n",
    "print('The Mean Squared Error of our forecasts is {}'.format(round(mse2, 2)))\n",
    "print('The Root Mean Squared Error is {}'.format(round(np.sqrt(mse2), 2)))"
   ]
  },
  {
   "cell_type": "code",
   "execution_count": null,
   "metadata": {},
   "outputs": [],
   "source": [
    "from sklearn.metrics import mean_squared_error\n",
    "mean_squared_error(y_truth2, y_forecasted2)"
   ]
  },
  {
   "cell_type": "code",
   "execution_count": null,
   "metadata": {},
   "outputs": [],
   "source": [
    "series1"
   ]
  },
  {
   "cell_type": "code",
   "execution_count": null,
   "metadata": {},
   "outputs": [],
   "source": [
    "series2"
   ]
  },
  {
   "cell_type": "code",
   "execution_count": null,
   "metadata": {},
   "outputs": [],
   "source": []
  },
  {
   "cell_type": "code",
   "execution_count": null,
   "metadata": {},
   "outputs": [],
   "source": []
  }
 ],
 "metadata": {
  "kernelspec": {
   "display_name": "Python 3.8.5 ('base')",
   "language": "python",
   "name": "python3"
  },
  "language_info": {
   "codemirror_mode": {
    "name": "ipython",
    "version": 3
   },
   "file_extension": ".py",
   "mimetype": "text/x-python",
   "name": "python",
   "nbconvert_exporter": "python",
   "pygments_lexer": "ipython3",
   "version": "3.8.5"
  },
  "orig_nbformat": 4,
  "vscode": {
   "interpreter": {
    "hash": "5c3cd99063abd1b4c15ea40868a5df46d871e2273225f116d3d00cd8553a7cf8"
   }
  }
 },
 "nbformat": 4,
 "nbformat_minor": 2
}
