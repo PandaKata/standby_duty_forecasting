{
 "cells": [
  {
   "cell_type": "markdown",
   "metadata": {},
   "source": [
    "# Random Forest: Feature Selection"
   ]
  },
  {
   "cell_type": "code",
   "execution_count": 1,
   "metadata": {},
   "outputs": [
    {
     "name": "stdout",
     "output_type": "stream",
     "text": [
      "/Users/kata/opt/anaconda3/bin/python\n"
     ]
    }
   ],
   "source": [
    "import sys\n",
    "print(sys.executable)\n",
    "\n",
    "# shift 42 days?????"
   ]
  },
  {
   "cell_type": "code",
   "execution_count": 2,
   "metadata": {},
   "outputs": [],
   "source": [
    "import pandas as pd\n",
    "from sklearn.tree import DecisionTreeRegressor\n",
    "import matplotlib.pyplot as plt\n",
    "import treeplot\n",
    "import numpy as np\n",
    "from sklearn.metrics import mean_squared_error\n",
    "from sklearn import tree\n",
    "import warnings\n",
    "\n",
    "warnings.simplefilter(action='ignore')"
   ]
  },
  {
   "cell_type": "code",
   "execution_count": 3,
   "metadata": {},
   "outputs": [
    {
     "data": {
      "text/html": [
       "<div>\n",
       "<style scoped>\n",
       "    .dataframe tbody tr th:only-of-type {\n",
       "        vertical-align: middle;\n",
       "    }\n",
       "\n",
       "    .dataframe tbody tr th {\n",
       "        vertical-align: top;\n",
       "    }\n",
       "\n",
       "    .dataframe thead th {\n",
       "        text-align: right;\n",
       "    }\n",
       "</style>\n",
       "<table border=\"1\" class=\"dataframe\">\n",
       "  <thead>\n",
       "    <tr style=\"text-align: right;\">\n",
       "      <th></th>\n",
       "      <th>date</th>\n",
       "      <th>n_sick</th>\n",
       "      <th>calls</th>\n",
       "      <th>n_duty</th>\n",
       "      <th>n_sby</th>\n",
       "      <th>sby_need</th>\n",
       "      <th>dafted</th>\n",
       "    </tr>\n",
       "  </thead>\n",
       "  <tbody>\n",
       "    <tr>\n",
       "      <th>0</th>\n",
       "      <td>2016-04-01</td>\n",
       "      <td>73</td>\n",
       "      <td>8154.0</td>\n",
       "      <td>1700</td>\n",
       "      <td>90</td>\n",
       "      <td>4.0</td>\n",
       "      <td>0.0</td>\n",
       "    </tr>\n",
       "    <tr>\n",
       "      <th>1</th>\n",
       "      <td>2016-04-02</td>\n",
       "      <td>64</td>\n",
       "      <td>8526.0</td>\n",
       "      <td>1700</td>\n",
       "      <td>90</td>\n",
       "      <td>70.0</td>\n",
       "      <td>0.0</td>\n",
       "    </tr>\n",
       "    <tr>\n",
       "      <th>2</th>\n",
       "      <td>2016-04-03</td>\n",
       "      <td>68</td>\n",
       "      <td>8088.0</td>\n",
       "      <td>1700</td>\n",
       "      <td>90</td>\n",
       "      <td>0.0</td>\n",
       "      <td>0.0</td>\n",
       "    </tr>\n",
       "    <tr>\n",
       "      <th>3</th>\n",
       "      <td>2016-04-04</td>\n",
       "      <td>71</td>\n",
       "      <td>7044.0</td>\n",
       "      <td>1700</td>\n",
       "      <td>90</td>\n",
       "      <td>0.0</td>\n",
       "      <td>0.0</td>\n",
       "    </tr>\n",
       "    <tr>\n",
       "      <th>4</th>\n",
       "      <td>2016-04-05</td>\n",
       "      <td>63</td>\n",
       "      <td>7236.0</td>\n",
       "      <td>1700</td>\n",
       "      <td>90</td>\n",
       "      <td>0.0</td>\n",
       "      <td>0.0</td>\n",
       "    </tr>\n",
       "    <tr>\n",
       "      <th>...</th>\n",
       "      <td>...</td>\n",
       "      <td>...</td>\n",
       "      <td>...</td>\n",
       "      <td>...</td>\n",
       "      <td>...</td>\n",
       "      <td>...</td>\n",
       "      <td>...</td>\n",
       "    </tr>\n",
       "    <tr>\n",
       "      <th>1147</th>\n",
       "      <td>2019-05-23</td>\n",
       "      <td>86</td>\n",
       "      <td>8544.0</td>\n",
       "      <td>1900</td>\n",
       "      <td>90</td>\n",
       "      <td>0.0</td>\n",
       "      <td>0.0</td>\n",
       "    </tr>\n",
       "    <tr>\n",
       "      <th>1148</th>\n",
       "      <td>2019-05-24</td>\n",
       "      <td>81</td>\n",
       "      <td>8814.0</td>\n",
       "      <td>1900</td>\n",
       "      <td>90</td>\n",
       "      <td>0.0</td>\n",
       "      <td>0.0</td>\n",
       "    </tr>\n",
       "    <tr>\n",
       "      <th>1149</th>\n",
       "      <td>2019-05-25</td>\n",
       "      <td>76</td>\n",
       "      <td>9846.0</td>\n",
       "      <td>1900</td>\n",
       "      <td>90</td>\n",
       "      <td>146.0</td>\n",
       "      <td>56.0</td>\n",
       "    </tr>\n",
       "    <tr>\n",
       "      <th>1150</th>\n",
       "      <td>2019-05-26</td>\n",
       "      <td>83</td>\n",
       "      <td>9882.0</td>\n",
       "      <td>1900</td>\n",
       "      <td>90</td>\n",
       "      <td>160.0</td>\n",
       "      <td>70.0</td>\n",
       "    </tr>\n",
       "    <tr>\n",
       "      <th>1151</th>\n",
       "      <td>2019-05-27</td>\n",
       "      <td>77</td>\n",
       "      <td>8790.0</td>\n",
       "      <td>1900</td>\n",
       "      <td>90</td>\n",
       "      <td>0.0</td>\n",
       "      <td>0.0</td>\n",
       "    </tr>\n",
       "  </tbody>\n",
       "</table>\n",
       "<p>1152 rows × 7 columns</p>\n",
       "</div>"
      ],
      "text/plain": [
       "           date  n_sick   calls  n_duty  n_sby  sby_need  dafted\n",
       "0    2016-04-01      73  8154.0    1700     90       4.0     0.0\n",
       "1    2016-04-02      64  8526.0    1700     90      70.0     0.0\n",
       "2    2016-04-03      68  8088.0    1700     90       0.0     0.0\n",
       "3    2016-04-04      71  7044.0    1700     90       0.0     0.0\n",
       "4    2016-04-05      63  7236.0    1700     90       0.0     0.0\n",
       "...         ...     ...     ...     ...    ...       ...     ...\n",
       "1147 2019-05-23      86  8544.0    1900     90       0.0     0.0\n",
       "1148 2019-05-24      81  8814.0    1900     90       0.0     0.0\n",
       "1149 2019-05-25      76  9846.0    1900     90     146.0    56.0\n",
       "1150 2019-05-26      83  9882.0    1900     90     160.0    70.0\n",
       "1151 2019-05-27      77  8790.0    1900     90       0.0     0.0\n",
       "\n",
       "[1152 rows x 7 columns]"
      ]
     },
     "execution_count": 3,
     "metadata": {},
     "output_type": "execute_result"
    }
   ],
   "source": [
    "# https://mljar.com/blog/visualize-decision-tree/\n",
    "df = pd.read_csv('/Users/kata/Desktop/GitHub/standby_duty_forecasting/sickness_table.csv', index_col=0)\n",
    "df['date'] = pd.to_datetime(df['date'])\n",
    "df\n"
   ]
  },
  {
   "cell_type": "code",
   "execution_count": null,
   "metadata": {},
   "outputs": [],
   "source": []
  },
  {
   "cell_type": "code",
   "execution_count": 4,
   "metadata": {},
   "outputs": [],
   "source": [
    "df['diff_drivers'] = df['n_duty'] - df['n_sick']\n",
    "\n",
    "\n",
    "df['year']= df['date'].dt.year\n",
    "df['month']= df['date'].dt.month\n",
    "df['day']= df['date'].dt.day"
   ]
  },
  {
   "cell_type": "code",
   "execution_count": 5,
   "metadata": {},
   "outputs": [
    {
     "data": {
      "text/html": [
       "<div>\n",
       "<style scoped>\n",
       "    .dataframe tbody tr th:only-of-type {\n",
       "        vertical-align: middle;\n",
       "    }\n",
       "\n",
       "    .dataframe tbody tr th {\n",
       "        vertical-align: top;\n",
       "    }\n",
       "\n",
       "    .dataframe thead th {\n",
       "        text-align: right;\n",
       "    }\n",
       "</style>\n",
       "<table border=\"1\" class=\"dataframe\">\n",
       "  <thead>\n",
       "    <tr style=\"text-align: right;\">\n",
       "      <th></th>\n",
       "      <th>date</th>\n",
       "      <th>n_sick</th>\n",
       "      <th>calls</th>\n",
       "      <th>n_duty</th>\n",
       "      <th>n_sby</th>\n",
       "      <th>sby_need</th>\n",
       "      <th>dafted</th>\n",
       "      <th>diff_drivers</th>\n",
       "      <th>year</th>\n",
       "      <th>month</th>\n",
       "      <th>day</th>\n",
       "      <th>day_of_week</th>\n",
       "    </tr>\n",
       "  </thead>\n",
       "  <tbody>\n",
       "    <tr>\n",
       "      <th>0</th>\n",
       "      <td>2016-04-01</td>\n",
       "      <td>73</td>\n",
       "      <td>8154.0</td>\n",
       "      <td>1700</td>\n",
       "      <td>90</td>\n",
       "      <td>4.0</td>\n",
       "      <td>0.0</td>\n",
       "      <td>1627</td>\n",
       "      <td>2016</td>\n",
       "      <td>4</td>\n",
       "      <td>1</td>\n",
       "      <td>4</td>\n",
       "    </tr>\n",
       "    <tr>\n",
       "      <th>1</th>\n",
       "      <td>2016-04-02</td>\n",
       "      <td>64</td>\n",
       "      <td>8526.0</td>\n",
       "      <td>1700</td>\n",
       "      <td>90</td>\n",
       "      <td>70.0</td>\n",
       "      <td>0.0</td>\n",
       "      <td>1636</td>\n",
       "      <td>2016</td>\n",
       "      <td>4</td>\n",
       "      <td>2</td>\n",
       "      <td>5</td>\n",
       "    </tr>\n",
       "    <tr>\n",
       "      <th>2</th>\n",
       "      <td>2016-04-03</td>\n",
       "      <td>68</td>\n",
       "      <td>8088.0</td>\n",
       "      <td>1700</td>\n",
       "      <td>90</td>\n",
       "      <td>0.0</td>\n",
       "      <td>0.0</td>\n",
       "      <td>1632</td>\n",
       "      <td>2016</td>\n",
       "      <td>4</td>\n",
       "      <td>3</td>\n",
       "      <td>6</td>\n",
       "    </tr>\n",
       "    <tr>\n",
       "      <th>3</th>\n",
       "      <td>2016-04-04</td>\n",
       "      <td>71</td>\n",
       "      <td>7044.0</td>\n",
       "      <td>1700</td>\n",
       "      <td>90</td>\n",
       "      <td>0.0</td>\n",
       "      <td>0.0</td>\n",
       "      <td>1629</td>\n",
       "      <td>2016</td>\n",
       "      <td>4</td>\n",
       "      <td>4</td>\n",
       "      <td>0</td>\n",
       "    </tr>\n",
       "    <tr>\n",
       "      <th>4</th>\n",
       "      <td>2016-04-05</td>\n",
       "      <td>63</td>\n",
       "      <td>7236.0</td>\n",
       "      <td>1700</td>\n",
       "      <td>90</td>\n",
       "      <td>0.0</td>\n",
       "      <td>0.0</td>\n",
       "      <td>1637</td>\n",
       "      <td>2016</td>\n",
       "      <td>4</td>\n",
       "      <td>5</td>\n",
       "      <td>1</td>\n",
       "    </tr>\n",
       "    <tr>\n",
       "      <th>...</th>\n",
       "      <td>...</td>\n",
       "      <td>...</td>\n",
       "      <td>...</td>\n",
       "      <td>...</td>\n",
       "      <td>...</td>\n",
       "      <td>...</td>\n",
       "      <td>...</td>\n",
       "      <td>...</td>\n",
       "      <td>...</td>\n",
       "      <td>...</td>\n",
       "      <td>...</td>\n",
       "      <td>...</td>\n",
       "    </tr>\n",
       "    <tr>\n",
       "      <th>1147</th>\n",
       "      <td>2019-05-23</td>\n",
       "      <td>86</td>\n",
       "      <td>8544.0</td>\n",
       "      <td>1900</td>\n",
       "      <td>90</td>\n",
       "      <td>0.0</td>\n",
       "      <td>0.0</td>\n",
       "      <td>1814</td>\n",
       "      <td>2019</td>\n",
       "      <td>5</td>\n",
       "      <td>23</td>\n",
       "      <td>3</td>\n",
       "    </tr>\n",
       "    <tr>\n",
       "      <th>1148</th>\n",
       "      <td>2019-05-24</td>\n",
       "      <td>81</td>\n",
       "      <td>8814.0</td>\n",
       "      <td>1900</td>\n",
       "      <td>90</td>\n",
       "      <td>0.0</td>\n",
       "      <td>0.0</td>\n",
       "      <td>1819</td>\n",
       "      <td>2019</td>\n",
       "      <td>5</td>\n",
       "      <td>24</td>\n",
       "      <td>4</td>\n",
       "    </tr>\n",
       "    <tr>\n",
       "      <th>1149</th>\n",
       "      <td>2019-05-25</td>\n",
       "      <td>76</td>\n",
       "      <td>9846.0</td>\n",
       "      <td>1900</td>\n",
       "      <td>90</td>\n",
       "      <td>146.0</td>\n",
       "      <td>56.0</td>\n",
       "      <td>1824</td>\n",
       "      <td>2019</td>\n",
       "      <td>5</td>\n",
       "      <td>25</td>\n",
       "      <td>5</td>\n",
       "    </tr>\n",
       "    <tr>\n",
       "      <th>1150</th>\n",
       "      <td>2019-05-26</td>\n",
       "      <td>83</td>\n",
       "      <td>9882.0</td>\n",
       "      <td>1900</td>\n",
       "      <td>90</td>\n",
       "      <td>160.0</td>\n",
       "      <td>70.0</td>\n",
       "      <td>1817</td>\n",
       "      <td>2019</td>\n",
       "      <td>5</td>\n",
       "      <td>26</td>\n",
       "      <td>6</td>\n",
       "    </tr>\n",
       "    <tr>\n",
       "      <th>1151</th>\n",
       "      <td>2019-05-27</td>\n",
       "      <td>77</td>\n",
       "      <td>8790.0</td>\n",
       "      <td>1900</td>\n",
       "      <td>90</td>\n",
       "      <td>0.0</td>\n",
       "      <td>0.0</td>\n",
       "      <td>1823</td>\n",
       "      <td>2019</td>\n",
       "      <td>5</td>\n",
       "      <td>27</td>\n",
       "      <td>0</td>\n",
       "    </tr>\n",
       "  </tbody>\n",
       "</table>\n",
       "<p>1152 rows × 12 columns</p>\n",
       "</div>"
      ],
      "text/plain": [
       "           date  n_sick   calls  n_duty  n_sby  sby_need  dafted  \\\n",
       "0    2016-04-01      73  8154.0    1700     90       4.0     0.0   \n",
       "1    2016-04-02      64  8526.0    1700     90      70.0     0.0   \n",
       "2    2016-04-03      68  8088.0    1700     90       0.0     0.0   \n",
       "3    2016-04-04      71  7044.0    1700     90       0.0     0.0   \n",
       "4    2016-04-05      63  7236.0    1700     90       0.0     0.0   \n",
       "...         ...     ...     ...     ...    ...       ...     ...   \n",
       "1147 2019-05-23      86  8544.0    1900     90       0.0     0.0   \n",
       "1148 2019-05-24      81  8814.0    1900     90       0.0     0.0   \n",
       "1149 2019-05-25      76  9846.0    1900     90     146.0    56.0   \n",
       "1150 2019-05-26      83  9882.0    1900     90     160.0    70.0   \n",
       "1151 2019-05-27      77  8790.0    1900     90       0.0     0.0   \n",
       "\n",
       "      diff_drivers  year  month  day  day_of_week  \n",
       "0             1627  2016      4    1            4  \n",
       "1             1636  2016      4    2            5  \n",
       "2             1632  2016      4    3            6  \n",
       "3             1629  2016      4    4            0  \n",
       "4             1637  2016      4    5            1  \n",
       "...            ...   ...    ...  ...          ...  \n",
       "1147          1814  2019      5   23            3  \n",
       "1148          1819  2019      5   24            4  \n",
       "1149          1824  2019      5   25            5  \n",
       "1150          1817  2019      5   26            6  \n",
       "1151          1823  2019      5   27            0  \n",
       "\n",
       "[1152 rows x 12 columns]"
      ]
     },
     "execution_count": 5,
     "metadata": {},
     "output_type": "execute_result"
    }
   ],
   "source": [
    "df['day_of_week'] = df['date'].dt.dayofweek\n",
    "df\n"
   ]
  },
  {
   "cell_type": "code",
   "execution_count": 6,
   "metadata": {},
   "outputs": [],
   "source": [
    "df['week'] = df['date'].dt.isocalendar().week"
   ]
  },
  {
   "cell_type": "code",
   "execution_count": 7,
   "metadata": {},
   "outputs": [],
   "source": [
    "df['week'] = df['week'].astype(np.int64)"
   ]
  },
  {
   "cell_type": "code",
   "execution_count": 8,
   "metadata": {},
   "outputs": [
    {
     "name": "stdout",
     "output_type": "stream",
     "text": [
      "<class 'pandas.core.frame.DataFrame'>\n",
      "Int64Index: 1152 entries, 0 to 1151\n",
      "Data columns (total 13 columns):\n",
      " #   Column        Non-Null Count  Dtype         \n",
      "---  ------        --------------  -----         \n",
      " 0   date          1152 non-null   datetime64[ns]\n",
      " 1   n_sick        1152 non-null   int64         \n",
      " 2   calls         1152 non-null   float64       \n",
      " 3   n_duty        1152 non-null   int64         \n",
      " 4   n_sby         1152 non-null   int64         \n",
      " 5   sby_need      1152 non-null   float64       \n",
      " 6   dafted        1152 non-null   float64       \n",
      " 7   diff_drivers  1152 non-null   int64         \n",
      " 8   year          1152 non-null   int64         \n",
      " 9   month         1152 non-null   int64         \n",
      " 10  day           1152 non-null   int64         \n",
      " 11  day_of_week   1152 non-null   int64         \n",
      " 12  week          1152 non-null   int64         \n",
      "dtypes: datetime64[ns](1), float64(3), int64(9)\n",
      "memory usage: 126.0 KB\n"
     ]
    }
   ],
   "source": [
    "# convert week to uint64 because of xgboost error\n",
    "df.info()\n"
   ]
  },
  {
   "cell_type": "code",
   "execution_count": 9,
   "metadata": {},
   "outputs": [],
   "source": [
    "X = df[['n_sick', 'calls', 'n_duty', 'n_sby', 'diff_drivers', 'year', 'month', 'day_of_week',\n",
    "       'week']]\n",
    "y = df.sby_need"
   ]
  },
  {
   "cell_type": "code",
   "execution_count": 10,
   "metadata": {},
   "outputs": [],
   "source": [
    "def train_test_split(data, n_test):\n",
    "\treturn data[:n_test], data[n_test:]"
   ]
  },
  {
   "cell_type": "code",
   "execution_count": 11,
   "metadata": {},
   "outputs": [],
   "source": [
    "\n",
    "x_train, x_test = train_test_split(X, 921)\n",
    "y_train, y_test = train_test_split(y, 921)\n"
   ]
  },
  {
   "cell_type": "code",
   "execution_count": 12,
   "metadata": {},
   "outputs": [
    {
     "data": {
      "text/plain": [
       "DecisionTreeRegressor(max_depth=7, random_state=42)"
      ]
     },
     "execution_count": 12,
     "metadata": {},
     "output_type": "execute_result"
    }
   ],
   "source": [
    "tree_reg = DecisionTreeRegressor(max_depth=7, random_state=42)\n",
    "tree_reg.fit(x_train, y_train)"
   ]
  },
  {
   "cell_type": "code",
   "execution_count": null,
   "metadata": {},
   "outputs": [],
   "source": [
    "# import warnings filter\n",
    "from warnings import simplefilter\n",
    "# ignore all future warnings\n",
    "simplefilter(action='ignore', category=FutureWarning)"
   ]
  },
  {
   "cell_type": "code",
   "execution_count": null,
   "metadata": {},
   "outputs": [],
   "source": [
    "ax = treeplot.plot(tree_reg, plottype='vertical')\n"
   ]
  },
  {
   "cell_type": "code",
   "execution_count": null,
   "metadata": {},
   "outputs": [],
   "source": [
    "test_pred = tree_reg.predict(x_test)\n",
    "train_pred = tree_reg.predict(x_train)\n",
    "y2 = np.concatenate((train_pred, test_pred))\n",
    "\n"
   ]
  },
  {
   "cell_type": "code",
   "execution_count": null,
   "metadata": {},
   "outputs": [],
   "source": [
    "# create column numerate\n",
    "df['numbers'] = np.arange(len(df))\n",
    "df"
   ]
  },
  {
   "cell_type": "code",
   "execution_count": null,
   "metadata": {},
   "outputs": [],
   "source": [
    "y_test.shape\n",
    "df.numbers.iloc[921:].shape"
   ]
  },
  {
   "cell_type": "code",
   "execution_count": null,
   "metadata": {},
   "outputs": [],
   "source": [
    "\n",
    "# Plot the results\n",
    "plt.figure(figsize=(14,8))\n",
    "plt.scatter(df.numbers.iloc[921:], y_test, s=20, edgecolor=\"black\", c=\"darkorange\", label=\"data\")\n",
    "plt.plot(df.numbers.iloc[921:], test_pred, color=\"cornflowerblue\", label=\"Prediction\", linewidth=1)\n",
    "plt.xlabel(\"data\")\n",
    "plt.ylabel(\"target\")\n",
    "plt.title(\"Decision Tree Regression\")\n",
    "plt.legend()\n",
    "plt.show()\n",
    "\n"
   ]
  },
  {
   "cell_type": "code",
   "execution_count": null,
   "metadata": {},
   "outputs": [],
   "source": [
    "print('mse test set ' + str(mean_squared_error(y_test, test_pred)))\n",
    "print('mse train set ' + str(mean_squared_error(y_train, train_pred)))\n"
   ]
  },
  {
   "cell_type": "code",
   "execution_count": null,
   "metadata": {},
   "outputs": [],
   "source": [
    "# max depth 7\n",
    "# mse test set 67.99505531505531\n",
    "# mse train set 0.10941006152732537"
   ]
  },
  {
   "cell_type": "code",
   "execution_count": null,
   "metadata": {},
   "outputs": [],
   "source": [
    "#max depth 5\n",
    "# mse test set 68.29361982132801\n",
    "# mse train set 3.589715752337902"
   ]
  },
  {
   "cell_type": "code",
   "execution_count": null,
   "metadata": {},
   "outputs": [],
   "source": []
  },
  {
   "cell_type": "code",
   "execution_count": null,
   "metadata": {},
   "outputs": [],
   "source": []
  },
  {
   "cell_type": "code",
   "execution_count": null,
   "metadata": {},
   "outputs": [],
   "source": [
    "# https://machinelearningmastery.com/calculate-feature-importance-with-python/\n",
    "\n",
    "#CART\n",
    "model = DecisionTreeRegressor()\n",
    "# fit the model\n",
    "model.fit(x_train, y_train)\n",
    "# get importance\n",
    "importance = model.feature_importances_\n",
    "# summarize feature importance\n",
    "for i,v in zip(x_train.columns, enumerate(importance)):\n",
    "\tprint('Feature: %s, Score: %.5f' % (i,v[1]))\n",
    "# plot feature importance\n",
    "plt.bar([x for x in range(len(importance))], importance)\n",
    "plt.show()"
   ]
  },
  {
   "cell_type": "code",
   "execution_count": null,
   "metadata": {},
   "outputs": [],
   "source": []
  },
  {
   "cell_type": "code",
   "execution_count": null,
   "metadata": {},
   "outputs": [],
   "source": []
  },
  {
   "cell_type": "code",
   "execution_count": null,
   "metadata": {},
   "outputs": [],
   "source": []
  },
  {
   "cell_type": "code",
   "execution_count": null,
   "metadata": {},
   "outputs": [],
   "source": [
    "# https://machinelearningmastery.com/calculate-feature-importance-with-python/\n"
   ]
  },
  {
   "cell_type": "code",
   "execution_count": null,
   "metadata": {},
   "outputs": [],
   "source": [
    "from sklearn.ensemble import RandomForestRegressor\n"
   ]
  },
  {
   "cell_type": "code",
   "execution_count": null,
   "metadata": {},
   "outputs": [],
   "source": [
    "model = RandomForestRegressor()\n",
    "# fit the model\n",
    "model.fit(x_train, y_train)\n",
    "# get importance\n",
    "importance = model.feature_importances_\n",
    "# summarize feature importance\n",
    "for i,v in zip(x_train.columns, enumerate(importance)):\n",
    "\tprint('Feature: %s, Score: %.5f' % (i,v[1]))\n",
    "# plot feature importance\n",
    "plt.bar([x for x in range(len(importance))], importance)\n",
    "plt.show()"
   ]
  },
  {
   "cell_type": "code",
   "execution_count": null,
   "metadata": {},
   "outputs": [],
   "source": [
    "import xgboost\n",
    "from xgboost import XGBRegressor\n",
    "from sklearn import preprocessing\n",
    "\n"
   ]
  },
  {
   "cell_type": "code",
   "execution_count": null,
   "metadata": {},
   "outputs": [],
   "source": [
    "# xgboost\n",
    "\n",
    "\n",
    "model = XGBRegressor()\n",
    "# fit the model\n",
    "model.fit(x_train, y_train)\n",
    "# get importance\n",
    "importance = model.feature_importances_\n",
    "# summarize feature importance\n",
    "for i,v in zip(x_train.columns, enumerate(importance)):\n",
    "\tprint('Feature: %s, Score: %.5f' % (i,v[1]))\n",
    "# plot feature importance\n",
    "plt.bar([x for x in range(len(importance))], importance)\n",
    "plt.show()\n",
    "\n"
   ]
  },
  {
   "cell_type": "code",
   "execution_count": null,
   "metadata": {},
   "outputs": [],
   "source": [
    "# permutation\n",
    "from sklearn.neighbors import KNeighborsRegressor\n",
    "from sklearn.inspection import permutation_importance"
   ]
  },
  {
   "cell_type": "code",
   "execution_count": null,
   "metadata": {},
   "outputs": [],
   "source": [
    "model = KNeighborsRegressor()\n",
    "# fit the model\n",
    "model.fit(x_train, y_train)\n",
    "# perform permutation importance\n",
    "results = permutation_importance(model, x_train, y_train, scoring='neg_mean_squared_error')\n",
    "# get importance\n",
    "importance = results.importances_mean\n",
    "# summarize feature importance\n",
    "for i,v in zip(x_train.columns, enumerate(importance)):\n",
    "\tprint('Feature: %s, Score: %.5f' % (i,v[1]))\n",
    "# plot feature importance\n",
    "plt.bar([x for x in range(len(importance))], importance)\n",
    "plt.show()"
   ]
  },
  {
   "cell_type": "code",
   "execution_count": null,
   "metadata": {},
   "outputs": [],
   "source": []
  },
  {
   "cell_type": "code",
   "execution_count": null,
   "metadata": {},
   "outputs": [],
   "source": []
  },
  {
   "cell_type": "code",
   "execution_count": null,
   "metadata": {},
   "outputs": [],
   "source": [
    "# https://machinelearningmastery.com/xgboost-for-time-series-forecasting/\n",
    "import xgboost\n",
    "print(\"xgboost\", xgboost.__version__)\n"
   ]
  },
  {
   "cell_type": "code",
   "execution_count": null,
   "metadata": {},
   "outputs": [],
   "source": [
    "model = XGBRegressor()"
   ]
  },
  {
   "cell_type": "code",
   "execution_count": null,
   "metadata": {},
   "outputs": [],
   "source": [
    "model.fit(x_train, y_train)"
   ]
  },
  {
   "cell_type": "code",
   "execution_count": null,
   "metadata": {},
   "outputs": [],
   "source": [
    "pred_y = model.predict(x_test)"
   ]
  },
  {
   "cell_type": "code",
   "execution_count": null,
   "metadata": {},
   "outputs": [],
   "source": [
    "plt.plot(x_test.index, pred_y, color='red', label='pred')\n",
    "plt.plot(x_test.index, y_test, color='blue', label='true', alpha=0.5)\n",
    "plt.show()"
   ]
  },
  {
   "cell_type": "code",
   "execution_count": null,
   "metadata": {},
   "outputs": [],
   "source": [
    "mean_squared_error(y_test, pred_y)\n"
   ]
  },
  {
   "cell_type": "code",
   "execution_count": null,
   "metadata": {},
   "outputs": [],
   "source": [
    "# best mse with only sby need"
   ]
  },
  {
   "cell_type": "code",
   "execution_count": null,
   "metadata": {},
   "outputs": [],
   "source": []
  },
  {
   "cell_type": "code",
   "execution_count": null,
   "metadata": {},
   "outputs": [],
   "source": []
  },
  {
   "cell_type": "code",
   "execution_count": null,
   "metadata": {},
   "outputs": [],
   "source": []
  },
  {
   "cell_type": "code",
   "execution_count": null,
   "metadata": {},
   "outputs": [],
   "source": [
    "# https://machinelearningmastery.com/feature-importance-and-feature-selection-with-xgboost-in-python/"
   ]
  },
  {
   "cell_type": "code",
   "execution_count": null,
   "metadata": {},
   "outputs": [],
   "source": [
    "model = XGBRegressor()\n",
    "model.fit(x_train, y_train)\n",
    "# feature importance\n",
    "print(model.feature_importances_)\n",
    "# plot\n",
    "plt.bar(range(len(model.feature_importances_)), model.feature_importances_)\n",
    "plt.show()"
   ]
  },
  {
   "cell_type": "code",
   "execution_count": null,
   "metadata": {},
   "outputs": [],
   "source": []
  },
  {
   "cell_type": "code",
   "execution_count": null,
   "metadata": {},
   "outputs": [],
   "source": []
  },
  {
   "cell_type": "code",
   "execution_count": null,
   "metadata": {},
   "outputs": [],
   "source": []
  },
  {
   "cell_type": "code",
   "execution_count": null,
   "metadata": {},
   "outputs": [],
   "source": [
    "#SARIMA with only calls\n",
    "X.to_csv('out.csv', index=False)\n"
   ]
  },
  {
   "cell_type": "code",
   "execution_count": 13,
   "metadata": {},
   "outputs": [],
   "source": [
    "#split dfs\n",
    "l = [275, 640, 1005, 1152]\n",
    "l_mod = [0] + l + [max(l)+1]\n",
    "\n",
    "list_of_dfs = [df.iloc[l_mod[n]:l_mod[n+1]] for n in range(len(l_mod)-1)]\n"
   ]
  },
  {
   "cell_type": "code",
   "execution_count": 14,
   "metadata": {},
   "outputs": [],
   "source": [
    "df_2016 = list_of_dfs[0]\n",
    "df_2017 = list_of_dfs[1]\n",
    "df_2018 = list_of_dfs[2]\n",
    "df_2019 = list_of_dfs[3]"
   ]
  },
  {
   "cell_type": "code",
   "execution_count": 15,
   "metadata": {},
   "outputs": [],
   "source": [
    "# aggregate 2016\n",
    "df_2016['mean_calls'] = df_2016.groupby('week')[['calls']].transform('mean')"
   ]
  },
  {
   "cell_type": "code",
   "execution_count": 16,
   "metadata": {},
   "outputs": [],
   "source": [
    "# aggregate 2017\n",
    "df_2017['mean_calls'] = df_2017.groupby('week')[['calls']].transform('mean')"
   ]
  },
  {
   "cell_type": "code",
   "execution_count": 17,
   "metadata": {},
   "outputs": [],
   "source": [
    "# aggregate 2018\n",
    "df_2018['mean_calls'] = df_2018.groupby('week')[['calls']].transform('mean')"
   ]
  },
  {
   "cell_type": "code",
   "execution_count": 18,
   "metadata": {},
   "outputs": [],
   "source": [
    "# aggregate 2019\n",
    "df_2019['mean_calls'] = df_2019.groupby('week')[['calls']].transform('mean')"
   ]
  },
  {
   "cell_type": "code",
   "execution_count": 19,
   "metadata": {},
   "outputs": [
    {
     "data": {
      "text/html": [
       "<div>\n",
       "<style scoped>\n",
       "    .dataframe tbody tr th:only-of-type {\n",
       "        vertical-align: middle;\n",
       "    }\n",
       "\n",
       "    .dataframe tbody tr th {\n",
       "        vertical-align: top;\n",
       "    }\n",
       "\n",
       "    .dataframe thead th {\n",
       "        text-align: right;\n",
       "    }\n",
       "</style>\n",
       "<table border=\"1\" class=\"dataframe\">\n",
       "  <thead>\n",
       "    <tr style=\"text-align: right;\">\n",
       "      <th></th>\n",
       "      <th>date</th>\n",
       "      <th>n_sick</th>\n",
       "      <th>calls</th>\n",
       "      <th>n_duty</th>\n",
       "      <th>n_sby</th>\n",
       "      <th>sby_need</th>\n",
       "      <th>dafted</th>\n",
       "      <th>diff_drivers</th>\n",
       "      <th>year</th>\n",
       "      <th>month</th>\n",
       "      <th>day</th>\n",
       "      <th>day_of_week</th>\n",
       "      <th>week</th>\n",
       "      <th>mean_calls</th>\n",
       "    </tr>\n",
       "  </thead>\n",
       "  <tbody>\n",
       "    <tr>\n",
       "      <th>0</th>\n",
       "      <td>2016-04-01</td>\n",
       "      <td>73</td>\n",
       "      <td>8154.0</td>\n",
       "      <td>1700</td>\n",
       "      <td>90</td>\n",
       "      <td>4.0</td>\n",
       "      <td>0.0</td>\n",
       "      <td>1627</td>\n",
       "      <td>2016</td>\n",
       "      <td>4</td>\n",
       "      <td>1</td>\n",
       "      <td>4</td>\n",
       "      <td>13</td>\n",
       "      <td>8256.000000</td>\n",
       "    </tr>\n",
       "    <tr>\n",
       "      <th>1</th>\n",
       "      <td>2016-04-02</td>\n",
       "      <td>64</td>\n",
       "      <td>8526.0</td>\n",
       "      <td>1700</td>\n",
       "      <td>90</td>\n",
       "      <td>70.0</td>\n",
       "      <td>0.0</td>\n",
       "      <td>1636</td>\n",
       "      <td>2016</td>\n",
       "      <td>4</td>\n",
       "      <td>2</td>\n",
       "      <td>5</td>\n",
       "      <td>13</td>\n",
       "      <td>8256.000000</td>\n",
       "    </tr>\n",
       "    <tr>\n",
       "      <th>2</th>\n",
       "      <td>2016-04-03</td>\n",
       "      <td>68</td>\n",
       "      <td>8088.0</td>\n",
       "      <td>1700</td>\n",
       "      <td>90</td>\n",
       "      <td>0.0</td>\n",
       "      <td>0.0</td>\n",
       "      <td>1632</td>\n",
       "      <td>2016</td>\n",
       "      <td>4</td>\n",
       "      <td>3</td>\n",
       "      <td>6</td>\n",
       "      <td>13</td>\n",
       "      <td>8256.000000</td>\n",
       "    </tr>\n",
       "    <tr>\n",
       "      <th>3</th>\n",
       "      <td>2016-04-04</td>\n",
       "      <td>71</td>\n",
       "      <td>7044.0</td>\n",
       "      <td>1700</td>\n",
       "      <td>90</td>\n",
       "      <td>0.0</td>\n",
       "      <td>0.0</td>\n",
       "      <td>1629</td>\n",
       "      <td>2016</td>\n",
       "      <td>4</td>\n",
       "      <td>4</td>\n",
       "      <td>0</td>\n",
       "      <td>14</td>\n",
       "      <td>6700.285714</td>\n",
       "    </tr>\n",
       "    <tr>\n",
       "      <th>4</th>\n",
       "      <td>2016-04-05</td>\n",
       "      <td>63</td>\n",
       "      <td>7236.0</td>\n",
       "      <td>1700</td>\n",
       "      <td>90</td>\n",
       "      <td>0.0</td>\n",
       "      <td>0.0</td>\n",
       "      <td>1637</td>\n",
       "      <td>2016</td>\n",
       "      <td>4</td>\n",
       "      <td>5</td>\n",
       "      <td>1</td>\n",
       "      <td>14</td>\n",
       "      <td>6700.285714</td>\n",
       "    </tr>\n",
       "    <tr>\n",
       "      <th>...</th>\n",
       "      <td>...</td>\n",
       "      <td>...</td>\n",
       "      <td>...</td>\n",
       "      <td>...</td>\n",
       "      <td>...</td>\n",
       "      <td>...</td>\n",
       "      <td>...</td>\n",
       "      <td>...</td>\n",
       "      <td>...</td>\n",
       "      <td>...</td>\n",
       "      <td>...</td>\n",
       "      <td>...</td>\n",
       "      <td>...</td>\n",
       "      <td>...</td>\n",
       "    </tr>\n",
       "    <tr>\n",
       "      <th>1147</th>\n",
       "      <td>2019-05-23</td>\n",
       "      <td>86</td>\n",
       "      <td>8544.0</td>\n",
       "      <td>1900</td>\n",
       "      <td>90</td>\n",
       "      <td>0.0</td>\n",
       "      <td>0.0</td>\n",
       "      <td>1814</td>\n",
       "      <td>2019</td>\n",
       "      <td>5</td>\n",
       "      <td>23</td>\n",
       "      <td>3</td>\n",
       "      <td>21</td>\n",
       "      <td>9190.285714</td>\n",
       "    </tr>\n",
       "    <tr>\n",
       "      <th>1148</th>\n",
       "      <td>2019-05-24</td>\n",
       "      <td>81</td>\n",
       "      <td>8814.0</td>\n",
       "      <td>1900</td>\n",
       "      <td>90</td>\n",
       "      <td>0.0</td>\n",
       "      <td>0.0</td>\n",
       "      <td>1819</td>\n",
       "      <td>2019</td>\n",
       "      <td>5</td>\n",
       "      <td>24</td>\n",
       "      <td>4</td>\n",
       "      <td>21</td>\n",
       "      <td>9190.285714</td>\n",
       "    </tr>\n",
       "    <tr>\n",
       "      <th>1149</th>\n",
       "      <td>2019-05-25</td>\n",
       "      <td>76</td>\n",
       "      <td>9846.0</td>\n",
       "      <td>1900</td>\n",
       "      <td>90</td>\n",
       "      <td>146.0</td>\n",
       "      <td>56.0</td>\n",
       "      <td>1824</td>\n",
       "      <td>2019</td>\n",
       "      <td>5</td>\n",
       "      <td>25</td>\n",
       "      <td>5</td>\n",
       "      <td>21</td>\n",
       "      <td>9190.285714</td>\n",
       "    </tr>\n",
       "    <tr>\n",
       "      <th>1150</th>\n",
       "      <td>2019-05-26</td>\n",
       "      <td>83</td>\n",
       "      <td>9882.0</td>\n",
       "      <td>1900</td>\n",
       "      <td>90</td>\n",
       "      <td>160.0</td>\n",
       "      <td>70.0</td>\n",
       "      <td>1817</td>\n",
       "      <td>2019</td>\n",
       "      <td>5</td>\n",
       "      <td>26</td>\n",
       "      <td>6</td>\n",
       "      <td>21</td>\n",
       "      <td>9190.285714</td>\n",
       "    </tr>\n",
       "    <tr>\n",
       "      <th>1151</th>\n",
       "      <td>2019-05-27</td>\n",
       "      <td>77</td>\n",
       "      <td>8790.0</td>\n",
       "      <td>1900</td>\n",
       "      <td>90</td>\n",
       "      <td>0.0</td>\n",
       "      <td>0.0</td>\n",
       "      <td>1823</td>\n",
       "      <td>2019</td>\n",
       "      <td>5</td>\n",
       "      <td>27</td>\n",
       "      <td>0</td>\n",
       "      <td>22</td>\n",
       "      <td>8790.000000</td>\n",
       "    </tr>\n",
       "  </tbody>\n",
       "</table>\n",
       "<p>1152 rows × 14 columns</p>\n",
       "</div>"
      ],
      "text/plain": [
       "           date  n_sick   calls  n_duty  n_sby  sby_need  dafted  \\\n",
       "0    2016-04-01      73  8154.0    1700     90       4.0     0.0   \n",
       "1    2016-04-02      64  8526.0    1700     90      70.0     0.0   \n",
       "2    2016-04-03      68  8088.0    1700     90       0.0     0.0   \n",
       "3    2016-04-04      71  7044.0    1700     90       0.0     0.0   \n",
       "4    2016-04-05      63  7236.0    1700     90       0.0     0.0   \n",
       "...         ...     ...     ...     ...    ...       ...     ...   \n",
       "1147 2019-05-23      86  8544.0    1900     90       0.0     0.0   \n",
       "1148 2019-05-24      81  8814.0    1900     90       0.0     0.0   \n",
       "1149 2019-05-25      76  9846.0    1900     90     146.0    56.0   \n",
       "1150 2019-05-26      83  9882.0    1900     90     160.0    70.0   \n",
       "1151 2019-05-27      77  8790.0    1900     90       0.0     0.0   \n",
       "\n",
       "      diff_drivers  year  month  day  day_of_week  week   mean_calls  \n",
       "0             1627  2016      4    1            4    13  8256.000000  \n",
       "1             1636  2016      4    2            5    13  8256.000000  \n",
       "2             1632  2016      4    3            6    13  8256.000000  \n",
       "3             1629  2016      4    4            0    14  6700.285714  \n",
       "4             1637  2016      4    5            1    14  6700.285714  \n",
       "...            ...   ...    ...  ...          ...   ...          ...  \n",
       "1147          1814  2019      5   23            3    21  9190.285714  \n",
       "1148          1819  2019      5   24            4    21  9190.285714  \n",
       "1149          1824  2019      5   25            5    21  9190.285714  \n",
       "1150          1817  2019      5   26            6    21  9190.285714  \n",
       "1151          1823  2019      5   27            0    22  8790.000000  \n",
       "\n",
       "[1152 rows x 14 columns]"
      ]
     },
     "metadata": {},
     "output_type": "display_data"
    }
   ],
   "source": [
    "# combine\n",
    "complete_df = df_2016.append([df_2017, df_2018, df_2019])\n",
    "display(complete_df)"
   ]
  },
  {
   "cell_type": "code",
   "execution_count": 20,
   "metadata": {},
   "outputs": [
    {
     "name": "stdout",
     "output_type": "stream",
     "text": [
      "Examples of parameter combinations for Seasonal ARIMA...\n",
      "SARIMAX: (0, 0, 1) x (0, 0, 1, 52)\n",
      "SARIMAX: (0, 0, 1) x (0, 1, 0, 52)\n",
      "SARIMAX: (0, 1, 0) x (0, 1, 1, 52)\n",
      "SARIMAX: (0, 1, 0) x (1, 0, 0, 52)\n"
     ]
    }
   ],
   "source": [
    "# SARIMA with aggregated calls\n",
    "\n",
    "import itertools\n",
    "import statsmodels.api as sm\n",
    "\n",
    "\n",
    "p = d = q = range(0, 2)\n",
    "pdq = list(itertools.product(p, d, q))\n",
    "seasonal_pdq = [(x[0], x[1], x[2], 52) for x in list(itertools.product(p, d, q))]\n",
    "print('Examples of parameter combinations for Seasonal ARIMA...')\n",
    "print('SARIMAX: {} x {}'.format(pdq[1], seasonal_pdq[1]))\n",
    "print('SARIMAX: {} x {}'.format(pdq[1], seasonal_pdq[2]))\n",
    "print('SARIMAX: {} x {}'.format(pdq[2], seasonal_pdq[3]))\n",
    "print('SARIMAX: {} x {}'.format(pdq[2], seasonal_pdq[4]))"
   ]
  },
  {
   "cell_type": "code",
   "execution_count": 21,
   "metadata": {},
   "outputs": [],
   "source": [
    "import statsmodels.api as sm\n",
    "\n",
    "\n",
    "# grid search arima parameters\n",
    "#for param in pdq:\n",
    "    #for param_seasonal in seasonal_pdq:\n",
    "        #try:\n",
    "            #mod = sm.tsa.statespace.SARIMAX(complete_df.mean_calls, order=param, seasonal_order=param_seasonal, enforce_stationarity=False, enforce_invertibility=False)\n",
    "\n",
    "            #results = mod.fit()\n",
    "            #print('ARIMA{}x{}52 - AIC:{}'.format(param, param_seasonal, results.aic))\n",
    "        #except:\n",
    "            #continue"
   ]
  },
  {
   "cell_type": "code",
   "execution_count": null,
   "metadata": {},
   "outputs": [],
   "source": [
    "# ARIMA(1, 1, 1)x(1, 1, 1, 52)52 - AIC:14681.525501752336\n",
    "# fitting the ARIMA model\n",
    "mod = sm.tsa.statespace.SARIMAX(complete_df.mean_calls.iloc[:920],\n",
    "                                order=(1, 1, 1),\n",
    "                                seasonal_order=(1, 1, 1, 52),\n",
    "                                enforce_stationarity=False,\n",
    "                                enforce_invertibility=False)\n",
    "results = mod.fit(maxiter=200, method='powell')\n",
    "print(results.summary().tables[1])"
   ]
  },
  {
   "cell_type": "code",
   "execution_count": null,
   "metadata": {},
   "outputs": [],
   "source": [
    "complete_df['forecast']=results.predict(start=921, end=1151, dynamic=True)\n",
    "complete_df[['mean_calls','forecast']].plot(figsize=(14,10))"
   ]
  },
  {
   "cell_type": "code",
   "execution_count": null,
   "metadata": {},
   "outputs": [],
   "source": [
    "print(results.mle_retvals)"
   ]
  },
  {
   "cell_type": "code",
   "execution_count": null,
   "metadata": {},
   "outputs": [],
   "source": [
    "y_pred = complete_df['forecast'].iloc[921:]\n",
    "mean_squared_error(y_pred, y_test)\n",
    "\n",
    "# mse schlechter ohne zweiten ar teil"
   ]
  },
  {
   "cell_type": "code",
   "execution_count": null,
   "metadata": {},
   "outputs": [],
   "source": []
  },
  {
   "cell_type": "code",
   "execution_count": null,
   "metadata": {},
   "outputs": [],
   "source": [
    "#pred = results.get_prediction(start=920, end=1151, dynamic=False)\n",
    "#pred_ci = pred.conf_int()\n",
    "#ax = complete_df.mean_calls.iloc[0:].plot(label='observed')\n",
    "#pred.predicted_mean.plot(ax=ax, label='One-step ahead Forecast', alpha=.7, figsize=(14, 7))\n",
    "#ax.fill_between(pred_ci.index,\n",
    "                #pred_ci.iloc[:, 0],\n",
    "                #pred_ci.iloc[:, 1], color='k', alpha=.2)\n",
    "#ax.set_xlabel('Date')\n",
    "#ax.set_ylabel('Calls')\n",
    "#plt.legend()\n",
    "#plt.show()"
   ]
  },
  {
   "cell_type": "code",
   "execution_count": null,
   "metadata": {},
   "outputs": [],
   "source": [
    "# with pred mean\n",
    "#y_forecasted = pred.predicted_mean\n",
    "#y_truth = df.calls[920:]\n",
    "#mse = ((y_forecasted - y_truth) ** 2).mean()\n",
    "#print('The Mean Squared Error of our forecasts is {}'.format(round(mse, 2)))\n",
    "#print('The Root Mean Squared Error is {}'.format(round(np.sqrt(mse), 2)))"
   ]
  },
  {
   "cell_type": "code",
   "execution_count": null,
   "metadata": {},
   "outputs": [],
   "source": [
    "#series1=results.predict(start=920, end=1151, dynamic=False)\n",
    "\n",
    "#series2 = pred.predicted_mean"
   ]
  },
  {
   "cell_type": "code",
   "execution_count": null,
   "metadata": {},
   "outputs": [],
   "source": [
    "#y_forecasted2 = series1\n",
    "#y_truth2 = df.calls[920:]\n",
    "#mse2 = ((y_forecasted2 - y_truth2) ** 2).mean()\n",
    "#print('The Mean Squared Error of our forecasts is {}'.format(round(mse2, 2)))\n",
    "#print('The Root Mean Squared Error is {}'.format(round(np.sqrt(mse2), 2)))"
   ]
  },
  {
   "cell_type": "code",
   "execution_count": null,
   "metadata": {},
   "outputs": [],
   "source": [
    "# next try"
   ]
  },
  {
   "cell_type": "code",
   "execution_count": 22,
   "metadata": {},
   "outputs": [],
   "source": [
    "means2016 = df_2016.groupby('week').calls"
   ]
  },
  {
   "cell_type": "code",
   "execution_count": 23,
   "metadata": {},
   "outputs": [],
   "source": [
    "means_2016 = pd.concat([means2016.apply(list), means2016.mean()], axis=1, keys=['calls', 'mean_calls'])\n",
    "means_2016['year'] = 2016"
   ]
  },
  {
   "cell_type": "code",
   "execution_count": 24,
   "metadata": {},
   "outputs": [],
   "source": [
    "# 2017\n",
    "means2017 = df_2017.groupby('week').calls\n",
    "means_2017 = pd.concat([means2017.apply(list), means2017.mean()], axis=1, keys=['calls', 'mean_calls'])\n",
    "means_2017['year'] = 2017"
   ]
  },
  {
   "cell_type": "code",
   "execution_count": 25,
   "metadata": {},
   "outputs": [],
   "source": [
    "# 2018\n",
    "means2018 = df_2018.groupby('week').calls\n",
    "means_2018 = pd.concat([means2018.apply(list), means2018.mean()], axis=1, keys=['calls', 'mean_calls'])\n",
    "means_2018['year'] = 2018 "
   ]
  },
  {
   "cell_type": "code",
   "execution_count": 26,
   "metadata": {},
   "outputs": [],
   "source": [
    "# 2019\n",
    "means2019 = df_2019.groupby('week').calls\n",
    "means_2019 = pd.concat([means2019.apply(list), means2019.mean()], axis=1, keys=['calls', 'mean_calls'])\n",
    "means_2019['year'] = 2019"
   ]
  },
  {
   "cell_type": "code",
   "execution_count": 38,
   "metadata": {},
   "outputs": [],
   "source": [
    "complete_df_2 = means_2016.append([means_2017, means_2018, means_2019]).drop(columns=['calls'])\n",
    "complete_df_2 = complete_df_2.reset_index()"
   ]
  },
  {
   "cell_type": "code",
   "execution_count": 54,
   "metadata": {},
   "outputs": [],
   "source": [
    "#train test split\n",
    "\n",
    "X = complete_df_2[['week', 'year']]\n",
    "y = complete_df_2['mean_calls']\n",
    "\n",
    "def train_test_split(data, n_test):\n",
    "\treturn data[:n_test], data[n_test:]\n",
    "x_train, x_test = train_test_split(X, 132)\n",
    "y_train, y_test = train_test_split(y, 132)\n",
    "\n",
    "train_df = pd.concat([x_train, y_train], axis=1)"
   ]
  },
  {
   "cell_type": "code",
   "execution_count": null,
   "metadata": {},
   "outputs": [],
   "source": []
  },
  {
   "cell_type": "code",
   "execution_count": 87,
   "metadata": {},
   "outputs": [
    {
     "name": "stdout",
     "output_type": "stream",
     "text": [
      "ARIMA(0, 0, 0)x(0, 0, 0, 52)52 - AIC:2722.670616515161\n",
      "ARIMA(0, 0, 0)x(0, 0, 1, 52)52 - AIC:1577.3644892918544\n",
      "ARIMA(0, 0, 0)x(0, 1, 0, 52)52 - AIC:1285.5467799269418\n",
      "ARIMA(0, 0, 0)x(0, 1, 1, 52)52 - AIC:437.68340473280136\n",
      "ARIMA(0, 0, 0)x(1, 0, 0, 52)52 - AIC:1250.263753991645\n",
      "ARIMA(0, 0, 0)x(1, 0, 1, 52)52 - AIC:1236.7533202494537\n",
      "ARIMA(0, 0, 0)x(1, 1, 0, 52)52 - AIC:449.2543088318388\n",
      "ARIMA(0, 0, 0)x(1, 1, 1, 52)52 - AIC:415.38126172576864\n",
      "ARIMA(0, 0, 1)x(0, 0, 0, 52)52 - AIC:2613.36012519772\n",
      "ARIMA(0, 0, 1)x(0, 0, 1, 52)52 - AIC:1453.7706029593373\n",
      "ARIMA(0, 0, 1)x(0, 1, 0, 52)52 - AIC:1250.1630157445784\n",
      "ARIMA(0, 0, 1)x(0, 1, 1, 52)52 - AIC:418.2430577435045\n",
      "ARIMA(0, 0, 1)x(1, 0, 0, 52)52 - AIC:1252.2617854237117\n"
     ]
    },
    {
     "name": "stderr",
     "output_type": "stream",
     "text": [
      "/Users/kata/opt/anaconda3/lib/python3.8/site-packages/statsmodels/base/model.py:566: ConvergenceWarning: Maximum Likelihood optimization failed to converge. Check mle_retvals\n",
      "  warnings.warn(\"Maximum Likelihood optimization failed to \"\n"
     ]
    },
    {
     "name": "stdout",
     "output_type": "stream",
     "text": [
      "ARIMA(0, 0, 1)x(1, 0, 1, 52)52 - AIC:1221.513699413728\n",
      "ARIMA(0, 0, 1)x(1, 1, 0, 52)52 - AIC:448.2202380123127\n",
      "ARIMA(0, 0, 1)x(1, 1, 1, 52)52 - AIC:402.8719992272622\n",
      "ARIMA(0, 1, 0)x(0, 0, 0, 52)52 - AIC:2069.200935652665\n",
      "ARIMA(0, 1, 0)x(0, 0, 1, 52)52 - AIC:1215.903411494942\n",
      "ARIMA(0, 1, 0)x(0, 1, 0, 52)52 - AIC:1257.0858292648538\n",
      "ARIMA(0, 1, 0)x(0, 1, 1, 52)52 - AIC:405.2346915901077\n",
      "ARIMA(0, 1, 0)x(1, 0, 0, 52)52 - AIC:1226.680620932611\n",
      "ARIMA(0, 1, 0)x(1, 0, 1, 52)52 - AIC:1212.83200217908\n",
      "ARIMA(0, 1, 0)x(1, 1, 0, 52)52 - AIC:427.64099034007126\n",
      "ARIMA(0, 1, 0)x(1, 1, 1, 52)52 - AIC:407.0682503061242\n",
      "ARIMA(0, 1, 1)x(0, 0, 0, 52)52 - AIC:2017.1947349749778\n",
      "ARIMA(0, 1, 1)x(0, 0, 1, 52)52 - AIC:1183.527168440042\n",
      "ARIMA(0, 1, 1)x(0, 1, 0, 52)52 - AIC:1201.7775068988872\n",
      "ARIMA(0, 1, 1)x(0, 1, 1, 52)52 - AIC:380.0753154626119\n",
      "ARIMA(0, 1, 1)x(1, 0, 0, 52)52 - AIC:1204.3420834076699\n",
      "ARIMA(0, 1, 1)x(1, 0, 1, 52)52 - AIC:1171.2090787690838\n",
      "ARIMA(0, 1, 1)x(1, 1, 0, 52)52 - AIC:412.9167571207604\n",
      "ARIMA(0, 1, 1)x(1, 1, 1, 52)52 - AIC:381.9569383957414\n",
      "ARIMA(1, 0, 0)x(0, 0, 0, 52)52 - AIC:2090.9800999862437\n",
      "ARIMA(1, 0, 0)x(0, 0, 1, 52)52 - AIC:1232.581360665216\n",
      "ARIMA(1, 0, 0)x(0, 1, 0, 52)52 - AIC:1258.7870856730146\n",
      "ARIMA(1, 0, 0)x(0, 1, 1, 52)52 - AIC:426.9391193314444\n",
      "ARIMA(1, 0, 0)x(1, 0, 0, 52)52 - AIC:1228.5832891271698\n",
      "ARIMA(1, 0, 0)x(1, 0, 1, 52)52 - AIC:1230.1289999696587\n",
      "ARIMA(1, 0, 0)x(1, 1, 0, 52)52 - AIC:426.357217119096\n",
      "ARIMA(1, 0, 0)x(1, 1, 1, 52)52 - AIC:414.609230935537\n",
      "ARIMA(1, 0, 1)x(0, 0, 0, 52)52 - AIC:2034.8402229538663\n",
      "ARIMA(1, 0, 1)x(0, 0, 1, 52)52 - AIC:1208.558341322506\n",
      "ARIMA(1, 0, 1)x(0, 1, 0, 52)52 - AIC:1224.2629901265775\n"
     ]
    },
    {
     "name": "stderr",
     "output_type": "stream",
     "text": [
      "/Users/kata/opt/anaconda3/lib/python3.8/site-packages/statsmodels/base/model.py:566: ConvergenceWarning: Maximum Likelihood optimization failed to converge. Check mle_retvals\n",
      "  warnings.warn(\"Maximum Likelihood optimization failed to \"\n"
     ]
    },
    {
     "name": "stdout",
     "output_type": "stream",
     "text": [
      "ARIMA(1, 0, 1)x(0, 1, 1, 52)52 - AIC:397.58715585337364\n",
      "ARIMA(1, 0, 1)x(1, 0, 0, 52)52 - AIC:1216.3777025948036\n",
      "ARIMA(1, 0, 1)x(1, 0, 1, 52)52 - AIC:1189.0952747349543\n",
      "ARIMA(1, 0, 1)x(1, 1, 0, 52)52 - AIC:415.1174190845732\n",
      "ARIMA(1, 0, 1)x(1, 1, 1, 52)52 - AIC:404.4859401677353\n",
      "ARIMA(1, 1, 0)x(0, 0, 0, 52)52 - AIC:2055.5544762916293\n",
      "ARIMA(1, 1, 0)x(0, 0, 1, 52)52 - AIC:1206.8336382705163\n",
      "ARIMA(1, 1, 0)x(0, 1, 0, 52)52 - AIC:1241.301556734746\n",
      "ARIMA(1, 1, 0)x(0, 1, 1, 52)52 - AIC:401.2468799947978\n",
      "ARIMA(1, 1, 0)x(1, 0, 0, 52)52 - AIC:1200.9402095099651\n",
      "ARIMA(1, 1, 0)x(1, 0, 1, 52)52 - AIC:1202.2309263884367\n",
      "ARIMA(1, 1, 0)x(1, 1, 0, 52)52 - AIC:401.99534405879956\n",
      "ARIMA(1, 1, 0)x(1, 1, 1, 52)52 - AIC:402.8887203871973\n",
      "ARIMA(1, 1, 1)x(0, 0, 0, 52)52 - AIC:2018.9544783482393\n",
      "ARIMA(1, 1, 1)x(0, 0, 1, 52)52 - AIC:1184.8603330955448\n",
      "ARIMA(1, 1, 1)x(0, 1, 0, 52)52 - AIC:1203.0688257385432\n",
      "ARIMA(1, 1, 1)x(0, 1, 1, 52)52 - AIC:381.33431505087583\n",
      "ARIMA(1, 1, 1)x(1, 0, 0, 52)52 - AIC:1190.3815374508463\n",
      "ARIMA(1, 1, 1)x(1, 0, 1, 52)52 - AIC:1171.381674437413\n",
      "ARIMA(1, 1, 1)x(1, 1, 0, 52)52 - AIC:399.19806525028355\n",
      "ARIMA(1, 1, 1)x(1, 1, 1, 52)52 - AIC:383.25175314646856\n"
     ]
    }
   ],
   "source": [
    "\n",
    "# grid search arima parameters\n",
    "for param in pdq:\n",
    "    for param_seasonal in   seasonal_pdq:\n",
    "        try:\n",
    "            mod = sm.tsa.statespace.SARIMAX(train_df.mean_calls, order=param, seasonal_order=param_seasonal, enforce_stationarity=False, enforce_invertibility=False)\n",
    "\n",
    "            results = mod.fit(full_output=True)\n",
    "            print('ARIMA{}x{}52 - AIC:{}'.format(param, param_seasonal, results.aic))\n",
    "        except:\n",
    "            continue"
   ]
  },
  {
   "cell_type": "code",
   "execution_count": 92,
   "metadata": {},
   "outputs": [
    {
     "name": "stdout",
     "output_type": "stream",
     "text": [
      "Optimization terminated successfully.\n",
      "         Current function value: 1.414384\n",
      "         Iterations: 4\n",
      "         Function evaluations: 247\n",
      "==============================================================================\n",
      "                 coef    std err          z      P>|z|      [0.025      0.975]\n",
      "------------------------------------------------------------------------------\n",
      "ar.L1          0.1632      0.338      0.483      0.629      -0.499       0.825\n",
      "ma.L1         -1.0000      0.931     -1.074      0.283      -2.825       0.825\n",
      "ar.S.L52       0.0185      0.115      0.160      0.873      -0.208       0.245\n",
      "ma.S.L52      -0.7325      1.340     -0.546      0.585      -3.360       1.895\n",
      "sigma2      1.595e+05   5.87e-06   2.72e+10      0.000     1.6e+05     1.6e+05\n",
      "==============================================================================\n"
     ]
    }
   ],
   "source": [
    "# ARIMA(1, 1, 1)x(1, 1, 1, 52)52 - AIC:383.25175314646856\n",
    "# fitting the ARIMA model\n",
    "mod = sm.tsa.statespace.SARIMAX(y_train,\n",
    "                                order=(1, 1, 1),\n",
    "                                seasonal_order=(1, 1, 1, 52),\n",
    "                                enforce_stationarity=False,\n",
    "                                enforce_invertibility=False)\n",
    "results = mod.fit(maxiter=200, method='powell', full_output=True)\n",
    "print(results.summary().tables[1])"
   ]
  },
  {
   "cell_type": "code",
   "execution_count": 93,
   "metadata": {},
   "outputs": [],
   "source": [
    "complete_df_2['forecast']=results.predict(start=132, end=166, dynamic=False)"
   ]
  },
  {
   "cell_type": "code",
   "execution_count": 94,
   "metadata": {},
   "outputs": [
    {
     "data": {
      "text/plain": [
       "<AxesSubplot:>"
      ]
     },
     "execution_count": 94,
     "metadata": {},
     "output_type": "execute_result"
    },
    {
     "data": {
      "image/png": "[encoded data removed]",
      "text/plain": [
       "<Figure size 1008x720 with 1 Axes>"
      ]
     },
     "metadata": {
      "needs_background": "light"
     },
     "output_type": "display_data"
    }
   ],
   "source": [
    "complete_df_2[['mean_calls','forecast']].plot(figsize=(14,10))"
   ]
  },
  {
   "cell_type": "code",
   "execution_count": 95,
   "metadata": {},
   "outputs": [
    {
     "data": {
      "text/plain": [
       "217785.4771001088"
      ]
     },
     "execution_count": 95,
     "metadata": {},
     "output_type": "execute_result"
    }
   ],
   "source": [
    "y_pred_2 = complete_df_2['forecast'].iloc[132:]\n",
    "mean_squared_error(y_pred_2, y_test)\n",
    "# MSE : 217785.4771001088"
   ]
  },
  {
   "cell_type": "code",
   "execution_count": null,
   "metadata": {},
   "outputs": [],
   "source": []
  }
 ],
 "metadata": {
  "kernelspec": {
   "display_name": "Python 3.8.5 ('base')",
   "language": "python",
   "name": "python3"
  },
  "language_info": {
   "codemirror_mode": {
    "name": "ipython",
    "version": 3
   },
   "file_extension": ".py",
   "mimetype": "text/x-python",
   "name": "python",
   "nbconvert_exporter": "python",
   "pygments_lexer": "ipython3",
   "version": "3.8.5"
  },
  "orig_nbformat": 4,
  "vscode": {
   "interpreter": {
    "hash": "5c3cd99063abd1b4c15ea40868a5df46d871e2273225f116d3d00cd8553a7cf8"
   }
  }
 },
 "nbformat": 4,
 "nbformat_minor": 2
}
