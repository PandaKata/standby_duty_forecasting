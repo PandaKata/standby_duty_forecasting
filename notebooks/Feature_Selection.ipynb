{
 "cells": [
  {
   "cell_type": "markdown",
   "metadata": {},
   "source": [
    "# Random Forest: Feature Selection"
   ]
  },
  {
   "cell_type": "code",
   "execution_count": 3,
   "metadata": {},
   "outputs": [
    {
     "name": "stdout",
     "output_type": "stream",
     "text": [
      "/Users/kata/opt/anaconda3/bin/python\n"
     ]
    }
   ],
   "source": [
    "import sys\n",
    "print(sys.executable)\n",
    "\n",
    "# shift 42 days?????"
   ]
  },
  {
   "cell_type": "code",
   "execution_count": 4,
   "metadata": {},
   "outputs": [],
   "source": [
    "import pandas as pd\n",
    "from sklearn.tree import DecisionTreeRegressor\n",
    "import matplotlib.pyplot as plt\n",
    "import treeplot\n",
    "import numpy as np\n",
    "from sklearn.metrics import mean_squared_error\n",
    "from sklearn import tree\n",
    "import warnings\n",
    "\n",
    "warnings.simplefilter(action='ignore')"
   ]
  },
  {
   "cell_type": "code",
   "execution_count": 5,
   "metadata": {},
   "outputs": [
    {
     "data": {
      "text/html": [
       "<div>\n",
       "<style scoped>\n",
       "    .dataframe tbody tr th:only-of-type {\n",
       "        vertical-align: middle;\n",
       "    }\n",
       "\n",
       "    .dataframe tbody tr th {\n",
       "        vertical-align: top;\n",
       "    }\n",
       "\n",
       "    .dataframe thead th {\n",
       "        text-align: right;\n",
       "    }\n",
       "</style>\n",
       "<table border=\"1\" class=\"dataframe\">\n",
       "  <thead>\n",
       "    <tr style=\"text-align: right;\">\n",
       "      <th></th>\n",
       "      <th>date</th>\n",
       "      <th>n_sick</th>\n",
       "      <th>calls</th>\n",
       "      <th>n_duty</th>\n",
       "      <th>n_sby</th>\n",
       "      <th>sby_need</th>\n",
       "      <th>dafted</th>\n",
       "    </tr>\n",
       "  </thead>\n",
       "  <tbody>\n",
       "    <tr>\n",
       "      <th>0</th>\n",
       "      <td>2016-04-01</td>\n",
       "      <td>73</td>\n",
       "      <td>8154.0</td>\n",
       "      <td>1700</td>\n",
       "      <td>90</td>\n",
       "      <td>4.0</td>\n",
       "      <td>0.0</td>\n",
       "    </tr>\n",
       "    <tr>\n",
       "      <th>1</th>\n",
       "      <td>2016-04-02</td>\n",
       "      <td>64</td>\n",
       "      <td>8526.0</td>\n",
       "      <td>1700</td>\n",
       "      <td>90</td>\n",
       "      <td>70.0</td>\n",
       "      <td>0.0</td>\n",
       "    </tr>\n",
       "    <tr>\n",
       "      <th>2</th>\n",
       "      <td>2016-04-03</td>\n",
       "      <td>68</td>\n",
       "      <td>8088.0</td>\n",
       "      <td>1700</td>\n",
       "      <td>90</td>\n",
       "      <td>0.0</td>\n",
       "      <td>0.0</td>\n",
       "    </tr>\n",
       "    <tr>\n",
       "      <th>3</th>\n",
       "      <td>2016-04-04</td>\n",
       "      <td>71</td>\n",
       "      <td>7044.0</td>\n",
       "      <td>1700</td>\n",
       "      <td>90</td>\n",
       "      <td>0.0</td>\n",
       "      <td>0.0</td>\n",
       "    </tr>\n",
       "    <tr>\n",
       "      <th>4</th>\n",
       "      <td>2016-04-05</td>\n",
       "      <td>63</td>\n",
       "      <td>7236.0</td>\n",
       "      <td>1700</td>\n",
       "      <td>90</td>\n",
       "      <td>0.0</td>\n",
       "      <td>0.0</td>\n",
       "    </tr>\n",
       "    <tr>\n",
       "      <th>...</th>\n",
       "      <td>...</td>\n",
       "      <td>...</td>\n",
       "      <td>...</td>\n",
       "      <td>...</td>\n",
       "      <td>...</td>\n",
       "      <td>...</td>\n",
       "      <td>...</td>\n",
       "    </tr>\n",
       "    <tr>\n",
       "      <th>1147</th>\n",
       "      <td>2019-05-23</td>\n",
       "      <td>86</td>\n",
       "      <td>8544.0</td>\n",
       "      <td>1900</td>\n",
       "      <td>90</td>\n",
       "      <td>0.0</td>\n",
       "      <td>0.0</td>\n",
       "    </tr>\n",
       "    <tr>\n",
       "      <th>1148</th>\n",
       "      <td>2019-05-24</td>\n",
       "      <td>81</td>\n",
       "      <td>8814.0</td>\n",
       "      <td>1900</td>\n",
       "      <td>90</td>\n",
       "      <td>0.0</td>\n",
       "      <td>0.0</td>\n",
       "    </tr>\n",
       "    <tr>\n",
       "      <th>1149</th>\n",
       "      <td>2019-05-25</td>\n",
       "      <td>76</td>\n",
       "      <td>9846.0</td>\n",
       "      <td>1900</td>\n",
       "      <td>90</td>\n",
       "      <td>146.0</td>\n",
       "      <td>56.0</td>\n",
       "    </tr>\n",
       "    <tr>\n",
       "      <th>1150</th>\n",
       "      <td>2019-05-26</td>\n",
       "      <td>83</td>\n",
       "      <td>9882.0</td>\n",
       "      <td>1900</td>\n",
       "      <td>90</td>\n",
       "      <td>160.0</td>\n",
       "      <td>70.0</td>\n",
       "    </tr>\n",
       "    <tr>\n",
       "      <th>1151</th>\n",
       "      <td>2019-05-27</td>\n",
       "      <td>77</td>\n",
       "      <td>8790.0</td>\n",
       "      <td>1900</td>\n",
       "      <td>90</td>\n",
       "      <td>0.0</td>\n",
       "      <td>0.0</td>\n",
       "    </tr>\n",
       "  </tbody>\n",
       "</table>\n",
       "<p>1152 rows × 7 columns</p>\n",
       "</div>"
      ],
      "text/plain": [
       "           date  n_sick   calls  n_duty  n_sby  sby_need  dafted\n",
       "0    2016-04-01      73  8154.0    1700     90       4.0     0.0\n",
       "1    2016-04-02      64  8526.0    1700     90      70.0     0.0\n",
       "2    2016-04-03      68  8088.0    1700     90       0.0     0.0\n",
       "3    2016-04-04      71  7044.0    1700     90       0.0     0.0\n",
       "4    2016-04-05      63  7236.0    1700     90       0.0     0.0\n",
       "...         ...     ...     ...     ...    ...       ...     ...\n",
       "1147 2019-05-23      86  8544.0    1900     90       0.0     0.0\n",
       "1148 2019-05-24      81  8814.0    1900     90       0.0     0.0\n",
       "1149 2019-05-25      76  9846.0    1900     90     146.0    56.0\n",
       "1150 2019-05-26      83  9882.0    1900     90     160.0    70.0\n",
       "1151 2019-05-27      77  8790.0    1900     90       0.0     0.0\n",
       "\n",
       "[1152 rows x 7 columns]"
      ]
     },
     "execution_count": 5,
     "metadata": {},
     "output_type": "execute_result"
    }
   ],
   "source": [
    "# https://mljar.com/blog/visualize-decision-tree/\n",
    "df = pd.read_csv('/Users/kata/Desktop/GitHub/standby_duty_forecasting/sickness_table.csv', index_col=0)\n",
    "df['date'] = pd.to_datetime(df['date'])\n",
    "df\n"
   ]
  },
  {
   "cell_type": "code",
   "execution_count": null,
   "metadata": {},
   "outputs": [],
   "source": []
  },
  {
   "cell_type": "code",
   "execution_count": 6,
   "metadata": {},
   "outputs": [],
   "source": [
    "df['diff_drivers'] = df['n_duty'] - df['n_sick']\n",
    "\n",
    "\n",
    "df['year']= df['date'].dt.year\n",
    "df['month']= df['date'].dt.month\n",
    "df['day']= df['date'].dt.day"
   ]
  },
  {
   "cell_type": "code",
   "execution_count": 7,
   "metadata": {},
   "outputs": [
    {
     "data": {
      "text/html": [
       "<div>\n",
       "<style scoped>\n",
       "    .dataframe tbody tr th:only-of-type {\n",
       "        vertical-align: middle;\n",
       "    }\n",
       "\n",
       "    .dataframe tbody tr th {\n",
       "        vertical-align: top;\n",
       "    }\n",
       "\n",
       "    .dataframe thead th {\n",
       "        text-align: right;\n",
       "    }\n",
       "</style>\n",
       "<table border=\"1\" class=\"dataframe\">\n",
       "  <thead>\n",
       "    <tr style=\"text-align: right;\">\n",
       "      <th></th>\n",
       "      <th>date</th>\n",
       "      <th>n_sick</th>\n",
       "      <th>calls</th>\n",
       "      <th>n_duty</th>\n",
       "      <th>n_sby</th>\n",
       "      <th>sby_need</th>\n",
       "      <th>dafted</th>\n",
       "      <th>diff_drivers</th>\n",
       "      <th>year</th>\n",
       "      <th>month</th>\n",
       "      <th>day</th>\n",
       "      <th>day_of_week</th>\n",
       "    </tr>\n",
       "  </thead>\n",
       "  <tbody>\n",
       "    <tr>\n",
       "      <th>0</th>\n",
       "      <td>2016-04-01</td>\n",
       "      <td>73</td>\n",
       "      <td>8154.0</td>\n",
       "      <td>1700</td>\n",
       "      <td>90</td>\n",
       "      <td>4.0</td>\n",
       "      <td>0.0</td>\n",
       "      <td>1627</td>\n",
       "      <td>2016</td>\n",
       "      <td>4</td>\n",
       "      <td>1</td>\n",
       "      <td>4</td>\n",
       "    </tr>\n",
       "    <tr>\n",
       "      <th>1</th>\n",
       "      <td>2016-04-02</td>\n",
       "      <td>64</td>\n",
       "      <td>8526.0</td>\n",
       "      <td>1700</td>\n",
       "      <td>90</td>\n",
       "      <td>70.0</td>\n",
       "      <td>0.0</td>\n",
       "      <td>1636</td>\n",
       "      <td>2016</td>\n",
       "      <td>4</td>\n",
       "      <td>2</td>\n",
       "      <td>5</td>\n",
       "    </tr>\n",
       "    <tr>\n",
       "      <th>2</th>\n",
       "      <td>2016-04-03</td>\n",
       "      <td>68</td>\n",
       "      <td>8088.0</td>\n",
       "      <td>1700</td>\n",
       "      <td>90</td>\n",
       "      <td>0.0</td>\n",
       "      <td>0.0</td>\n",
       "      <td>1632</td>\n",
       "      <td>2016</td>\n",
       "      <td>4</td>\n",
       "      <td>3</td>\n",
       "      <td>6</td>\n",
       "    </tr>\n",
       "    <tr>\n",
       "      <th>3</th>\n",
       "      <td>2016-04-04</td>\n",
       "      <td>71</td>\n",
       "      <td>7044.0</td>\n",
       "      <td>1700</td>\n",
       "      <td>90</td>\n",
       "      <td>0.0</td>\n",
       "      <td>0.0</td>\n",
       "      <td>1629</td>\n",
       "      <td>2016</td>\n",
       "      <td>4</td>\n",
       "      <td>4</td>\n",
       "      <td>0</td>\n",
       "    </tr>\n",
       "    <tr>\n",
       "      <th>4</th>\n",
       "      <td>2016-04-05</td>\n",
       "      <td>63</td>\n",
       "      <td>7236.0</td>\n",
       "      <td>1700</td>\n",
       "      <td>90</td>\n",
       "      <td>0.0</td>\n",
       "      <td>0.0</td>\n",
       "      <td>1637</td>\n",
       "      <td>2016</td>\n",
       "      <td>4</td>\n",
       "      <td>5</td>\n",
       "      <td>1</td>\n",
       "    </tr>\n",
       "    <tr>\n",
       "      <th>...</th>\n",
       "      <td>...</td>\n",
       "      <td>...</td>\n",
       "      <td>...</td>\n",
       "      <td>...</td>\n",
       "      <td>...</td>\n",
       "      <td>...</td>\n",
       "      <td>...</td>\n",
       "      <td>...</td>\n",
       "      <td>...</td>\n",
       "      <td>...</td>\n",
       "      <td>...</td>\n",
       "      <td>...</td>\n",
       "    </tr>\n",
       "    <tr>\n",
       "      <th>1147</th>\n",
       "      <td>2019-05-23</td>\n",
       "      <td>86</td>\n",
       "      <td>8544.0</td>\n",
       "      <td>1900</td>\n",
       "      <td>90</td>\n",
       "      <td>0.0</td>\n",
       "      <td>0.0</td>\n",
       "      <td>1814</td>\n",
       "      <td>2019</td>\n",
       "      <td>5</td>\n",
       "      <td>23</td>\n",
       "      <td>3</td>\n",
       "    </tr>\n",
       "    <tr>\n",
       "      <th>1148</th>\n",
       "      <td>2019-05-24</td>\n",
       "      <td>81</td>\n",
       "      <td>8814.0</td>\n",
       "      <td>1900</td>\n",
       "      <td>90</td>\n",
       "      <td>0.0</td>\n",
       "      <td>0.0</td>\n",
       "      <td>1819</td>\n",
       "      <td>2019</td>\n",
       "      <td>5</td>\n",
       "      <td>24</td>\n",
       "      <td>4</td>\n",
       "    </tr>\n",
       "    <tr>\n",
       "      <th>1149</th>\n",
       "      <td>2019-05-25</td>\n",
       "      <td>76</td>\n",
       "      <td>9846.0</td>\n",
       "      <td>1900</td>\n",
       "      <td>90</td>\n",
       "      <td>146.0</td>\n",
       "      <td>56.0</td>\n",
       "      <td>1824</td>\n",
       "      <td>2019</td>\n",
       "      <td>5</td>\n",
       "      <td>25</td>\n",
       "      <td>5</td>\n",
       "    </tr>\n",
       "    <tr>\n",
       "      <th>1150</th>\n",
       "      <td>2019-05-26</td>\n",
       "      <td>83</td>\n",
       "      <td>9882.0</td>\n",
       "      <td>1900</td>\n",
       "      <td>90</td>\n",
       "      <td>160.0</td>\n",
       "      <td>70.0</td>\n",
       "      <td>1817</td>\n",
       "      <td>2019</td>\n",
       "      <td>5</td>\n",
       "      <td>26</td>\n",
       "      <td>6</td>\n",
       "    </tr>\n",
       "    <tr>\n",
       "      <th>1151</th>\n",
       "      <td>2019-05-27</td>\n",
       "      <td>77</td>\n",
       "      <td>8790.0</td>\n",
       "      <td>1900</td>\n",
       "      <td>90</td>\n",
       "      <td>0.0</td>\n",
       "      <td>0.0</td>\n",
       "      <td>1823</td>\n",
       "      <td>2019</td>\n",
       "      <td>5</td>\n",
       "      <td>27</td>\n",
       "      <td>0</td>\n",
       "    </tr>\n",
       "  </tbody>\n",
       "</table>\n",
       "<p>1152 rows × 12 columns</p>\n",
       "</div>"
      ],
      "text/plain": [
       "           date  n_sick   calls  n_duty  n_sby  sby_need  dafted  \\\n",
       "0    2016-04-01      73  8154.0    1700     90       4.0     0.0   \n",
       "1    2016-04-02      64  8526.0    1700     90      70.0     0.0   \n",
       "2    2016-04-03      68  8088.0    1700     90       0.0     0.0   \n",
       "3    2016-04-04      71  7044.0    1700     90       0.0     0.0   \n",
       "4    2016-04-05      63  7236.0    1700     90       0.0     0.0   \n",
       "...         ...     ...     ...     ...    ...       ...     ...   \n",
       "1147 2019-05-23      86  8544.0    1900     90       0.0     0.0   \n",
       "1148 2019-05-24      81  8814.0    1900     90       0.0     0.0   \n",
       "1149 2019-05-25      76  9846.0    1900     90     146.0    56.0   \n",
       "1150 2019-05-26      83  9882.0    1900     90     160.0    70.0   \n",
       "1151 2019-05-27      77  8790.0    1900     90       0.0     0.0   \n",
       "\n",
       "      diff_drivers  year  month  day  day_of_week  \n",
       "0             1627  2016      4    1            4  \n",
       "1             1636  2016      4    2            5  \n",
       "2             1632  2016      4    3            6  \n",
       "3             1629  2016      4    4            0  \n",
       "4             1637  2016      4    5            1  \n",
       "...            ...   ...    ...  ...          ...  \n",
       "1147          1814  2019      5   23            3  \n",
       "1148          1819  2019      5   24            4  \n",
       "1149          1824  2019      5   25            5  \n",
       "1150          1817  2019      5   26            6  \n",
       "1151          1823  2019      5   27            0  \n",
       "\n",
       "[1152 rows x 12 columns]"
      ]
     },
     "execution_count": 7,
     "metadata": {},
     "output_type": "execute_result"
    }
   ],
   "source": [
    "df['day_of_week'] = df['date'].dt.dayofweek\n",
    "df\n"
   ]
  },
  {
   "cell_type": "code",
   "execution_count": 8,
   "metadata": {},
   "outputs": [],
   "source": [
    "df['week'] = df['date'].dt.isocalendar().week"
   ]
  },
  {
   "cell_type": "code",
   "execution_count": 9,
   "metadata": {},
   "outputs": [],
   "source": [
    "df['week'] = df['week'].astype(np.int64)"
   ]
  },
  {
   "cell_type": "code",
   "execution_count": 10,
   "metadata": {},
   "outputs": [
    {
     "name": "stdout",
     "output_type": "stream",
     "text": [
      "<class 'pandas.core.frame.DataFrame'>\n",
      "Int64Index: 1152 entries, 0 to 1151\n",
      "Data columns (total 13 columns):\n",
      " #   Column        Non-Null Count  Dtype         \n",
      "---  ------        --------------  -----         \n",
      " 0   date          1152 non-null   datetime64[ns]\n",
      " 1   n_sick        1152 non-null   int64         \n",
      " 2   calls         1152 non-null   float64       \n",
      " 3   n_duty        1152 non-null   int64         \n",
      " 4   n_sby         1152 non-null   int64         \n",
      " 5   sby_need      1152 non-null   float64       \n",
      " 6   dafted        1152 non-null   float64       \n",
      " 7   diff_drivers  1152 non-null   int64         \n",
      " 8   year          1152 non-null   int64         \n",
      " 9   month         1152 non-null   int64         \n",
      " 10  day           1152 non-null   int64         \n",
      " 11  day_of_week   1152 non-null   int64         \n",
      " 12  week          1152 non-null   int64         \n",
      "dtypes: datetime64[ns](1), float64(3), int64(9)\n",
      "memory usage: 126.0 KB\n"
     ]
    }
   ],
   "source": [
    "# convert week to uint64 because of xgboost error\n",
    "df.info()\n"
   ]
  },
  {
   "cell_type": "code",
   "execution_count": 11,
   "metadata": {},
   "outputs": [],
   "source": [
    "X = df[['n_sick', 'calls', 'n_duty', 'n_sby', 'diff_drivers', 'year', 'month', 'day_of_week',\n",
    "       'week']]\n",
    "y = df.sby_need"
   ]
  },
  {
   "cell_type": "code",
   "execution_count": 12,
   "metadata": {},
   "outputs": [],
   "source": [
    "def train_test_split(data, n_test):\n",
    "\treturn data[:n_test], data[n_test:]"
   ]
  },
  {
   "cell_type": "code",
   "execution_count": 13,
   "metadata": {},
   "outputs": [],
   "source": [
    "\n",
    "x_train, x_test = train_test_split(X, 921)\n",
    "y_train, y_test = train_test_split(y, 921)\n"
   ]
  },
  {
   "cell_type": "code",
   "execution_count": 14,
   "metadata": {},
   "outputs": [
    {
     "data": {
      "text/plain": [
       "DecisionTreeRegressor(max_depth=7, random_state=42)"
      ]
     },
     "execution_count": 14,
     "metadata": {},
     "output_type": "execute_result"
    }
   ],
   "source": [
    "tree_reg = DecisionTreeRegressor(max_depth=7, random_state=42)\n",
    "tree_reg.fit(x_train, y_train)"
   ]
  },
  {
   "cell_type": "code",
   "execution_count": 15,
   "metadata": {},
   "outputs": [],
   "source": [
    "# import warnings filter\n",
    "from warnings import simplefilter\n",
    "# ignore all future warnings\n",
    "simplefilter(action='ignore', category=FutureWarning)"
   ]
  },
  {
   "cell_type": "code",
   "execution_count": 16,
   "metadata": {},
   "outputs": [
    {
     "name": "stdout",
     "output_type": "stream",
     "text": [
      "[treeplot] >Install graphviz first: <sudo apt install python-pydot python-pydot-ng graphviz>\n"
     ]
    }
   ],
   "source": [
    "ax = treeplot.plot(tree_reg, plottype='vertical')\n"
   ]
  },
  {
   "cell_type": "code",
   "execution_count": 17,
   "metadata": {},
   "outputs": [],
   "source": [
    "test_pred = tree_reg.predict(x_test)\n",
    "train_pred = tree_reg.predict(x_train)\n",
    "y2 = np.concatenate((train_pred, test_pred))\n",
    "\n"
   ]
  },
  {
   "cell_type": "code",
   "execution_count": 18,
   "metadata": {},
   "outputs": [
    {
     "data": {
      "text/html": [
       "<div>\n",
       "<style scoped>\n",
       "    .dataframe tbody tr th:only-of-type {\n",
       "        vertical-align: middle;\n",
       "    }\n",
       "\n",
       "    .dataframe tbody tr th {\n",
       "        vertical-align: top;\n",
       "    }\n",
       "\n",
       "    .dataframe thead th {\n",
       "        text-align: right;\n",
       "    }\n",
       "</style>\n",
       "<table border=\"1\" class=\"dataframe\">\n",
       "  <thead>\n",
       "    <tr style=\"text-align: right;\">\n",
       "      <th></th>\n",
       "      <th>date</th>\n",
       "      <th>n_sick</th>\n",
       "      <th>calls</th>\n",
       "      <th>n_duty</th>\n",
       "      <th>n_sby</th>\n",
       "      <th>sby_need</th>\n",
       "      <th>dafted</th>\n",
       "      <th>diff_drivers</th>\n",
       "      <th>year</th>\n",
       "      <th>month</th>\n",
       "      <th>day</th>\n",
       "      <th>day_of_week</th>\n",
       "      <th>week</th>\n",
       "      <th>numbers</th>\n",
       "    </tr>\n",
       "  </thead>\n",
       "  <tbody>\n",
       "    <tr>\n",
       "      <th>0</th>\n",
       "      <td>2016-04-01</td>\n",
       "      <td>73</td>\n",
       "      <td>8154.0</td>\n",
       "      <td>1700</td>\n",
       "      <td>90</td>\n",
       "      <td>4.0</td>\n",
       "      <td>0.0</td>\n",
       "      <td>1627</td>\n",
       "      <td>2016</td>\n",
       "      <td>4</td>\n",
       "      <td>1</td>\n",
       "      <td>4</td>\n",
       "      <td>13</td>\n",
       "      <td>0</td>\n",
       "    </tr>\n",
       "    <tr>\n",
       "      <th>1</th>\n",
       "      <td>2016-04-02</td>\n",
       "      <td>64</td>\n",
       "      <td>8526.0</td>\n",
       "      <td>1700</td>\n",
       "      <td>90</td>\n",
       "      <td>70.0</td>\n",
       "      <td>0.0</td>\n",
       "      <td>1636</td>\n",
       "      <td>2016</td>\n",
       "      <td>4</td>\n",
       "      <td>2</td>\n",
       "      <td>5</td>\n",
       "      <td>13</td>\n",
       "      <td>1</td>\n",
       "    </tr>\n",
       "    <tr>\n",
       "      <th>2</th>\n",
       "      <td>2016-04-03</td>\n",
       "      <td>68</td>\n",
       "      <td>8088.0</td>\n",
       "      <td>1700</td>\n",
       "      <td>90</td>\n",
       "      <td>0.0</td>\n",
       "      <td>0.0</td>\n",
       "      <td>1632</td>\n",
       "      <td>2016</td>\n",
       "      <td>4</td>\n",
       "      <td>3</td>\n",
       "      <td>6</td>\n",
       "      <td>13</td>\n",
       "      <td>2</td>\n",
       "    </tr>\n",
       "    <tr>\n",
       "      <th>3</th>\n",
       "      <td>2016-04-04</td>\n",
       "      <td>71</td>\n",
       "      <td>7044.0</td>\n",
       "      <td>1700</td>\n",
       "      <td>90</td>\n",
       "      <td>0.0</td>\n",
       "      <td>0.0</td>\n",
       "      <td>1629</td>\n",
       "      <td>2016</td>\n",
       "      <td>4</td>\n",
       "      <td>4</td>\n",
       "      <td>0</td>\n",
       "      <td>14</td>\n",
       "      <td>3</td>\n",
       "    </tr>\n",
       "    <tr>\n",
       "      <th>4</th>\n",
       "      <td>2016-04-05</td>\n",
       "      <td>63</td>\n",
       "      <td>7236.0</td>\n",
       "      <td>1700</td>\n",
       "      <td>90</td>\n",
       "      <td>0.0</td>\n",
       "      <td>0.0</td>\n",
       "      <td>1637</td>\n",
       "      <td>2016</td>\n",
       "      <td>4</td>\n",
       "      <td>5</td>\n",
       "      <td>1</td>\n",
       "      <td>14</td>\n",
       "      <td>4</td>\n",
       "    </tr>\n",
       "    <tr>\n",
       "      <th>...</th>\n",
       "      <td>...</td>\n",
       "      <td>...</td>\n",
       "      <td>...</td>\n",
       "      <td>...</td>\n",
       "      <td>...</td>\n",
       "      <td>...</td>\n",
       "      <td>...</td>\n",
       "      <td>...</td>\n",
       "      <td>...</td>\n",
       "      <td>...</td>\n",
       "      <td>...</td>\n",
       "      <td>...</td>\n",
       "      <td>...</td>\n",
       "      <td>...</td>\n",
       "    </tr>\n",
       "    <tr>\n",
       "      <th>1147</th>\n",
       "      <td>2019-05-23</td>\n",
       "      <td>86</td>\n",
       "      <td>8544.0</td>\n",
       "      <td>1900</td>\n",
       "      <td>90</td>\n",
       "      <td>0.0</td>\n",
       "      <td>0.0</td>\n",
       "      <td>1814</td>\n",
       "      <td>2019</td>\n",
       "      <td>5</td>\n",
       "      <td>23</td>\n",
       "      <td>3</td>\n",
       "      <td>21</td>\n",
       "      <td>1147</td>\n",
       "    </tr>\n",
       "    <tr>\n",
       "      <th>1148</th>\n",
       "      <td>2019-05-24</td>\n",
       "      <td>81</td>\n",
       "      <td>8814.0</td>\n",
       "      <td>1900</td>\n",
       "      <td>90</td>\n",
       "      <td>0.0</td>\n",
       "      <td>0.0</td>\n",
       "      <td>1819</td>\n",
       "      <td>2019</td>\n",
       "      <td>5</td>\n",
       "      <td>24</td>\n",
       "      <td>4</td>\n",
       "      <td>21</td>\n",
       "      <td>1148</td>\n",
       "    </tr>\n",
       "    <tr>\n",
       "      <th>1149</th>\n",
       "      <td>2019-05-25</td>\n",
       "      <td>76</td>\n",
       "      <td>9846.0</td>\n",
       "      <td>1900</td>\n",
       "      <td>90</td>\n",
       "      <td>146.0</td>\n",
       "      <td>56.0</td>\n",
       "      <td>1824</td>\n",
       "      <td>2019</td>\n",
       "      <td>5</td>\n",
       "      <td>25</td>\n",
       "      <td>5</td>\n",
       "      <td>21</td>\n",
       "      <td>1149</td>\n",
       "    </tr>\n",
       "    <tr>\n",
       "      <th>1150</th>\n",
       "      <td>2019-05-26</td>\n",
       "      <td>83</td>\n",
       "      <td>9882.0</td>\n",
       "      <td>1900</td>\n",
       "      <td>90</td>\n",
       "      <td>160.0</td>\n",
       "      <td>70.0</td>\n",
       "      <td>1817</td>\n",
       "      <td>2019</td>\n",
       "      <td>5</td>\n",
       "      <td>26</td>\n",
       "      <td>6</td>\n",
       "      <td>21</td>\n",
       "      <td>1150</td>\n",
       "    </tr>\n",
       "    <tr>\n",
       "      <th>1151</th>\n",
       "      <td>2019-05-27</td>\n",
       "      <td>77</td>\n",
       "      <td>8790.0</td>\n",
       "      <td>1900</td>\n",
       "      <td>90</td>\n",
       "      <td>0.0</td>\n",
       "      <td>0.0</td>\n",
       "      <td>1823</td>\n",
       "      <td>2019</td>\n",
       "      <td>5</td>\n",
       "      <td>27</td>\n",
       "      <td>0</td>\n",
       "      <td>22</td>\n",
       "      <td>1151</td>\n",
       "    </tr>\n",
       "  </tbody>\n",
       "</table>\n",
       "<p>1152 rows × 14 columns</p>\n",
       "</div>"
      ],
      "text/plain": [
       "           date  n_sick   calls  n_duty  n_sby  sby_need  dafted  \\\n",
       "0    2016-04-01      73  8154.0    1700     90       4.0     0.0   \n",
       "1    2016-04-02      64  8526.0    1700     90      70.0     0.0   \n",
       "2    2016-04-03      68  8088.0    1700     90       0.0     0.0   \n",
       "3    2016-04-04      71  7044.0    1700     90       0.0     0.0   \n",
       "4    2016-04-05      63  7236.0    1700     90       0.0     0.0   \n",
       "...         ...     ...     ...     ...    ...       ...     ...   \n",
       "1147 2019-05-23      86  8544.0    1900     90       0.0     0.0   \n",
       "1148 2019-05-24      81  8814.0    1900     90       0.0     0.0   \n",
       "1149 2019-05-25      76  9846.0    1900     90     146.0    56.0   \n",
       "1150 2019-05-26      83  9882.0    1900     90     160.0    70.0   \n",
       "1151 2019-05-27      77  8790.0    1900     90       0.0     0.0   \n",
       "\n",
       "      diff_drivers  year  month  day  day_of_week  week  numbers  \n",
       "0             1627  2016      4    1            4    13        0  \n",
       "1             1636  2016      4    2            5    13        1  \n",
       "2             1632  2016      4    3            6    13        2  \n",
       "3             1629  2016      4    4            0    14        3  \n",
       "4             1637  2016      4    5            1    14        4  \n",
       "...            ...   ...    ...  ...          ...   ...      ...  \n",
       "1147          1814  2019      5   23            3    21     1147  \n",
       "1148          1819  2019      5   24            4    21     1148  \n",
       "1149          1824  2019      5   25            5    21     1149  \n",
       "1150          1817  2019      5   26            6    21     1150  \n",
       "1151          1823  2019      5   27            0    22     1151  \n",
       "\n",
       "[1152 rows x 14 columns]"
      ]
     },
     "execution_count": 18,
     "metadata": {},
     "output_type": "execute_result"
    }
   ],
   "source": [
    "# create column numerate\n",
    "df['numbers'] = np.arange(len(df))\n",
    "df"
   ]
  },
  {
   "cell_type": "code",
   "execution_count": 19,
   "metadata": {},
   "outputs": [
    {
     "data": {
      "text/plain": [
       "(231,)"
      ]
     },
     "execution_count": 19,
     "metadata": {},
     "output_type": "execute_result"
    }
   ],
   "source": [
    "y_test.shape\n",
    "df.numbers.iloc[921:].shape"
   ]
  },
  {
   "cell_type": "code",
   "execution_count": 20,
   "metadata": {},
   "outputs": [
    {
     "data": {
      "image/png": "[encoded data removed]",
      "text/plain": [
       "<Figure size 1008x576 with 1 Axes>"
      ]
     },
     "metadata": {
      "needs_background": "light"
     },
     "output_type": "display_data"
    }
   ],
   "source": [
    "\n",
    "# Plot the results\n",
    "plt.figure(figsize=(14,8))\n",
    "plt.scatter(df.numbers.iloc[921:], y_test, s=20, edgecolor=\"black\", c=\"darkorange\", label=\"data\")\n",
    "plt.plot(df.numbers.iloc[921:], test_pred, color=\"cornflowerblue\", label=\"Prediction\", linewidth=1)\n",
    "plt.xlabel(\"data\")\n",
    "plt.ylabel(\"target\")\n",
    "plt.title(\"Decision Tree Regression\")\n",
    "plt.legend()\n",
    "plt.show()\n",
    "\n"
   ]
  },
  {
   "cell_type": "code",
   "execution_count": 21,
   "metadata": {},
   "outputs": [
    {
     "name": "stdout",
     "output_type": "stream",
     "text": [
      "mse test set 135.39710057327403\n",
      "mse train set 8.92393490512383\n"
     ]
    }
   ],
   "source": [
    "print('mse test set ' + str(mean_squared_error(y_test, test_pred)))\n",
    "print('mse train set ' + str(mean_squared_error(y_train, train_pred)))\n"
   ]
  },
  {
   "cell_type": "code",
   "execution_count": 22,
   "metadata": {},
   "outputs": [],
   "source": [
    "# max depth 7\n",
    "# mse test set 67.99505531505531\n",
    "# mse train set 0.10941006152732537"
   ]
  },
  {
   "cell_type": "code",
   "execution_count": 23,
   "metadata": {},
   "outputs": [],
   "source": [
    "#max depth 5\n",
    "# mse test set 68.29361982132801\n",
    "# mse train set 3.589715752337902"
   ]
  },
  {
   "cell_type": "code",
   "execution_count": null,
   "metadata": {},
   "outputs": [],
   "source": []
  },
  {
   "cell_type": "code",
   "execution_count": null,
   "metadata": {},
   "outputs": [],
   "source": []
  },
  {
   "cell_type": "code",
   "execution_count": 24,
   "metadata": {},
   "outputs": [
    {
     "name": "stdout",
     "output_type": "stream",
     "text": [
      "Feature: n_sick, Score: 0.00353\n",
      "Feature: calls, Score: 0.86364\n",
      "Feature: n_duty, Score: 0.00048\n",
      "Feature: n_sby, Score: 0.00000\n",
      "Feature: diff_drivers, Score: 0.10871\n",
      "Feature: year, Score: 0.02167\n",
      "Feature: month, Score: 0.00091\n",
      "Feature: day_of_week, Score: 0.00035\n",
      "Feature: week, Score: 0.00071\n"
     ]
    },
    {
     "data": {
      "image/png": "[encoded data removed]",
      "text/plain": [
       "<Figure size 432x288 with 1 Axes>"
      ]
     },
     "metadata": {
      "needs_background": "light"
     },
     "output_type": "display_data"
    }
   ],
   "source": [
    "# https://machinelearningmastery.com/calculate-feature-importance-with-python/\n",
    "\n",
    "#CART\n",
    "model = DecisionTreeRegressor()\n",
    "# fit the model\n",
    "model.fit(x_train, y_train)\n",
    "# get importance\n",
    "importance = model.feature_importances_\n",
    "# summarize feature importance\n",
    "for i,v in zip(x_train.columns, enumerate(importance)):\n",
    "\tprint('Feature: %s, Score: %.5f' % (i,v[1]))\n",
    "# plot feature importance\n",
    "plt.bar([x for x in range(len(importance))], importance)\n",
    "plt.show()"
   ]
  },
  {
   "cell_type": "code",
   "execution_count": null,
   "metadata": {},
   "outputs": [],
   "source": []
  },
  {
   "cell_type": "code",
   "execution_count": null,
   "metadata": {},
   "outputs": [],
   "source": []
  },
  {
   "cell_type": "code",
   "execution_count": null,
   "metadata": {},
   "outputs": [],
   "source": []
  },
  {
   "cell_type": "code",
   "execution_count": 25,
   "metadata": {},
   "outputs": [],
   "source": [
    "# https://machinelearningmastery.com/calculate-feature-importance-with-python/\n"
   ]
  },
  {
   "cell_type": "code",
   "execution_count": 26,
   "metadata": {},
   "outputs": [],
   "source": [
    "from sklearn.ensemble import RandomForestRegressor\n"
   ]
  },
  {
   "cell_type": "code",
   "execution_count": 27,
   "metadata": {},
   "outputs": [
    {
     "name": "stdout",
     "output_type": "stream",
     "text": [
      "Feature: n_sick, Score: 0.00436\n",
      "Feature: calls, Score: 0.86793\n",
      "Feature: n_duty, Score: 0.01507\n",
      "Feature: n_sby, Score: 0.00000\n",
      "Feature: diff_drivers, Score: 0.09311\n",
      "Feature: year, Score: 0.01494\n",
      "Feature: month, Score: 0.00097\n",
      "Feature: day_of_week, Score: 0.00179\n",
      "Feature: week, Score: 0.00185\n"
     ]
    },
    {
     "data": {
      "image/png": "[encoded data removed]",
      "text/plain": [
       "<Figure size 432x288 with 1 Axes>"
      ]
     },
     "metadata": {
      "needs_background": "light"
     },
     "output_type": "display_data"
    }
   ],
   "source": [
    "model = RandomForestRegressor()\n",
    "# fit the model\n",
    "model.fit(x_train, y_train)\n",
    "# get importance\n",
    "importance = model.feature_importances_\n",
    "# summarize feature importance\n",
    "for i,v in zip(x_train.columns, enumerate(importance)):\n",
    "\tprint('Feature: %s, Score: %.5f' % (i,v[1]))\n",
    "# plot feature importance\n",
    "plt.bar([x for x in range(len(importance))], importance)\n",
    "plt.show()"
   ]
  },
  {
   "cell_type": "code",
   "execution_count": 28,
   "metadata": {},
   "outputs": [],
   "source": [
    "import xgboost\n",
    "from xgboost import XGBRegressor\n",
    "from sklearn import preprocessing\n",
    "\n"
   ]
  },
  {
   "cell_type": "code",
   "execution_count": 29,
   "metadata": {},
   "outputs": [
    {
     "name": "stdout",
     "output_type": "stream",
     "text": [
      "Feature: n_sick, Score: 0.00136\n",
      "Feature: calls, Score: 0.42730\n",
      "Feature: n_duty, Score: 0.45478\n",
      "Feature: n_sby, Score: 0.00000\n",
      "Feature: diff_drivers, Score: 0.11395\n",
      "Feature: year, Score: 0.00000\n",
      "Feature: month, Score: 0.00030\n",
      "Feature: day_of_week, Score: 0.00174\n",
      "Feature: week, Score: 0.00057\n"
     ]
    },
    {
     "data": {
      "image/png": "[encoded data removed]",
      "text/plain": [
       "<Figure size 432x288 with 1 Axes>"
      ]
     },
     "metadata": {
      "needs_background": "light"
     },
     "output_type": "display_data"
    }
   ],
   "source": [
    "# xgboost\n",
    "\n",
    "\n",
    "model = XGBRegressor()\n",
    "# fit the model\n",
    "model.fit(x_train, y_train)\n",
    "# get importance\n",
    "importance = model.feature_importances_\n",
    "# summarize feature importance\n",
    "for i,v in zip(x_train.columns, enumerate(importance)):\n",
    "\tprint('Feature: %s, Score: %.5f' % (i,v[1]))\n",
    "# plot feature importance\n",
    "plt.bar([x for x in range(len(importance))], importance)\n",
    "plt.show()\n",
    "\n"
   ]
  },
  {
   "cell_type": "code",
   "execution_count": 30,
   "metadata": {},
   "outputs": [],
   "source": [
    "# permutation\n",
    "from sklearn.neighbors import KNeighborsRegressor\n",
    "from sklearn.inspection import permutation_importance"
   ]
  },
  {
   "cell_type": "code",
   "execution_count": 31,
   "metadata": {},
   "outputs": [
    {
     "name": "stdout",
     "output_type": "stream",
     "text": [
      "Feature: n_sick, Score: 3.83769\n",
      "Feature: calls, Score: 11386.56383\n",
      "Feature: n_duty, Score: 608.38417\n",
      "Feature: n_sby, Score: 0.00000\n",
      "Feature: diff_drivers, Score: 457.91394\n",
      "Feature: year, Score: 0.00000\n",
      "Feature: month, Score: 0.03606\n",
      "Feature: day_of_week, Score: 0.01624\n",
      "Feature: week, Score: 0.57547\n"
     ]
    },
    {
     "data": {
      "image/png": "[encoded data removed]",
      "text/plain": [
       "<Figure size 432x288 with 1 Axes>"
      ]
     },
     "metadata": {
      "needs_background": "light"
     },
     "output_type": "display_data"
    }
   ],
   "source": [
    "model = KNeighborsRegressor()\n",
    "# fit the model\n",
    "model.fit(x_train, y_train)\n",
    "# perform permutation importance\n",
    "results = permutation_importance(model, x_train, y_train, scoring='neg_mean_squared_error')\n",
    "# get importance\n",
    "importance = results.importances_mean\n",
    "# summarize feature importance\n",
    "for i,v in zip(x_train.columns, enumerate(importance)):\n",
    "\tprint('Feature: %s, Score: %.5f' % (i,v[1]))\n",
    "# plot feature importance\n",
    "plt.bar([x for x in range(len(importance))], importance)\n",
    "plt.show()"
   ]
  },
  {
   "cell_type": "code",
   "execution_count": null,
   "metadata": {},
   "outputs": [],
   "source": []
  },
  {
   "cell_type": "code",
   "execution_count": null,
   "metadata": {},
   "outputs": [],
   "source": []
  },
  {
   "cell_type": "code",
   "execution_count": 32,
   "metadata": {},
   "outputs": [
    {
     "name": "stdout",
     "output_type": "stream",
     "text": [
      "xgboost 1.6.1\n"
     ]
    }
   ],
   "source": [
    "# https://machinelearningmastery.com/xgboost-for-time-series-forecasting/\n",
    "import xgboost\n",
    "print(\"xgboost\", xgboost.__version__)\n"
   ]
  },
  {
   "cell_type": "code",
   "execution_count": 33,
   "metadata": {},
   "outputs": [],
   "source": [
    "model = XGBRegressor()"
   ]
  },
  {
   "cell_type": "code",
   "execution_count": 34,
   "metadata": {},
   "outputs": [
    {
     "data": {
      "text/plain": [
       "XGBRegressor(base_score=0.5, booster='gbtree', callbacks=None,\n",
       "             colsample_bylevel=1, colsample_bynode=1, colsample_bytree=1,\n",
       "             early_stopping_rounds=None, enable_categorical=False,\n",
       "             eval_metric=None, gamma=0, gpu_id=-1, grow_policy='depthwise',\n",
       "             importance_type=None, interaction_constraints='',\n",
       "             learning_rate=0.300000012, max_bin=256, max_cat_to_onehot=4,\n",
       "             max_delta_step=0, max_depth=6, max_leaves=0, min_child_weight=1,\n",
       "             missing=nan, monotone_constraints='()', n_estimators=100, n_jobs=0,\n",
       "             num_parallel_tree=1, predictor='auto', random_state=0, reg_alpha=0,\n",
       "             reg_lambda=1, ...)"
      ]
     },
     "execution_count": 34,
     "metadata": {},
     "output_type": "execute_result"
    }
   ],
   "source": [
    "model.fit(x_train, y_train)"
   ]
  },
  {
   "cell_type": "code",
   "execution_count": 35,
   "metadata": {},
   "outputs": [],
   "source": [
    "pred_y = model.predict(x_test)"
   ]
  },
  {
   "cell_type": "code",
   "execution_count": 36,
   "metadata": {},
   "outputs": [
    {
     "data": {
      "image/png": "[encoded data removed]",
      "text/plain": [
       "<Figure size 432x288 with 1 Axes>"
      ]
     },
     "metadata": {
      "needs_background": "light"
     },
     "output_type": "display_data"
    }
   ],
   "source": [
    "plt.plot(x_test.index, pred_y, color='red', label='pred')\n",
    "plt.plot(x_test.index, y_test, color='blue', label='true', alpha=0.5)\n",
    "plt.show()"
   ]
  },
  {
   "cell_type": "code",
   "execution_count": 37,
   "metadata": {},
   "outputs": [
    {
     "data": {
      "text/plain": [
       "258.36230857332663"
      ]
     },
     "execution_count": 37,
     "metadata": {},
     "output_type": "execute_result"
    }
   ],
   "source": [
    "mean_squared_error(y_test, pred_y)\n"
   ]
  },
  {
   "cell_type": "code",
   "execution_count": 38,
   "metadata": {},
   "outputs": [],
   "source": [
    "# best mse with only sby need"
   ]
  },
  {
   "cell_type": "code",
   "execution_count": null,
   "metadata": {},
   "outputs": [],
   "source": []
  },
  {
   "cell_type": "code",
   "execution_count": null,
   "metadata": {},
   "outputs": [],
   "source": []
  },
  {
   "cell_type": "code",
   "execution_count": null,
   "metadata": {},
   "outputs": [],
   "source": []
  },
  {
   "cell_type": "code",
   "execution_count": 39,
   "metadata": {},
   "outputs": [],
   "source": [
    "# https://machinelearningmastery.com/feature-importance-and-feature-selection-with-xgboost-in-python/"
   ]
  },
  {
   "cell_type": "code",
   "execution_count": 40,
   "metadata": {},
   "outputs": [
    {
     "name": "stdout",
     "output_type": "stream",
     "text": [
      "[1.3626566e-03 4.2730123e-01 4.5477560e-01 0.0000000e+00 1.1395307e-01\n",
      " 0.0000000e+00 2.9549911e-04 1.7391881e-03 5.7278550e-04]\n"
     ]
    },
    {
     "data": {
      "image/png": "[encoded data removed]",
      "text/plain": [
       "<Figure size 432x288 with 1 Axes>"
      ]
     },
     "metadata": {
      "needs_background": "light"
     },
     "output_type": "display_data"
    }
   ],
   "source": [
    "model = XGBRegressor()\n",
    "model.fit(x_train, y_train)\n",
    "# feature importance\n",
    "print(model.feature_importances_)\n",
    "# plot\n",
    "plt.bar(range(len(model.feature_importances_)), model.feature_importances_)\n",
    "plt.show()"
   ]
  },
  {
   "cell_type": "code",
   "execution_count": null,
   "metadata": {},
   "outputs": [],
   "source": []
  },
  {
   "cell_type": "code",
   "execution_count": null,
   "metadata": {},
   "outputs": [],
   "source": []
  },
  {
   "cell_type": "code",
   "execution_count": null,
   "metadata": {},
   "outputs": [],
   "source": []
  },
  {
   "cell_type": "code",
   "execution_count": 41,
   "metadata": {},
   "outputs": [],
   "source": [
    "#SARIMA with only calls\n",
    "X.to_csv('out.csv', index=False)\n"
   ]
  },
  {
   "cell_type": "code",
   "execution_count": 42,
   "metadata": {},
   "outputs": [],
   "source": [
    "#split dfs\n",
    "l = [275, 640, 1005, 1152]\n",
    "l_mod = [0] + l + [max(l)+1]\n",
    "\n",
    "list_of_dfs = [df.iloc[l_mod[n]:l_mod[n+1]] for n in range(len(l_mod)-1)]\n"
   ]
  },
  {
   "cell_type": "code",
   "execution_count": 43,
   "metadata": {},
   "outputs": [],
   "source": [
    "df_2016 = list_of_dfs[0]\n",
    "df_2017 = list_of_dfs[1]\n",
    "df_2018 = list_of_dfs[2]\n",
    "df_2019 = list_of_dfs[3]"
   ]
  },
  {
   "cell_type": "code",
   "execution_count": 44,
   "metadata": {},
   "outputs": [],
   "source": [
    "# aggregate 2016\n",
    "df_2016['mean_calls'] = df_2016.groupby('week')[['calls']].transform('mean')"
   ]
  },
  {
   "cell_type": "code",
   "execution_count": 45,
   "metadata": {},
   "outputs": [],
   "source": [
    "# aggregate 2017\n",
    "df_2017['mean_calls'] = df_2017.groupby('week')[['calls']].transform('mean')"
   ]
  },
  {
   "cell_type": "code",
   "execution_count": 46,
   "metadata": {},
   "outputs": [],
   "source": [
    "# aggregate 2018\n",
    "df_2018['mean_calls'] = df_2018.groupby('week')[['calls']].transform('mean')"
   ]
  },
  {
   "cell_type": "code",
   "execution_count": 47,
   "metadata": {},
   "outputs": [],
   "source": [
    "# aggregate 2019\n",
    "df_2019['mean_calls'] = df_2019.groupby('week')[['calls']].transform('mean')"
   ]
  },
  {
   "cell_type": "code",
   "execution_count": 48,
   "metadata": {},
   "outputs": [
    {
     "data": {
      "text/html": [
       "<div>\n",
       "<style scoped>\n",
       "    .dataframe tbody tr th:only-of-type {\n",
       "        vertical-align: middle;\n",
       "    }\n",
       "\n",
       "    .dataframe tbody tr th {\n",
       "        vertical-align: top;\n",
       "    }\n",
       "\n",
       "    .dataframe thead th {\n",
       "        text-align: right;\n",
       "    }\n",
       "</style>\n",
       "<table border=\"1\" class=\"dataframe\">\n",
       "  <thead>\n",
       "    <tr style=\"text-align: right;\">\n",
       "      <th></th>\n",
       "      <th>date</th>\n",
       "      <th>n_sick</th>\n",
       "      <th>calls</th>\n",
       "      <th>n_duty</th>\n",
       "      <th>n_sby</th>\n",
       "      <th>sby_need</th>\n",
       "      <th>dafted</th>\n",
       "      <th>diff_drivers</th>\n",
       "      <th>year</th>\n",
       "      <th>month</th>\n",
       "      <th>day</th>\n",
       "      <th>day_of_week</th>\n",
       "      <th>week</th>\n",
       "      <th>numbers</th>\n",
       "      <th>mean_calls</th>\n",
       "    </tr>\n",
       "  </thead>\n",
       "  <tbody>\n",
       "    <tr>\n",
       "      <th>0</th>\n",
       "      <td>2016-04-01</td>\n",
       "      <td>73</td>\n",
       "      <td>8154.0</td>\n",
       "      <td>1700</td>\n",
       "      <td>90</td>\n",
       "      <td>4.0</td>\n",
       "      <td>0.0</td>\n",
       "      <td>1627</td>\n",
       "      <td>2016</td>\n",
       "      <td>4</td>\n",
       "      <td>1</td>\n",
       "      <td>4</td>\n",
       "      <td>13</td>\n",
       "      <td>0</td>\n",
       "      <td>8256.000000</td>\n",
       "    </tr>\n",
       "    <tr>\n",
       "      <th>1</th>\n",
       "      <td>2016-04-02</td>\n",
       "      <td>64</td>\n",
       "      <td>8526.0</td>\n",
       "      <td>1700</td>\n",
       "      <td>90</td>\n",
       "      <td>70.0</td>\n",
       "      <td>0.0</td>\n",
       "      <td>1636</td>\n",
       "      <td>2016</td>\n",
       "      <td>4</td>\n",
       "      <td>2</td>\n",
       "      <td>5</td>\n",
       "      <td>13</td>\n",
       "      <td>1</td>\n",
       "      <td>8256.000000</td>\n",
       "    </tr>\n",
       "    <tr>\n",
       "      <th>2</th>\n",
       "      <td>2016-04-03</td>\n",
       "      <td>68</td>\n",
       "      <td>8088.0</td>\n",
       "      <td>1700</td>\n",
       "      <td>90</td>\n",
       "      <td>0.0</td>\n",
       "      <td>0.0</td>\n",
       "      <td>1632</td>\n",
       "      <td>2016</td>\n",
       "      <td>4</td>\n",
       "      <td>3</td>\n",
       "      <td>6</td>\n",
       "      <td>13</td>\n",
       "      <td>2</td>\n",
       "      <td>8256.000000</td>\n",
       "    </tr>\n",
       "    <tr>\n",
       "      <th>3</th>\n",
       "      <td>2016-04-04</td>\n",
       "      <td>71</td>\n",
       "      <td>7044.0</td>\n",
       "      <td>1700</td>\n",
       "      <td>90</td>\n",
       "      <td>0.0</td>\n",
       "      <td>0.0</td>\n",
       "      <td>1629</td>\n",
       "      <td>2016</td>\n",
       "      <td>4</td>\n",
       "      <td>4</td>\n",
       "      <td>0</td>\n",
       "      <td>14</td>\n",
       "      <td>3</td>\n",
       "      <td>6700.285714</td>\n",
       "    </tr>\n",
       "    <tr>\n",
       "      <th>4</th>\n",
       "      <td>2016-04-05</td>\n",
       "      <td>63</td>\n",
       "      <td>7236.0</td>\n",
       "      <td>1700</td>\n",
       "      <td>90</td>\n",
       "      <td>0.0</td>\n",
       "      <td>0.0</td>\n",
       "      <td>1637</td>\n",
       "      <td>2016</td>\n",
       "      <td>4</td>\n",
       "      <td>5</td>\n",
       "      <td>1</td>\n",
       "      <td>14</td>\n",
       "      <td>4</td>\n",
       "      <td>6700.285714</td>\n",
       "    </tr>\n",
       "    <tr>\n",
       "      <th>...</th>\n",
       "      <td>...</td>\n",
       "      <td>...</td>\n",
       "      <td>...</td>\n",
       "      <td>...</td>\n",
       "      <td>...</td>\n",
       "      <td>...</td>\n",
       "      <td>...</td>\n",
       "      <td>...</td>\n",
       "      <td>...</td>\n",
       "      <td>...</td>\n",
       "      <td>...</td>\n",
       "      <td>...</td>\n",
       "      <td>...</td>\n",
       "      <td>...</td>\n",
       "      <td>...</td>\n",
       "    </tr>\n",
       "    <tr>\n",
       "      <th>1147</th>\n",
       "      <td>2019-05-23</td>\n",
       "      <td>86</td>\n",
       "      <td>8544.0</td>\n",
       "      <td>1900</td>\n",
       "      <td>90</td>\n",
       "      <td>0.0</td>\n",
       "      <td>0.0</td>\n",
       "      <td>1814</td>\n",
       "      <td>2019</td>\n",
       "      <td>5</td>\n",
       "      <td>23</td>\n",
       "      <td>3</td>\n",
       "      <td>21</td>\n",
       "      <td>1147</td>\n",
       "      <td>9190.285714</td>\n",
       "    </tr>\n",
       "    <tr>\n",
       "      <th>1148</th>\n",
       "      <td>2019-05-24</td>\n",
       "      <td>81</td>\n",
       "      <td>8814.0</td>\n",
       "      <td>1900</td>\n",
       "      <td>90</td>\n",
       "      <td>0.0</td>\n",
       "      <td>0.0</td>\n",
       "      <td>1819</td>\n",
       "      <td>2019</td>\n",
       "      <td>5</td>\n",
       "      <td>24</td>\n",
       "      <td>4</td>\n",
       "      <td>21</td>\n",
       "      <td>1148</td>\n",
       "      <td>9190.285714</td>\n",
       "    </tr>\n",
       "    <tr>\n",
       "      <th>1149</th>\n",
       "      <td>2019-05-25</td>\n",
       "      <td>76</td>\n",
       "      <td>9846.0</td>\n",
       "      <td>1900</td>\n",
       "      <td>90</td>\n",
       "      <td>146.0</td>\n",
       "      <td>56.0</td>\n",
       "      <td>1824</td>\n",
       "      <td>2019</td>\n",
       "      <td>5</td>\n",
       "      <td>25</td>\n",
       "      <td>5</td>\n",
       "      <td>21</td>\n",
       "      <td>1149</td>\n",
       "      <td>9190.285714</td>\n",
       "    </tr>\n",
       "    <tr>\n",
       "      <th>1150</th>\n",
       "      <td>2019-05-26</td>\n",
       "      <td>83</td>\n",
       "      <td>9882.0</td>\n",
       "      <td>1900</td>\n",
       "      <td>90</td>\n",
       "      <td>160.0</td>\n",
       "      <td>70.0</td>\n",
       "      <td>1817</td>\n",
       "      <td>2019</td>\n",
       "      <td>5</td>\n",
       "      <td>26</td>\n",
       "      <td>6</td>\n",
       "      <td>21</td>\n",
       "      <td>1150</td>\n",
       "      <td>9190.285714</td>\n",
       "    </tr>\n",
       "    <tr>\n",
       "      <th>1151</th>\n",
       "      <td>2019-05-27</td>\n",
       "      <td>77</td>\n",
       "      <td>8790.0</td>\n",
       "      <td>1900</td>\n",
       "      <td>90</td>\n",
       "      <td>0.0</td>\n",
       "      <td>0.0</td>\n",
       "      <td>1823</td>\n",
       "      <td>2019</td>\n",
       "      <td>5</td>\n",
       "      <td>27</td>\n",
       "      <td>0</td>\n",
       "      <td>22</td>\n",
       "      <td>1151</td>\n",
       "      <td>8790.000000</td>\n",
       "    </tr>\n",
       "  </tbody>\n",
       "</table>\n",
       "<p>1152 rows × 15 columns</p>\n",
       "</div>"
      ],
      "text/plain": [
       "           date  n_sick   calls  n_duty  n_sby  sby_need  dafted  \\\n",
       "0    2016-04-01      73  8154.0    1700     90       4.0     0.0   \n",
       "1    2016-04-02      64  8526.0    1700     90      70.0     0.0   \n",
       "2    2016-04-03      68  8088.0    1700     90       0.0     0.0   \n",
       "3    2016-04-04      71  7044.0    1700     90       0.0     0.0   \n",
       "4    2016-04-05      63  7236.0    1700     90       0.0     0.0   \n",
       "...         ...     ...     ...     ...    ...       ...     ...   \n",
       "1147 2019-05-23      86  8544.0    1900     90       0.0     0.0   \n",
       "1148 2019-05-24      81  8814.0    1900     90       0.0     0.0   \n",
       "1149 2019-05-25      76  9846.0    1900     90     146.0    56.0   \n",
       "1150 2019-05-26      83  9882.0    1900     90     160.0    70.0   \n",
       "1151 2019-05-27      77  8790.0    1900     90       0.0     0.0   \n",
       "\n",
       "      diff_drivers  year  month  day  day_of_week  week  numbers   mean_calls  \n",
       "0             1627  2016      4    1            4    13        0  8256.000000  \n",
       "1             1636  2016      4    2            5    13        1  8256.000000  \n",
       "2             1632  2016      4    3            6    13        2  8256.000000  \n",
       "3             1629  2016      4    4            0    14        3  6700.285714  \n",
       "4             1637  2016      4    5            1    14        4  6700.285714  \n",
       "...            ...   ...    ...  ...          ...   ...      ...          ...  \n",
       "1147          1814  2019      5   23            3    21     1147  9190.285714  \n",
       "1148          1819  2019      5   24            4    21     1148  9190.285714  \n",
       "1149          1824  2019      5   25            5    21     1149  9190.285714  \n",
       "1150          1817  2019      5   26            6    21     1150  9190.285714  \n",
       "1151          1823  2019      5   27            0    22     1151  8790.000000  \n",
       "\n",
       "[1152 rows x 15 columns]"
      ]
     },
     "metadata": {},
     "output_type": "display_data"
    }
   ],
   "source": [
    "# combine\n",
    "complete_df = df_2016.append([df_2017, df_2018, df_2019])\n",
    "display(complete_df)"
   ]
  },
  {
   "cell_type": "code",
   "execution_count": 49,
   "metadata": {},
   "outputs": [
    {
     "name": "stdout",
     "output_type": "stream",
     "text": [
      "Examples of parameter combinations for Seasonal ARIMA...\n",
      "SARIMAX: (0, 0, 1) x (0, 0, 1, 52)\n",
      "SARIMAX: (0, 0, 1) x (0, 1, 0, 52)\n",
      "SARIMAX: (0, 1, 0) x (0, 1, 1, 52)\n",
      "SARIMAX: (0, 1, 0) x (1, 0, 0, 52)\n"
     ]
    }
   ],
   "source": [
    "# SARIMA with aggregated calls\n",
    "\n",
    "import itertools\n",
    "\n",
    "\n",
    "p = d = q = range(0, 2)\n",
    "pdq = list(itertools.product(p, d, q))\n",
    "seasonal_pdq = [(x[0], x[1], x[2], 52) for x in list(itertools.product(p, d, q))]\n",
    "print('Examples of parameter combinations for Seasonal ARIMA...')\n",
    "print('SARIMAX: {} x {}'.format(pdq[1], seasonal_pdq[1]))\n",
    "print('SARIMAX: {} x {}'.format(pdq[1], seasonal_pdq[2]))\n",
    "print('SARIMAX: {} x {}'.format(pdq[2], seasonal_pdq[3]))\n",
    "print('SARIMAX: {} x {}'.format(pdq[2], seasonal_pdq[4]))"
   ]
  },
  {
   "cell_type": "code",
   "execution_count": 50,
   "metadata": {},
   "outputs": [
    {
     "name": "stdout",
     "output_type": "stream",
     "text": [
      "ARIMA(0, 0, 0)x(0, 0, 0, 52)52 - AIC:23949.412178022398\n",
      "ARIMA(0, 0, 0)x(0, 0, 1, 52)52 - AIC:21571.78820365446\n",
      "ARIMA(0, 0, 0)x(0, 1, 0, 52)52 - AIC:18157.185370113006\n",
      "ARIMA(0, 0, 0)x(0, 1, 1, 52)52 - AIC:17282.361557312433\n",
      "ARIMA(0, 0, 0)x(1, 0, 0, 52)52 - AIC:18171.541980448295\n",
      "ARIMA(0, 0, 0)x(1, 0, 1, 52)52 - AIC:18153.054524189225\n",
      "ARIMA(0, 0, 0)x(1, 1, 0, 52)52 - AIC:17304.74899367397\n",
      "ARIMA(0, 0, 0)x(1, 1, 1, 52)52 - AIC:17148.957974056597\n",
      "ARIMA(0, 0, 1)x(0, 0, 0, 52)52 - AIC:22407.90599089592\n",
      "ARIMA(0, 0, 1)x(0, 0, 1, 52)52 - AIC:20204.62288859689\n",
      "ARIMA(0, 0, 1)x(0, 1, 0, 52)52 - AIC:17178.95987837261\n",
      "ARIMA(0, 0, 1)x(0, 1, 1, 52)52 - AIC:16254.388875240362\n",
      "ARIMA(0, 0, 1)x(1, 0, 0, 52)52 - AIC:17219.681887188286\n"
     ]
    },
    {
     "name": "stderr",
     "output_type": "stream",
     "text": [
      "/Users/kata/opt/anaconda3/lib/python3.8/site-packages/statsmodels/base/model.py:566: ConvergenceWarning: Maximum Likelihood optimization failed to converge. Check mle_retvals\n",
      "  warnings.warn(\"Maximum Likelihood optimization failed to \"\n"
     ]
    },
    {
     "name": "stdout",
     "output_type": "stream",
     "text": [
      "ARIMA(0, 0, 1)x(1, 0, 1, 52)52 - AIC:17171.84587207363\n",
      "ARIMA(0, 0, 1)x(1, 1, 0, 52)52 - AIC:16357.422336874204\n",
      "ARIMA(0, 0, 1)x(1, 1, 1, 52)52 - AIC:16159.088169418248\n",
      "ARIMA(0, 1, 0)x(0, 0, 0, 52)52 - AIC:16095.086042603913\n",
      "ARIMA(0, 1, 0)x(0, 0, 1, 52)52 - AIC:15363.838372221157\n",
      "ARIMA(0, 1, 0)x(0, 1, 0, 52)52 - AIC:16118.565781401154\n",
      "ARIMA(0, 1, 0)x(0, 1, 1, 52)52 - AIC:14718.973584321195\n",
      "ARIMA(0, 1, 0)x(1, 0, 0, 52)52 - AIC:15376.826840405163\n",
      "ARIMA(0, 1, 0)x(1, 0, 1, 52)52 - AIC:15365.83837188757\n",
      "ARIMA(0, 1, 0)x(1, 1, 0, 52)52 - AIC:15060.732308012302\n",
      "ARIMA(0, 1, 0)x(1, 1, 1, 52)52 - AIC:14716.955843194932\n",
      "ARIMA(0, 1, 1)x(0, 0, 0, 52)52 - AIC:16084.067678917681\n",
      "ARIMA(0, 1, 1)x(0, 0, 1, 52)52 - AIC:15352.82549715993\n",
      "ARIMA(0, 1, 1)x(0, 1, 0, 52)52 - AIC:16106.971438861314\n",
      "ARIMA(0, 1, 1)x(0, 1, 1, 52)52 - AIC:14707.46536369531\n",
      "ARIMA(0, 1, 1)x(1, 0, 0, 52)52 - AIC:15378.803466376754\n",
      "ARIMA(0, 1, 1)x(1, 0, 1, 52)52 - AIC:15355.137753054754\n",
      "ARIMA(0, 1, 1)x(1, 1, 0, 52)52 - AIC:15060.301669926743\n",
      "ARIMA(0, 1, 1)x(1, 1, 1, 52)52 - AIC:14705.24018108017\n",
      "ARIMA(1, 0, 0)x(0, 0, 0, 52)52 - AIC:16109.82886391791\n",
      "ARIMA(1, 0, 0)x(0, 0, 1, 52)52 - AIC:15378.715059836271\n",
      "ARIMA(1, 0, 0)x(0, 1, 0, 52)52 - AIC:16090.261409000814\n",
      "ARIMA(1, 0, 0)x(0, 1, 1, 52)52 - AIC:14715.410078715726\n",
      "ARIMA(1, 0, 0)x(1, 0, 0, 52)52 - AIC:15378.715204565317\n",
      "ARIMA(1, 0, 0)x(1, 0, 1, 52)52 - AIC:15380.714933069215\n",
      "ARIMA(1, 0, 0)x(1, 1, 0, 52)52 - AIC:15036.427238661276\n",
      "ARIMA(1, 0, 0)x(1, 1, 1, 52)52 - AIC:14714.892388562572\n",
      "ARIMA(1, 0, 1)x(0, 0, 0, 52)52 - AIC:16099.286081588081\n",
      "ARIMA(1, 0, 1)x(0, 0, 1, 52)52 - AIC:15367.996522725236\n",
      "ARIMA(1, 0, 1)x(0, 1, 0, 52)52 - AIC:16076.54334200738\n",
      "ARIMA(1, 0, 1)x(0, 1, 1, 52)52 - AIC:14702.650208255332\n",
      "ARIMA(1, 0, 1)x(1, 0, 0, 52)52 - AIC:15380.961050097232\n",
      "ARIMA(1, 0, 1)x(1, 0, 1, 52)52 - AIC:15369.996272187002\n",
      "ARIMA(1, 0, 1)x(1, 1, 0, 52)52 - AIC:15033.118147783498\n",
      "ARIMA(1, 0, 1)x(1, 1, 1, 52)52 - AIC:14701.728373934508\n",
      "ARIMA(1, 1, 0)x(0, 0, 0, 52)52 - AIC:16097.062081080163\n",
      "ARIMA(1, 1, 0)x(0, 0, 1, 52)52 - AIC:15365.828912160223\n",
      "ARIMA(1, 1, 0)x(0, 1, 0, 52)52 - AIC:16120.538883802998\n",
      "ARIMA(1, 1, 0)x(0, 1, 1, 52)52 - AIC:14720.49182090543\n",
      "ARIMA(1, 1, 0)x(1, 0, 0, 52)52 - AIC:15365.81485557013\n",
      "ARIMA(1, 1, 0)x(1, 0, 1, 52)52 - AIC:15367.828913965335\n",
      "ARIMA(1, 1, 0)x(1, 1, 0, 52)52 - AIC:15046.927881259566\n",
      "ARIMA(1, 1, 0)x(1, 1, 1, 52)52 - AIC:14718.316818345114\n",
      "ARIMA(1, 1, 1)x(0, 0, 0, 52)52 - AIC:16086.067678105046\n",
      "ARIMA(1, 1, 1)x(0, 0, 1, 52)52 - AIC:15355.137762678674\n",
      "ARIMA(1, 1, 1)x(0, 1, 0, 52)52 - AIC:16109.123896751445\n"
     ]
    },
    {
     "name": "stderr",
     "output_type": "stream",
     "text": [
      "/Users/kata/opt/anaconda3/lib/python3.8/site-packages/statsmodels/base/model.py:566: ConvergenceWarning: Maximum Likelihood optimization failed to converge. Check mle_retvals\n",
      "  warnings.warn(\"Maximum Likelihood optimization failed to \"\n"
     ]
    },
    {
     "name": "stdout",
     "output_type": "stream",
     "text": [
      "ARIMA(1, 1, 1)x(0, 1, 1, 52)52 - AIC:14683.076245115666\n",
      "ARIMA(1, 1, 1)x(1, 0, 0, 52)52 - AIC:15367.814855169201\n",
      "ARIMA(1, 1, 1)x(1, 0, 1, 52)52 - AIC:15356.825498118531\n",
      "ARIMA(1, 1, 1)x(1, 1, 0, 52)52 - AIC:15028.030856381138\n"
     ]
    },
    {
     "name": "stderr",
     "output_type": "stream",
     "text": [
      "/Users/kata/opt/anaconda3/lib/python3.8/site-packages/statsmodels/base/model.py:566: ConvergenceWarning: Maximum Likelihood optimization failed to converge. Check mle_retvals\n",
      "  warnings.warn(\"Maximum Likelihood optimization failed to \"\n"
     ]
    },
    {
     "name": "stdout",
     "output_type": "stream",
     "text": [
      "ARIMA(1, 1, 1)x(1, 1, 1, 52)52 - AIC:14681.525501752336\n"
     ]
    }
   ],
   "source": [
    "import statsmodels.api as sm\n",
    "\n",
    "\n",
    "# grid search arima parameters\n",
    "for param in pdq:\n",
    "    for param_seasonal in seasonal_pdq:\n",
    "        try:\n",
    "            mod = sm.tsa.statespace.SARIMAX(complete_df.mean_calls, order=param, seasonal_order=param_seasonal, enforce_stationarity=False, enforce_invertibility=False)\n",
    "\n",
    "            results = mod.fit()\n",
    "            print('ARIMA{}x{}52 - AIC:{}'.format(param, param_seasonal, results.aic))\n",
    "        except:\n",
    "            continue"
   ]
  },
  {
   "cell_type": "code",
   "execution_count": 62,
   "metadata": {},
   "outputs": [
    {
     "name": "stderr",
     "output_type": "stream",
     "text": [
      "/Users/kata/opt/anaconda3/lib/python3.8/site-packages/statsmodels/base/model.py:566: ConvergenceWarning: Maximum Likelihood optimization failed to converge. Check mle_retvals\n",
      "  warnings.warn(\"Maximum Likelihood optimization failed to \"\n"
     ]
    },
    {
     "name": "stdout",
     "output_type": "stream",
     "text": [
      "==============================================================================\n",
      "                 coef    std err          z      P>|z|      [0.025      0.975]\n",
      "------------------------------------------------------------------------------\n",
      "ar.L1          0.8818      0.037     23.799      0.000       0.809       0.954\n",
      "ma.L1         -1.0435      0.023    -45.972      0.000      -1.088      -0.999\n",
      "ar.S.L52      -0.0647      0.038     -1.721      0.085      -0.138       0.009\n",
      "ma.S.L52      -1.0001      0.049    -20.571      0.000      -1.095      -0.905\n",
      "sigma2      5.922e+04   8.21e-07   7.21e+10      0.000    5.92e+04    5.92e+04\n",
      "==============================================================================\n"
     ]
    }
   ],
   "source": [
    "# ARIMA(1, 1, 1)x(1, 1, 1, 52)52 - AIC:14681.525501752336\n",
    "# fitting the ARIMA model\n",
    "mod = sm.tsa.statespace.SARIMAX(complete_df.mean_calls.iloc[:920],\n",
    "                                order=(1, 1, 1),\n",
    "                                seasonal_order=(1, 1, 1, 52),\n",
    "                                enforce_stationarity=False,\n",
    "                                enforce_invertibility=False)\n",
    "results = mod.fit()\n",
    "print(results.summary().tables[1])\n",
    "#print(results.summary())"
   ]
  },
  {
   "cell_type": "code",
   "execution_count": 63,
   "metadata": {},
   "outputs": [
    {
     "data": {
      "text/plain": [
       "<AxesSubplot:>"
      ]
     },
     "execution_count": 63,
     "metadata": {},
     "output_type": "execute_result"
    },
    {
     "data": {
      "image/png": "[encoded data removed]",
      "text/plain": [
       "<Figure size 1008x720 with 1 Axes>"
      ]
     },
     "metadata": {
      "needs_background": "light"
     },
     "output_type": "display_data"
    }
   ],
   "source": [
    "complete_df['forecast']=results.predict(start=920, end=1151, dynamic=True)\n",
    "complete_df[['mean_calls','forecast']].plot(figsize=(14,10))"
   ]
  },
  {
   "cell_type": "code",
   "execution_count": 56,
   "metadata": {},
   "outputs": [
    {
     "data": {
      "text/html": [
       "<div>\n",
       "<style scoped>\n",
       "    .dataframe tbody tr th:only-of-type {\n",
       "        vertical-align: middle;\n",
       "    }\n",
       "\n",
       "    .dataframe tbody tr th {\n",
       "        vertical-align: top;\n",
       "    }\n",
       "\n",
       "    .dataframe thead th {\n",
       "        text-align: right;\n",
       "    }\n",
       "</style>\n",
       "<table border=\"1\" class=\"dataframe\">\n",
       "  <thead>\n",
       "    <tr style=\"text-align: right;\">\n",
       "      <th></th>\n",
       "      <th>date</th>\n",
       "      <th>n_sick</th>\n",
       "      <th>calls</th>\n",
       "      <th>n_duty</th>\n",
       "      <th>n_sby</th>\n",
       "      <th>sby_need</th>\n",
       "      <th>dafted</th>\n",
       "      <th>diff_drivers</th>\n",
       "      <th>year</th>\n",
       "      <th>month</th>\n",
       "      <th>day</th>\n",
       "      <th>day_of_week</th>\n",
       "      <th>week</th>\n",
       "      <th>numbers</th>\n",
       "      <th>mean_calls</th>\n",
       "      <th>forecast</th>\n",
       "    </tr>\n",
       "  </thead>\n",
       "  <tbody>\n",
       "    <tr>\n",
       "      <th>0</th>\n",
       "      <td>2016-04-01</td>\n",
       "      <td>73</td>\n",
       "      <td>8154.0</td>\n",
       "      <td>1700</td>\n",
       "      <td>90</td>\n",
       "      <td>4.0</td>\n",
       "      <td>0.0</td>\n",
       "      <td>1627</td>\n",
       "      <td>2016</td>\n",
       "      <td>4</td>\n",
       "      <td>1</td>\n",
       "      <td>4</td>\n",
       "      <td>13</td>\n",
       "      <td>0</td>\n",
       "      <td>8256.000000</td>\n",
       "      <td>NaN</td>\n",
       "    </tr>\n",
       "    <tr>\n",
       "      <th>1</th>\n",
       "      <td>2016-04-02</td>\n",
       "      <td>64</td>\n",
       "      <td>8526.0</td>\n",
       "      <td>1700</td>\n",
       "      <td>90</td>\n",
       "      <td>70.0</td>\n",
       "      <td>0.0</td>\n",
       "      <td>1636</td>\n",
       "      <td>2016</td>\n",
       "      <td>4</td>\n",
       "      <td>2</td>\n",
       "      <td>5</td>\n",
       "      <td>13</td>\n",
       "      <td>1</td>\n",
       "      <td>8256.000000</td>\n",
       "      <td>NaN</td>\n",
       "    </tr>\n",
       "    <tr>\n",
       "      <th>2</th>\n",
       "      <td>2016-04-03</td>\n",
       "      <td>68</td>\n",
       "      <td>8088.0</td>\n",
       "      <td>1700</td>\n",
       "      <td>90</td>\n",
       "      <td>0.0</td>\n",
       "      <td>0.0</td>\n",
       "      <td>1632</td>\n",
       "      <td>2016</td>\n",
       "      <td>4</td>\n",
       "      <td>3</td>\n",
       "      <td>6</td>\n",
       "      <td>13</td>\n",
       "      <td>2</td>\n",
       "      <td>8256.000000</td>\n",
       "      <td>NaN</td>\n",
       "    </tr>\n",
       "    <tr>\n",
       "      <th>3</th>\n",
       "      <td>2016-04-04</td>\n",
       "      <td>71</td>\n",
       "      <td>7044.0</td>\n",
       "      <td>1700</td>\n",
       "      <td>90</td>\n",
       "      <td>0.0</td>\n",
       "      <td>0.0</td>\n",
       "      <td>1629</td>\n",
       "      <td>2016</td>\n",
       "      <td>4</td>\n",
       "      <td>4</td>\n",
       "      <td>0</td>\n",
       "      <td>14</td>\n",
       "      <td>3</td>\n",
       "      <td>6700.285714</td>\n",
       "      <td>NaN</td>\n",
       "    </tr>\n",
       "    <tr>\n",
       "      <th>4</th>\n",
       "      <td>2016-04-05</td>\n",
       "      <td>63</td>\n",
       "      <td>7236.0</td>\n",
       "      <td>1700</td>\n",
       "      <td>90</td>\n",
       "      <td>0.0</td>\n",
       "      <td>0.0</td>\n",
       "      <td>1637</td>\n",
       "      <td>2016</td>\n",
       "      <td>4</td>\n",
       "      <td>5</td>\n",
       "      <td>1</td>\n",
       "      <td>14</td>\n",
       "      <td>4</td>\n",
       "      <td>6700.285714</td>\n",
       "      <td>NaN</td>\n",
       "    </tr>\n",
       "    <tr>\n",
       "      <th>...</th>\n",
       "      <td>...</td>\n",
       "      <td>...</td>\n",
       "      <td>...</td>\n",
       "      <td>...</td>\n",
       "      <td>...</td>\n",
       "      <td>...</td>\n",
       "      <td>...</td>\n",
       "      <td>...</td>\n",
       "      <td>...</td>\n",
       "      <td>...</td>\n",
       "      <td>...</td>\n",
       "      <td>...</td>\n",
       "      <td>...</td>\n",
       "      <td>...</td>\n",
       "      <td>...</td>\n",
       "      <td>...</td>\n",
       "    </tr>\n",
       "    <tr>\n",
       "      <th>1147</th>\n",
       "      <td>2019-05-23</td>\n",
       "      <td>86</td>\n",
       "      <td>8544.0</td>\n",
       "      <td>1900</td>\n",
       "      <td>90</td>\n",
       "      <td>0.0</td>\n",
       "      <td>0.0</td>\n",
       "      <td>1814</td>\n",
       "      <td>2019</td>\n",
       "      <td>5</td>\n",
       "      <td>23</td>\n",
       "      <td>3</td>\n",
       "      <td>21</td>\n",
       "      <td>1147</td>\n",
       "      <td>9190.285714</td>\n",
       "      <td>9181.210399</td>\n",
       "    </tr>\n",
       "    <tr>\n",
       "      <th>1148</th>\n",
       "      <td>2019-05-24</td>\n",
       "      <td>81</td>\n",
       "      <td>8814.0</td>\n",
       "      <td>1900</td>\n",
       "      <td>90</td>\n",
       "      <td>0.0</td>\n",
       "      <td>0.0</td>\n",
       "      <td>1819</td>\n",
       "      <td>2019</td>\n",
       "      <td>5</td>\n",
       "      <td>24</td>\n",
       "      <td>4</td>\n",
       "      <td>21</td>\n",
       "      <td>1148</td>\n",
       "      <td>9190.285714</td>\n",
       "      <td>9113.489956</td>\n",
       "    </tr>\n",
       "    <tr>\n",
       "      <th>1149</th>\n",
       "      <td>2019-05-25</td>\n",
       "      <td>76</td>\n",
       "      <td>9846.0</td>\n",
       "      <td>1900</td>\n",
       "      <td>90</td>\n",
       "      <td>146.0</td>\n",
       "      <td>56.0</td>\n",
       "      <td>1824</td>\n",
       "      <td>2019</td>\n",
       "      <td>5</td>\n",
       "      <td>25</td>\n",
       "      <td>5</td>\n",
       "      <td>21</td>\n",
       "      <td>1149</td>\n",
       "      <td>9190.285714</td>\n",
       "      <td>9182.752551</td>\n",
       "    </tr>\n",
       "    <tr>\n",
       "      <th>1150</th>\n",
       "      <td>2019-05-26</td>\n",
       "      <td>83</td>\n",
       "      <td>9882.0</td>\n",
       "      <td>1900</td>\n",
       "      <td>90</td>\n",
       "      <td>160.0</td>\n",
       "      <td>70.0</td>\n",
       "      <td>1817</td>\n",
       "      <td>2019</td>\n",
       "      <td>5</td>\n",
       "      <td>26</td>\n",
       "      <td>6</td>\n",
       "      <td>21</td>\n",
       "      <td>1150</td>\n",
       "      <td>9190.285714</td>\n",
       "      <td>9107.479496</td>\n",
       "    </tr>\n",
       "    <tr>\n",
       "      <th>1151</th>\n",
       "      <td>2019-05-27</td>\n",
       "      <td>77</td>\n",
       "      <td>8790.0</td>\n",
       "      <td>1900</td>\n",
       "      <td>90</td>\n",
       "      <td>0.0</td>\n",
       "      <td>0.0</td>\n",
       "      <td>1823</td>\n",
       "      <td>2019</td>\n",
       "      <td>5</td>\n",
       "      <td>27</td>\n",
       "      <td>0</td>\n",
       "      <td>22</td>\n",
       "      <td>1151</td>\n",
       "      <td>8790.000000</td>\n",
       "      <td>9258.828760</td>\n",
       "    </tr>\n",
       "  </tbody>\n",
       "</table>\n",
       "<p>1152 rows × 16 columns</p>\n",
       "</div>"
      ],
      "text/plain": [
       "           date  n_sick   calls  n_duty  n_sby  sby_need  dafted  \\\n",
       "0    2016-04-01      73  8154.0    1700     90       4.0     0.0   \n",
       "1    2016-04-02      64  8526.0    1700     90      70.0     0.0   \n",
       "2    2016-04-03      68  8088.0    1700     90       0.0     0.0   \n",
       "3    2016-04-04      71  7044.0    1700     90       0.0     0.0   \n",
       "4    2016-04-05      63  7236.0    1700     90       0.0     0.0   \n",
       "...         ...     ...     ...     ...    ...       ...     ...   \n",
       "1147 2019-05-23      86  8544.0    1900     90       0.0     0.0   \n",
       "1148 2019-05-24      81  8814.0    1900     90       0.0     0.0   \n",
       "1149 2019-05-25      76  9846.0    1900     90     146.0    56.0   \n",
       "1150 2019-05-26      83  9882.0    1900     90     160.0    70.0   \n",
       "1151 2019-05-27      77  8790.0    1900     90       0.0     0.0   \n",
       "\n",
       "      diff_drivers  year  month  day  day_of_week  week  numbers   mean_calls  \\\n",
       "0             1627  2016      4    1            4    13        0  8256.000000   \n",
       "1             1636  2016      4    2            5    13        1  8256.000000   \n",
       "2             1632  2016      4    3            6    13        2  8256.000000   \n",
       "3             1629  2016      4    4            0    14        3  6700.285714   \n",
       "4             1637  2016      4    5            1    14        4  6700.285714   \n",
       "...            ...   ...    ...  ...          ...   ...      ...          ...   \n",
       "1147          1814  2019      5   23            3    21     1147  9190.285714   \n",
       "1148          1819  2019      5   24            4    21     1148  9190.285714   \n",
       "1149          1824  2019      5   25            5    21     1149  9190.285714   \n",
       "1150          1817  2019      5   26            6    21     1150  9190.285714   \n",
       "1151          1823  2019      5   27            0    22     1151  8790.000000   \n",
       "\n",
       "         forecast  \n",
       "0             NaN  \n",
       "1             NaN  \n",
       "2             NaN  \n",
       "3             NaN  \n",
       "4             NaN  \n",
       "...           ...  \n",
       "1147  9181.210399  \n",
       "1148  9113.489956  \n",
       "1149  9182.752551  \n",
       "1150  9107.479496  \n",
       "1151  9258.828760  \n",
       "\n",
       "[1152 rows x 16 columns]"
      ]
     },
     "execution_count": 56,
     "metadata": {},
     "output_type": "execute_result"
    }
   ],
   "source": []
  },
  {
   "cell_type": "code",
   "execution_count": 64,
   "metadata": {},
   "outputs": [
    {
     "data": {
      "image/png": "[encoded data removed]",
      "text/plain": [
       "<Figure size 1008x504 with 1 Axes>"
      ]
     },
     "metadata": {
      "needs_background": "light"
     },
     "output_type": "display_data"
    }
   ],
   "source": [
    "pred = results.get_prediction(start=920, end=1151, dynamic=False)\n",
    "pred_ci = pred.conf_int()\n",
    "ax = complete_df.mean_calls.iloc[0:].plot(label='observed')\n",
    "pred.predicted_mean.plot(ax=ax, label='One-step ahead Forecast', alpha=.7, figsize=(14, 7))\n",
    "ax.fill_between(pred_ci.index,\n",
    "                pred_ci.iloc[:, 0],\n",
    "                pred_ci.iloc[:, 1], color='k', alpha=.2)\n",
    "ax.set_xlabel('Date')\n",
    "ax.set_ylabel('Calls')\n",
    "#ax.set_xticks((0, 920))\n",
    "#ax.set_xticklabels(['1. 4. 2016', '8. 10. 2018'])\n",
    "#plt.axvline(x=920, color = 'red')\n",
    "plt.legend()\n",
    "plt.show()"
   ]
  },
  {
   "cell_type": "code",
   "execution_count": 65,
   "metadata": {},
   "outputs": [
    {
     "name": "stdout",
     "output_type": "stream",
     "text": [
      "The Mean Squared Error of our forecasts is 1747815.16\n",
      "The Root Mean Squared Error is 1322.05\n"
     ]
    }
   ],
   "source": [
    "# with pred mean\n",
    "y_forecasted = pred.predicted_mean\n",
    "y_truth = df.calls[920:]\n",
    "mse = ((y_forecasted - y_truth) ** 2).mean()\n",
    "print('The Mean Squared Error of our forecasts is {}'.format(round(mse, 2)))\n",
    "print('The Root Mean Squared Error is {}'.format(round(np.sqrt(mse), 2)))"
   ]
  },
  {
   "cell_type": "code",
   "execution_count": 66,
   "metadata": {},
   "outputs": [],
   "source": [
    "series1=results.predict(start=920, end=1151, dynamic=False)\n",
    "\n",
    "series2 = pred.predicted_mean"
   ]
  },
  {
   "cell_type": "code",
   "execution_count": 67,
   "metadata": {},
   "outputs": [
    {
     "name": "stdout",
     "output_type": "stream",
     "text": [
      "The Mean Squared Error of our forecasts is 1747815.16\n",
      "The Root Mean Squared Error is 1322.05\n"
     ]
    }
   ],
   "source": [
    "y_forecasted2 = series1\n",
    "y_truth2 = df.calls[920:]\n",
    "mse2 = ((y_forecasted2 - y_truth2) ** 2).mean()\n",
    "print('The Mean Squared Error of our forecasts is {}'.format(round(mse2, 2)))\n",
    "print('The Root Mean Squared Error is {}'.format(round(np.sqrt(mse2), 2)))"
   ]
  },
  {
   "cell_type": "code",
   "execution_count": null,
   "metadata": {},
   "outputs": [],
   "source": []
  },
  {
   "cell_type": "code",
   "execution_count": null,
   "metadata": {},
   "outputs": [],
   "source": []
  },
  {
   "cell_type": "code",
   "execution_count": null,
   "metadata": {},
   "outputs": [],
   "source": []
  }
 ],
 "metadata": {
  "kernelspec": {
   "display_name": "Python 3.8.5 ('base')",
   "language": "python",
   "name": "python3"
  },
  "language_info": {
   "codemirror_mode": {
    "name": "ipython",
    "version": 3
   },
   "file_extension": ".py",
   "mimetype": "text/x-python",
   "name": "python",
   "nbconvert_exporter": "python",
   "pygments_lexer": "ipython3",
   "version": "3.8.5"
  },
  "orig_nbformat": 4,
  "vscode": {
   "interpreter": {
    "hash": "5c3cd99063abd1b4c15ea40868a5df46d871e2273225f116d3d00cd8553a7cf8"
   }
  }
 },
 "nbformat": 4,
 "nbformat_minor": 2
}
