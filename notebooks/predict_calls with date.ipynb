{
 "cells": [
  {
   "cell_type": "code",
   "execution_count": 2,
   "metadata": {},
   "outputs": [],
   "source": [
    "# predict calls with random forest\n"
   ]
  },
  {
   "cell_type": "code",
   "execution_count": 29,
   "metadata": {},
   "outputs": [],
   "source": [
    "import pandas as pd\n",
    "import numpy as np\n",
    "import xgboost\n",
    "from xgboost import XGBRegressor\n",
    "from sklearn.metrics import mean_squared_error\n",
    "from sklearn.metrics import r2_score\n"
   ]
  },
  {
   "cell_type": "code",
   "execution_count": 4,
   "metadata": {},
   "outputs": [
    {
     "name": "stdout",
     "output_type": "stream",
     "text": [
      "<class 'pandas.core.frame.DataFrame'>\n",
      "Int64Index: 1152 entries, 0 to 1151\n",
      "Data columns (total 11 columns):\n",
      " #   Column       Non-Null Count  Dtype         \n",
      "---  ------       --------------  -----         \n",
      " 0   date         1152 non-null   datetime64[ns]\n",
      " 1   n_sick       1152 non-null   int64         \n",
      " 2   calls        1152 non-null   float64       \n",
      " 3   n_duty       1152 non-null   int64         \n",
      " 4   n_sby        1152 non-null   int64         \n",
      " 5   sby_need     1152 non-null   float64       \n",
      " 6   dafted       1152 non-null   float64       \n",
      " 7   year         1152 non-null   int64         \n",
      " 8   month        1152 non-null   int64         \n",
      " 9   day_of_week  1152 non-null   int64         \n",
      " 10  week         1152 non-null   int64         \n",
      "dtypes: datetime64[ns](1), float64(3), int64(7)\n",
      "memory usage: 108.0 KB\n"
     ]
    }
   ],
   "source": [
    "df = pd.read_csv('/Users/kata/Desktop/GitHub/standby_duty_forecasting/sickness_table.csv', index_col=0)\n",
    "df['date'] = pd.to_datetime(df['date'])\n",
    "df['year']= df['date'].dt.year\n",
    "df['month']= df['date'].dt.month\n",
    "df['day_of_week'] = df['date'].dt.dayofweek\n",
    "df['week'] = df['date'].dt.isocalendar().week\n",
    "df['week'] = df['week'].astype(np.int64)\n",
    "df.info()\n"
   ]
  },
  {
   "cell_type": "code",
   "execution_count": 5,
   "metadata": {},
   "outputs": [],
   "source": [
    "X = df[['year', 'month', 'day_of_week',\n",
    "       'week']]\n",
    "y = df.calls"
   ]
  },
  {
   "cell_type": "code",
   "execution_count": 6,
   "metadata": {},
   "outputs": [],
   "source": [
    "def train_test_split(data, n_test):\n",
    "\treturn data[:n_test], data[n_test:]\n",
    "\n",
    "\n",
    "x_train, x_test = train_test_split(X, 921)\n",
    "y_train, y_test = train_test_split(y, 921)\n"
   ]
  },
  {
   "cell_type": "code",
   "execution_count": 7,
   "metadata": {},
   "outputs": [],
   "source": [
    "model = XGBRegressor()"
   ]
  },
  {
   "cell_type": "code",
   "execution_count": 8,
   "metadata": {},
   "outputs": [
    {
     "data": {
      "text/plain": [
       "XGBRegressor(base_score=0.5, booster='gbtree', callbacks=None,\n",
       "             colsample_bylevel=1, colsample_bynode=1, colsample_bytree=1,\n",
       "             early_stopping_rounds=None, enable_categorical=False,\n",
       "             eval_metric=None, gamma=0, gpu_id=-1, grow_policy='depthwise',\n",
       "             importance_type=None, interaction_constraints='',\n",
       "             learning_rate=0.300000012, max_bin=256, max_cat_to_onehot=4,\n",
       "             max_delta_step=0, max_depth=6, max_leaves=0, min_child_weight=1,\n",
       "             missing=nan, monotone_constraints='()', n_estimators=100, n_jobs=0,\n",
       "             num_parallel_tree=1, predictor='auto', random_state=0, reg_alpha=0,\n",
       "             reg_lambda=1, ...)"
      ]
     },
     "execution_count": 8,
     "metadata": {},
     "output_type": "execute_result"
    }
   ],
   "source": [
    "model.fit(x_train, y_train)"
   ]
  },
  {
   "cell_type": "code",
   "execution_count": 9,
   "metadata": {},
   "outputs": [],
   "source": [
    "pred = model.predict(x_test)"
   ]
  },
  {
   "cell_type": "code",
   "execution_count": 10,
   "metadata": {},
   "outputs": [
    {
     "data": {
      "text/plain": [
       "array([ 9072.806 ,  8155.94  ,  8627.281 ,  8043.2935,  7422.192 ,\n",
       "        7884.6733,  9600.832 ,  8529.699 ,  8320.084 ,  9291.118 ,\n",
       "        8657.1455,  7605.6973,  7488.711 ,  8741.474 ,  8585.317 ,\n",
       "        8284.157 ,  9171.77  ,  8912.073 ,  7815.185 ,  7903.126 ,\n",
       "        9934.257 ,  7836.289 ,  7670.754 , 10146.952 , 10214.008 ,\n",
       "        8199.1   ,  7703.5713,  8291.624 ,  7980.8853,  7650.7715,\n",
       "        7663.6313,  8252.081 ,  7476.681 ,  6912.535 ,  9193.486 ,\n",
       "        8773.058 ,  7629.858 ,  8238.679 ,  7906.112 ,  6963.6895,\n",
       "        6206.161 ,  7118.527 ,  8132.553 ,  8010.0664,  7530.1914,\n",
       "        7514.039 ,  6927.144 ,  6106.283 ,  6801.948 ,  8014.036 ,\n",
       "        6754.197 ,  8788.449 ,  8508.348 ,  6848.31  ,  6739.1255,\n",
       "        7900.215 ,  8790.33  ,  8028.5747,  8247.475 ,  7871.816 ,\n",
       "        7746.8223,  7057.115 ,  7358.0425,  8317.43  ,  7351.8896,\n",
       "        7981.0503,  7277.7617,  7997.558 ,  6217.0977,  7158.677 ,\n",
       "        6911.571 ,  7467.809 ,  9225.225 ,  8412.445 ,  7659.379 ,\n",
       "        5858.031 ,  8738.09  ,  6704.362 ,  7330.9844,  8706.1455,\n",
       "        8820.296 ,  6980.142 ,  5819.3276, 13672.579 ,  7301.066 ,\n",
       "        6643.1816,  6801.876 ,  8293.924 ,  7550.9346,  7445.601 ,\n",
       "        8397.022 ,  8258.93  ,  8104.09  ,  7045.634 ,  7428.5435,\n",
       "        6607.25  ,  6758.5864,  6888.7515,  7901.4487,  6248.2905,\n",
       "        7407.9985,  8039.7095,  6151.283 ,  6833.452 ,  5911.8843,\n",
       "        5808.5537,  5938.5527,  5871.571 ,  6654.231 ,  6606.7173,\n",
       "        6460.7305,  6915.4053,  5883.192 ,  6399.182 ,  6232.8413,\n",
       "        8069.703 ,  8435.674 ,  7584.71  ,  7705.0464,  7165.709 ,\n",
       "        7385.45  ,  7687.3564,  7981.3633,  8102.557 ,  6862.72  ,\n",
       "        6736.902 ,  7219.592 ,  7131.6826,  6860.334 ,  6785.1914,\n",
       "        7637.1265,  7000.44  ,  7639.966 ,  7092.5884,  8210.829 ,\n",
       "        6790.324 ,  7739.07  ,  6085.6934,  5939.561 ,  6535.993 ,\n",
       "        8327.397 ,  8910.948 ,  7930.8945,  8883.805 ,  7933.658 ,\n",
       "        7681.8115,  9536.444 ,  8438.596 ,  9282.82  ,  8011.5303,\n",
       "        7899.5015,  8071.8896,  7669.931 ,  9025.76  ,  8851.12  ,\n",
       "        7873.2866,  8684.488 ,  7737.303 ,  7980.2305,  7884.1284,\n",
       "        8277.104 ,  7438.77  ,  7613.08  ,  7571.1416,  7143.6895,\n",
       "        6979.6904,  7264.8135,  7733.4663,  7549.884 ,  7294.5635,\n",
       "        8007.957 ,  8499.881 ,  8013.42  ,  7809.1562,  9779.288 ,\n",
       "        9434.324 ,  9395.189 ,  8420.058 ,  9276.271 ,  8637.241 ,\n",
       "        8143.724 ,  9438.766 ,  8662.647 ,  8359.417 ,  8705.694 ,\n",
       "        8802.252 ,  8360.461 ,  8138.2007,  8623.17  ,  9348.917 ,\n",
       "        8478.012 ,  8259.886 ,  8955.39  ,  9138.044 ,  8764.104 ,\n",
       "        8280.839 ,  8663.638 ,  9061.161 ,  8831.475 ,  8375.502 ,\n",
       "        8087.429 ,  8459.225 ,  9429.322 ,  9233.655 ,  8986.067 ,\n",
       "        8973.861 ,  9021.624 ,  9803.716 ,  9420.025 ,  9918.503 ,\n",
       "        9167.031 ,  8551.811 ,  8498.886 ,  8601.701 ,  9168.737 ,\n",
       "        8555.261 ,  8587.116 ,  8213.394 ,  8556.536 ,  8210.219 ,\n",
       "        8970.806 ,  7553.443 ,  8076.1094,  9434.446 ,  8704.747 ,\n",
       "        8143.1562,  8029.599 ,  7840.575 ,  7859.3193,  7776.8916,\n",
       "        8850.54  ], dtype=float32)"
      ]
     },
     "execution_count": 10,
     "metadata": {},
     "output_type": "execute_result"
    }
   ],
   "source": [
    "pred"
   ]
  },
  {
   "cell_type": "code",
   "execution_count": 11,
   "metadata": {},
   "outputs": [
    {
     "data": {
      "text/plain": [
       "2092620.6058171096"
      ]
     },
     "execution_count": 11,
     "metadata": {},
     "output_type": "execute_result"
    }
   ],
   "source": [
    "mean_squared_error(y_test, pred)\n",
    "# 2092620.6058171096"
   ]
  },
  {
   "cell_type": "code",
   "execution_count": 30,
   "metadata": {},
   "outputs": [
    {
     "name": "stdout",
     "output_type": "stream",
     "text": [
      " Accuracy of the model is -24.77\n"
     ]
    }
   ],
   "source": [
    "Accuracy=r2_score(y_test,pred)*100\n",
    "print(\" Accuracy of the model is %.2f\" %Accuracy)"
   ]
  },
  {
   "cell_type": "code",
   "execution_count": 12,
   "metadata": {},
   "outputs": [],
   "source": [
    "# decision tree?\n",
    "from sklearn.ensemble import RandomForestRegressor\n"
   ]
  },
  {
   "cell_type": "code",
   "execution_count": 13,
   "metadata": {},
   "outputs": [],
   "source": [
    "regressor = RandomForestRegressor()"
   ]
  },
  {
   "cell_type": "code",
   "execution_count": 14,
   "metadata": {},
   "outputs": [
    {
     "data": {
      "text/plain": [
       "RandomForestRegressor()"
      ]
     },
     "execution_count": 14,
     "metadata": {},
     "output_type": "execute_result"
    }
   ],
   "source": [
    "regressor.fit(x_train, y_train)"
   ]
  },
  {
   "cell_type": "code",
   "execution_count": 15,
   "metadata": {},
   "outputs": [
    {
     "data": {
      "text/plain": [
       "array([9468.72, 9076.2 , 9624.78, 8909.76, 8016.42, 7651.62, 9477.24,\n",
       "       9194.88, 8913.48, 9401.58, 8748.66, 7858.44, 7543.26, 9306.78,\n",
       "       9108.  , 8812.26, 9256.5 , 8722.38, 7738.44, 7618.8 , 9339.6 ,\n",
       "       9004.26, 8829.78, 9513.3 , 8982.78, 7929.72, 7461.42, 8505.84,\n",
       "       8438.1 , 7952.58, 7915.02, 7788.48, 7429.8 , 6874.68, 8834.16,\n",
       "       8736.48, 7967.64, 8203.38, 7760.88, 7082.7 , 6555.48, 7980.72,\n",
       "       8411.52, 8149.68, 7884.6 , 7645.5 , 7096.5 , 6509.22, 7805.16,\n",
       "       8290.92, 7618.26, 8309.52, 8013.54, 7068.36, 6823.56, 8201.7 ,\n",
       "       8648.7 , 8066.1 , 8163.06, 7772.88, 7499.34, 6981.36, 7846.56,\n",
       "       8124.  , 7699.38, 7914.66, 7292.34, 7538.52, 6344.34, 7826.64,\n",
       "       7687.02, 7650.  , 8354.28, 7881.12, 7438.02, 6195.06, 8215.38,\n",
       "       7640.94, 7602.48, 8184.96, 7967.04, 7244.94, 6269.76, 9114.66,\n",
       "       7541.76, 6897.84, 6920.34, 7751.94, 7448.64, 7312.5 , 8257.62,\n",
       "       8121.54, 7906.86, 7239.18, 7380.24, 6711.9 , 6841.08, 7112.58,\n",
       "       7524.66, 6427.92, 7292.82, 7663.26, 6350.46, 6761.1 , 6125.64,\n",
       "       5913.18, 6273.66, 5878.38, 6514.32, 6755.52, 6532.86, 6931.74,\n",
       "       5929.92, 6357.48, 6356.64, 8083.68, 8294.4 , 7519.8 , 7551.9 ,\n",
       "       7415.88, 7233.06, 7800.18, 8066.82, 7950.9 , 6907.26, 6883.2 ,\n",
       "       7135.38, 7120.62, 7116.54, 6640.14, 7201.98, 6868.2 , 7441.56,\n",
       "       6895.92, 7760.28, 6730.74, 7708.62, 6626.64, 6057.12, 7223.04,\n",
       "       8125.2 , 8597.22, 8553.48, 8791.14, 8159.58, 7852.32, 9015.06,\n",
       "       8549.46, 8744.82, 7992.66, 7885.92, 8036.34, 7753.02, 8989.92,\n",
       "       8855.94, 8040.06, 8613.18, 7847.52, 7891.08, 7854.54, 8289.66,\n",
       "       7426.62, 7758.66, 7503.  , 7335.6 , 6921.36, 7197.18, 7870.92,\n",
       "       7521.3 , 7120.14, 7893.6 , 8246.46, 7955.82, 8013.72, 9472.5 ,\n",
       "       9120.12, 9537.12, 8579.04, 9321.18, 8521.02, 8460.78, 9221.04,\n",
       "       8733.18, 8309.7 , 9339.36, 8843.88, 8412.3 , 8056.98, 8680.08,\n",
       "       9271.32, 8385.18, 8133.12, 9151.02, 8946.24, 8634.18, 8385.6 ,\n",
       "       8757.06, 8881.14, 9007.44, 8491.68, 8423.82, 8501.7 , 9136.08,\n",
       "       9264.96, 8883.06, 8717.64, 8891.94, 9487.56, 9479.4 , 9766.92,\n",
       "       9172.2 , 8531.7 , 8504.28, 8595.18, 8972.76, 8608.74, 8670.96,\n",
       "       8312.1 , 8922.06, 7961.88, 9175.98, 7508.94, 8159.22, 9271.44,\n",
       "       8431.08, 7946.22, 8495.16, 8031.78, 7876.56, 7772.64, 8938.8 ])"
      ]
     },
     "execution_count": 15,
     "metadata": {},
     "output_type": "execute_result"
    }
   ],
   "source": [
    "y_pred = regressor.predict(x_test)\n",
    "\n",
    "y_pred"
   ]
  },
  {
   "cell_type": "code",
   "execution_count": 16,
   "metadata": {},
   "outputs": [
    {
     "data": {
      "text/plain": [
       "1773742.063994805"
      ]
     },
     "execution_count": 16,
     "metadata": {},
     "output_type": "execute_result"
    }
   ],
   "source": [
    "mean_squared_error(y_test, y_pred)\n",
    "#1743722.4680571433"
   ]
  },
  {
   "cell_type": "code",
   "execution_count": 31,
   "metadata": {},
   "outputs": [
    {
     "name": "stdout",
     "output_type": "stream",
     "text": [
      " Accuracy of the model is -3.08\n"
     ]
    }
   ],
   "source": [
    "Accuracy=r2_score(y_test,y_pred)*100\n",
    "print(\" Accuracy of the model is %.2f\" %Accuracy)"
   ]
  },
  {
   "cell_type": "code",
   "execution_count": 17,
   "metadata": {},
   "outputs": [],
   "source": [
    "# SVM\n",
    "from sklearn.svm import SVR"
   ]
  },
  {
   "cell_type": "code",
   "execution_count": 18,
   "metadata": {},
   "outputs": [
    {
     "data": {
      "text/plain": [
       "SVR()"
      ]
     },
     "execution_count": 18,
     "metadata": {},
     "output_type": "execute_result"
    }
   ],
   "source": [
    "regressor = SVR(kernel = 'rbf')\n",
    "regressor.fit(X, y)"
   ]
  },
  {
   "cell_type": "code",
   "execution_count": 19,
   "metadata": {},
   "outputs": [],
   "source": [
    "y_pred = regressor.predict(x_test)\n"
   ]
  },
  {
   "cell_type": "code",
   "execution_count": 22,
   "metadata": {},
   "outputs": [
    {
     "data": {
      "text/plain": [
       "1970608.4805071584"
      ]
     },
     "execution_count": 22,
     "metadata": {},
     "output_type": "execute_result"
    }
   ],
   "source": [
    "mean_squared_error(y_test, y_pred)\n",
    "# 1970608.4805071584"
   ]
  },
  {
   "cell_type": "code",
   "execution_count": 32,
   "metadata": {},
   "outputs": [
    {
     "name": "stdout",
     "output_type": "stream",
     "text": [
      " Accuracy of the model is -3.08\n"
     ]
    }
   ],
   "source": [
    "Accuracy=r2_score(y_test,y_pred)*100\n",
    "print(\" Accuracy of the model is %.2f\" %Accuracy)"
   ]
  },
  {
   "cell_type": "code",
   "execution_count": 23,
   "metadata": {},
   "outputs": [],
   "source": [
    "# linear regression\n",
    "from sklearn.linear_model import LinearRegression\n"
   ]
  },
  {
   "cell_type": "code",
   "execution_count": 24,
   "metadata": {},
   "outputs": [
    {
     "data": {
      "text/plain": [
       "LinearRegression()"
      ]
     },
     "execution_count": 24,
     "metadata": {},
     "output_type": "execute_result"
    }
   ],
   "source": [
    "linreg=LinearRegression()\n",
    "linreg.fit(x_train,y_train)"
   ]
  },
  {
   "cell_type": "code",
   "execution_count": 25,
   "metadata": {},
   "outputs": [],
   "source": [
    "y_pred=linreg.predict(x_test)\n"
   ]
  },
  {
   "cell_type": "code",
   "execution_count": 28,
   "metadata": {},
   "outputs": [
    {
     "data": {
      "text/plain": [
       "1728872.9009036084"
      ]
     },
     "execution_count": 28,
     "metadata": {},
     "output_type": "execute_result"
    }
   ],
   "source": [
    "mean_squared_error(y_test, y_pred)\n",
    "# 1728872.9009036084"
   ]
  },
  {
   "cell_type": "code",
   "execution_count": 33,
   "metadata": {},
   "outputs": [
    {
     "name": "stdout",
     "output_type": "stream",
     "text": [
      " Accuracy of the model is -3.08\n"
     ]
    }
   ],
   "source": [
    "Accuracy=r2_score(y_test,y_pred)*100\n",
    "print(\" Accuracy of the model is %.2f\" %Accuracy)"
   ]
  },
  {
   "cell_type": "code",
   "execution_count": null,
   "metadata": {},
   "outputs": [],
   "source": []
  }
 ],
 "metadata": {
  "kernelspec": {
   "display_name": "Python 3.8.5 ('base')",
   "language": "python",
   "name": "python3"
  },
  "language_info": {
   "codemirror_mode": {
    "name": "ipython",
    "version": 3
   },
   "file_extension": ".py",
   "mimetype": "text/x-python",
   "name": "python",
   "nbconvert_exporter": "python",
   "pygments_lexer": "ipython3",
   "version": "3.8.5"
  },
  "orig_nbformat": 4,
  "vscode": {
   "interpreter": {
    "hash": "5c3cd99063abd1b4c15ea40868a5df46d871e2273225f116d3d00cd8553a7cf8"
   }
  }
 },
 "nbformat": 4,
 "nbformat_minor": 2
}
