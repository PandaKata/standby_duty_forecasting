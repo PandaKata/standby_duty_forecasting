{
 "cells": [
  {
   "cell_type": "code",
   "execution_count": 2,
   "metadata": {},
   "outputs": [],
   "source": [
    "# predict calls with random forest\n"
   ]
  },
  {
   "cell_type": "code",
   "execution_count": 3,
   "metadata": {},
   "outputs": [],
   "source": [
    "import pandas as pd\n",
    "import numpy as np\n",
    "import xgboost\n",
    "from xgboost import XGBRegressor\n",
    "from sklearn.metrics import mean_squared_error"
   ]
  },
  {
   "cell_type": "code",
   "execution_count": 4,
   "metadata": {},
   "outputs": [
    {
     "name": "stdout",
     "output_type": "stream",
     "text": [
      "<class 'pandas.core.frame.DataFrame'>\n",
      "Int64Index: 1152 entries, 0 to 1151\n",
      "Data columns (total 11 columns):\n",
      " #   Column       Non-Null Count  Dtype         \n",
      "---  ------       --------------  -----         \n",
      " 0   date         1152 non-null   datetime64[ns]\n",
      " 1   n_sick       1152 non-null   int64         \n",
      " 2   calls        1152 non-null   float64       \n",
      " 3   n_duty       1152 non-null   int64         \n",
      " 4   n_sby        1152 non-null   int64         \n",
      " 5   sby_need     1152 non-null   float64       \n",
      " 6   dafted       1152 non-null   float64       \n",
      " 7   year         1152 non-null   int64         \n",
      " 8   month        1152 non-null   int64         \n",
      " 9   day_of_week  1152 non-null   int64         \n",
      " 10  week         1152 non-null   int64         \n",
      "dtypes: datetime64[ns](1), float64(3), int64(7)\n",
      "memory usage: 108.0 KB\n"
     ]
    }
   ],
   "source": [
    "df = pd.read_csv('/Users/kata/Desktop/GitHub/standby_duty_forecasting/sickness_table.csv', index_col=0)\n",
    "df['date'] = pd.to_datetime(df['date'])\n",
    "df['year']= df['date'].dt.year\n",
    "df['month']= df['date'].dt.month\n",
    "df['day_of_week'] = df['date'].dt.dayofweek\n",
    "df['week'] = df['date'].dt.isocalendar().week\n",
    "df['week'] = df['week'].astype(np.int64)\n",
    "df.info()\n"
   ]
  },
  {
   "cell_type": "code",
   "execution_count": 5,
   "metadata": {},
   "outputs": [],
   "source": [
    "X = df[['year', 'month', 'day_of_week',\n",
    "       'week']]\n",
    "y = df.calls.values.reshape(-1, 1)"
   ]
  },
  {
   "cell_type": "code",
   "execution_count": 6,
   "metadata": {},
   "outputs": [],
   "source": [
    "def train_test_split(data, n_test):\n",
    "\treturn data[:n_test], data[n_test:]\n",
    "\n",
    "\n",
    "x_train, x_test = train_test_split(X, 921)\n",
    "y_train, y_test = train_test_split(y, 921)\n"
   ]
  },
  {
   "cell_type": "code",
   "execution_count": 7,
   "metadata": {},
   "outputs": [],
   "source": [
    "model = XGBRegressor()"
   ]
  },
  {
   "cell_type": "code",
   "execution_count": 8,
   "metadata": {},
   "outputs": [
    {
     "data": {
      "text/plain": [
       "XGBRegressor(base_score=0.5, booster='gbtree', callbacks=None,\n",
       "             colsample_bylevel=1, colsample_bynode=1, colsample_bytree=1,\n",
       "             early_stopping_rounds=None, enable_categorical=False,\n",
       "             eval_metric=None, gamma=0, gpu_id=-1, grow_policy='depthwise',\n",
       "             importance_type=None, interaction_constraints='',\n",
       "             learning_rate=0.300000012, max_bin=256, max_cat_to_onehot=4,\n",
       "             max_delta_step=0, max_depth=6, max_leaves=0, min_child_weight=1,\n",
       "             missing=nan, monotone_constraints='()', n_estimators=100, n_jobs=0,\n",
       "             num_parallel_tree=1, predictor='auto', random_state=0, reg_alpha=0,\n",
       "             reg_lambda=1, ...)"
      ]
     },
     "execution_count": 8,
     "metadata": {},
     "output_type": "execute_result"
    }
   ],
   "source": [
    "model.fit(x_train, y_train)"
   ]
  },
  {
   "cell_type": "code",
   "execution_count": 9,
   "metadata": {},
   "outputs": [],
   "source": [
    "pred = model.predict(x_test)"
   ]
  },
  {
   "cell_type": "code",
   "execution_count": 10,
   "metadata": {},
   "outputs": [
    {
     "data": {
      "text/plain": [
       "array([ 9072.806 ,  8155.94  ,  8627.281 ,  8043.2935,  7422.192 ,\n",
       "        7884.6733,  9600.832 ,  8529.699 ,  8320.084 ,  9291.118 ,\n",
       "        8657.1455,  7605.6973,  7488.711 ,  8741.474 ,  8585.317 ,\n",
       "        8284.157 ,  9171.77  ,  8912.073 ,  7815.185 ,  7903.126 ,\n",
       "        9934.257 ,  7836.289 ,  7670.754 , 10146.952 , 10214.008 ,\n",
       "        8199.1   ,  7703.5713,  8291.624 ,  7980.8853,  7650.7715,\n",
       "        7663.6313,  8252.081 ,  7476.681 ,  6912.535 ,  9193.486 ,\n",
       "        8773.058 ,  7629.858 ,  8238.679 ,  7906.112 ,  6963.6895,\n",
       "        6206.161 ,  7118.527 ,  8132.553 ,  8010.0664,  7530.1914,\n",
       "        7514.039 ,  6927.144 ,  6106.283 ,  6801.948 ,  8014.036 ,\n",
       "        6754.197 ,  8788.449 ,  8508.348 ,  6848.31  ,  6739.1255,\n",
       "        7900.215 ,  8790.33  ,  8028.5747,  8247.475 ,  7871.816 ,\n",
       "        7746.8223,  7057.115 ,  7358.0425,  8317.43  ,  7351.8896,\n",
       "        7981.0503,  7277.7617,  7997.558 ,  6217.0977,  7158.677 ,\n",
       "        6911.571 ,  7467.809 ,  9225.225 ,  8412.445 ,  7659.379 ,\n",
       "        5858.031 ,  8738.09  ,  6704.362 ,  7330.9844,  8706.1455,\n",
       "        8820.296 ,  6980.142 ,  5819.3276, 13672.579 ,  7301.066 ,\n",
       "        6643.1816,  6801.876 ,  8293.924 ,  7550.9346,  7445.601 ,\n",
       "        8397.022 ,  8258.93  ,  8104.09  ,  7045.634 ,  7428.5435,\n",
       "        6607.25  ,  6758.5864,  6888.7515,  7901.4487,  6248.2905,\n",
       "        7407.9985,  8039.7095,  6151.283 ,  6833.452 ,  5911.8843,\n",
       "        5808.5537,  5938.5527,  5871.571 ,  6654.231 ,  6606.7173,\n",
       "        6460.7305,  6915.4053,  5883.192 ,  6399.182 ,  6232.8413,\n",
       "        8069.703 ,  8435.674 ,  7584.71  ,  7705.0464,  7165.709 ,\n",
       "        7385.45  ,  7687.3564,  7981.3633,  8102.557 ,  6862.72  ,\n",
       "        6736.902 ,  7219.592 ,  7131.6826,  6860.334 ,  6785.1914,\n",
       "        7637.1265,  7000.44  ,  7639.966 ,  7092.5884,  8210.829 ,\n",
       "        6790.324 ,  7739.07  ,  6085.6934,  5939.561 ,  6535.993 ,\n",
       "        8327.397 ,  8910.948 ,  7930.8945,  8883.805 ,  7933.658 ,\n",
       "        7681.8115,  9536.444 ,  8438.596 ,  9282.82  ,  8011.5303,\n",
       "        7899.5015,  8071.8896,  7669.931 ,  9025.76  ,  8851.12  ,\n",
       "        7873.2866,  8684.488 ,  7737.303 ,  7980.2305,  7884.1284,\n",
       "        8277.104 ,  7438.77  ,  7613.08  ,  7571.1416,  7143.6895,\n",
       "        6979.6904,  7264.8135,  7733.4663,  7549.884 ,  7294.5635,\n",
       "        8007.957 ,  8499.881 ,  8013.42  ,  7809.1562,  9779.288 ,\n",
       "        9434.324 ,  9395.189 ,  8420.058 ,  9276.271 ,  8637.241 ,\n",
       "        8143.724 ,  9438.766 ,  8662.647 ,  8359.417 ,  8705.694 ,\n",
       "        8802.252 ,  8360.461 ,  8138.2007,  8623.17  ,  9348.917 ,\n",
       "        8478.012 ,  8259.886 ,  8955.39  ,  9138.044 ,  8764.104 ,\n",
       "        8280.839 ,  8663.638 ,  9061.161 ,  8831.475 ,  8375.502 ,\n",
       "        8087.429 ,  8459.225 ,  9429.322 ,  9233.655 ,  8986.067 ,\n",
       "        8973.861 ,  9021.624 ,  9803.716 ,  9420.025 ,  9918.503 ,\n",
       "        9167.031 ,  8551.811 ,  8498.886 ,  8601.701 ,  9168.737 ,\n",
       "        8555.261 ,  8587.116 ,  8213.394 ,  8556.536 ,  8210.219 ,\n",
       "        8970.806 ,  7553.443 ,  8076.1094,  9434.446 ,  8704.747 ,\n",
       "        8143.1562,  8029.599 ,  7840.575 ,  7859.3193,  7776.8916,\n",
       "        8850.54  ], dtype=float32)"
      ]
     },
     "execution_count": 10,
     "metadata": {},
     "output_type": "execute_result"
    }
   ],
   "source": [
    "pred"
   ]
  },
  {
   "cell_type": "code",
   "execution_count": 11,
   "metadata": {},
   "outputs": [
    {
     "data": {
      "text/plain": [
       "2092620.6058171096"
      ]
     },
     "execution_count": 11,
     "metadata": {},
     "output_type": "execute_result"
    }
   ],
   "source": [
    "mean_squared_error(y_test, pred)\n",
    "# 2092620.6058171096"
   ]
  },
  {
   "cell_type": "code",
   "execution_count": 12,
   "metadata": {},
   "outputs": [],
   "source": [
    "# decision tree?\n",
    "from sklearn.ensemble import RandomForestRegressor\n"
   ]
  },
  {
   "cell_type": "code",
   "execution_count": 13,
   "metadata": {},
   "outputs": [],
   "source": [
    "regressor = RandomForestRegressor()"
   ]
  },
  {
   "cell_type": "code",
   "execution_count": 14,
   "metadata": {},
   "outputs": [
    {
     "name": "stderr",
     "output_type": "stream",
     "text": [
      "<ipython-input-14-e3a26b00eeb3>:1: DataConversionWarning: A column-vector y was passed when a 1d array was expected. Please change the shape of y to (n_samples,), for example using ravel().\n",
      "  regressor.fit(x_train, y_train)\n"
     ]
    },
    {
     "data": {
      "text/plain": [
       "RandomForestRegressor()"
      ]
     },
     "execution_count": 14,
     "metadata": {},
     "output_type": "execute_result"
    }
   ],
   "source": [
    "regressor.fit(x_train, y_train)"
   ]
  },
  {
   "cell_type": "code",
   "execution_count": 15,
   "metadata": {},
   "outputs": [
    {
     "data": {
      "text/plain": [
       "array([9478.98, 9134.82, 9549.66, 8762.34, 8009.88, 7596.84, 9458.4 ,\n",
       "       9054.9 , 8718.78, 9221.7 , 8538.6 , 7734.24, 7347.  , 9144.72,\n",
       "       9056.7 , 8682.12, 9071.88, 8566.5 , 7679.64, 7541.1 , 9364.08,\n",
       "       8994.48, 8806.14, 9483.6 , 8853.9 , 7808.46, 7424.04, 8302.98,\n",
       "       8277.12, 7900.38, 7715.46, 7630.44, 7376.58, 6758.46, 8709.78,\n",
       "       8701.08, 7950.48, 7968.6 , 7600.74, 6999.96, 6366.9 , 7842.78,\n",
       "       8328.12, 8034.6 , 7629.78, 7432.44, 7005.36, 6320.64, 7620.36,\n",
       "       8214.78, 7532.1 , 8100.66, 7799.16, 6985.98, 6598.14, 8053.5 ,\n",
       "       8554.2 , 8020.5 , 7990.44, 7606.08, 7431.12, 6801.18, 7597.62,\n",
       "       8034.3 , 7517.16, 7679.58, 7121.22, 7565.28, 6184.8 , 7483.98,\n",
       "       7389.42, 7545.12, 8249.7 , 7703.7 , 7453.14, 5926.02, 8054.16,\n",
       "       7394.1 , 7462.56, 8009.34, 7764.78, 7110.54, 5928.42, 9129.54,\n",
       "       7657.56, 6940.08, 6970.32, 7892.16, 7438.74, 7359.36, 8259.3 ,\n",
       "       8175.96, 8004.72, 7075.86, 7422.  , 6813.06, 6836.82, 7056.54,\n",
       "       7602.06, 6395.4 , 7181.16, 7648.08, 6349.26, 6677.4 , 5901.06,\n",
       "       5908.38, 6263.16, 5695.44, 6463.56, 6617.82, 6459.06, 6936.24,\n",
       "       6126.72, 6478.26, 6395.88, 8106.6 , 8131.92, 7407.54, 7541.7 ,\n",
       "       7428.84, 7256.28, 7831.74, 8054.34, 7858.56, 6948.06, 6834.78,\n",
       "       7161.96, 7128.84, 6971.94, 6531.36, 7493.46, 7037.88, 7570.26,\n",
       "       7076.58, 7998.84, 6768.12, 7762.5 , 6510.6 , 5974.32, 6856.62,\n",
       "       7969.92, 8622.66, 8411.58, 8665.5 , 8150.04, 7903.44, 8936.52,\n",
       "       8697.72, 9094.62, 8105.16, 7896.96, 8079.78, 7807.32, 8824.68,\n",
       "       8846.22, 8041.2 , 8638.2 , 7786.74, 7914.96, 7857.84, 8059.08,\n",
       "       7328.76, 7818.54, 7336.8 , 7250.28, 6869.1 , 7105.14, 7894.62,\n",
       "       7573.5 , 7194.72, 7938.36, 8261.52, 7918.14, 8055.12, 9481.5 ,\n",
       "       9103.86, 9715.32, 8631.3 , 9272.04, 8428.14, 8335.32, 9201.3 ,\n",
       "       8803.14, 8423.34, 9350.46, 8721.9 , 8409.  , 8081.1 , 8697.36,\n",
       "       9428.46, 8446.68, 8115.54, 9249.6 , 9043.5 , 8624.22, 8350.32,\n",
       "       8645.82, 8871.96, 8932.44, 8577.84, 8415.84, 8437.2 , 9289.44,\n",
       "       9224.1 , 8911.32, 8745.96, 8930.76, 9390.72, 9307.32, 9838.38,\n",
       "       9317.64, 8641.68, 8518.44, 8578.98, 8900.82, 8591.16, 8781.72,\n",
       "       8255.94, 8968.08, 8109.24, 9180.24, 7708.38, 8099.4 , 9337.38,\n",
       "       8425.32, 7897.68, 8371.62, 8009.58, 7952.64, 7643.52, 8966.64])"
      ]
     },
     "execution_count": 15,
     "metadata": {},
     "output_type": "execute_result"
    }
   ],
   "source": [
    "y_pred = regressor.predict(x_test)\n",
    "\n",
    "y_pred"
   ]
  },
  {
   "cell_type": "code",
   "execution_count": 16,
   "metadata": {},
   "outputs": [
    {
     "data": {
      "text/plain": [
       "1764783.7080467532"
      ]
     },
     "execution_count": 16,
     "metadata": {},
     "output_type": "execute_result"
    }
   ],
   "source": [
    "mean_squared_error(y_test, y_pred)\n",
    "#1743722.4680571433"
   ]
  },
  {
   "cell_type": "code",
   "execution_count": null,
   "metadata": {},
   "outputs": [],
   "source": []
  }
 ],
 "metadata": {
  "kernelspec": {
   "display_name": "Python 3.8.5 ('base')",
   "language": "python",
   "name": "python3"
  },
  "language_info": {
   "codemirror_mode": {
    "name": "ipython",
    "version": 3
   },
   "file_extension": ".py",
   "mimetype": "text/x-python",
   "name": "python",
   "nbconvert_exporter": "python",
   "pygments_lexer": "ipython3",
   "version": "3.8.5"
  },
  "orig_nbformat": 4,
  "vscode": {
   "interpreter": {
    "hash": "5c3cd99063abd1b4c15ea40868a5df46d871e2273225f116d3d00cd8553a7cf8"
   }
  }
 },
 "nbformat": 4,
 "nbformat_minor": 2
}
