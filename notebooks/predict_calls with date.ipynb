{
 "cells": [
  {
   "cell_type": "code",
   "execution_count": 88,
   "metadata": {},
   "outputs": [],
   "source": [
    "# predict calls with random forest\n"
   ]
  },
  {
   "cell_type": "code",
   "execution_count": 89,
   "metadata": {},
   "outputs": [],
   "source": [
    "import pandas as pd\n",
    "import numpy as np\n",
    "import xgboost\n",
    "from xgboost import XGBRegressor\n",
    "from sklearn.metrics import mean_squared_error\n",
    "from sklearn.metrics import r2_score\n"
   ]
  },
  {
   "cell_type": "code",
   "execution_count": 90,
   "metadata": {},
   "outputs": [
    {
     "name": "stdout",
     "output_type": "stream",
     "text": [
      "<class 'pandas.core.frame.DataFrame'>\n",
      "Int64Index: 1152 entries, 0 to 1151\n",
      "Data columns (total 11 columns):\n",
      " #   Column       Non-Null Count  Dtype         \n",
      "---  ------       --------------  -----         \n",
      " 0   date         1152 non-null   datetime64[ns]\n",
      " 1   n_sick       1152 non-null   int64         \n",
      " 2   calls        1152 non-null   float64       \n",
      " 3   n_duty       1152 non-null   int64         \n",
      " 4   n_sby        1152 non-null   int64         \n",
      " 5   sby_need     1152 non-null   float64       \n",
      " 6   dafted       1152 non-null   float64       \n",
      " 7   year         1152 non-null   int64         \n",
      " 8   month        1152 non-null   int64         \n",
      " 9   day_of_week  1152 non-null   int64         \n",
      " 10  week         1152 non-null   int64         \n",
      "dtypes: datetime64[ns](1), float64(3), int64(7)\n",
      "memory usage: 108.0 KB\n"
     ]
    }
   ],
   "source": [
    "df = pd.read_csv('/Users/kata/Desktop/GitHub/standby_duty_forecasting/sickness_table.csv', index_col=0)\n",
    "df['date'] = pd.to_datetime(df['date'])\n",
    "df['year']= df['date'].dt.year\n",
    "df['month']= df['date'].dt.month\n",
    "df['day_of_week'] = df['date'].dt.dayofweek\n",
    "df['week'] = df['date'].dt.isocalendar().week\n",
    "df['week'] = df['week'].astype(np.int64)\n",
    "df.info()\n"
   ]
  },
  {
   "cell_type": "code",
   "execution_count": 91,
   "metadata": {},
   "outputs": [],
   "source": [
    "X = df[['year', 'month', 'day_of_week',\n",
    "       'week']]\n",
    "y = df.calls"
   ]
  },
  {
   "cell_type": "code",
   "execution_count": 92,
   "metadata": {},
   "outputs": [],
   "source": [
    "def train_test_split(data, n_test):\n",
    "\treturn data[:n_test], data[n_test:]\n",
    "\n",
    "\n",
    "x_train, x_test = train_test_split(X, 921)\n",
    "y_train, y_test = train_test_split(y, 921)\n"
   ]
  },
  {
   "cell_type": "code",
   "execution_count": 93,
   "metadata": {},
   "outputs": [],
   "source": [
    "model = XGBRegressor()"
   ]
  },
  {
   "cell_type": "code",
   "execution_count": 94,
   "metadata": {},
   "outputs": [
    {
     "data": {
      "text/plain": [
       "XGBRegressor(base_score=0.5, booster='gbtree', callbacks=None,\n",
       "             colsample_bylevel=1, colsample_bynode=1, colsample_bytree=1,\n",
       "             early_stopping_rounds=None, enable_categorical=False,\n",
       "             eval_metric=None, gamma=0, gpu_id=-1, grow_policy='depthwise',\n",
       "             importance_type=None, interaction_constraints='',\n",
       "             learning_rate=0.300000012, max_bin=256, max_cat_to_onehot=4,\n",
       "             max_delta_step=0, max_depth=6, max_leaves=0, min_child_weight=1,\n",
       "             missing=nan, monotone_constraints='()', n_estimators=100, n_jobs=0,\n",
       "             num_parallel_tree=1, predictor='auto', random_state=0, reg_alpha=0,\n",
       "             reg_lambda=1, ...)"
      ]
     },
     "execution_count": 94,
     "metadata": {},
     "output_type": "execute_result"
    }
   ],
   "source": [
    "model.fit(x_train, y_train)"
   ]
  },
  {
   "cell_type": "code",
   "execution_count": 95,
   "metadata": {},
   "outputs": [],
   "source": [
    "pred = model.predict(x_test)"
   ]
  },
  {
   "cell_type": "code",
   "execution_count": 96,
   "metadata": {},
   "outputs": [
    {
     "data": {
      "text/plain": [
       "array([ 9072.806 ,  8155.94  ,  8627.281 ,  8043.2935,  7422.192 ,\n",
       "        7884.6733,  9600.832 ,  8529.699 ,  8320.084 ,  9291.118 ,\n",
       "        8657.1455,  7605.6973,  7488.711 ,  8741.474 ,  8585.317 ,\n",
       "        8284.157 ,  9171.77  ,  8912.073 ,  7815.185 ,  7903.126 ,\n",
       "        9934.257 ,  7836.289 ,  7670.754 , 10146.952 , 10214.008 ,\n",
       "        8199.1   ,  7703.5713,  8291.624 ,  7980.8853,  7650.7715,\n",
       "        7663.6313,  8252.081 ,  7476.681 ,  6912.535 ,  9193.486 ,\n",
       "        8773.058 ,  7629.858 ,  8238.679 ,  7906.112 ,  6963.6895,\n",
       "        6206.161 ,  7118.527 ,  8132.553 ,  8010.0664,  7530.1914,\n",
       "        7514.039 ,  6927.144 ,  6106.283 ,  6801.948 ,  8014.036 ,\n",
       "        6754.197 ,  8788.449 ,  8508.348 ,  6848.31  ,  6739.1255,\n",
       "        7900.215 ,  8790.33  ,  8028.5747,  8247.475 ,  7871.816 ,\n",
       "        7746.8223,  7057.115 ,  7358.0425,  8317.43  ,  7351.8896,\n",
       "        7981.0503,  7277.7617,  7997.558 ,  6217.0977,  7158.677 ,\n",
       "        6911.571 ,  7467.809 ,  9225.225 ,  8412.445 ,  7659.379 ,\n",
       "        5858.031 ,  8738.09  ,  6704.362 ,  7330.9844,  8706.1455,\n",
       "        8820.296 ,  6980.142 ,  5819.3276, 13672.579 ,  7301.066 ,\n",
       "        6643.1816,  6801.876 ,  8293.924 ,  7550.9346,  7445.601 ,\n",
       "        8397.022 ,  8258.93  ,  8104.09  ,  7045.634 ,  7428.5435,\n",
       "        6607.25  ,  6758.5864,  6888.7515,  7901.4487,  6248.2905,\n",
       "        7407.9985,  8039.7095,  6151.283 ,  6833.452 ,  5911.8843,\n",
       "        5808.5537,  5938.5527,  5871.571 ,  6654.231 ,  6606.7173,\n",
       "        6460.7305,  6915.4053,  5883.192 ,  6399.182 ,  6232.8413,\n",
       "        8069.703 ,  8435.674 ,  7584.71  ,  7705.0464,  7165.709 ,\n",
       "        7385.45  ,  7687.3564,  7981.3633,  8102.557 ,  6862.72  ,\n",
       "        6736.902 ,  7219.592 ,  7131.6826,  6860.334 ,  6785.1914,\n",
       "        7637.1265,  7000.44  ,  7639.966 ,  7092.5884,  8210.829 ,\n",
       "        6790.324 ,  7739.07  ,  6085.6934,  5939.561 ,  6535.993 ,\n",
       "        8327.397 ,  8910.948 ,  7930.8945,  8883.805 ,  7933.658 ,\n",
       "        7681.8115,  9536.444 ,  8438.596 ,  9282.82  ,  8011.5303,\n",
       "        7899.5015,  8071.8896,  7669.931 ,  9025.76  ,  8851.12  ,\n",
       "        7873.2866,  8684.488 ,  7737.303 ,  7980.2305,  7884.1284,\n",
       "        8277.104 ,  7438.77  ,  7613.08  ,  7571.1416,  7143.6895,\n",
       "        6979.6904,  7264.8135,  7733.4663,  7549.884 ,  7294.5635,\n",
       "        8007.957 ,  8499.881 ,  8013.42  ,  7809.1562,  9779.288 ,\n",
       "        9434.324 ,  9395.189 ,  8420.058 ,  9276.271 ,  8637.241 ,\n",
       "        8143.724 ,  9438.766 ,  8662.647 ,  8359.417 ,  8705.694 ,\n",
       "        8802.252 ,  8360.461 ,  8138.2007,  8623.17  ,  9348.917 ,\n",
       "        8478.012 ,  8259.886 ,  8955.39  ,  9138.044 ,  8764.104 ,\n",
       "        8280.839 ,  8663.638 ,  9061.161 ,  8831.475 ,  8375.502 ,\n",
       "        8087.429 ,  8459.225 ,  9429.322 ,  9233.655 ,  8986.067 ,\n",
       "        8973.861 ,  9021.624 ,  9803.716 ,  9420.025 ,  9918.503 ,\n",
       "        9167.031 ,  8551.811 ,  8498.886 ,  8601.701 ,  9168.737 ,\n",
       "        8555.261 ,  8587.116 ,  8213.394 ,  8556.536 ,  8210.219 ,\n",
       "        8970.806 ,  7553.443 ,  8076.1094,  9434.446 ,  8704.747 ,\n",
       "        8143.1562,  8029.599 ,  7840.575 ,  7859.3193,  7776.8916,\n",
       "        8850.54  ], dtype=float32)"
      ]
     },
     "execution_count": 96,
     "metadata": {},
     "output_type": "execute_result"
    }
   ],
   "source": [
    "pred"
   ]
  },
  {
   "cell_type": "code",
   "execution_count": 97,
   "metadata": {},
   "outputs": [
    {
     "data": {
      "text/plain": [
       "2092620.6058171096"
      ]
     },
     "execution_count": 97,
     "metadata": {},
     "output_type": "execute_result"
    }
   ],
   "source": [
    "mean_squared_error(y_test, pred)\n",
    "# 2092620.6058171096"
   ]
  },
  {
   "cell_type": "code",
   "execution_count": 98,
   "metadata": {},
   "outputs": [
    {
     "name": "stdout",
     "output_type": "stream",
     "text": [
      " Accuracy of the model is -24.77\n"
     ]
    }
   ],
   "source": [
    "Accuracy=r2_score(y_test,pred)*100\n",
    "print(\" Accuracy of the model is %.2f\" %Accuracy)"
   ]
  },
  {
   "cell_type": "code",
   "execution_count": 99,
   "metadata": {},
   "outputs": [],
   "source": [
    "# decision tree?\n",
    "from sklearn.ensemble import RandomForestRegressor\n"
   ]
  },
  {
   "cell_type": "code",
   "execution_count": 100,
   "metadata": {},
   "outputs": [],
   "source": [
    "regressor = RandomForestRegressor()"
   ]
  },
  {
   "cell_type": "code",
   "execution_count": 101,
   "metadata": {},
   "outputs": [
    {
     "data": {
      "text/plain": [
       "RandomForestRegressor()"
      ]
     },
     "execution_count": 101,
     "metadata": {},
     "output_type": "execute_result"
    }
   ],
   "source": [
    "regressor.fit(x_train, y_train)"
   ]
  },
  {
   "cell_type": "code",
   "execution_count": 102,
   "metadata": {},
   "outputs": [
    {
     "data": {
      "text/plain": [
       "array([9369.42, 8962.32, 9212.34, 8580.6 , 7845.12, 7654.44, 9303.42,\n",
       "       9010.92, 8717.64, 9066.72, 8591.7 , 7734.06, 7384.08, 9007.86,\n",
       "       8852.52, 8607.18, 8913.3 , 8588.7 , 7556.22, 7547.28, 9348.6 ,\n",
       "       9022.68, 8913.  , 9234.84, 8790.36, 7802.46, 7349.64, 8258.76,\n",
       "       8237.58, 7759.8 , 7613.94, 7544.28, 7352.46, 6780.48, 8655.84,\n",
       "       8636.64, 7867.38, 7906.32, 7559.52, 7054.08, 6412.74, 7588.86,\n",
       "       8264.1 , 8047.44, 7480.62, 7331.94, 6976.26, 6341.76, 7478.76,\n",
       "       8070.9 , 7398.06, 8052.9 , 7722.  , 7068.96, 6622.62, 7971.96,\n",
       "       8467.5 , 7951.74, 7903.56, 7503.12, 7434.12, 6886.68, 7604.94,\n",
       "       7883.52, 7378.38, 7648.14, 7012.5 , 7463.7 , 6179.16, 7467.66,\n",
       "       7252.2 , 7488.36, 8108.88, 7624.26, 7419.24, 6023.22, 8009.04,\n",
       "       7307.64, 7387.56, 7907.4 , 7749.36, 7093.26, 6045.36, 9370.14,\n",
       "       7542.06, 6777.96, 6894.06, 8001.42, 7541.46, 7396.92, 8172.3 ,\n",
       "       8138.7 , 8056.2 , 7218.66, 7464.54, 6777.36, 6760.38, 7168.62,\n",
       "       7560.3 , 6770.16, 7362.84, 7866.78, 6517.44, 6778.86, 5968.32,\n",
       "       5920.02, 6239.88, 5821.32, 6551.58, 6699.48, 6524.7 , 6852.12,\n",
       "       6008.7 , 6387.42, 6186.9 , 8110.98, 8369.16, 7443.54, 7590.3 ,\n",
       "       7399.8 , 7220.16, 7806.66, 8067.24, 7931.04, 6880.62, 6889.56,\n",
       "       7210.44, 7285.32, 7096.56, 6718.38, 7503.96, 6940.98, 7568.64,\n",
       "       7153.32, 8015.82, 6873.78, 7883.82, 6479.94, 6020.28, 7149.18,\n",
       "       7886.28, 8652.96, 8387.82, 8711.16, 8137.86, 7875.9 , 9226.44,\n",
       "       8725.38, 9013.26, 8112.54, 7851.06, 7999.98, 7744.98, 8945.4 ,\n",
       "       8864.64, 7843.26, 8665.98, 7744.26, 7900.68, 7868.16, 8386.74,\n",
       "       7323.96, 7728.24, 7481.76, 7356.66, 6957.42, 7193.58, 7915.92,\n",
       "       7417.62, 7390.08, 7922.94, 8298.48, 8037.72, 8061.24, 9537.06,\n",
       "       9138.06, 9702.6 , 8660.64, 9263.82, 8414.22, 8394.3 , 9221.34,\n",
       "       8713.32, 8294.04, 9245.04, 8671.5 , 8388.96, 8056.38, 8674.2 ,\n",
       "       9340.74, 8298.54, 7997.76, 9094.8 , 9051.06, 8649.54, 8385.6 ,\n",
       "       8780.04, 9024.24, 8962.5 , 8515.86, 8408.7 , 8408.34, 9211.56,\n",
       "       9220.56, 8844.9 , 8849.52, 9005.82, 9424.62, 9410.04, 9814.92,\n",
       "       9156.48, 8550.6 , 8546.04, 8576.28, 8906.28, 8682.78, 8671.8 ,\n",
       "       8223.9 , 8973.  , 8265.06, 9024.9 , 7543.2 , 8168.04, 9323.64,\n",
       "       8473.68, 7994.82, 8510.04, 7990.86, 7825.62, 7822.2 , 9030.66])"
      ]
     },
     "execution_count": 102,
     "metadata": {},
     "output_type": "execute_result"
    }
   ],
   "source": [
    "y_pred = regressor.predict(x_test)\n",
    "\n",
    "y_pred"
   ]
  },
  {
   "cell_type": "code",
   "execution_count": 103,
   "metadata": {},
   "outputs": [
    {
     "data": {
      "text/plain": [
       "1740226.4824051948"
      ]
     },
     "execution_count": 103,
     "metadata": {},
     "output_type": "execute_result"
    }
   ],
   "source": [
    "mean_squared_error(y_test, y_pred)\n",
    "#1743722.4680571433"
   ]
  },
  {
   "cell_type": "code",
   "execution_count": 104,
   "metadata": {},
   "outputs": [
    {
     "name": "stdout",
     "output_type": "stream",
     "text": [
      " Accuracy of the model is -3.75\n"
     ]
    }
   ],
   "source": [
    "Accuracy=r2_score(y_test,y_pred)*100\n",
    "print(\" Accuracy of the model is %.2f\" %Accuracy)"
   ]
  },
  {
   "cell_type": "code",
   "execution_count": 105,
   "metadata": {},
   "outputs": [],
   "source": [
    "# SVM\n",
    "from sklearn.svm import SVR"
   ]
  },
  {
   "cell_type": "code",
   "execution_count": 106,
   "metadata": {},
   "outputs": [
    {
     "data": {
      "text/plain": [
       "SVR()"
      ]
     },
     "execution_count": 106,
     "metadata": {},
     "output_type": "execute_result"
    }
   ],
   "source": [
    "regressor = SVR(kernel = 'rbf')\n",
    "regressor.fit(X, y)"
   ]
  },
  {
   "cell_type": "code",
   "execution_count": 107,
   "metadata": {},
   "outputs": [],
   "source": [
    "y_pred = regressor.predict(x_test)\n"
   ]
  },
  {
   "cell_type": "code",
   "execution_count": 108,
   "metadata": {},
   "outputs": [
    {
     "data": {
      "text/plain": [
       "1970608.4805071584"
      ]
     },
     "execution_count": 108,
     "metadata": {},
     "output_type": "execute_result"
    }
   ],
   "source": [
    "mean_squared_error(y_test, y_pred)\n",
    "# 1970608.4805071584"
   ]
  },
  {
   "cell_type": "code",
   "execution_count": 109,
   "metadata": {},
   "outputs": [
    {
     "name": "stdout",
     "output_type": "stream",
     "text": [
      " Accuracy of the model is -17.49\n"
     ]
    }
   ],
   "source": [
    "Accuracy=r2_score(y_test,y_pred)*100\n",
    "print(\" Accuracy of the model is %.2f\" %Accuracy)"
   ]
  },
  {
   "cell_type": "code",
   "execution_count": 110,
   "metadata": {},
   "outputs": [],
   "source": [
    "# linear regression\n",
    "from sklearn.linear_model import LinearRegression\n"
   ]
  },
  {
   "cell_type": "code",
   "execution_count": 111,
   "metadata": {},
   "outputs": [
    {
     "data": {
      "text/plain": [
       "LinearRegression()"
      ]
     },
     "execution_count": 111,
     "metadata": {},
     "output_type": "execute_result"
    }
   ],
   "source": [
    "linreg=LinearRegression()\n",
    "linreg.fit(x_train,y_train)"
   ]
  },
  {
   "cell_type": "code",
   "execution_count": 112,
   "metadata": {},
   "outputs": [],
   "source": [
    "y_pred=linreg.predict(x_test)\n"
   ]
  },
  {
   "cell_type": "code",
   "execution_count": 113,
   "metadata": {},
   "outputs": [
    {
     "data": {
      "text/plain": [
       "1728872.9009036084"
      ]
     },
     "execution_count": 113,
     "metadata": {},
     "output_type": "execute_result"
    }
   ],
   "source": [
    "mean_squared_error(y_test, y_pred)\n",
    "# 1728872.9009036084"
   ]
  },
  {
   "cell_type": "code",
   "execution_count": 114,
   "metadata": {},
   "outputs": [
    {
     "name": "stdout",
     "output_type": "stream",
     "text": [
      " Accuracy of the model is -3.08\n"
     ]
    }
   ],
   "source": [
    "Accuracy=r2_score(y_test,y_pred)*100\n",
    "print(\" Accuracy of the model is %.2f\" %Accuracy)"
   ]
  },
  {
   "cell_type": "code",
   "execution_count": null,
   "metadata": {},
   "outputs": [],
   "source": []
  }
 ],
 "metadata": {
  "kernelspec": {
   "display_name": "Python 3.8.5 ('base')",
   "language": "python",
   "name": "python3"
  },
  "language_info": {
   "codemirror_mode": {
    "name": "ipython",
    "version": 3
   },
   "file_extension": ".py",
   "mimetype": "text/x-python",
   "name": "python",
   "nbconvert_exporter": "python",
   "pygments_lexer": "ipython3",
   "version": "3.8.5"
  },
  "orig_nbformat": 4,
  "vscode": {
   "interpreter": {
    "hash": "5c3cd99063abd1b4c15ea40868a5df46d871e2273225f116d3d00cd8553a7cf8"
   }
  }
 },
 "nbformat": 4,
 "nbformat_minor": 2
}
