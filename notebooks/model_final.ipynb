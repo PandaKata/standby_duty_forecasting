{
 "cells": [
  {
   "cell_type": "markdown",
   "metadata": {},
   "source": [
    "## Final Model for sby_need"
   ]
  },
  {
   "cell_type": "markdown",
   "metadata": {},
   "source": [
    "Predict sby_need with predicted calls with RandomForest"
   ]
  },
  {
   "cell_type": "code",
   "execution_count": 1,
   "metadata": {},
   "outputs": [],
   "source": [
    "import pandas as pd\n",
    "import numpy as np\n",
    "import matplotlib.pyplot as plt\n",
    "import datetime\n",
    "from pprint import pprint\n",
    "from sklearn.ensemble import RandomForestRegressor\n",
    "from sklearn.linear_model import LinearRegression, Lasso, Ridge, QuantileRegressor\n",
    "from sklearn.metrics import mean_squared_error, mean_absolute_error\n",
    "from sklearn.model_selection import cross_val_score, RandomizedSearchCV, GridSearchCV"
   ]
  },
  {
   "cell_type": "code",
   "execution_count": 2,
   "metadata": {},
   "outputs": [
    {
     "name": "stdout",
     "output_type": "stream",
     "text": [
      "/Users/kata/opt/anaconda3/bin/python\n"
     ]
    }
   ],
   "source": [
    "import sys\n",
    "print(sys.executable)"
   ]
  },
  {
   "cell_type": "code",
   "execution_count": 3,
   "metadata": {},
   "outputs": [
    {
     "name": "stdout",
     "output_type": "stream",
     "text": [
      "<class 'pandas.core.frame.DataFrame'>\n",
      "Int64Index: 1152 entries, 0 to 1151\n",
      "Data columns (total 13 columns):\n",
      " #   Column        Non-Null Count  Dtype         \n",
      "---  ------        --------------  -----         \n",
      " 0   date          1152 non-null   datetime64[ns]\n",
      " 1   n_sick        1152 non-null   int64         \n",
      " 2   calls         1152 non-null   float64       \n",
      " 3   n_duty        1152 non-null   int64         \n",
      " 4   n_sby         1152 non-null   int64         \n",
      " 5   sby_need      1152 non-null   float64       \n",
      " 6   dafted        1152 non-null   float64       \n",
      " 7   year          1152 non-null   int64         \n",
      " 8   month         1152 non-null   int64         \n",
      " 9   day_of_week   1152 non-null   int64         \n",
      " 10  week          1152 non-null   int64         \n",
      " 11  day_of_month  1152 non-null   int64         \n",
      " 12  day_of_year   1152 non-null   int64         \n",
      "dtypes: datetime64[ns](1), float64(3), int64(9)\n",
      "memory usage: 126.0 KB\n"
     ]
    }
   ],
   "source": [
    "# load data\n",
    "# feature engineering\n",
    "df = pd.read_csv('/Users/kata/Desktop/GitHub/standby_duty_forecasting/sickness_table.csv', index_col=0)\n",
    "df['date'] = pd.to_datetime(df['date'])\n",
    "df['year']= df['date'].dt.year\n",
    "df['month']= df['date'].dt.month\n",
    "df['day_of_week'] = df['date'].dt.dayofweek\n",
    "df['week'] = df['date'].dt.isocalendar().week\n",
    "df['day_of_month'] = df['date'].dt.day\n",
    "df['day_of_year'] = df['date'].dt.dayofyear\n",
    "# change type to not get error\n",
    "df['week'] = df['week'].astype(np.int64)\n",
    "df.info()"
   ]
  },
  {
   "cell_type": "code",
   "execution_count": 4,
   "metadata": {},
   "outputs": [],
   "source": [
    "# predict calls with RF\n",
    "# define X and y data\n",
    "X = df[['year', 'month', 'day_of_week',\n",
    "       'week', 'day_of_month', 'day_of_year']]\n",
    "y = df.calls"
   ]
  },
  {
   "cell_type": "code",
   "execution_count": 5,
   "metadata": {},
   "outputs": [],
   "source": [
    "# train test split\n",
    "def train_test_split(data, n_test):\n",
    "\treturn data[:n_test], data[n_test:]\n",
    "\n",
    "\n",
    "x_train, x_test = train_test_split(X, 922)\n",
    "y_train, y_test = train_test_split(y, 922)"
   ]
  },
  {
   "cell_type": "code",
   "execution_count": 6,
   "metadata": {},
   "outputs": [],
   "source": [
    "# train first model\n",
    "# no tuned parameters\n",
    "model = RandomForestRegressor(n_estimators=1000, random_state=6)\n",
    "model.fit(x_train, y_train)\n",
    "pred = model.predict(x_test)"
   ]
  },
  {
   "cell_type": "code",
   "execution_count": 7,
   "metadata": {},
   "outputs": [
    {
     "name": "stdout",
     "output_type": "stream",
     "text": [
      "RMSE: 1236.0084043773995\n",
      "MSE: 1527716.7756915651\n"
     ]
    }
   ],
   "source": [
    "# calculte RMSE and MSE\n",
    "print('RMSE:', np.sqrt(mean_squared_error(y_test, pred)))\n",
    "print('MSE:', mean_squared_error(y_test, pred))"
   ]
  },
  {
   "cell_type": "markdown",
   "metadata": {},
   "source": [
    "Leave sby_need out:"
   ]
  },
  {
   "cell_type": "markdown",
   "metadata": {},
   "source": [
    "#### Prepare for visualization"
   ]
  },
  {
   "cell_type": "code",
   "execution_count": 10,
   "metadata": {},
   "outputs": [],
   "source": [
    "# visualization\n",
    "# Dates of the actual training values\n",
    "months = X['month']\n",
    "days = X['day_of_month']\n",
    "years = X['year']\n",
    "\n",
    "# List and then convert to datetime object\n",
    "dates = [str(int(year)) + '-' + str(int(month)) + '-' + str(int(day)) for year, month, day in zip(years, months, days)]\n",
    "dates = [datetime.datetime.strptime(date, '%Y-%m-%d') for date in dates]\n",
    "\n",
    "\n",
    "# Dataframe with true values and dates\n",
    "true_data = pd.DataFrame(data = {'date': dates, 'actual': y})"
   ]
  },
  {
   "cell_type": "code",
   "execution_count": 11,
   "metadata": {},
   "outputs": [],
   "source": [
    "# Dates of the predictions\n",
    "months = x_test['month']\n",
    "days = x_test['day_of_month']\n",
    "years = x_test['year']\n",
    "\n",
    "# Column of dates\n",
    "test_dates = [str(int(year)) + '-' + str(int(month)) + '-' + str(int(day)) for year, month, day in zip(years, months, days)]\n",
    "# Convert to datetime objects\n",
    "test_dates = [datetime.datetime.strptime(date, '%Y-%m-%d') for date in test_dates]\n",
    "# Dataframe with predictions and dates\n",
    "predictions_data = pd.DataFrame(data = {'date': test_dates, 'prediction': pred})"
   ]
  },
  {
   "cell_type": "code",
   "execution_count": 12,
   "metadata": {},
   "outputs": [
    {
     "data": {
      "image/png": "[encoded data removed]",
      "text/plain": [
       "<Figure size 864x432 with 1 Axes>"
      ]
     },
     "metadata": {
      "needs_background": "light"
     },
     "output_type": "display_data"
    }
   ],
   "source": [
    "# plot prediction and actual values\n",
    "plt.figure(figsize=(12,6))\n",
    "plt.plot(true_data['date'], true_data['actual'], 'b-', label = 'actual', alpha=0.5, color='tab:blue')\n",
    "# Plot the predicted values\n",
    "plt.plot(predictions_data['date'], predictions_data['prediction'], label = 'prediction', color='tab:purple')\n",
    "plt.xticks(rotation = '60'); \n",
    "plt.legend()\n",
    "# Graph labels\n",
    "plt.xlabel('Date'); plt.ylabel('Calls'); plt.title('Actual and predicted Values');"
   ]
  },
  {
   "cell_type": "markdown",
   "metadata": {},
   "source": [
    "### Hyperparameter Tuning"
   ]
  },
  {
   "cell_type": "code",
   "execution_count": 13,
   "metadata": {},
   "outputs": [
    {
     "name": "stdout",
     "output_type": "stream",
     "text": [
      "Parameters currently in use:\n",
      "\n",
      "{'bootstrap': True,\n",
      " 'ccp_alpha': 0.0,\n",
      " 'criterion': 'squared_error',\n",
      " 'max_depth': None,\n",
      " 'max_features': 1.0,\n",
      " 'max_leaf_nodes': None,\n",
      " 'max_samples': None,\n",
      " 'min_impurity_decrease': 0.0,\n",
      " 'min_samples_leaf': 1,\n",
      " 'min_samples_split': 2,\n",
      " 'min_weight_fraction_leaf': 0.0,\n",
      " 'n_estimators': 1000,\n",
      " 'n_jobs': None,\n",
      " 'oob_score': False,\n",
      " 'random_state': 6,\n",
      " 'verbose': 0,\n",
      " 'warm_start': False}\n"
     ]
    }
   ],
   "source": [
    "# Look at parameters used by our current forest\n",
    "print('Parameters currently in use:\\n')\n",
    "pprint(model.get_params())"
   ]
  },
  {
   "cell_type": "code",
   "execution_count": null,
   "metadata": {},
   "outputs": [],
   "source": [
    "# grid search\n",
    "# Number of trees in random forest\n",
    "n_estimators = [int(x) for x in np.linspace(start = 200, stop = 2000, num = 10)]\n",
    "# Number of features to consider at every split\n",
    "max_features = ['auto', 'sqrt']\n",
    "# Maximum number of levels in tree\n",
    "max_depth = [int(x) for x in np.linspace(10, 110, num = 11)]\n",
    "max_depth.append(None)\n",
    "# Minimum number of samples required to split a node\n",
    "min_samples_split = [2, 5, 10]\n",
    "# Minimum number of samples required at each leaf node\n",
    "min_samples_leaf = [1, 2, 4]\n",
    "# Method of selecting samples for training each tree\n",
    "bootstrap = [True, False]"
   ]
  },
  {
   "cell_type": "code",
   "execution_count": null,
   "metadata": {},
   "outputs": [],
   "source": [
    "# Create the random grid\n",
    "#random_grid = {'n_estimators': n_estimators,\n",
    "#               'max_features': max_features,\n",
    "#               'max_depth': max_depth,\n",
    "#               'min_samples_split': min_samples_split,\n",
    "#               'min_samples_leaf': min_samples_leaf,\n",
    "#               'bootstrap': bootstrap}"
   ]
  },
  {
   "cell_type": "code",
   "execution_count": null,
   "metadata": {},
   "outputs": [],
   "source": [
    "# pprint(random_grid)"
   ]
  },
  {
   "cell_type": "code",
   "execution_count": null,
   "metadata": {},
   "outputs": [],
   "source": [
    "# Use the random grid to search for best hyperparameters\n",
    "# First create the base model to tune\n",
    "# model = RandomForestRegressor()\n",
    "# Random search of parameters, using 3 fold cross validation, \n",
    "# search across 100 different combinations, and use all available cores\n",
    "# model_random = RandomizedSearchCV(estimator = model, param_distributions = random_grid, n_iter = 100, cv = 3, verbose=2, random_state=42, n_jobs = -1)\n",
    "# Fit the random search model\n",
    "#model_random.fit(x_train, y_train)"
   ]
  },
  {
   "cell_type": "code",
   "execution_count": null,
   "metadata": {},
   "outputs": [],
   "source": [
    "# view best parameters\n",
    "#model_random.best_params_"
   ]
  },
  {
   "cell_type": "markdown",
   "metadata": {},
   "source": [
    "Best parameters:\n",
    "{'n_estimators': 2000,\n",
    " 'min_samples_split': 5,\n",
    " 'min_samples_leaf': 1,\n",
    " 'max_features': 'sqrt',\n",
    " 'max_depth': 10,\n",
    " 'bootstrap': True}"
   ]
  },
  {
   "cell_type": "code",
   "execution_count": 14,
   "metadata": {},
   "outputs": [],
   "source": [
    "# Evaluate Random Search\n",
    "# To determine if random search yielded a better model, we compare the base model with the best random search model.\n",
    "def evaluate(model, test_features, test_labels):\n",
    "    predictions = model.predict(test_features)\n",
    "    mse = mean_squared_error(test_labels, predictions)\n",
    "    rmse = np.sqrt(mse)\n",
    "    print('Model Performance')\n",
    "    print('Mean Squared Error: {:0.2f}'.format(mse))\n",
    "    print('Root Mean Squared Error: {:0.2f}'.format(rmse))\n",
    "    \n",
    "    return rmse, mse\n"
   ]
  },
  {
   "cell_type": "code",
   "execution_count": 15,
   "metadata": {},
   "outputs": [
    {
     "name": "stdout",
     "output_type": "stream",
     "text": [
      "Model Performance\n",
      "Mean Squared Error: 1527716.78\n",
      "Root Mean Squared Error: 1236.01\n"
     ]
    },
    {
     "data": {
      "text/plain": [
       "(1236.0084043773995, 1527716.7756915651)"
      ]
     },
     "execution_count": 15,
     "metadata": {},
     "output_type": "execute_result"
    }
   ],
   "source": [
    "base_model = RandomForestRegressor(n_estimators = 1000, random_state = 6)\n",
    "base_model.fit(x_train, y_train)\n",
    "evaluate(base_model, x_test, y_test)"
   ]
  },
  {
   "cell_type": "code",
   "execution_count": null,
   "metadata": {},
   "outputs": [],
   "source": [
    "#best_random = model_random.best_estimator_\n",
    "#evaluate(best_random, x_test, y_test)"
   ]
  },
  {
   "cell_type": "markdown",
   "metadata": {},
   "source": [
    "Performance got better with the new parameters, now we get even more specific with grid search"
   ]
  },
  {
   "cell_type": "code",
   "execution_count": null,
   "metadata": {},
   "outputs": [],
   "source": [
    "# Create the parameter grid based on the results of random search \n",
    "param_grid = {\n",
    "    'bootstrap': [True],\n",
    "    'max_depth': [0, 10, 20],\n",
    "    'max_features': ['sqrt'],\n",
    "    'min_samples_leaf': [1, 2, 3],\n",
    "    'min_samples_split': [3, 5, 7],\n",
    "    'n_estimators': [1800, 2000, 2200]\n",
    "}\n",
    "\n",
    "# Create a based model\n",
    "rf = RandomForestRegressor()\n",
    "# Instantiate the grid search model\n",
    "grid_search = GridSearchCV(estimator = rf, param_grid = param_grid, \n",
    "                          cv = 3, n_jobs = -1, verbose = 2)"
   ]
  },
  {
   "cell_type": "code",
   "execution_count": null,
   "metadata": {},
   "outputs": [],
   "source": [
    "# Fit the grid search to the data\n",
    "#grid_search.fit(x_train, y_train)"
   ]
  },
  {
   "cell_type": "code",
   "execution_count": null,
   "metadata": {},
   "outputs": [],
   "source": [
    "#grid_search.best_params_"
   ]
  },
  {
   "cell_type": "markdown",
   "metadata": {},
   "source": [
    "best params:\n",
    "<br>\n",
    "{'bootstrap': True,\n",
    " 'max_depth': 10,\n",
    " 'max_features': 'sqrt',\n",
    " 'min_samples_leaf': 1,\n",
    " 'min_samples_split': 7,\n",
    " 'n_estimators': 1800}"
   ]
  },
  {
   "cell_type": "code",
   "execution_count": null,
   "metadata": {},
   "outputs": [],
   "source": [
    "best_grid = grid_search.best_estimator_\n",
    "evaluate(best_grid, x_test, y_test)"
   ]
  },
  {
   "cell_type": "markdown",
   "metadata": {},
   "source": [
    "--> slightly better"
   ]
  },
  {
   "cell_type": "markdown",
   "metadata": {},
   "source": [
    "### Make final prediction with new parameters"
   ]
  },
  {
   "cell_type": "code",
   "execution_count": 16,
   "metadata": {},
   "outputs": [
    {
     "name": "stdout",
     "output_type": "stream",
     "text": [
      "Model Performance\n",
      "Mean Squared Error: 1475635.44\n",
      "Root Mean Squared Error: 1214.76\n"
     ]
    },
    {
     "data": {
      "text/plain": [
       "(1214.757358200772, 1475635.4393029185)"
      ]
     },
     "execution_count": 16,
     "metadata": {},
     "output_type": "execute_result"
    }
   ],
   "source": [
    "rf = RandomForestRegressor(bootstrap=True, max_depth=10, max_features='sqrt', \n",
    "min_samples_leaf=1, min_samples_split=7, n_estimators=1800, random_state=6)\n",
    "rf.fit(x_train, y_train)\n",
    "pred = rf.predict(x_test)\n",
    "evaluate(rf, x_test, y_test)\n"
   ]
  },
  {
   "cell_type": "code",
   "execution_count": 17,
   "metadata": {},
   "outputs": [],
   "source": [
    "# prepare for visualization\n",
    "# Dataframe with predictions and dates\n",
    "predictions_data = pd.DataFrame(data = {'date': test_dates, 'prediction': pred})"
   ]
  },
  {
   "cell_type": "code",
   "execution_count": 18,
   "metadata": {},
   "outputs": [
    {
     "data": {
      "image/png": "[encoded data removed]",
      "text/plain": [
       "<Figure size 864x432 with 1 Axes>"
      ]
     },
     "metadata": {
      "needs_background": "light"
     },
     "output_type": "display_data"
    }
   ],
   "source": [
    "# plot new predictions\n",
    "# plot prediction and actual values\n",
    "plt.figure(figsize=(12,6))\n",
    "plt.plot(true_data['date'], true_data['actual'], 'b-', label = 'actual', alpha=0.5, color='tab:blue')\n",
    "# Plot the predicted values\n",
    "plt.plot(predictions_data['date'], predictions_data['prediction'], label = 'prediction', color='tab:purple')\n",
    "plt.xticks(rotation = '60'); \n",
    "plt.legend()\n",
    "# Graph labels\n",
    "plt.xlabel('Date'); plt.ylabel('Calls'); plt.title('Actual and predicted Values');"
   ]
  },
  {
   "cell_type": "markdown",
   "metadata": {},
   "source": [
    "## Predict sby_need with predicted calls"
   ]
  },
  {
   "cell_type": "code",
   "execution_count": 19,
   "metadata": {},
   "outputs": [],
   "source": [
    "# create new df with predicted calls\n",
    "calls_new = pd.concat([df['calls'].iloc[:922], predictions_data['prediction']], axis=0).reset_index(drop=True)\n",
    "intermediate_df = df.copy()\n",
    "intermediate_df['calls_new'] = calls_new"
   ]
  },
  {
   "cell_type": "code",
   "execution_count": 20,
   "metadata": {},
   "outputs": [],
   "source": [
    "# define new X and y\n",
    "X = intermediate_df[['year', 'month', 'day_of_week', \n",
    "       'week', 'n_duty', 'day_of_month', 'day_of_year', 'calls_new']]\n",
    "y = intermediate_df['sby_need']"
   ]
  },
  {
   "cell_type": "code",
   "execution_count": 21,
   "metadata": {},
   "outputs": [],
   "source": [
    "# train test split\n",
    "x_train, x_test = train_test_split(X, 922)\n",
    "y_train, y_test = train_test_split(y, 922)\n"
   ]
  },
  {
   "cell_type": "code",
   "execution_count": 22,
   "metadata": {},
   "outputs": [],
   "source": [
    "# train basic RF for feature importance\n",
    "forest = RandomForestRegressor(n_estimators=1000, random_state=6)\n",
    "forest.fit(x_train, y_train)\n",
    "pred = forest.predict(x_test)"
   ]
  },
  {
   "cell_type": "code",
   "execution_count": 23,
   "metadata": {},
   "outputs": [
    {
     "name": "stdout",
     "output_type": "stream",
     "text": [
      "['year',\n",
      " 'month',\n",
      " 'day_of_week',\n",
      " 'week',\n",
      " 'n_duty',\n",
      " 'day_of_month',\n",
      " 'day_of_year',\n",
      " 'calls_new']\n"
     ]
    }
   ],
   "source": [
    "## get feature importance before final model!!!\n",
    "feature_list = list(X.columns)\n",
    "pprint(feature_list)"
   ]
  },
  {
   "cell_type": "code",
   "execution_count": 24,
   "metadata": {},
   "outputs": [
    {
     "name": "stdout",
     "output_type": "stream",
     "text": [
      "Variable: calls_new            Importance: 0.88\n",
      "Variable: year                 Importance: 0.06\n",
      "Variable: n_duty               Importance: 0.05\n",
      "Variable: month                Importance: 0.0\n",
      "Variable: day_of_week          Importance: 0.0\n",
      "Variable: week                 Importance: 0.0\n",
      "Variable: day_of_month         Importance: 0.0\n",
      "Variable: day_of_year          Importance: 0.0\n"
     ]
    }
   ],
   "source": [
    "# Get numerical feature importances\n",
    "importances = list(forest.feature_importances_)\n",
    "# List of tuples with variable and importance\n",
    "feature_importances = [(feature, round(importance, 2)) for feature, importance in zip(feature_list, importances)]\n",
    "# Sort the feature importances by most important first\n",
    "feature_importances = sorted(feature_importances, key = lambda x: x[1], reverse = True)\n",
    "# Print out the feature and importances \n",
    "[print('Variable: {:20} Importance: {}'.format(*pair)) for pair in feature_importances];"
   ]
  },
  {
   "cell_type": "code",
   "execution_count": 25,
   "metadata": {},
   "outputs": [],
   "source": [
    "# we decide to one hot encode the year for prediction"
   ]
  },
  {
   "cell_type": "code",
   "execution_count": 26,
   "metadata": {},
   "outputs": [],
   "source": [
    "# one hot encode day of year\n",
    "one_hot_year = pd.get_dummies(intermediate_df['year'], prefix='year')\n",
    "intermediate_df = intermediate_df.join(one_hot_year)\n"
   ]
  },
  {
   "cell_type": "code",
   "execution_count": 40,
   "metadata": {},
   "outputs": [],
   "source": [
    "# new Y and y with only one hot encoded year\n",
    "X = intermediate_df[['n_duty', 'calls_new',\n",
    "       'year_2016', 'year_2017', 'year_2018', 'year_2019']]\n",
    "y = intermediate_df['sby_need']\n"
   ]
  },
  {
   "cell_type": "code",
   "execution_count": 41,
   "metadata": {},
   "outputs": [],
   "source": [
    "# train test split\n",
    "x_train, x_test = train_test_split(X, 922)\n",
    "y_train, y_test = train_test_split(y, 922)"
   ]
  },
  {
   "cell_type": "code",
   "execution_count": 87,
   "metadata": {},
   "outputs": [],
   "source": [
    "# predict sby_need with QuantileRegressor\n",
    "quantile_model = QuantileRegressor(quantile=0.95, alpha=0.25)\n",
    "quantile_model.fit(x_train, y_train)\n",
    "pred = quantile_model.predict(x_test)\n",
    "pred = pd.Series(pred)"
   ]
  },
  {
   "cell_type": "code",
   "execution_count": 88,
   "metadata": {},
   "outputs": [],
   "source": [
    "# eliminate values <0, round to nearest integer\n",
    "pred = pred.apply(lambda x: 0 if x < 0 else x)\n",
    "pred = np.round(pred)"
   ]
  },
  {
   "cell_type": "code",
   "execution_count": 89,
   "metadata": {},
   "outputs": [],
   "source": [
    "# prepare for visualization\n",
    "# Dataframe with predictions and dates\n",
    "true_data = pd.DataFrame(data = {'date': dates, 'actual': y})\n",
    "predictions_data = pd.DataFrame(data = {'date': test_dates, 'prediction': pred})"
   ]
  },
  {
   "cell_type": "code",
   "execution_count": 90,
   "metadata": {},
   "outputs": [
    {
     "name": "stdout",
     "output_type": "stream",
     "text": [
      "Model Performance\n",
      "Mean Squared Error: 12976.28\n",
      "Root Mean Squared Error: 113.91\n"
     ]
    },
    {
     "data": {
      "text/plain": [
       "(113.91346331599654, 12976.27712464489)"
      ]
     },
     "execution_count": 90,
     "metadata": {},
     "output_type": "execute_result"
    }
   ],
   "source": [
    "# evaluate\n",
    "evaluate(quantile_model, x_test, y_test)"
   ]
  },
  {
   "cell_type": "code",
   "execution_count": 126,
   "metadata": {},
   "outputs": [
    {
     "data": {
      "text/plain": [
       "array([-1.49095477e-01,  5.77889447e-02,  2.26094209e-12,  8.26327849e-12,\n",
       "       -9.77624701e-12,  0.00000000e+00])"
      ]
     },
     "execution_count": 126,
     "metadata": {},
     "output_type": "execute_result"
    }
   ],
   "source": [
    "quantile_model.coef_"
   ]
  },
  {
   "cell_type": "code",
   "execution_count": 91,
   "metadata": {},
   "outputs": [
    {
     "data": {
      "image/png": "[encoded data removed]",
      "text/plain": [
       "<Figure size 864x432 with 1 Axes>"
      ]
     },
     "metadata": {
      "needs_background": "light"
     },
     "output_type": "display_data"
    }
   ],
   "source": [
    "# plot new predictions\n",
    "# plot prediction and actual values\n",
    "plt.figure(figsize=(12,6))\n",
    "plt.plot(true_data['date'], true_data['actual'], 'b-', label = 'actual', alpha=0.5, color='tab:blue')\n",
    "# Plot the predicted values\n",
    "plt.plot(predictions_data['date'], predictions_data['prediction'], label = 'prediction', color='tab:purple')\n",
    "plt.xticks(rotation = '60'); \n",
    "plt.legend()\n",
    "# Graph labels\n",
    "plt.xlabel('Date'); plt.ylabel('Calls'); plt.title('Actual and predicted Values');"
   ]
  },
  {
   "cell_type": "code",
   "execution_count": 92,
   "metadata": {},
   "outputs": [
    {
     "data": {
      "text/plain": [
       "(230, 19)"
      ]
     },
     "execution_count": 92,
     "metadata": {},
     "output_type": "execute_result"
    }
   ],
   "source": [
    "# create new df with predictions\n",
    "df_final = intermediate_df.copy()\n",
    "sby_need_predicted = pd.concat([intermediate_df['sby_need'].iloc[:922], pred], axis=0).reset_index(drop=True)\n",
    "df_final['sby_need_predicted'] = sby_need_predicted\n",
    "# create new df for testing timeframe\n",
    "df_final_eval = df_final[922:]\n",
    "df_final_eval = df_final_eval.reset_index(drop=True)\n",
    "df_final_eval.shape"
   ]
  },
  {
   "cell_type": "code",
   "execution_count": 93,
   "metadata": {},
   "outputs": [
    {
     "name": "stdout",
     "output_type": "stream",
     "text": [
      "Understaffed: 36 days, Percent: 15.65217391304348%\n",
      "Overstaffed: 194 days, Percent: 84.34782608695653%\n",
      "Percentage activated: 83.8239830200177%\n"
     ]
    }
   ],
   "source": [
    "# check how many times we are understaffed - predicted vs actual\n",
    "df_final_eval['understaffed'] = np.where(df_final_eval['sby_need_predicted'] < df_final_eval['sby_need'], 1, 0)\n",
    "df_final_eval['overstaffed'] = np.where(df_final_eval['sby_need_predicted'] > df_final_eval['sby_need'], 1, 0)\n",
    "df_final_eval['exact_match'] = np.where(df_final_eval['sby_need_predicted'] == df_final_eval['sby_need'], 1, 0)\n",
    "understaffed = df_final_eval['understaffed'].sum()\n",
    "overstaffed = df_final_eval['overstaffed'].sum()\n",
    "df_final_eval['percentage'] = df_final_eval['sby_need_predicted']/df_final_eval['sby_need']\n",
    "df_final_eval = df_final_eval.replace([np.inf, -np.inf], 0.0)\n",
    "percentage = df_final_eval['percentage'].mean()\n",
    "print('Understaffed: {} days,'.format(understaffed), 'Percent: {}%'.format(understaffed/len(df_final_eval)*100))\n",
    "print('Overstaffed: {} days,'.format(overstaffed), 'Percent: {}%'.format(overstaffed/len(df_final_eval)*100))\n",
    "print('Percentage activated: {}%'.format(percentage*100))\n"
   ]
  },
  {
   "cell_type": "code",
   "execution_count": 94,
   "metadata": {},
   "outputs": [
    {
     "name": "stdout",
     "output_type": "stream",
     "text": [
      "Understaffed baseline: 48 days Percent: 20.869565217391305%\n",
      "Overstaffed baseline: 182 days Percent: 79.13043478260869%\n",
      "Percentage activated: 50.6626062391704 %\n"
     ]
    }
   ],
   "source": [
    "# check baseline\n",
    "df_baseline = df_final_eval.copy()\n",
    "df_baseline['understaffed'] = np.where(df_baseline['n_sby'] < df_baseline['sby_need'], 1, 0)\n",
    "df_baseline['overstaffed'] = np.where(df_baseline['n_sby'] > df_baseline['sby_need'], 1, 0)\n",
    "df_baseline['exact_match'] = np.where(df_baseline['n_sby'] == df_baseline['sby_need'], 1, 0)\n",
    "understaffed_baseline = df_baseline['understaffed'].sum()\n",
    "overstaffed_baseline = df_baseline['overstaffed'].sum()\n",
    "df_baseline['percentage'] = df_baseline['n_sby']/df_baseline['sby_need']\n",
    "df_baseline = df_baseline.replace([np.inf, -np.inf], 0.0)\n",
    "percentage = df_baseline['percentage'].mean()\n",
    "print('Understaffed baseline: {} days'.format(understaffed_baseline), 'Percent: {}%'.format(understaffed_baseline/len(df_baseline)*100))\n",
    "print('Overstaffed baseline: {} days'.format(overstaffed_baseline), 'Percent: {}%'.format(overstaffed_baseline/len(df_baseline)*100))\n",
    "print('Percentage activated: {} %'.format(percentage*100))"
   ]
  },
  {
   "cell_type": "code",
   "execution_count": null,
   "metadata": {},
   "outputs": [],
   "source": []
  },
  {
   "cell_type": "code",
   "execution_count": null,
   "metadata": {},
   "outputs": [],
   "source": []
  },
  {
   "cell_type": "code",
   "execution_count": null,
   "metadata": {},
   "outputs": [],
   "source": []
  },
  {
   "cell_type": "code",
   "execution_count": null,
   "metadata": {},
   "outputs": [],
   "source": []
  },
  {
   "cell_type": "code",
   "execution_count": null,
   "metadata": {},
   "outputs": [],
   "source": []
  },
  {
   "cell_type": "code",
   "execution_count": null,
   "metadata": {},
   "outputs": [],
   "source": []
  },
  {
   "cell_type": "code",
   "execution_count": null,
   "metadata": {},
   "outputs": [],
   "source": []
  },
  {
   "cell_type": "code",
   "execution_count": null,
   "metadata": {},
   "outputs": [],
   "source": []
  },
  {
   "cell_type": "code",
   "execution_count": null,
   "metadata": {},
   "outputs": [],
   "source": []
  },
  {
   "cell_type": "code",
   "execution_count": null,
   "metadata": {},
   "outputs": [],
   "source": []
  },
  {
   "cell_type": "code",
   "execution_count": 97,
   "metadata": {},
   "outputs": [],
   "source": [
    "# without one hot encoding\n",
    "# define new X and y\n",
    "X = intermediate_df[['year', 'n_duty', 'calls_new', 'month', 'day_of_week', 'day_of_month', 'day_of_year', 'week']]\n",
    "y = intermediate_df['sby_need']\n",
    "\n",
    "# train test split\n",
    "x_train, x_test = train_test_split(X, 922)\n",
    "y_train, y_test = train_test_split(y, 922)\n"
   ]
  },
  {
   "cell_type": "code",
   "execution_count": 98,
   "metadata": {},
   "outputs": [],
   "source": [
    "# predict sby_need with QuantileRegressor\n",
    "quantile = QuantileRegressor(quantile=0.95, alpha=0.25)\n",
    "quantile.fit(x_train, y_train)\n",
    "pred = quantile.predict(x_test)\n",
    "pred = pd.Series(pred)"
   ]
  },
  {
   "cell_type": "code",
   "execution_count": 99,
   "metadata": {},
   "outputs": [],
   "source": [
    "# eliminate values <0, round to nearest integer\n",
    "pred = pred.apply(lambda x: 0 if x < 0 else x)\n",
    "pred = np.round(pred)"
   ]
  },
  {
   "cell_type": "code",
   "execution_count": 125,
   "metadata": {},
   "outputs": [
    {
     "data": {
      "text/plain": [
       "array([-4.64056737e-12, -2.07249978e-01,  5.75470951e-02, -6.29805986e-10,\n",
       "        3.69893619e-11, -2.21524775e-10, -3.29962792e-02, -9.09746139e-11])"
      ]
     },
     "execution_count": 125,
     "metadata": {},
     "output_type": "execute_result"
    }
   ],
   "source": [
    "quantile.coef_"
   ]
  },
  {
   "cell_type": "code",
   "execution_count": 100,
   "metadata": {},
   "outputs": [
    {
     "name": "stdout",
     "output_type": "stream",
     "text": [
      "Model Performance\n",
      "Mean Squared Error: 11761.73\n",
      "Root Mean Squared Error: 108.45\n",
      "MAE is: 95.93478260869566\n"
     ]
    }
   ],
   "source": [
    "# evaluate\n",
    "evaluate(quantile, x_test, y_test)\n",
    "print('MAE is:', mean_absolute_error(y_test, pred))"
   ]
  },
  {
   "cell_type": "code",
   "execution_count": 101,
   "metadata": {},
   "outputs": [],
   "source": [
    "# prepare for visualization\n",
    "# Dataframe with predictions and dates\n",
    "true_data = pd.DataFrame(data = {'date': dates, 'actual': y})\n",
    "predictions_data = pd.DataFrame(data = {'date': test_dates, 'prediction': pred})"
   ]
  },
  {
   "cell_type": "code",
   "execution_count": 102,
   "metadata": {},
   "outputs": [
    {
     "data": {
      "image/png": "[encoded data removed]",
      "text/plain": [
       "<Figure size 864x432 with 1 Axes>"
      ]
     },
     "metadata": {
      "needs_background": "light"
     },
     "output_type": "display_data"
    }
   ],
   "source": [
    "# plot new predictions\n",
    "# plot prediction and actual values\n",
    "plt.figure(figsize=(12,6))\n",
    "plt.plot(true_data['date'], true_data['actual'], 'b-', label = 'actual', alpha=0.5, color='tab:blue')\n",
    "# Plot the predicted values\n",
    "plt.plot(predictions_data['date'], predictions_data['prediction'], label = 'prediction', color='tab:purple')\n",
    "plt.xticks(rotation = '60'); \n",
    "plt.legend()\n",
    "# Graph labels\n",
    "plt.xlabel('Date'); plt.ylabel('Calls'); plt.title('Actual and predicted Values');"
   ]
  },
  {
   "cell_type": "code",
   "execution_count": 103,
   "metadata": {},
   "outputs": [
    {
     "data": {
      "text/plain": [
       "(230, 19)"
      ]
     },
     "execution_count": 103,
     "metadata": {},
     "output_type": "execute_result"
    }
   ],
   "source": [
    "# create new df with predictions\n",
    "df_final = intermediate_df.copy()\n",
    "sby_need_predicted = pd.concat([intermediate_df['sby_need'].iloc[:922], pred], axis=0).reset_index(drop=True)\n",
    "df_final['sby_need_predicted'] = sby_need_predicted\n",
    "# create new df for testing timeframe\n",
    "df_final_eval = df_final[922:]\n",
    "df_final_eval = df_final_eval.reset_index(drop=True)\n",
    "df_final_eval.shape"
   ]
  },
  {
   "cell_type": "code",
   "execution_count": 104,
   "metadata": {},
   "outputs": [
    {
     "name": "stdout",
     "output_type": "stream",
     "text": [
      "Understaffed: 39 days, Percent: 16.956521739130434%\n",
      "Overstaffed: 191 days, Percent: 83.04347826086956%\n",
      "Exact match: 0 days, Percent: 0.0%\n",
      "Percentage activated: 79.13395244118698%\n"
     ]
    }
   ],
   "source": [
    "# check how many times we are understaffed - predicted vs actual\n",
    "df_final_eval['understaffed'] = np.where(df_final_eval['sby_need_predicted'] < df_final_eval['sby_need'], 1, 0)\n",
    "df_final_eval['overstaffed'] = np.where(df_final_eval['sby_need_predicted'] > df_final_eval['sby_need'], 1, 0)\n",
    "df_final_eval['exact_match'] = np.where(df_final_eval['sby_need_predicted'] == df_final_eval['sby_need'], 1, 0)\n",
    "understaffed = df_final_eval['understaffed'].sum()\n",
    "overstaffed = df_final_eval['overstaffed'].sum()\n",
    "exact_match = df_final_eval['exact_match'].sum()\n",
    "df_final_eval['percentage'] = df_final_eval['sby_need_predicted']/df_final_eval['sby_need']\n",
    "df_final_eval = df_final_eval.replace([np.inf, -np.inf], 0.0)\n",
    "percentage = df_final_eval['percentage'].mean()\n",
    "print('Understaffed: {} days,'.format(understaffed), 'Percent: {}%'.format(understaffed/len(df_final_eval)*100))\n",
    "print('Overstaffed: {} days,'.format(overstaffed), 'Percent: {}%'.format(overstaffed/len(df_final_eval)*100))\n",
    "print('Exact match: {} days,'.format(exact_match), 'Percent: {}%'.format(exact_match/len(df_final_eval)*100))\n",
    "print('Percentage activated: {}%'.format(percentage*100))\n"
   ]
  },
  {
   "cell_type": "code",
   "execution_count": 105,
   "metadata": {},
   "outputs": [
    {
     "name": "stdout",
     "output_type": "stream",
     "text": [
      "Understaffed baseline: 48 days Percent: 20.869565217391305%\n",
      "Overstaffed baseline: 182 days Percent: 79.13043478260869%\n",
      "Exact match baseline: 0 days Percent: 0.0%\n",
      "Percentage activated: 50.6626062391704 %\n"
     ]
    }
   ],
   "source": [
    "# check baseline\n",
    "df_baseline = df_final_eval.copy()\n",
    "df_baseline['understaffed'] = np.where(df_baseline['n_sby'] < df_baseline['sby_need'], 1, 0)\n",
    "df_baseline['overstaffed'] = np.where(df_baseline['n_sby'] > df_baseline['sby_need'], 1, 0)\n",
    "df_baseline['exact_match'] = np.where(df_baseline['n_sby'] == df_baseline['sby_need'], 1, 0)\n",
    "understaffed_baseline = df_baseline['understaffed'].sum()\n",
    "overstaffed_baseline = df_baseline['overstaffed'].sum()\n",
    "exact_match_baseline = df_baseline['exact_match'].sum()\n",
    "df_baseline['percentage'] = df_baseline['n_sby']/df_baseline['sby_need']\n",
    "df_baseline = df_baseline.replace([np.inf, -np.inf], 0.0)\n",
    "percentage = df_baseline['percentage'].mean()\n",
    "print('Understaffed baseline: {} days'.format(understaffed_baseline), 'Percent: {}%'.format(understaffed_baseline/len(df_baseline)*100))\n",
    "print('Overstaffed baseline: {} days'.format(overstaffed_baseline), 'Percent: {}%'.format(overstaffed_baseline/len(df_baseline)*100))\n",
    "print('Exact match baseline: {} days'.format(exact_match_baseline), 'Percent: {}%'.format(exact_match_baseline/len(df_baseline)*100))\n",
    "print('Percentage activated: {} %'.format(percentage*100))"
   ]
  },
  {
   "cell_type": "markdown",
   "metadata": {},
   "source": [
    "### Factor in seasonality, encode months"
   ]
  },
  {
   "cell_type": "code",
   "execution_count": 106,
   "metadata": {},
   "outputs": [],
   "source": [
    "df_final['january'] = np.where(df_final['month'] == 1, 1, 0)\n",
    "df_final['february'] = np.where(df_final['month'] == 2, 1, 0)\n",
    "df_final['march'] = np.where(df_final['month'] == 3, 1, 0)\n",
    "df_final['april'] = np.where(df_final['month'] == 4, 1, 0)\n",
    "df_final['may'] = np.where(df_final['month'] == 5, 1, 0)\n",
    "df_final['june'] = np.where(df_final['month'] == 6, 1, 0)\n",
    "df_final['july'] = np.where(df_final['month'] == 7, 1, 0)\n",
    "df_final['august'] = np.where(df_final['month'] == 8, 1, 0)\n",
    "df_final['september'] = np.where(df_final['month'] == 9, 1, 0)\n",
    "df_final['october'] = np.where(df_final['month'] == 10, 1, 0)\n",
    "df_final['november'] = np.where(df_final['month'] == 11, 1, 0)\n",
    "df_final['december'] = np.where(df_final['month'] == 12, 1, 0)\n"
   ]
  },
  {
   "cell_type": "code",
   "execution_count": 107,
   "metadata": {},
   "outputs": [],
   "source": [
    "# encode seasons\n",
    "df_final['winter'] = np.where((df_final['month'] == 12) | (df_final['month'] == 1) | (df_final['month'] == 2), 1, 0)\n",
    "df_final['spring'] = np.where((df_final['month'] == 3) | (df_final['month'] == 4) | (df_final['month'] == 5), 1, 0)\n",
    "df_final['summer'] = np.where((df_final['month'] == 6) | (df_final['month'] == 7) | (df_final['month'] == 8), 1, 0)\n",
    "df_final['fall'] = np.where((df_final['month'] == 9) | (df_final['month'] == 10) | (df_final['month'] == 11), 1, 0)"
   ]
  },
  {
   "cell_type": "code",
   "execution_count": 108,
   "metadata": {},
   "outputs": [],
   "source": [
    "# encode year\n",
    "df_final['2016'] = np.where(df_final['year'] == 2016, 1, 0)\n",
    "df_final['2017'] = np.where(df_final['year'] == 2017, 1, 0)\n",
    "df_final['2018'] = np.where(df_final['year'] == 2018, 1, 0)\n",
    "df_final['2019'] = np.where(df_final['year'] == 2019, 1, 0)\n",
    "\n"
   ]
  },
  {
   "cell_type": "code",
   "execution_count": 109,
   "metadata": {},
   "outputs": [],
   "source": [
    "# encode day of week\n",
    "df_final['monday'] = np.where(df_final['day_of_week'] == 0, 1, 0)\n",
    "df_final['tuesday'] = np.where(df_final['day_of_week'] == 1, 1, 0)\n",
    "df_final['wednesday'] = np.where(df_final['day_of_week'] == 2, 1, 0)\n",
    "df_final['thursday'] = np.where(df_final['day_of_week'] == 3, 1, 0)\n",
    "df_final['friday'] = np.where(df_final['day_of_week'] == 4, 1, 0)\n",
    "df_final['saturday'] = np.where(df_final['day_of_week'] == 5, 1, 0)\n",
    "df_final['sunday'] = np.where(df_final['day_of_week'] == 6, 1, 0)\n"
   ]
  },
  {
   "cell_type": "code",
   "execution_count": 110,
   "metadata": {},
   "outputs": [],
   "source": [
    "# drop encoded columns\n",
    "df_final = df_final.drop(['month', 'day_of_week', 'year'], axis=1)"
   ]
  },
  {
   "cell_type": "code",
   "execution_count": 111,
   "metadata": {},
   "outputs": [
    {
     "data": {
      "text/plain": [
       "Index(['date', 'n_sick', 'calls', 'n_duty', 'n_sby', 'sby_need', 'dafted',\n",
       "       'week', 'day_of_month', 'day_of_year', 'calls_new', 'year_2016',\n",
       "       'year_2017', 'year_2018', 'year_2019', 'sby_need_predicted', 'january',\n",
       "       'february', 'march', 'april', 'may', 'june', 'july', 'august',\n",
       "       'september', 'october', 'november', 'december', 'winter', 'spring',\n",
       "       'summer', 'fall', '2016', '2017', '2018', '2019', 'monday', 'tuesday',\n",
       "       'wednesday', 'thursday', 'friday', 'saturday', 'sunday'],\n",
       "      dtype='object')"
      ]
     },
     "execution_count": 111,
     "metadata": {},
     "output_type": "execute_result"
    }
   ],
   "source": [
    "df_final.columns"
   ]
  },
  {
   "cell_type": "code",
   "execution_count": 112,
   "metadata": {},
   "outputs": [
    {
     "data": {
      "text/html": [
       "<div>\n",
       "<style scoped>\n",
       "    .dataframe tbody tr th:only-of-type {\n",
       "        vertical-align: middle;\n",
       "    }\n",
       "\n",
       "    .dataframe tbody tr th {\n",
       "        vertical-align: top;\n",
       "    }\n",
       "\n",
       "    .dataframe thead th {\n",
       "        text-align: right;\n",
       "    }\n",
       "</style>\n",
       "<table border=\"1\" class=\"dataframe\">\n",
       "  <thead>\n",
       "    <tr style=\"text-align: right;\">\n",
       "      <th></th>\n",
       "      <th>date</th>\n",
       "      <th>n_sick</th>\n",
       "      <th>calls</th>\n",
       "      <th>n_duty</th>\n",
       "      <th>n_sby</th>\n",
       "      <th>sby_need</th>\n",
       "      <th>dafted</th>\n",
       "      <th>week</th>\n",
       "      <th>day_of_month</th>\n",
       "      <th>day_of_year</th>\n",
       "      <th>...</th>\n",
       "      <th>2017</th>\n",
       "      <th>2018</th>\n",
       "      <th>2019</th>\n",
       "      <th>monday</th>\n",
       "      <th>tuesday</th>\n",
       "      <th>wednesday</th>\n",
       "      <th>thursday</th>\n",
       "      <th>friday</th>\n",
       "      <th>saturday</th>\n",
       "      <th>sunday</th>\n",
       "    </tr>\n",
       "  </thead>\n",
       "  <tbody>\n",
       "    <tr>\n",
       "      <th>0</th>\n",
       "      <td>2016-04-01</td>\n",
       "      <td>73</td>\n",
       "      <td>8154.0</td>\n",
       "      <td>1700</td>\n",
       "      <td>90</td>\n",
       "      <td>4.0</td>\n",
       "      <td>0.0</td>\n",
       "      <td>13</td>\n",
       "      <td>1</td>\n",
       "      <td>92</td>\n",
       "      <td>...</td>\n",
       "      <td>0</td>\n",
       "      <td>0</td>\n",
       "      <td>0</td>\n",
       "      <td>0</td>\n",
       "      <td>0</td>\n",
       "      <td>0</td>\n",
       "      <td>0</td>\n",
       "      <td>1</td>\n",
       "      <td>0</td>\n",
       "      <td>0</td>\n",
       "    </tr>\n",
       "    <tr>\n",
       "      <th>1</th>\n",
       "      <td>2016-04-02</td>\n",
       "      <td>64</td>\n",
       "      <td>8526.0</td>\n",
       "      <td>1700</td>\n",
       "      <td>90</td>\n",
       "      <td>70.0</td>\n",
       "      <td>0.0</td>\n",
       "      <td>13</td>\n",
       "      <td>2</td>\n",
       "      <td>93</td>\n",
       "      <td>...</td>\n",
       "      <td>0</td>\n",
       "      <td>0</td>\n",
       "      <td>0</td>\n",
       "      <td>0</td>\n",
       "      <td>0</td>\n",
       "      <td>0</td>\n",
       "      <td>0</td>\n",
       "      <td>0</td>\n",
       "      <td>1</td>\n",
       "      <td>0</td>\n",
       "    </tr>\n",
       "    <tr>\n",
       "      <th>2</th>\n",
       "      <td>2016-04-03</td>\n",
       "      <td>68</td>\n",
       "      <td>8088.0</td>\n",
       "      <td>1700</td>\n",
       "      <td>90</td>\n",
       "      <td>0.0</td>\n",
       "      <td>0.0</td>\n",
       "      <td>13</td>\n",
       "      <td>3</td>\n",
       "      <td>94</td>\n",
       "      <td>...</td>\n",
       "      <td>0</td>\n",
       "      <td>0</td>\n",
       "      <td>0</td>\n",
       "      <td>0</td>\n",
       "      <td>0</td>\n",
       "      <td>0</td>\n",
       "      <td>0</td>\n",
       "      <td>0</td>\n",
       "      <td>0</td>\n",
       "      <td>1</td>\n",
       "    </tr>\n",
       "    <tr>\n",
       "      <th>3</th>\n",
       "      <td>2016-04-04</td>\n",
       "      <td>71</td>\n",
       "      <td>7044.0</td>\n",
       "      <td>1700</td>\n",
       "      <td>90</td>\n",
       "      <td>0.0</td>\n",
       "      <td>0.0</td>\n",
       "      <td>14</td>\n",
       "      <td>4</td>\n",
       "      <td>95</td>\n",
       "      <td>...</td>\n",
       "      <td>0</td>\n",
       "      <td>0</td>\n",
       "      <td>0</td>\n",
       "      <td>1</td>\n",
       "      <td>0</td>\n",
       "      <td>0</td>\n",
       "      <td>0</td>\n",
       "      <td>0</td>\n",
       "      <td>0</td>\n",
       "      <td>0</td>\n",
       "    </tr>\n",
       "    <tr>\n",
       "      <th>4</th>\n",
       "      <td>2016-04-05</td>\n",
       "      <td>63</td>\n",
       "      <td>7236.0</td>\n",
       "      <td>1700</td>\n",
       "      <td>90</td>\n",
       "      <td>0.0</td>\n",
       "      <td>0.0</td>\n",
       "      <td>14</td>\n",
       "      <td>5</td>\n",
       "      <td>96</td>\n",
       "      <td>...</td>\n",
       "      <td>0</td>\n",
       "      <td>0</td>\n",
       "      <td>0</td>\n",
       "      <td>0</td>\n",
       "      <td>1</td>\n",
       "      <td>0</td>\n",
       "      <td>0</td>\n",
       "      <td>0</td>\n",
       "      <td>0</td>\n",
       "      <td>0</td>\n",
       "    </tr>\n",
       "  </tbody>\n",
       "</table>\n",
       "<p>5 rows × 43 columns</p>\n",
       "</div>"
      ],
      "text/plain": [
       "        date  n_sick   calls  n_duty  n_sby  sby_need  dafted  week  \\\n",
       "0 2016-04-01      73  8154.0    1700     90       4.0     0.0    13   \n",
       "1 2016-04-02      64  8526.0    1700     90      70.0     0.0    13   \n",
       "2 2016-04-03      68  8088.0    1700     90       0.0     0.0    13   \n",
       "3 2016-04-04      71  7044.0    1700     90       0.0     0.0    14   \n",
       "4 2016-04-05      63  7236.0    1700     90       0.0     0.0    14   \n",
       "\n",
       "   day_of_month  day_of_year  ...  2017  2018  2019  monday  tuesday  \\\n",
       "0             1           92  ...     0     0     0       0        0   \n",
       "1             2           93  ...     0     0     0       0        0   \n",
       "2             3           94  ...     0     0     0       0        0   \n",
       "3             4           95  ...     0     0     0       1        0   \n",
       "4             5           96  ...     0     0     0       0        1   \n",
       "\n",
       "   wednesday  thursday  friday  saturday  sunday  \n",
       "0          0         0       1         0       0  \n",
       "1          0         0       0         1       0  \n",
       "2          0         0       0         0       1  \n",
       "3          0         0       0         0       0  \n",
       "4          0         0       0         0       0  \n",
       "\n",
       "[5 rows x 43 columns]"
      ]
     },
     "execution_count": 112,
     "metadata": {},
     "output_type": "execute_result"
    }
   ],
   "source": [
    "df_final.head()"
   ]
  },
  {
   "cell_type": "code",
   "execution_count": 113,
   "metadata": {},
   "outputs": [],
   "source": [
    "# make predictions again\n",
    "# define new X and y\n",
    "X = df_final[['n_duty', 'n_sby',\n",
    "       'week', 'day_of_month', 'day_of_year', 'calls_new',\n",
    "    'january', 'february', 'march', 'april', 'may',\n",
    "       'june', 'july', 'august', 'september', 'october', 'november',\n",
    "       'december', '2016', '2017', '2018', '2019', 'monday', 'tuesday',\n",
    "       'wednesday', 'thursday', 'friday', 'saturday', 'sunday']]\n",
    "y = df_final['sby_need']"
   ]
  },
  {
   "cell_type": "code",
   "execution_count": 114,
   "metadata": {},
   "outputs": [],
   "source": [
    "x_train, x_test = train_test_split(X, 922)\n",
    "y_train, y_test = train_test_split(y, 922)"
   ]
  },
  {
   "cell_type": "code",
   "execution_count": 115,
   "metadata": {},
   "outputs": [],
   "source": [
    "quant_regression = QuantileRegressor(quantile=0.95, alpha=0.25).fit(x_train, y_train)"
   ]
  },
  {
   "cell_type": "code",
   "execution_count": 116,
   "metadata": {},
   "outputs": [],
   "source": [
    "pred = quant_regression.predict(x_test)\n",
    "pred = pd.Series(pred)\n",
    "# set values below 0 to 0\n",
    "pred = pred.apply(lambda x: 0 if x < 0 else x)"
   ]
  },
  {
   "cell_type": "code",
   "execution_count": 117,
   "metadata": {},
   "outputs": [
    {
     "name": "stdout",
     "output_type": "stream",
     "text": [
      "MSE of the lasso model is: 11761.728799434186\n",
      "MAE of the lasso model is: 95.97488876850585\n",
      "RMSE of the lasso model is: 108.451504366856\n"
     ]
    }
   ],
   "source": [
    "print('MSE of the lasso model is:' , mean_squared_error(y_test, pred))\n",
    "# MSE of the improved model is: 8995.414326160024\n",
    "print('MAE of the lasso model is:' , mean_absolute_error(y_test, pred))\n",
    "print('RMSE of the lasso model is:' , np.sqrt(mean_squared_error(y_test, pred)))"
   ]
  },
  {
   "cell_type": "code",
   "execution_count": 118,
   "metadata": {},
   "outputs": [
    {
     "name": "stderr",
     "output_type": "stream",
     "text": [
      "<ipython-input-118-64af74d03db7>:3: UserWarning: With alpha=0, this algorithm does not converge well. You are advised to use the LinearRegression estimator\n",
      "  lassoModelChosen.fit(x_train, y_train)\n",
      "/Users/kata/opt/anaconda3/lib/python3.8/site-packages/sklearn/linear_model/_coordinate_descent.py:648: UserWarning: Coordinate descent with no regularization may lead to unexpected results and is discouraged.\n",
      "  model = cd_fast.enet_coordinate_descent(\n",
      "/Users/kata/opt/anaconda3/lib/python3.8/site-packages/sklearn/linear_model/_coordinate_descent.py:648: ConvergenceWarning: Objective did not converge. You might want to increase the number of iterations, check the scale of the features or consider increasing regularisation. Duality gap: 1.179e+06, tolerance: 4.616e+02 Linear regression models with null weight for the l1 regularization term are more efficiently fitted using one of the solvers implemented in sklearn.linear_model.Ridge/RidgeCV instead.\n",
      "  model = cd_fast.enet_coordinate_descent(\n"
     ]
    },
    {
     "data": {
      "text/html": [
       "<style>#sk-container-id-1 {color: black;background-color: white;}#sk-container-id-1 pre{padding: 0;}#sk-container-id-1 div.sk-toggleable {background-color: white;}#sk-container-id-1 label.sk-toggleable__label {cursor: pointer;display: block;width: 100%;margin-bottom: 0;padding: 0.3em;box-sizing: border-box;text-align: center;}#sk-container-id-1 label.sk-toggleable__label-arrow:before {content: \"▸\";float: left;margin-right: 0.25em;color: #696969;}#sk-container-id-1 label.sk-toggleable__label-arrow:hover:before {color: black;}#sk-container-id-1 div.sk-estimator:hover label.sk-toggleable__label-arrow:before {color: black;}#sk-container-id-1 div.sk-toggleable__content {max-height: 0;max-width: 0;overflow: hidden;text-align: left;background-color: #f0f8ff;}#sk-container-id-1 div.sk-toggleable__content pre {margin: 0.2em;color: black;border-radius: 0.25em;background-color: #f0f8ff;}#sk-container-id-1 input.sk-toggleable__control:checked~div.sk-toggleable__content {max-height: 200px;max-width: 100%;overflow: auto;}#sk-container-id-1 input.sk-toggleable__control:checked~label.sk-toggleable__label-arrow:before {content: \"▾\";}#sk-container-id-1 div.sk-estimator input.sk-toggleable__control:checked~label.sk-toggleable__label {background-color: #d4ebff;}#sk-container-id-1 div.sk-label input.sk-toggleable__control:checked~label.sk-toggleable__label {background-color: #d4ebff;}#sk-container-id-1 input.sk-hidden--visually {border: 0;clip: rect(1px 1px 1px 1px);clip: rect(1px, 1px, 1px, 1px);height: 1px;margin: -1px;overflow: hidden;padding: 0;position: absolute;width: 1px;}#sk-container-id-1 div.sk-estimator {font-family: monospace;background-color: #f0f8ff;border: 1px dotted black;border-radius: 0.25em;box-sizing: border-box;margin-bottom: 0.5em;}#sk-container-id-1 div.sk-estimator:hover {background-color: #d4ebff;}#sk-container-id-1 div.sk-parallel-item::after {content: \"\";width: 100%;border-bottom: 1px solid gray;flex-grow: 1;}#sk-container-id-1 div.sk-label:hover label.sk-toggleable__label {background-color: #d4ebff;}#sk-container-id-1 div.sk-serial::before {content: \"\";position: absolute;border-left: 1px solid gray;box-sizing: border-box;top: 0;bottom: 0;left: 50%;z-index: 0;}#sk-container-id-1 div.sk-serial {display: flex;flex-direction: column;align-items: center;background-color: white;padding-right: 0.2em;padding-left: 0.2em;position: relative;}#sk-container-id-1 div.sk-item {position: relative;z-index: 1;}#sk-container-id-1 div.sk-parallel {display: flex;align-items: stretch;justify-content: center;background-color: white;position: relative;}#sk-container-id-1 div.sk-item::before, #sk-container-id-1 div.sk-parallel-item::before {content: \"\";position: absolute;border-left: 1px solid gray;box-sizing: border-box;top: 0;bottom: 0;left: 50%;z-index: -1;}#sk-container-id-1 div.sk-parallel-item {display: flex;flex-direction: column;z-index: 1;position: relative;background-color: white;}#sk-container-id-1 div.sk-parallel-item:first-child::after {align-self: flex-end;width: 50%;}#sk-container-id-1 div.sk-parallel-item:last-child::after {align-self: flex-start;width: 50%;}#sk-container-id-1 div.sk-parallel-item:only-child::after {width: 0;}#sk-container-id-1 div.sk-dashed-wrapped {border: 1px dashed gray;margin: 0 0.4em 0.5em 0.4em;box-sizing: border-box;padding-bottom: 0.4em;background-color: white;}#sk-container-id-1 div.sk-label label {font-family: monospace;font-weight: bold;display: inline-block;line-height: 1.2em;}#sk-container-id-1 div.sk-label-container {text-align: center;}#sk-container-id-1 div.sk-container {/* jupyter's `normalize.less` sets `[hidden] { display: none; }` but bootstrap.min.css set `[hidden] { display: none !important; }` so we also need the `!important` here to be able to override the default hidden behavior on the sphinx rendered scikit-learn.org. See: https://github.com/scikit-learn/scikit-learn/issues/21755 */display: inline-block !important;position: relative;}#sk-container-id-1 div.sk-text-repr-fallback {display: none;}</style><div id=\"sk-container-id-1\" class=\"sk-top-container\"><div class=\"sk-text-repr-fallback\"><pre>Lasso(alpha=0)</pre><b>In a Jupyter environment, please rerun this cell to show the HTML representation or trust the notebook. <br />On GitHub, the HTML representation is unable to render, please try loading this page with nbviewer.org.</b></div><div class=\"sk-container\" hidden><div class=\"sk-item\"><div class=\"sk-estimator sk-toggleable\"><input class=\"sk-toggleable__control sk-hidden--visually\" id=\"sk-estimator-id-1\" type=\"checkbox\" checked><label for=\"sk-estimator-id-1\" class=\"sk-toggleable__label sk-toggleable__label-arrow\">Lasso</label><div class=\"sk-toggleable__content\"><pre>Lasso(alpha=0)</pre></div></div></div></div></div>"
      ],
      "text/plain": [
       "Lasso(alpha=0)"
      ]
     },
     "execution_count": 118,
     "metadata": {},
     "output_type": "execute_result"
    }
   ],
   "source": [
    "# Build the Lasso Regression model for the best lamda\n",
    "lassoModelChosen = Lasso(alpha = 0)\n",
    "lassoModelChosen.fit(x_train, y_train)"
   ]
  },
  {
   "cell_type": "code",
   "execution_count": 119,
   "metadata": {},
   "outputs": [],
   "source": [
    "pred = lassoModelChosen.predict(x_test)\n",
    "pred = pd.Series(pred)\n",
    "# set values below 0 to 0\n",
    "pred = pred.apply(lambda x: 0 if x < 0 else x)"
   ]
  },
  {
   "cell_type": "code",
   "execution_count": 120,
   "metadata": {},
   "outputs": [
    {
     "name": "stdout",
     "output_type": "stream",
     "text": [
      "MSE of the lasso model is: 9862.122725201696\n",
      "MAE of the lasso model is: 52.63101702430604\n"
     ]
    }
   ],
   "source": [
    "print('MSE of the lasso model is:' , mean_squared_error(y_test, pred))\n",
    "# MSE of the improved model is: 8995.414326160024\n",
    "print('MAE of the lasso model is:' , mean_absolute_error(y_test, pred))\n"
   ]
  },
  {
   "cell_type": "code",
   "execution_count": 121,
   "metadata": {},
   "outputs": [],
   "source": [
    "# Linear Regression\n",
    "model = LinearRegression()\n",
    "model.fit(x_train, y_train)\n",
    "pred = model.predict(x_test)"
   ]
  },
  {
   "cell_type": "code",
   "execution_count": 122,
   "metadata": {},
   "outputs": [],
   "source": [
    "pred = pd.Series(pred)\n",
    "# set values below 0 to 0\n",
    "pred = pred.apply(lambda x: 0 if x < 0 else x)"
   ]
  },
  {
   "cell_type": "code",
   "execution_count": 123,
   "metadata": {},
   "outputs": [
    {
     "name": "stdout",
     "output_type": "stream",
     "text": [
      "MSE of the linear regression model is: 10350.220559943904\n",
      "MAE of the linear regression model is: 52.092481676073405\n"
     ]
    }
   ],
   "source": [
    "print('MSE of the linear regression model is:' , mean_squared_error(y_test, pred))\n",
    "print('MAE of the linear regression model is:' , mean_absolute_error(y_test, pred))"
   ]
  },
  {
   "cell_type": "code",
   "execution_count": 124,
   "metadata": {},
   "outputs": [
    {
     "data": {
      "text/plain": [
       "array([-2.06361362e-01, -3.16413562e-15, -2.83538857e-01, -5.61586651e-01,\n",
       "        2.20445667e-02,  4.35378837e-02,  2.74295642e+01,  3.11497006e+00,\n",
       "       -1.06673292e+01, -1.23313018e+01, -1.56416204e+01,  5.71686799e+00,\n",
       "       -6.28220219e+00, -1.05095166e+00, -5.58902344e+00, -7.48931960e+00,\n",
       "        6.39113600e+00,  1.63992100e+01, -6.87666441e-01,  1.37739649e+00,\n",
       "       -6.89730054e-01,  2.22044605e-16,  3.27948174e+00, -3.95809583e+00,\n",
       "       -2.03385267e-01, -7.28393379e-01, -4.07408847e+00, -1.04538561e-01,\n",
       "        5.78901977e+00])"
      ]
     },
     "execution_count": 124,
     "metadata": {},
     "output_type": "execute_result"
    }
   ],
   "source": [
    "# Linear Regression\n",
    "model.coef_"
   ]
  },
  {
   "cell_type": "code",
   "execution_count": null,
   "metadata": {},
   "outputs": [],
   "source": [
    "# one hot encode day of year\n",
    "one_hot_day_of_year = pd.get_dummies(df_final['day_of_year'], prefix='day_of_year')"
   ]
  },
  {
   "cell_type": "code",
   "execution_count": null,
   "metadata": {},
   "outputs": [],
   "source": [
    "merged = df_final.join(one_hot_day_of_year)"
   ]
  },
  {
   "cell_type": "code",
   "execution_count": null,
   "metadata": {},
   "outputs": [],
   "source": [
    "lst = list(merged.columns)\n",
    "lst"
   ]
  },
  {
   "cell_type": "code",
   "execution_count": null,
   "metadata": {},
   "outputs": [],
   "source": [
    "# new models\n",
    "X = merged[[\n",
    " 'n_duty',\n",
    " 'n_sby',\n",
    " 'week',\n",
    " 'day_of_month',\n",
    " 'calls_new',\n",
    " 'january',\n",
    " 'february',\n",
    " 'march',\n",
    " 'april',\n",
    " 'may',\n",
    " 'june',\n",
    " 'july',\n",
    " 'august',\n",
    " 'september',\n",
    " 'october',\n",
    " 'november',\n",
    " 'december',\n",
    " 'winter',\n",
    " 'spring',\n",
    " 'summer',\n",
    " 'fall',\n",
    " '2016',\n",
    " '2017',\n",
    " '2018',\n",
    " '2019',\n",
    " 'monday',\n",
    " 'tuesday',\n",
    " 'wednesday',\n",
    " 'thursday',\n",
    " 'friday',\n",
    " 'saturday',\n",
    " 'sunday',\n",
    " 'day_of_year_1',\n",
    " 'day_of_year_2',\n",
    " 'day_of_year_3',\n",
    " 'day_of_year_4',\n",
    " 'day_of_year_5',\n",
    " 'day_of_year_6',\n",
    " 'day_of_year_7',\n",
    " 'day_of_year_8',\n",
    " 'day_of_year_9',\n",
    " 'day_of_year_10',\n",
    " 'day_of_year_11',\n",
    " 'day_of_year_12',\n",
    " 'day_of_year_13',\n",
    " 'day_of_year_14',\n",
    " 'day_of_year_15',\n",
    " 'day_of_year_16',\n",
    " 'day_of_year_17',\n",
    " 'day_of_year_18',\n",
    " 'day_of_year_19',\n",
    " 'day_of_year_20',\n",
    " 'day_of_year_21',\n",
    " 'day_of_year_22',\n",
    " 'day_of_year_23',\n",
    " 'day_of_year_24',\n",
    " 'day_of_year_25',\n",
    " 'day_of_year_26',\n",
    " 'day_of_year_27',\n",
    " 'day_of_year_28',\n",
    " 'day_of_year_29',\n",
    " 'day_of_year_30',\n",
    " 'day_of_year_31',\n",
    " 'day_of_year_32',\n",
    " 'day_of_year_33',\n",
    " 'day_of_year_34',\n",
    " 'day_of_year_35',\n",
    " 'day_of_year_36',\n",
    " 'day_of_year_37',\n",
    " 'day_of_year_38',\n",
    " 'day_of_year_39',\n",
    " 'day_of_year_40',\n",
    " 'day_of_year_41',\n",
    " 'day_of_year_42',\n",
    " 'day_of_year_43',\n",
    " 'day_of_year_44',\n",
    " 'day_of_year_45',\n",
    " 'day_of_year_46',\n",
    " 'day_of_year_47',\n",
    " 'day_of_year_48',\n",
    " 'day_of_year_49',\n",
    " 'day_of_year_50',\n",
    " 'day_of_year_51',\n",
    " 'day_of_year_52',\n",
    " 'day_of_year_53',\n",
    " 'day_of_year_54',\n",
    " 'day_of_year_55',\n",
    " 'day_of_year_56',\n",
    " 'day_of_year_57',\n",
    " 'day_of_year_58',\n",
    " 'day_of_year_59',\n",
    " 'day_of_year_60',\n",
    " 'day_of_year_61',\n",
    " 'day_of_year_62',\n",
    " 'day_of_year_63',\n",
    " 'day_of_year_64',\n",
    " 'day_of_year_65',\n",
    " 'day_of_year_66',\n",
    " 'day_of_year_67',\n",
    " 'day_of_year_68',\n",
    " 'day_of_year_69',\n",
    " 'day_of_year_70',\n",
    " 'day_of_year_71',\n",
    " 'day_of_year_72',\n",
    " 'day_of_year_73',\n",
    " 'day_of_year_74',\n",
    " 'day_of_year_75',\n",
    " 'day_of_year_76',\n",
    " 'day_of_year_77',\n",
    " 'day_of_year_78',\n",
    " 'day_of_year_79',\n",
    " 'day_of_year_80',\n",
    " 'day_of_year_81',\n",
    " 'day_of_year_82',\n",
    " 'day_of_year_83',\n",
    " 'day_of_year_84',\n",
    " 'day_of_year_85',\n",
    " 'day_of_year_86',\n",
    " 'day_of_year_87',\n",
    " 'day_of_year_88',\n",
    " 'day_of_year_89',\n",
    " 'day_of_year_90',\n",
    " 'day_of_year_91',\n",
    " 'day_of_year_92',\n",
    " 'day_of_year_93',\n",
    " 'day_of_year_94',\n",
    " 'day_of_year_95',\n",
    " 'day_of_year_96',\n",
    " 'day_of_year_97',\n",
    " 'day_of_year_98',\n",
    " 'day_of_year_99',\n",
    " 'day_of_year_100',\n",
    " 'day_of_year_101',\n",
    " 'day_of_year_102',\n",
    " 'day_of_year_103',\n",
    " 'day_of_year_104',\n",
    " 'day_of_year_105',\n",
    " 'day_of_year_106',\n",
    " 'day_of_year_107',\n",
    " 'day_of_year_108',\n",
    " 'day_of_year_109',\n",
    " 'day_of_year_110',\n",
    " 'day_of_year_111',\n",
    " 'day_of_year_112',\n",
    " 'day_of_year_113',\n",
    " 'day_of_year_114',\n",
    " 'day_of_year_115',\n",
    " 'day_of_year_116',\n",
    " 'day_of_year_117',\n",
    " 'day_of_year_118',\n",
    " 'day_of_year_119',\n",
    " 'day_of_year_120',\n",
    " 'day_of_year_121',\n",
    " 'day_of_year_122',\n",
    " 'day_of_year_123',\n",
    " 'day_of_year_124',\n",
    " 'day_of_year_125',\n",
    " 'day_of_year_126',\n",
    " 'day_of_year_127',\n",
    " 'day_of_year_128',\n",
    " 'day_of_year_129',\n",
    " 'day_of_year_130',\n",
    " 'day_of_year_131',\n",
    " 'day_of_year_132',\n",
    " 'day_of_year_133',\n",
    " 'day_of_year_134',\n",
    " 'day_of_year_135',\n",
    " 'day_of_year_136',\n",
    " 'day_of_year_137',\n",
    " 'day_of_year_138',\n",
    " 'day_of_year_139',\n",
    " 'day_of_year_140',\n",
    " 'day_of_year_141',\n",
    " 'day_of_year_142',\n",
    " 'day_of_year_143',\n",
    " 'day_of_year_144',\n",
    " 'day_of_year_145',\n",
    " 'day_of_year_146',\n",
    " 'day_of_year_147',\n",
    " 'day_of_year_148',\n",
    " 'day_of_year_149',\n",
    " 'day_of_year_150',\n",
    " 'day_of_year_151',\n",
    " 'day_of_year_152',\n",
    " 'day_of_year_153',\n",
    " 'day_of_year_154',\n",
    " 'day_of_year_155',\n",
    " 'day_of_year_156',\n",
    " 'day_of_year_157',\n",
    " 'day_of_year_158',\n",
    " 'day_of_year_159',\n",
    " 'day_of_year_160',\n",
    " 'day_of_year_161',\n",
    " 'day_of_year_162',\n",
    " 'day_of_year_163',\n",
    " 'day_of_year_164',\n",
    " 'day_of_year_165',\n",
    " 'day_of_year_166',\n",
    " 'day_of_year_167',\n",
    " 'day_of_year_168',\n",
    " 'day_of_year_169',\n",
    " 'day_of_year_170',\n",
    " 'day_of_year_171',\n",
    " 'day_of_year_172',\n",
    " 'day_of_year_173',\n",
    " 'day_of_year_174',\n",
    " 'day_of_year_175',\n",
    " 'day_of_year_176',\n",
    " 'day_of_year_177',\n",
    " 'day_of_year_178',\n",
    " 'day_of_year_179',\n",
    " 'day_of_year_180',\n",
    " 'day_of_year_181',\n",
    " 'day_of_year_182',\n",
    " 'day_of_year_183',\n",
    " 'day_of_year_184',\n",
    " 'day_of_year_185',\n",
    " 'day_of_year_186',\n",
    " 'day_of_year_187',\n",
    " 'day_of_year_188',\n",
    " 'day_of_year_189',\n",
    " 'day_of_year_190',\n",
    " 'day_of_year_191',\n",
    " 'day_of_year_192',\n",
    " 'day_of_year_193',\n",
    " 'day_of_year_194',\n",
    " 'day_of_year_195',\n",
    " 'day_of_year_196',\n",
    " 'day_of_year_197',\n",
    " 'day_of_year_198',\n",
    " 'day_of_year_199',\n",
    " 'day_of_year_200',\n",
    " 'day_of_year_201',\n",
    " 'day_of_year_202',\n",
    " 'day_of_year_203',\n",
    " 'day_of_year_204',\n",
    " 'day_of_year_205',\n",
    " 'day_of_year_206',\n",
    " 'day_of_year_207',\n",
    " 'day_of_year_208',\n",
    " 'day_of_year_209',\n",
    " 'day_of_year_210',\n",
    " 'day_of_year_211',\n",
    " 'day_of_year_212',\n",
    " 'day_of_year_213',\n",
    " 'day_of_year_214',\n",
    " 'day_of_year_215',\n",
    " 'day_of_year_216',\n",
    " 'day_of_year_217',\n",
    " 'day_of_year_218',\n",
    " 'day_of_year_219',\n",
    " 'day_of_year_220',\n",
    " 'day_of_year_221',\n",
    " 'day_of_year_222',\n",
    " 'day_of_year_223',\n",
    " 'day_of_year_224',\n",
    " 'day_of_year_225',\n",
    " 'day_of_year_226',\n",
    " 'day_of_year_227',\n",
    " 'day_of_year_228',\n",
    " 'day_of_year_229',\n",
    " 'day_of_year_230',\n",
    " 'day_of_year_231',\n",
    " 'day_of_year_232',\n",
    " 'day_of_year_233',\n",
    " 'day_of_year_234',\n",
    " 'day_of_year_235',\n",
    " 'day_of_year_236',\n",
    " 'day_of_year_237',\n",
    " 'day_of_year_238',\n",
    " 'day_of_year_239',\n",
    " 'day_of_year_240',\n",
    " 'day_of_year_241',\n",
    " 'day_of_year_242',\n",
    " 'day_of_year_243',\n",
    " 'day_of_year_244',\n",
    " 'day_of_year_245',\n",
    " 'day_of_year_246',\n",
    " 'day_of_year_247',\n",
    " 'day_of_year_248',\n",
    " 'day_of_year_249',\n",
    " 'day_of_year_250',\n",
    " 'day_of_year_251',\n",
    " 'day_of_year_252',\n",
    " 'day_of_year_253',\n",
    " 'day_of_year_254',\n",
    " 'day_of_year_255',\n",
    " 'day_of_year_256',\n",
    " 'day_of_year_257',\n",
    " 'day_of_year_258',\n",
    " 'day_of_year_259',\n",
    " 'day_of_year_260',\n",
    " 'day_of_year_261',\n",
    " 'day_of_year_262',\n",
    " 'day_of_year_263',\n",
    " 'day_of_year_264',\n",
    " 'day_of_year_265',\n",
    " 'day_of_year_266',\n",
    " 'day_of_year_267',\n",
    " 'day_of_year_268',\n",
    " 'day_of_year_269',\n",
    " 'day_of_year_270',\n",
    " 'day_of_year_271',\n",
    " 'day_of_year_272',\n",
    " 'day_of_year_273',\n",
    " 'day_of_year_274',\n",
    " 'day_of_year_275',\n",
    " 'day_of_year_276',\n",
    " 'day_of_year_277',\n",
    " 'day_of_year_278',\n",
    " 'day_of_year_279',\n",
    " 'day_of_year_280',\n",
    " 'day_of_year_281',\n",
    " 'day_of_year_282',\n",
    " 'day_of_year_283',\n",
    " 'day_of_year_284',\n",
    " 'day_of_year_285',\n",
    " 'day_of_year_286',\n",
    " 'day_of_year_287',\n",
    " 'day_of_year_288',\n",
    " 'day_of_year_289',\n",
    " 'day_of_year_290',\n",
    " 'day_of_year_291',\n",
    " 'day_of_year_292',\n",
    " 'day_of_year_293',\n",
    " 'day_of_year_294',\n",
    " 'day_of_year_295',\n",
    " 'day_of_year_296',\n",
    " 'day_of_year_297',\n",
    " 'day_of_year_298',\n",
    " 'day_of_year_299',\n",
    " 'day_of_year_300',\n",
    " 'day_of_year_301',\n",
    " 'day_of_year_302',\n",
    " 'day_of_year_303',\n",
    " 'day_of_year_304',\n",
    " 'day_of_year_305',\n",
    " 'day_of_year_306',\n",
    " 'day_of_year_307',\n",
    " 'day_of_year_308',\n",
    " 'day_of_year_309',\n",
    " 'day_of_year_310',\n",
    " 'day_of_year_311',\n",
    " 'day_of_year_312',\n",
    " 'day_of_year_313',\n",
    " 'day_of_year_314',\n",
    " 'day_of_year_315',\n",
    " 'day_of_year_316',\n",
    " 'day_of_year_317',\n",
    " 'day_of_year_318',\n",
    " 'day_of_year_319',\n",
    " 'day_of_year_320',\n",
    " 'day_of_year_321',\n",
    " 'day_of_year_322',\n",
    " 'day_of_year_323',\n",
    " 'day_of_year_324',\n",
    " 'day_of_year_325',\n",
    " 'day_of_year_326',\n",
    " 'day_of_year_327',\n",
    " 'day_of_year_328',\n",
    " 'day_of_year_329',\n",
    " 'day_of_year_330',\n",
    " 'day_of_year_331',\n",
    " 'day_of_year_332',\n",
    " 'day_of_year_333',\n",
    " 'day_of_year_334',\n",
    " 'day_of_year_335',\n",
    " 'day_of_year_336',\n",
    " 'day_of_year_337',\n",
    " 'day_of_year_338',\n",
    " 'day_of_year_339',\n",
    " 'day_of_year_340',\n",
    " 'day_of_year_341',\n",
    " 'day_of_year_342',\n",
    " 'day_of_year_343',\n",
    " 'day_of_year_344',\n",
    " 'day_of_year_345',\n",
    " 'day_of_year_346',\n",
    " 'day_of_year_347',\n",
    " 'day_of_year_348',\n",
    " 'day_of_year_349',\n",
    " 'day_of_year_350',\n",
    " 'day_of_year_351',\n",
    " 'day_of_year_352',\n",
    " 'day_of_year_353',\n",
    " 'day_of_year_354',\n",
    " 'day_of_year_355',\n",
    " 'day_of_year_356',\n",
    " 'day_of_year_357',\n",
    " 'day_of_year_358',\n",
    " 'day_of_year_359',\n",
    " 'day_of_year_360',\n",
    " 'day_of_year_361',\n",
    " 'day_of_year_362',\n",
    " 'day_of_year_363',\n",
    " 'day_of_year_364',\n",
    " 'day_of_year_365',\n",
    " 'day_of_year_366']]\n",
    "\n",
    "y = merged.sby_need"
   ]
  },
  {
   "cell_type": "code",
   "execution_count": null,
   "metadata": {},
   "outputs": [],
   "source": [
    "x_train, x_test = train_test_split(X, 922)\n",
    "y_train, y_test = train_test_split(y, 922)"
   ]
  },
  {
   "cell_type": "code",
   "execution_count": null,
   "metadata": {},
   "outputs": [],
   "source": [
    "# Build the Lasso Regression model for the best lamda\n",
    "quantile_encoded = QuantileRegressor(quantile=0.95, alpha=0.25)\n",
    "quantile_encoded.fit(x_train, y_train)"
   ]
  },
  {
   "cell_type": "code",
   "execution_count": null,
   "metadata": {},
   "outputs": [],
   "source": [
    "pred = quantile_encoded.predict(x_test)\n",
    "pred = pd.Series(pred)\n",
    "# set values below 0 to 0\n",
    "pred = pred.apply(lambda x: 0 if x < 0 else x)"
   ]
  },
  {
   "cell_type": "code",
   "execution_count": null,
   "metadata": {},
   "outputs": [],
   "source": [
    "print('MSE of the lasso model is:' , mean_squared_error(y_test, pred))\n",
    "# MSE of the improved model is: 8995.414326160024\n",
    "print('MAE of the lasso model is:' , mean_absolute_error(y_test, pred))\n",
    "print('RMSE of the lasso model is:' , np.sqrt(mean_squared_error(y_test, pred)))\n"
   ]
  },
  {
   "cell_type": "code",
   "execution_count": null,
   "metadata": {},
   "outputs": [],
   "source": [
    "model = LinearRegression()\n",
    "model.fit(x_train, y_train)\n",
    "pred = model.predict(x_test)\n",
    "pred = pd.Series(pred)\n",
    "# set values below 0 to 0\n",
    "pred = pred.apply(lambda x: 0 if x < 0 else x)"
   ]
  },
  {
   "cell_type": "code",
   "execution_count": null,
   "metadata": {},
   "outputs": [],
   "source": [
    "print('MSE of the LR model is:' , mean_squared_error(y_test, pred))\n",
    "\n",
    "print('MAE of the LR model is:' , mean_absolute_error(y_test, pred))"
   ]
  },
  {
   "cell_type": "code",
   "execution_count": null,
   "metadata": {},
   "outputs": [],
   "source": [
    "quantile = QuantileRegressor(quantile=0.95, alpha=0.25).fit(x_train, y_train)\n",
    "pred = quantile.predict(x_test)\n",
    "pred = pd.Series(pred)"
   ]
  },
  {
   "cell_type": "code",
   "execution_count": null,
   "metadata": {},
   "outputs": [],
   "source": [
    "# eliminate values <0, round to nearest integer\n",
    "pred = pred.apply(lambda x: 0 if x < 0 else x)\n",
    "pred = np.round(pred)"
   ]
  },
  {
   "cell_type": "code",
   "execution_count": null,
   "metadata": {},
   "outputs": [],
   "source": [
    "print('MSE of the quantile model is:' , mean_squared_error(y_test, pred))\n",
    "print('MAE of the quantile model is:' , mean_absolute_error(y_test, pred))"
   ]
  },
  {
   "cell_type": "code",
   "execution_count": null,
   "metadata": {},
   "outputs": [],
   "source": []
  },
  {
   "cell_type": "code",
   "execution_count": null,
   "metadata": {},
   "outputs": [],
   "source": []
  }
 ],
 "metadata": {
  "kernelspec": {
   "display_name": "Python 3.8.5 ('base')",
   "language": "python",
   "name": "python3"
  },
  "language_info": {
   "codemirror_mode": {
    "name": "ipython",
    "version": 3
   },
   "file_extension": ".py",
   "mimetype": "text/x-python",
   "name": "python",
   "nbconvert_exporter": "python",
   "pygments_lexer": "ipython3",
   "version": "3.8.5"
  },
  "orig_nbformat": 4,
  "vscode": {
   "interpreter": {
    "hash": "5c3cd99063abd1b4c15ea40868a5df46d871e2273225f116d3d00cd8553a7cf8"
   }
  }
 },
 "nbformat": 4,
 "nbformat_minor": 2
}
