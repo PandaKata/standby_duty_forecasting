{
 "cells": [
  {
   "cell_type": "markdown",
   "metadata": {},
   "source": [
    "## Final Model for sby_need"
   ]
  },
  {
   "cell_type": "markdown",
   "metadata": {},
   "source": [
    "Predict sby_need with predicted calls with RandomForest"
   ]
  },
  {
   "cell_type": "code",
   "execution_count": 59,
   "metadata": {},
   "outputs": [],
   "source": [
    "import pandas as pd\n",
    "import numpy as np\n",
    "import matplotlib.pyplot as plt\n",
    "import datetime\n",
    "from pprint import pprint\n",
    "from sklearn.ensemble import RandomForestRegressor\n",
    "from sklearn.linear_model import LinearRegression, Lasso, Ridge, QuantileRegressor\n",
    "from sklearn.metrics import mean_squared_error\n",
    "from sklearn.model_selection import cross_val_score, RandomizedSearchCV, GridSearchCV"
   ]
  },
  {
   "cell_type": "code",
   "execution_count": 5,
   "metadata": {},
   "outputs": [
    {
     "name": "stdout",
     "output_type": "stream",
     "text": [
      "/Users/kata/opt/anaconda3/bin/python\n"
     ]
    }
   ],
   "source": [
    "import sys\n",
    "print(sys.executable)"
   ]
  },
  {
   "cell_type": "code",
   "execution_count": 6,
   "metadata": {},
   "outputs": [
    {
     "name": "stdout",
     "output_type": "stream",
     "text": [
      "<class 'pandas.core.frame.DataFrame'>\n",
      "Int64Index: 1152 entries, 0 to 1151\n",
      "Data columns (total 13 columns):\n",
      " #   Column        Non-Null Count  Dtype         \n",
      "---  ------        --------------  -----         \n",
      " 0   date          1152 non-null   datetime64[ns]\n",
      " 1   n_sick        1152 non-null   int64         \n",
      " 2   calls         1152 non-null   float64       \n",
      " 3   n_duty        1152 non-null   int64         \n",
      " 4   n_sby         1152 non-null   int64         \n",
      " 5   sby_need      1152 non-null   float64       \n",
      " 6   dafted        1152 non-null   float64       \n",
      " 7   year          1152 non-null   int64         \n",
      " 8   month         1152 non-null   int64         \n",
      " 9   day_of_week   1152 non-null   int64         \n",
      " 10  week          1152 non-null   int64         \n",
      " 11  day_of_month  1152 non-null   int64         \n",
      " 12  day_of_year   1152 non-null   int64         \n",
      "dtypes: datetime64[ns](1), float64(3), int64(9)\n",
      "memory usage: 126.0 KB\n"
     ]
    }
   ],
   "source": [
    "# load data\n",
    "# feature engineering\n",
    "df = pd.read_csv('/Users/kata/Desktop/GitHub/standby_duty_forecasting/sickness_table.csv', index_col=0)\n",
    "df['date'] = pd.to_datetime(df['date'])\n",
    "df['year']= df['date'].dt.year\n",
    "df['month']= df['date'].dt.month\n",
    "df['day_of_week'] = df['date'].dt.dayofweek\n",
    "df['week'] = df['date'].dt.isocalendar().week\n",
    "df['day_of_month'] = df['date'].dt.day\n",
    "df['day_of_year'] = df['date'].dt.dayofyear\n",
    "# change type to not get error\n",
    "df['week'] = df['week'].astype(np.int64)\n",
    "df.info()"
   ]
  },
  {
   "cell_type": "code",
   "execution_count": 7,
   "metadata": {},
   "outputs": [],
   "source": [
    "# predict calls with RF\n",
    "# define X and y data\n",
    "X = df[['year', 'month', 'day_of_week',\n",
    "       'week', 'n_duty', 'n_sby', 'day_of_month', 'day_of_year']]\n",
    "y = df.calls"
   ]
  },
  {
   "cell_type": "code",
   "execution_count": 8,
   "metadata": {},
   "outputs": [],
   "source": [
    "# train test split\n",
    "def train_test_split(data, n_test):\n",
    "\treturn data[:n_test], data[n_test:]\n",
    "\n",
    "\n",
    "x_train, x_test = train_test_split(X, 922)\n",
    "y_train, y_test = train_test_split(y, 922)"
   ]
  },
  {
   "cell_type": "code",
   "execution_count": 9,
   "metadata": {},
   "outputs": [],
   "source": [
    "# train first model\n",
    "# no tuned parameters\n",
    "model = RandomForestRegressor(n_estimators=1000, random_state=6)\n",
    "model.fit(x_train, y_train)\n",
    "pred = model.predict(x_test)"
   ]
  },
  {
   "cell_type": "code",
   "execution_count": 10,
   "metadata": {},
   "outputs": [
    {
     "name": "stdout",
     "output_type": "stream",
     "text": [
      "RMSE: 1235.3986317853141\n",
      "MSE: 1526209.779417026\n"
     ]
    }
   ],
   "source": [
    "# calculte RMSE and MSE\n",
    "print('RMSE:', np.sqrt(mean_squared_error(y_test, pred)))\n",
    "print('MSE:', mean_squared_error(y_test, pred))"
   ]
  },
  {
   "cell_type": "code",
   "execution_count": 11,
   "metadata": {},
   "outputs": [
    {
     "name": "stdout",
     "output_type": "stream",
     "text": [
      "['year',\n",
      " 'month',\n",
      " 'day_of_week',\n",
      " 'week',\n",
      " 'n_duty',\n",
      " 'n_sby',\n",
      " 'day_of_month',\n",
      " 'day_of_year']\n"
     ]
    }
   ],
   "source": [
    "# are alle variables necessary?\n",
    "# Saving feature names for later use\n",
    "feature_list = list(X.columns)\n",
    "pprint(feature_list)"
   ]
  },
  {
   "cell_type": "code",
   "execution_count": 12,
   "metadata": {},
   "outputs": [
    {
     "name": "stdout",
     "output_type": "stream",
     "text": [
      "Variable: day_of_year          Importance: 0.37\n",
      "Variable: day_of_month         Importance: 0.24\n",
      "Variable: day_of_week          Importance: 0.14\n",
      "Variable: year                 Importance: 0.07\n",
      "Variable: week                 Importance: 0.07\n",
      "Variable: n_duty               Importance: 0.07\n",
      "Variable: month                Importance: 0.04\n",
      "Variable: n_sby                Importance: 0.0\n"
     ]
    }
   ],
   "source": [
    "# Get numerical feature importances\n",
    "importances = list(model.feature_importances_)\n",
    "# List of tuples with variable and importance\n",
    "feature_importances = [(feature, round(importance, 2)) for feature, importance in zip(feature_list, importances)]\n",
    "# Sort the feature importances by most important first\n",
    "feature_importances = sorted(feature_importances, key = lambda x: x[1], reverse = True)\n",
    "# Print out the feature and importances \n",
    "[print('Variable: {:20} Importance: {}'.format(*pair)) for pair in feature_importances];"
   ]
  },
  {
   "cell_type": "markdown",
   "metadata": {},
   "source": [
    "Leave sby_need out:"
   ]
  },
  {
   "cell_type": "code",
   "execution_count": 13,
   "metadata": {},
   "outputs": [],
   "source": [
    "# predict calls with RF\n",
    "# define X and y data\n",
    "X_no_sby = df[['year', 'month', 'day_of_week',\n",
    "       'week', 'n_duty', 'day_of_month', 'day_of_year']]\n",
    "y_no_sby = df.calls\n",
    "\n",
    "x_train_no_sby, x_test_no_sby = train_test_split(X, 922)\n",
    "y_train_no_sby, y_test_no_sby = train_test_split(y, 922)"
   ]
  },
  {
   "cell_type": "code",
   "execution_count": 14,
   "metadata": {},
   "outputs": [
    {
     "name": "stdout",
     "output_type": "stream",
     "text": [
      "RMSE: 1267.7218245329896\n",
      "MSE: 1607118.624397252\n"
     ]
    }
   ],
   "source": [
    "# remove n-sby\n",
    "# New random forest with only the two most important variables\n",
    "rf_most_important = RandomForestRegressor(n_estimators= 1000, random_state=42)\n",
    "# Extract the two most important features\n",
    "important_indices = [feature_list.index('week'), feature_list.index('year'), feature_list.index('day_of_month'), feature_list.index('n_duty'), feature_list.index('month'), feature_list.index('day_of_year')]\n",
    "train_important = x_train_no_sby[['week', 'year', 'day_of_month', 'n_duty', 'month', 'day_of_year']]\n",
    "test_important = x_test_no_sby[['week', 'year', 'day_of_month', 'n_duty', 'month', 'day_of_year']]\n",
    "# Train the random forest\n",
    "rf_most_important.fit(train_important, y_train_no_sby)\n",
    "# Make predictions and determine the error\n",
    "predictions = rf_most_important.predict(test_important)\n",
    "# Display the performance metrics\n",
    "# calculate RMSE and MSE\n",
    "print('RMSE:', np.sqrt(mean_squared_error(y_test_no_sby, predictions)))\n",
    "print('MSE:', mean_squared_error(y_test_no_sby, predictions))"
   ]
  },
  {
   "cell_type": "markdown",
   "metadata": {},
   "source": [
    "Somehow performence decreased --> we are keeping n_sby"
   ]
  },
  {
   "cell_type": "markdown",
   "metadata": {},
   "source": [
    "#### Prepare for visualization"
   ]
  },
  {
   "cell_type": "code",
   "execution_count": 15,
   "metadata": {},
   "outputs": [],
   "source": [
    "# visualization\n",
    "# Dates of the actual training values\n",
    "months = X['month']\n",
    "days = X['day_of_month']\n",
    "years = X['year']\n",
    "\n",
    "# List and then convert to datetime object\n",
    "dates = [str(int(year)) + '-' + str(int(month)) + '-' + str(int(day)) for year, month, day in zip(years, months, days)]\n",
    "dates = [datetime.datetime.strptime(date, '%Y-%m-%d') for date in dates]\n",
    "\n",
    "\n",
    "# Dataframe with true values and dates\n",
    "true_data = pd.DataFrame(data = {'date': dates, 'actual': y})"
   ]
  },
  {
   "cell_type": "code",
   "execution_count": 16,
   "metadata": {},
   "outputs": [],
   "source": [
    "# Dates of the predictions\n",
    "months = x_test['month']\n",
    "days = x_test['day_of_month']\n",
    "years = x_test['year']\n",
    "\n",
    "# Column of dates\n",
    "test_dates = [str(int(year)) + '-' + str(int(month)) + '-' + str(int(day)) for year, month, day in zip(years, months, days)]\n",
    "# Convert to datetime objects\n",
    "test_dates = [datetime.datetime.strptime(date, '%Y-%m-%d') for date in test_dates]\n",
    "# Dataframe with predictions and dates\n",
    "predictions_data = pd.DataFrame(data = {'date': test_dates, 'prediction': pred})"
   ]
  },
  {
   "cell_type": "code",
   "execution_count": 17,
   "metadata": {},
   "outputs": [
    {
     "data": {
      "image/png": "[encoded data removed]",
      "text/plain": [
       "<Figure size 864x432 with 1 Axes>"
      ]
     },
     "metadata": {
      "needs_background": "light"
     },
     "output_type": "display_data"
    }
   ],
   "source": [
    "# plot prediction and actual values\n",
    "plt.figure(figsize=(12,6))\n",
    "plt.plot(true_data['date'], true_data['actual'], 'b-', label = 'actual', alpha=0.5, color='tab:blue')\n",
    "# Plot the predicted values\n",
    "plt.plot(predictions_data['date'], predictions_data['prediction'], label = 'prediction', color='tab:purple')\n",
    "plt.xticks(rotation = '60'); \n",
    "plt.legend()\n",
    "# Graph labels\n",
    "plt.xlabel('Date'); plt.ylabel('Calls'); plt.title('Actual and predicted Values');"
   ]
  },
  {
   "cell_type": "markdown",
   "metadata": {},
   "source": [
    "### Hyperparameter Tuning"
   ]
  },
  {
   "cell_type": "code",
   "execution_count": 18,
   "metadata": {},
   "outputs": [
    {
     "name": "stdout",
     "output_type": "stream",
     "text": [
      "Parameters currently in use:\n",
      "\n",
      "{'bootstrap': True,\n",
      " 'ccp_alpha': 0.0,\n",
      " 'criterion': 'squared_error',\n",
      " 'max_depth': None,\n",
      " 'max_features': 1.0,\n",
      " 'max_leaf_nodes': None,\n",
      " 'max_samples': None,\n",
      " 'min_impurity_decrease': 0.0,\n",
      " 'min_samples_leaf': 1,\n",
      " 'min_samples_split': 2,\n",
      " 'min_weight_fraction_leaf': 0.0,\n",
      " 'n_estimators': 1000,\n",
      " 'n_jobs': None,\n",
      " 'oob_score': False,\n",
      " 'random_state': 6,\n",
      " 'verbose': 0,\n",
      " 'warm_start': False}\n"
     ]
    }
   ],
   "source": [
    "# Look at parameters used by our current forest\n",
    "print('Parameters currently in use:\\n')\n",
    "pprint(model.get_params())"
   ]
  },
  {
   "cell_type": "code",
   "execution_count": 19,
   "metadata": {},
   "outputs": [],
   "source": [
    "# grid search\n",
    "# Number of trees in random forest\n",
    "n_estimators = [int(x) for x in np.linspace(start = 200, stop = 2000, num = 10)]\n",
    "# Number of features to consider at every split\n",
    "max_features = ['auto', 'sqrt']\n",
    "# Maximum number of levels in tree\n",
    "max_depth = [int(x) for x in np.linspace(10, 110, num = 11)]\n",
    "max_depth.append(None)\n",
    "# Minimum number of samples required to split a node\n",
    "min_samples_split = [2, 5, 10]\n",
    "# Minimum number of samples required at each leaf node\n",
    "min_samples_leaf = [1, 2, 4]\n",
    "# Method of selecting samples for training each tree\n",
    "bootstrap = [True, False]"
   ]
  },
  {
   "cell_type": "code",
   "execution_count": 20,
   "metadata": {},
   "outputs": [],
   "source": [
    "# Create the random grid\n",
    "#random_grid = {'n_estimators': n_estimators,\n",
    "#               'max_features': max_features,\n",
    "#               'max_depth': max_depth,\n",
    "#               'min_samples_split': min_samples_split,\n",
    "#               'min_samples_leaf': min_samples_leaf,\n",
    "#               'bootstrap': bootstrap}"
   ]
  },
  {
   "cell_type": "code",
   "execution_count": 21,
   "metadata": {},
   "outputs": [
    {
     "name": "stdout",
     "output_type": "stream",
     "text": [
      "{'bootstrap': [True, False],\n",
      " 'max_depth': [10, 20, 30, 40, 50, 60, 70, 80, 90, 100, 110, None],\n",
      " 'max_features': ['auto', 'sqrt'],\n",
      " 'min_samples_leaf': [1, 2, 4],\n",
      " 'min_samples_split': [2, 5, 10],\n",
      " 'n_estimators': [200, 400, 600, 800, 1000, 1200, 1400, 1600, 1800, 2000]}\n"
     ]
    }
   ],
   "source": [
    "# pprint(random_grid)"
   ]
  },
  {
   "cell_type": "code",
   "execution_count": 22,
   "metadata": {},
   "outputs": [
    {
     "name": "stdout",
     "output_type": "stream",
     "text": [
      "Fitting 3 folds for each of 100 candidates, totalling 300 fits\n"
     ]
    },
    {
     "data": {
      "text/html": [
       "<style>#sk-container-id-1 {color: black;background-color: white;}#sk-container-id-1 pre{padding: 0;}#sk-container-id-1 div.sk-toggleable {background-color: white;}#sk-container-id-1 label.sk-toggleable__label {cursor: pointer;display: block;width: 100%;margin-bottom: 0;padding: 0.3em;box-sizing: border-box;text-align: center;}#sk-container-id-1 label.sk-toggleable__label-arrow:before {content: \"▸\";float: left;margin-right: 0.25em;color: #696969;}#sk-container-id-1 label.sk-toggleable__label-arrow:hover:before {color: black;}#sk-container-id-1 div.sk-estimator:hover label.sk-toggleable__label-arrow:before {color: black;}#sk-container-id-1 div.sk-toggleable__content {max-height: 0;max-width: 0;overflow: hidden;text-align: left;background-color: #f0f8ff;}#sk-container-id-1 div.sk-toggleable__content pre {margin: 0.2em;color: black;border-radius: 0.25em;background-color: #f0f8ff;}#sk-container-id-1 input.sk-toggleable__control:checked~div.sk-toggleable__content {max-height: 200px;max-width: 100%;overflow: auto;}#sk-container-id-1 input.sk-toggleable__control:checked~label.sk-toggleable__label-arrow:before {content: \"▾\";}#sk-container-id-1 div.sk-estimator input.sk-toggleable__control:checked~label.sk-toggleable__label {background-color: #d4ebff;}#sk-container-id-1 div.sk-label input.sk-toggleable__control:checked~label.sk-toggleable__label {background-color: #d4ebff;}#sk-container-id-1 input.sk-hidden--visually {border: 0;clip: rect(1px 1px 1px 1px);clip: rect(1px, 1px, 1px, 1px);height: 1px;margin: -1px;overflow: hidden;padding: 0;position: absolute;width: 1px;}#sk-container-id-1 div.sk-estimator {font-family: monospace;background-color: #f0f8ff;border: 1px dotted black;border-radius: 0.25em;box-sizing: border-box;margin-bottom: 0.5em;}#sk-container-id-1 div.sk-estimator:hover {background-color: #d4ebff;}#sk-container-id-1 div.sk-parallel-item::after {content: \"\";width: 100%;border-bottom: 1px solid gray;flex-grow: 1;}#sk-container-id-1 div.sk-label:hover label.sk-toggleable__label {background-color: #d4ebff;}#sk-container-id-1 div.sk-serial::before {content: \"\";position: absolute;border-left: 1px solid gray;box-sizing: border-box;top: 0;bottom: 0;left: 50%;z-index: 0;}#sk-container-id-1 div.sk-serial {display: flex;flex-direction: column;align-items: center;background-color: white;padding-right: 0.2em;padding-left: 0.2em;position: relative;}#sk-container-id-1 div.sk-item {position: relative;z-index: 1;}#sk-container-id-1 div.sk-parallel {display: flex;align-items: stretch;justify-content: center;background-color: white;position: relative;}#sk-container-id-1 div.sk-item::before, #sk-container-id-1 div.sk-parallel-item::before {content: \"\";position: absolute;border-left: 1px solid gray;box-sizing: border-box;top: 0;bottom: 0;left: 50%;z-index: -1;}#sk-container-id-1 div.sk-parallel-item {display: flex;flex-direction: column;z-index: 1;position: relative;background-color: white;}#sk-container-id-1 div.sk-parallel-item:first-child::after {align-self: flex-end;width: 50%;}#sk-container-id-1 div.sk-parallel-item:last-child::after {align-self: flex-start;width: 50%;}#sk-container-id-1 div.sk-parallel-item:only-child::after {width: 0;}#sk-container-id-1 div.sk-dashed-wrapped {border: 1px dashed gray;margin: 0 0.4em 0.5em 0.4em;box-sizing: border-box;padding-bottom: 0.4em;background-color: white;}#sk-container-id-1 div.sk-label label {font-family: monospace;font-weight: bold;display: inline-block;line-height: 1.2em;}#sk-container-id-1 div.sk-label-container {text-align: center;}#sk-container-id-1 div.sk-container {/* jupyter's `normalize.less` sets `[hidden] { display: none; }` but bootstrap.min.css set `[hidden] { display: none !important; }` so we also need the `!important` here to be able to override the default hidden behavior on the sphinx rendered scikit-learn.org. See: https://github.com/scikit-learn/scikit-learn/issues/21755 */display: inline-block !important;position: relative;}#sk-container-id-1 div.sk-text-repr-fallback {display: none;}</style><div id=\"sk-container-id-1\" class=\"sk-top-container\"><div class=\"sk-text-repr-fallback\"><pre>RandomizedSearchCV(cv=3, estimator=RandomForestRegressor(), n_iter=100,\n",
       "                   n_jobs=-1,\n",
       "                   param_distributions={&#x27;bootstrap&#x27;: [True, False],\n",
       "                                        &#x27;max_depth&#x27;: [10, 20, 30, 40, 50, 60,\n",
       "                                                      70, 80, 90, 100, 110,\n",
       "                                                      None],\n",
       "                                        &#x27;max_features&#x27;: [&#x27;auto&#x27;, &#x27;sqrt&#x27;],\n",
       "                                        &#x27;min_samples_leaf&#x27;: [1, 2, 4],\n",
       "                                        &#x27;min_samples_split&#x27;: [2, 5, 10],\n",
       "                                        &#x27;n_estimators&#x27;: [200, 400, 600, 800,\n",
       "                                                         1000, 1200, 1400, 1600,\n",
       "                                                         1800, 2000]},\n",
       "                   random_state=42, verbose=2)</pre><b>In a Jupyter environment, please rerun this cell to show the HTML representation or trust the notebook. <br />On GitHub, the HTML representation is unable to render, please try loading this page with nbviewer.org.</b></div><div class=\"sk-container\" hidden><div class=\"sk-item sk-dashed-wrapped\"><div class=\"sk-label-container\"><div class=\"sk-label sk-toggleable\"><input class=\"sk-toggleable__control sk-hidden--visually\" id=\"sk-estimator-id-1\" type=\"checkbox\" ><label for=\"sk-estimator-id-1\" class=\"sk-toggleable__label sk-toggleable__label-arrow\">RandomizedSearchCV</label><div class=\"sk-toggleable__content\"><pre>RandomizedSearchCV(cv=3, estimator=RandomForestRegressor(), n_iter=100,\n",
       "                   n_jobs=-1,\n",
       "                   param_distributions={&#x27;bootstrap&#x27;: [True, False],\n",
       "                                        &#x27;max_depth&#x27;: [10, 20, 30, 40, 50, 60,\n",
       "                                                      70, 80, 90, 100, 110,\n",
       "                                                      None],\n",
       "                                        &#x27;max_features&#x27;: [&#x27;auto&#x27;, &#x27;sqrt&#x27;],\n",
       "                                        &#x27;min_samples_leaf&#x27;: [1, 2, 4],\n",
       "                                        &#x27;min_samples_split&#x27;: [2, 5, 10],\n",
       "                                        &#x27;n_estimators&#x27;: [200, 400, 600, 800,\n",
       "                                                         1000, 1200, 1400, 1600,\n",
       "                                                         1800, 2000]},\n",
       "                   random_state=42, verbose=2)</pre></div></div></div><div class=\"sk-parallel\"><div class=\"sk-parallel-item\"><div class=\"sk-item\"><div class=\"sk-label-container\"><div class=\"sk-label sk-toggleable\"><input class=\"sk-toggleable__control sk-hidden--visually\" id=\"sk-estimator-id-2\" type=\"checkbox\" ><label for=\"sk-estimator-id-2\" class=\"sk-toggleable__label sk-toggleable__label-arrow\">estimator: RandomForestRegressor</label><div class=\"sk-toggleable__content\"><pre>RandomForestRegressor()</pre></div></div></div><div class=\"sk-serial\"><div class=\"sk-item\"><div class=\"sk-estimator sk-toggleable\"><input class=\"sk-toggleable__control sk-hidden--visually\" id=\"sk-estimator-id-3\" type=\"checkbox\" ><label for=\"sk-estimator-id-3\" class=\"sk-toggleable__label sk-toggleable__label-arrow\">RandomForestRegressor</label><div class=\"sk-toggleable__content\"><pre>RandomForestRegressor()</pre></div></div></div></div></div></div></div></div></div></div>"
      ],
      "text/plain": [
       "RandomizedSearchCV(cv=3, estimator=RandomForestRegressor(), n_iter=100,\n",
       "                   n_jobs=-1,\n",
       "                   param_distributions={'bootstrap': [True, False],\n",
       "                                        'max_depth': [10, 20, 30, 40, 50, 60,\n",
       "                                                      70, 80, 90, 100, 110,\n",
       "                                                      None],\n",
       "                                        'max_features': ['auto', 'sqrt'],\n",
       "                                        'min_samples_leaf': [1, 2, 4],\n",
       "                                        'min_samples_split': [2, 5, 10],\n",
       "                                        'n_estimators': [200, 400, 600, 800,\n",
       "                                                         1000, 1200, 1400, 1600,\n",
       "                                                         1800, 2000]},\n",
       "                   random_state=42, verbose=2)"
      ]
     },
     "execution_count": 22,
     "metadata": {},
     "output_type": "execute_result"
    }
   ],
   "source": [
    "# Use the random grid to search for best hyperparameters\n",
    "# First create the base model to tune\n",
    "# model = RandomForestRegressor()\n",
    "# Random search of parameters, using 3 fold cross validation, \n",
    "# search across 100 different combinations, and use all available cores\n",
    "# model_random = RandomizedSearchCV(estimator = model, param_distributions = random_grid, n_iter = 100, cv = 3, verbose=2, random_state=42, n_jobs = -1)\n",
    "# Fit the random search model\n",
    "#model_random.fit(x_train, y_train)"
   ]
  },
  {
   "cell_type": "code",
   "execution_count": 25,
   "metadata": {},
   "outputs": [
    {
     "data": {
      "text/plain": [
       "{'n_estimators': 2000,\n",
       " 'min_samples_split': 5,\n",
       " 'min_samples_leaf': 1,\n",
       " 'max_features': 'sqrt',\n",
       " 'max_depth': 10,\n",
       " 'bootstrap': True}"
      ]
     },
     "execution_count": 25,
     "metadata": {},
     "output_type": "execute_result"
    }
   ],
   "source": [
    "# view best parameters\n",
    "#model_random.best_params_"
   ]
  },
  {
   "cell_type": "markdown",
   "metadata": {},
   "source": [
    "Best parameters:\n",
    "{'n_estimators': 2000,\n",
    " 'min_samples_split': 5,\n",
    " 'min_samples_leaf': 1,\n",
    " 'max_features': 'sqrt',\n",
    " 'max_depth': 10,\n",
    " 'bootstrap': True}"
   ]
  },
  {
   "cell_type": "code",
   "execution_count": 27,
   "metadata": {},
   "outputs": [],
   "source": [
    "# Evaluate Random Search\n",
    "# To determine if random search yielded a better model, we compare the base model with the best random search model.\n",
    "def evaluate(model, test_features, test_labels):\n",
    "    predictions = model.predict(test_features)\n",
    "    mse = mean_squared_error(test_labels, predictions)\n",
    "    rmse = np.sqrt(mse)\n",
    "    print('Model Performance')\n",
    "    print('Mean Squared Error: {:0.2f}'.format(mse))\n",
    "    print('Root Mean Squared Error: {:0.2f}'.format(rmse))\n",
    "    \n",
    "    return rmse, mse\n"
   ]
  },
  {
   "cell_type": "code",
   "execution_count": 32,
   "metadata": {},
   "outputs": [
    {
     "name": "stdout",
     "output_type": "stream",
     "text": [
      "Model Performance\n",
      "Mean Squared Error: 1526209.78\n",
      "Root Mean Squared Error: 1235.40\n"
     ]
    },
    {
     "data": {
      "text/plain": [
       "(1235.3986317853141, 1526209.779417026)"
      ]
     },
     "execution_count": 32,
     "metadata": {},
     "output_type": "execute_result"
    }
   ],
   "source": [
    "base_model = RandomForestRegressor(n_estimators = 1000, random_state = 6)\n",
    "base_model.fit(x_train, y_train)\n",
    "evaluate(base_model, x_test, y_test)"
   ]
  },
  {
   "cell_type": "code",
   "execution_count": 33,
   "metadata": {},
   "outputs": [
    {
     "name": "stdout",
     "output_type": "stream",
     "text": [
      "Model Performance\n",
      "Mean Squared Error: 1437657.10\n",
      "Root Mean Squared Error: 1199.02\n"
     ]
    },
    {
     "data": {
      "text/plain": [
       "(1199.0233944795923, 1437657.1005093642)"
      ]
     },
     "execution_count": 33,
     "metadata": {},
     "output_type": "execute_result"
    }
   ],
   "source": [
    "#best_random = model_random.best_estimator_\n",
    "#evaluate(best_random, x_test, y_test)"
   ]
  },
  {
   "cell_type": "markdown",
   "metadata": {},
   "source": [
    "Performance got better with the new parameters, now we get even more specific with grid search"
   ]
  },
  {
   "cell_type": "code",
   "execution_count": 37,
   "metadata": {},
   "outputs": [],
   "source": [
    "# Create the parameter grid based on the results of random search \n",
    "param_grid = {\n",
    "    'bootstrap': [True],\n",
    "    'max_depth': [0, 10, 20],\n",
    "    'max_features': ['sqrt'],\n",
    "    'min_samples_leaf': [1, 2, 3],\n",
    "    'min_samples_split': [3, 5, 7],\n",
    "    'n_estimators': [1800, 2000, 2200]\n",
    "}\n",
    "\n",
    "# Create a based model\n",
    "rf = RandomForestRegressor()\n",
    "# Instantiate the grid search model\n",
    "grid_search = GridSearchCV(estimator = rf, param_grid = param_grid, \n",
    "                          cv = 3, n_jobs = -1, verbose = 2)"
   ]
  },
  {
   "cell_type": "code",
   "execution_count": 38,
   "metadata": {},
   "outputs": [
    {
     "name": "stdout",
     "output_type": "stream",
     "text": [
      "Fitting 3 folds for each of 81 candidates, totalling 243 fits\n"
     ]
    },
    {
     "name": "stderr",
     "output_type": "stream",
     "text": [
      "/Users/kata/opt/anaconda3/lib/python3.8/site-packages/sklearn/model_selection/_validation.py:378: FitFailedWarning: \n",
      "81 fits failed out of a total of 243.\n",
      "The score on these train-test partitions for these parameters will be set to nan.\n",
      "If these failures are not expected, you can try to debug them by setting error_score='raise'.\n",
      "\n",
      "Below are more details about the failures:\n",
      "--------------------------------------------------------------------------------\n",
      "81 fits failed with the following error:\n",
      "Traceback (most recent call last):\n",
      "  File \"/Users/kata/opt/anaconda3/lib/python3.8/site-packages/sklearn/model_selection/_validation.py\", line 686, in _fit_and_score\n",
      "    estimator.fit(X_train, y_train, **fit_params)\n",
      "  File \"/Users/kata/opt/anaconda3/lib/python3.8/site-packages/sklearn/ensemble/_forest.py\", line 476, in fit\n",
      "    trees = Parallel(\n",
      "  File \"/Users/kata/opt/anaconda3/lib/python3.8/site-packages/joblib/parallel.py\", line 1043, in __call__\n",
      "    if self.dispatch_one_batch(iterator):\n",
      "  File \"/Users/kata/opt/anaconda3/lib/python3.8/site-packages/joblib/parallel.py\", line 861, in dispatch_one_batch\n",
      "    self._dispatch(tasks)\n",
      "  File \"/Users/kata/opt/anaconda3/lib/python3.8/site-packages/joblib/parallel.py\", line 779, in _dispatch\n",
      "    job = self._backend.apply_async(batch, callback=cb)\n",
      "  File \"/Users/kata/opt/anaconda3/lib/python3.8/site-packages/joblib/_parallel_backends.py\", line 208, in apply_async\n",
      "    result = ImmediateResult(func)\n",
      "  File \"/Users/kata/opt/anaconda3/lib/python3.8/site-packages/joblib/_parallel_backends.py\", line 572, in __init__\n",
      "    self.results = batch()\n",
      "  File \"/Users/kata/opt/anaconda3/lib/python3.8/site-packages/joblib/parallel.py\", line 262, in __call__\n",
      "    return [func(*args, **kwargs)\n",
      "  File \"/Users/kata/opt/anaconda3/lib/python3.8/site-packages/joblib/parallel.py\", line 262, in <listcomp>\n",
      "    return [func(*args, **kwargs)\n",
      "  File \"/Users/kata/opt/anaconda3/lib/python3.8/site-packages/sklearn/utils/fixes.py\", line 117, in __call__\n",
      "    return self.function(*args, **kwargs)\n",
      "  File \"/Users/kata/opt/anaconda3/lib/python3.8/site-packages/sklearn/ensemble/_forest.py\", line 189, in _parallel_build_trees\n",
      "    tree.fit(X, y, sample_weight=curr_sample_weight, check_input=False)\n",
      "  File \"/Users/kata/opt/anaconda3/lib/python3.8/site-packages/sklearn/tree/_classes.py\", line 1342, in fit\n",
      "    super().fit(\n",
      "  File \"/Users/kata/opt/anaconda3/lib/python3.8/site-packages/sklearn/tree/_classes.py\", line 238, in fit\n",
      "    check_scalar(\n",
      "  File \"/Users/kata/opt/anaconda3/lib/python3.8/site-packages/sklearn/utils/validation.py\", line 1480, in check_scalar\n",
      "    raise ValueError(\n",
      "ValueError: max_depth == 0, must be >= 1.\n",
      "\n",
      "  warnings.warn(some_fits_failed_message, FitFailedWarning)\n",
      "/Users/kata/opt/anaconda3/lib/python3.8/site-packages/sklearn/model_selection/_search.py:953: UserWarning: One or more of the test scores are non-finite: [       nan        nan        nan        nan        nan        nan\n",
      "        nan        nan        nan        nan        nan        nan\n",
      "        nan        nan        nan        nan        nan        nan\n",
      "        nan        nan        nan        nan        nan        nan\n",
      "        nan        nan        nan 0.0502684  0.05710164 0.05107273\n",
      " 0.05533894 0.05529759 0.0596891  0.06674101 0.05582837 0.05178485\n",
      " 0.04630248 0.04719037 0.03886197 0.04007723 0.04148132 0.03968835\n",
      " 0.04455675 0.04802605 0.04248864 0.03443622 0.03213691 0.03869877\n",
      " 0.03197493 0.0404532  0.0364281  0.04066067 0.04347731 0.03621957\n",
      " 0.02578907 0.03074443 0.02531191 0.04747899 0.03705633 0.04264162\n",
      " 0.04575762 0.04793753 0.0488202  0.02530394 0.02227381 0.0219775\n",
      " 0.03203973 0.02968209 0.03132639 0.03370672 0.04059619 0.03508838\n",
      " 0.02093411 0.03485906 0.03265879 0.02886713 0.02767479 0.02861669\n",
      " 0.037808   0.02728625 0.02618766]\n",
      "  warnings.warn(\n"
     ]
    },
    {
     "data": {
      "text/plain": [
       "{'bootstrap': True,\n",
       " 'max_depth': 10,\n",
       " 'max_features': 'sqrt',\n",
       " 'min_samples_leaf': 1,\n",
       " 'min_samples_split': 7,\n",
       " 'n_estimators': 1800}"
      ]
     },
     "execution_count": 38,
     "metadata": {},
     "output_type": "execute_result"
    }
   ],
   "source": [
    "# Fit the grid search to the data\n",
    "#grid_search.fit(x_train, y_train)"
   ]
  },
  {
   "cell_type": "code",
   "execution_count": 39,
   "metadata": {},
   "outputs": [
    {
     "data": {
      "text/plain": [
       "{'bootstrap': True,\n",
       " 'max_depth': 10,\n",
       " 'max_features': 'sqrt',\n",
       " 'min_samples_leaf': 1,\n",
       " 'min_samples_split': 7,\n",
       " 'n_estimators': 1800}"
      ]
     },
     "execution_count": 39,
     "metadata": {},
     "output_type": "execute_result"
    }
   ],
   "source": [
    "#grid_search.best_params_"
   ]
  },
  {
   "cell_type": "markdown",
   "metadata": {},
   "source": [
    "best params:\n",
    "<br>\n",
    "{'bootstrap': True,\n",
    " 'max_depth': 10,\n",
    " 'max_features': 'sqrt',\n",
    " 'min_samples_leaf': 1,\n",
    " 'min_samples_split': 7,\n",
    " 'n_estimators': 1800}"
   ]
  },
  {
   "cell_type": "code",
   "execution_count": 41,
   "metadata": {},
   "outputs": [
    {
     "name": "stdout",
     "output_type": "stream",
     "text": [
      "Model Performance\n",
      "Mean Squared Error: 1420469.79\n",
      "Root Mean Squared Error: 1191.83\n"
     ]
    },
    {
     "data": {
      "text/plain": [
       "(1191.8346317371775, 1420469.7894080933)"
      ]
     },
     "execution_count": 41,
     "metadata": {},
     "output_type": "execute_result"
    }
   ],
   "source": [
    "best_grid = grid_search.best_estimator_\n",
    "evaluate(best_grid, x_test, y_test)"
   ]
  },
  {
   "cell_type": "markdown",
   "metadata": {},
   "source": [
    "--> slightly better"
   ]
  },
  {
   "cell_type": "markdown",
   "metadata": {},
   "source": [
    "### Make final prediction with new parameters"
   ]
  },
  {
   "cell_type": "code",
   "execution_count": 47,
   "metadata": {},
   "outputs": [
    {
     "name": "stdout",
     "output_type": "stream",
     "text": [
      "Model Performance\n",
      "Mean Squared Error: 1418403.44\n",
      "Root Mean Squared Error: 1190.97\n"
     ]
    },
    {
     "data": {
      "text/plain": [
       "(1190.9674372471106, 1418403.4365829504)"
      ]
     },
     "execution_count": 47,
     "metadata": {},
     "output_type": "execute_result"
    }
   ],
   "source": [
    "rf = RandomForestRegressor(bootstrap=True, max_depth=10, max_features='sqrt', \n",
    "min_samples_leaf=1, min_samples_split=7, n_estimators=1800, random_state=6)\n",
    "rf.fit(x_train, y_train)\n",
    "pred = rf.predict(x_test)\n",
    "evaluate(rf, x_test, y_test)\n"
   ]
  },
  {
   "cell_type": "code",
   "execution_count": 44,
   "metadata": {},
   "outputs": [],
   "source": [
    "# prepare for visualization\n",
    "# Dataframe with predictions and dates\n",
    "predictions_data = pd.DataFrame(data = {'date': test_dates, 'prediction': pred})"
   ]
  },
  {
   "cell_type": "code",
   "execution_count": 48,
   "metadata": {},
   "outputs": [
    {
     "data": {
      "image/png": "[encoded data removed]",
      "text/plain": [
       "<Figure size 864x432 with 1 Axes>"
      ]
     },
     "metadata": {
      "needs_background": "light"
     },
     "output_type": "display_data"
    }
   ],
   "source": [
    "# plot new predictions\n",
    "# plot prediction and actual values\n",
    "plt.figure(figsize=(12,6))\n",
    "plt.plot(true_data['date'], true_data['actual'], 'b-', label = 'actual', alpha=0.5, color='tab:blue')\n",
    "# Plot the predicted values\n",
    "plt.plot(predictions_data['date'], predictions_data['prediction'], label = 'prediction', color='tab:purple')\n",
    "plt.xticks(rotation = '60'); \n",
    "plt.legend()\n",
    "# Graph labels\n",
    "plt.xlabel('Date'); plt.ylabel('Calls'); plt.title('Actual and predicted Values');"
   ]
  },
  {
   "cell_type": "markdown",
   "metadata": {},
   "source": [
    "## Predict sby_need with predicted calls"
   ]
  },
  {
   "cell_type": "code",
   "execution_count": 52,
   "metadata": {},
   "outputs": [],
   "source": [
    "# create new df with predicted calls\n",
    "calls_new = pd.concat([df['calls'].iloc[:922], predictions_data['prediction']], axis=0).reset_index(drop=True)\n",
    "intermediate_df = df.copy()\n",
    "intermediate_df['calls_new'] = calls_new"
   ]
  },
  {
   "cell_type": "code",
   "execution_count": 93,
   "metadata": {},
   "outputs": [],
   "source": [
    "# define new X and y\n",
    "X = intermediate_df[['year', 'month', 'day_of_week',\n",
    "       'week', 'n_duty', 'day_of_month', 'day_of_year', 'calls_new']]\n",
    "y = intermediate_df['sby_need']"
   ]
  },
  {
   "cell_type": "code",
   "execution_count": 94,
   "metadata": {},
   "outputs": [],
   "source": [
    "# train test split\n",
    "x_train, x_test = train_test_split(X, 922)\n",
    "y_train, y_test = train_test_split(y, 922)\n"
   ]
  },
  {
   "cell_type": "code",
   "execution_count": 131,
   "metadata": {},
   "outputs": [],
   "source": [
    "# predict sby_need with QuantileRegressor\n",
    "quantile = QuantileRegressor(quantile=0.95, alpha=0.25).fit(x_train, y_train)\n",
    "pred = quantile.predict(x_test)\n",
    "pred = pd.Series(pred)"
   ]
  },
  {
   "cell_type": "code",
   "execution_count": 154,
   "metadata": {},
   "outputs": [],
   "source": [
    "# eliminate values <0, round to nearest integer\n",
    "pred = pred.apply(lambda x: 0 if x < 0 else x)\n",
    "pred = np.round(pred)"
   ]
  },
  {
   "cell_type": "code",
   "execution_count": 155,
   "metadata": {},
   "outputs": [
    {
     "name": "stdout",
     "output_type": "stream",
     "text": [
      "Model Performance\n",
      "Mean Squared Error: 13146.11\n",
      "Root Mean Squared Error: 114.66\n"
     ]
    },
    {
     "data": {
      "text/plain": [
       "(114.65646854496278, 13146.10577920204)"
      ]
     },
     "execution_count": 155,
     "metadata": {},
     "output_type": "execute_result"
    }
   ],
   "source": [
    "# evaluate\n",
    "evaluate(quantile, x_test, y_test)"
   ]
  },
  {
   "cell_type": "code",
   "execution_count": 156,
   "metadata": {},
   "outputs": [],
   "source": [
    "# prepare for visualization\n",
    "# Dataframe with predictions and dates\n",
    "true_data = pd.DataFrame(data = {'date': dates, 'actual': y})\n",
    "predictions_data = pd.DataFrame(data = {'date': test_dates, 'prediction': pred})"
   ]
  },
  {
   "cell_type": "code",
   "execution_count": 157,
   "metadata": {},
   "outputs": [
    {
     "data": {
      "image/png": "[encoded data removed]",
      "text/plain": [
       "<Figure size 864x432 with 1 Axes>"
      ]
     },
     "metadata": {
      "needs_background": "light"
     },
     "output_type": "display_data"
    }
   ],
   "source": [
    "# plot new predictions\n",
    "# plot prediction and actual values\n",
    "plt.figure(figsize=(12,6))\n",
    "plt.plot(true_data['date'], true_data['actual'], 'b-', label = 'actual', alpha=0.5, color='tab:blue')\n",
    "# Plot the predicted values\n",
    "plt.plot(predictions_data['date'], predictions_data['prediction'], label = 'prediction', color='tab:purple')\n",
    "plt.xticks(rotation = '60'); \n",
    "plt.legend()\n",
    "# Graph labels\n",
    "plt.xlabel('Date'); plt.ylabel('Calls'); plt.title('Actual and predicted Values');"
   ]
  },
  {
   "cell_type": "code",
   "execution_count": 158,
   "metadata": {},
   "outputs": [
    {
     "data": {
      "text/plain": [
       "(230, 15)"
      ]
     },
     "execution_count": 158,
     "metadata": {},
     "output_type": "execute_result"
    }
   ],
   "source": [
    "# create new df with predictions\n",
    "df_final = intermediate_df.copy()\n",
    "sby_need_predicted = pd.concat([intermediate_df['sby_need'].iloc[:922], pred], axis=0).reset_index(drop=True)\n",
    "df_final['sby_need_predicted'] = sby_need_predicted\n",
    "# create new df for testing timeframe\n",
    "df_final_eval = df_final[922:]\n",
    "df_final_eval = df_final_eval.reset_index(drop=True)\n",
    "df_final_eval.shape"
   ]
  },
  {
   "cell_type": "code",
   "execution_count": 159,
   "metadata": {},
   "outputs": [
    {
     "name": "stdout",
     "output_type": "stream",
     "text": [
      "Understaffed: 38 days, Percent: 16.52173913043478%\n",
      "Overstaffed: 192 days, Percent: 83.47826086956522%\n",
      "Exact match: 0 days, Percent: 0.0%\n"
     ]
    }
   ],
   "source": [
    "# check how many times we are understaffed - predicted vs actual\n",
    "df_final_eval['understaffed'] = np.where(df_final_eval['sby_need_predicted'] < df_final_eval['sby_need'], 1, 0)\n",
    "df_final_eval['overstaffed'] = np.where(df_final_eval['sby_need_predicted'] > df_final_eval['sby_need'], 1, 0)\n",
    "df_final_eval['exact_match'] = np.where(df_final_eval['sby_need_predicted'] == df_final_eval['sby_need'], 1, 0)\n",
    "understaffed = df_final_eval['understaffed'].sum()\n",
    "overstaffed = df_final_eval['overstaffed'].sum()\n",
    "exact_match = df_final_eval['exact_match'].sum()\n",
    "print('Understaffed: {} days,'.format(understaffed), 'Percent: {}%'.format(understaffed/len(df_final_eval)*100))\n",
    "print('Overstaffed: {} days,'.format(overstaffed), 'Percent: {}%'.format(overstaffed/len(df_final_eval)*100))\n",
    "print('Exact match: {} days,'.format(exact_match), 'Percent: {}%'.format(exact_match/len(df_final_eval)*100))"
   ]
  },
  {
   "cell_type": "code",
   "execution_count": 160,
   "metadata": {},
   "outputs": [
    {
     "name": "stdout",
     "output_type": "stream",
     "text": [
      "Understaffed baseline: 48 days Percent: 20.869565217391305%\n",
      "Overstaffed baseline: 182 days Percent: 79.13043478260869%\n",
      "Exact match baseline: 0 days Percent: 0.0%\n"
     ]
    }
   ],
   "source": [
    "# check baseline\n",
    "df_baseline = df_final_eval.copy()\n",
    "df_baseline['understaffed'] = np.where(df_baseline['n_sby'] < df_baseline['sby_need'], 1, 0)\n",
    "df_baseline['overstaffed'] = np.where(df_baseline['n_sby'] > df_baseline['sby_need'], 1, 0)\n",
    "df_baseline['exact_match'] = np.where(df_baseline['n_sby'] == df_baseline['sby_need'], 1, 0)\n",
    "understaffed_baseline = df_baseline['understaffed'].sum()\n",
    "overstaffed_baseline = df_baseline['overstaffed'].sum()\n",
    "exact_match_baseline = df_baseline['exact_match'].sum()\n",
    "print('Understaffed baseline: {} days'.format(understaffed_baseline), 'Percent: {}%'.format(understaffed_baseline/len(df_baseline)*100))\n",
    "print('Overstaffed baseline: {} days'.format(overstaffed_baseline), 'Percent: {}%'.format(overstaffed_baseline/len(df_baseline)*100))\n",
    "print('Exact match baseline: {} days'.format(exact_match_baseline), 'Percent: {}%'.format(exact_match_baseline/len(df_baseline)*100))"
   ]
  },
  {
   "cell_type": "markdown",
   "metadata": {},
   "source": [
    "### Factor in seasonality, encode months"
   ]
  },
  {
   "cell_type": "code",
   "execution_count": 166,
   "metadata": {},
   "outputs": [],
   "source": [
    "df_final['january'] = df_final['month'] == 1\n",
    "df_final['february'] = df_final['month'] == 2\n",
    "df_final['march'] = df_final['month'] == 3\n",
    "df_final['april'] = df_final['month'] == 4\n",
    "df_final['may'] = df_final['month'] == 5\n",
    "df_final['june'] = df_final['month'] == 6\n",
    "df_final['july'] = df_final['month'] == 7\n",
    "df_final['august'] = df_final['month'] == 8\n",
    "df_final['september'] = df_final['month'] == 9\n",
    "df_final['october'] = df_final['month'] == 10\n",
    "df_final['november'] = df_final['month'] == 11\n",
    "df_final['december'] = df_final['month'] == 12"
   ]
  },
  {
   "cell_type": "code",
   "execution_count": 179,
   "metadata": {},
   "outputs": [],
   "source": [
    "# encode seasons\n",
    "df_final['winter'] = np.where((df_final['month'] == 12) | (df_final['month'] == 1) | (df_final['month'] == 2), 1, 0)\n",
    "df_final['spring'] = np.where((df_final['month'] == 3) | (df_final['month'] == 4) | (df_final['month'] == 5), 1, 0)\n",
    "df_final['summer'] = np.where((df_final['month'] == 6) | (df_final['month'] == 7) | (df_final['month'] == 8), 1, 0)\n",
    "df_final['fall'] = np.where((df_final['month'] == 9) | (df_final['month'] == 10) | (df_final['month'] == 11), 1, 0)"
   ]
  },
  {
   "cell_type": "code",
   "execution_count": 187,
   "metadata": {},
   "outputs": [
    {
     "data": {
      "text/plain": [
       "Index(['date', 'n_sick', 'calls', 'n_duty', 'n_sby', 'sby_need', 'dafted',\n",
       "       'year', 'month', 'day_of_week', 'week', 'day_of_month', 'day_of_year',\n",
       "       'calls_new', 'sby_need_predicted', 'january', 'april', 'february',\n",
       "       'march', 'may', 'june', 'july', 'august', 'september', 'october',\n",
       "       'november', 'december', 'winter', 'spring', 'summer', 'fall'],\n",
       "      dtype='object')"
      ]
     },
     "execution_count": 187,
     "metadata": {},
     "output_type": "execute_result"
    }
   ],
   "source": [
    "df_final.columns"
   ]
  },
  {
   "cell_type": "code",
   "execution_count": 194,
   "metadata": {},
   "outputs": [],
   "source": [
    "# make df copy for testing  \n",
    "df_copy = df_final.copy()\n",
    "\n",
    "#train test split\n",
    "# define new X and y\n",
    "X = df_final[['n_duty', 'n_sby', \n",
    "       'year', 'month', 'day_of_week', 'week', 'day_of_month', 'day_of_year',\n",
    "       'calls_new', 'january', 'april', 'february',\n",
    "       'march', 'may', 'june', 'july', 'august', 'september', 'october',\n",
    "       'november', 'december', 'winter', 'spring', 'summer', 'fall']]\n",
    "y = intermediate_df['sby_need']\n",
    "\n",
    "# train test split\n",
    "x_train, x_test = train_test_split(X, 922)\n",
    "y_train, y_test = train_test_split(y, 922)\n"
   ]
  },
  {
   "cell_type": "code",
   "execution_count": 197,
   "metadata": {},
   "outputs": [],
   "source": [
    "# train quantile regressor\n",
    "quantile_seasonal = QuantileRegressor(quantile=0.9).fit(x_train, y_train)\n",
    "\n",
    "#train normal\n",
    "normal_model = LinearRegression().fit(x_train, y_train)"
   ]
  },
  {
   "cell_type": "code",
   "execution_count": 200,
   "metadata": {},
   "outputs": [],
   "source": [
    "# make df for prediction\n",
    "df_copy = df_copy[922:]"
   ]
  },
  {
   "cell_type": "code",
   "execution_count": 214,
   "metadata": {},
   "outputs": [
    {
     "name": "stderr",
     "output_type": "stream",
     "text": [
      "<ipython-input-214-8f4da0d20b89>:1: SettingWithCopyWarning: \n",
      "A value is trying to be set on a copy of a slice from a DataFrame.\n",
      "Try using .loc[row_indexer,col_indexer] = value instead\n",
      "\n",
      "See the caveats in the documentation: https://pandas.pydata.org/pandas-docs/stable/user_guide/indexing.html#returning-a-view-versus-a-copy\n",
      "  df_copy['new_pred'] = np.where(df_copy['summer'] == True, quantile_seasonal.predict(x_test), normal_model.predict(x_test))\n",
      "<ipython-input-214-8f4da0d20b89>:4: SettingWithCopyWarning: \n",
      "A value is trying to be set on a copy of a slice from a DataFrame.\n",
      "Try using .loc[row_indexer,col_indexer] = value instead\n",
      "\n",
      "See the caveats in the documentation: https://pandas.pydata.org/pandas-docs/stable/user_guide/indexing.html#returning-a-view-versus-a-copy\n",
      "  df_copy['new_pred'] = np.round(df_copy['new_pred'] , 0)\n",
      "<ipython-input-214-8f4da0d20b89>:6: SettingWithCopyWarning: \n",
      "A value is trying to be set on a copy of a slice from a DataFrame.\n",
      "Try using .loc[row_indexer,col_indexer] = value instead\n",
      "\n",
      "See the caveats in the documentation: https://pandas.pydata.org/pandas-docs/stable/user_guide/indexing.html#returning-a-view-versus-a-copy\n",
      "  df_copy['new_pred'] = df_copy['new_pred'].apply(lambda x: 0 if x < 0 else x)\n"
     ]
    }
   ],
   "source": [
    "df_copy['new_pred'] = np.where(df_copy['summer'] == True, quantile_seasonal.predict(x_test), normal_model.predict(x_test))\n",
    "\n",
    "\n",
    "df_copy['new_pred'] = np.round(df_copy['new_pred'] , 0)\n",
    "\n",
    "df_copy['new_pred'] = df_copy['new_pred'].apply(lambda x: 0 if x < 0 else x)"
   ]
  },
  {
   "cell_type": "code",
   "execution_count": 215,
   "metadata": {},
   "outputs": [
    {
     "data": {
      "text/html": [
       "<div>\n",
       "<style scoped>\n",
       "    .dataframe tbody tr th:only-of-type {\n",
       "        vertical-align: middle;\n",
       "    }\n",
       "\n",
       "    .dataframe tbody tr th {\n",
       "        vertical-align: top;\n",
       "    }\n",
       "\n",
       "    .dataframe thead th {\n",
       "        text-align: right;\n",
       "    }\n",
       "</style>\n",
       "<table border=\"1\" class=\"dataframe\">\n",
       "  <thead>\n",
       "    <tr style=\"text-align: right;\">\n",
       "      <th></th>\n",
       "      <th>date</th>\n",
       "      <th>n_sick</th>\n",
       "      <th>calls</th>\n",
       "      <th>n_duty</th>\n",
       "      <th>n_sby</th>\n",
       "      <th>sby_need</th>\n",
       "      <th>dafted</th>\n",
       "      <th>year</th>\n",
       "      <th>month</th>\n",
       "      <th>day_of_week</th>\n",
       "      <th>...</th>\n",
       "      <th>november</th>\n",
       "      <th>december</th>\n",
       "      <th>winter</th>\n",
       "      <th>spring</th>\n",
       "      <th>summer</th>\n",
       "      <th>fall</th>\n",
       "      <th>new_pred</th>\n",
       "      <th>understaffed</th>\n",
       "      <th>overstaffed</th>\n",
       "      <th>exact_match</th>\n",
       "    </tr>\n",
       "  </thead>\n",
       "  <tbody>\n",
       "    <tr>\n",
       "      <th>922</th>\n",
       "      <td>2018-10-10</td>\n",
       "      <td>97</td>\n",
       "      <td>7896.0</td>\n",
       "      <td>1900</td>\n",
       "      <td>90</td>\n",
       "      <td>0.0</td>\n",
       "      <td>0.0</td>\n",
       "      <td>2018</td>\n",
       "      <td>10</td>\n",
       "      <td>2</td>\n",
       "      <td>...</td>\n",
       "      <td>False</td>\n",
       "      <td>False</td>\n",
       "      <td>0</td>\n",
       "      <td>0</td>\n",
       "      <td>0</td>\n",
       "      <td>1</td>\n",
       "      <td>57.0</td>\n",
       "      <td>0</td>\n",
       "      <td>1</td>\n",
       "      <td>0</td>\n",
       "    </tr>\n",
       "    <tr>\n",
       "      <th>923</th>\n",
       "      <td>2018-10-11</td>\n",
       "      <td>103</td>\n",
       "      <td>7302.0</td>\n",
       "      <td>1900</td>\n",
       "      <td>90</td>\n",
       "      <td>0.0</td>\n",
       "      <td>0.0</td>\n",
       "      <td>2018</td>\n",
       "      <td>10</td>\n",
       "      <td>3</td>\n",
       "      <td>...</td>\n",
       "      <td>False</td>\n",
       "      <td>False</td>\n",
       "      <td>0</td>\n",
       "      <td>0</td>\n",
       "      <td>0</td>\n",
       "      <td>1</td>\n",
       "      <td>48.0</td>\n",
       "      <td>0</td>\n",
       "      <td>1</td>\n",
       "      <td>0</td>\n",
       "    </tr>\n",
       "    <tr>\n",
       "      <th>924</th>\n",
       "      <td>2018-10-12</td>\n",
       "      <td>106</td>\n",
       "      <td>7506.0</td>\n",
       "      <td>1900</td>\n",
       "      <td>90</td>\n",
       "      <td>0.0</td>\n",
       "      <td>0.0</td>\n",
       "      <td>2018</td>\n",
       "      <td>10</td>\n",
       "      <td>4</td>\n",
       "      <td>...</td>\n",
       "      <td>False</td>\n",
       "      <td>False</td>\n",
       "      <td>0</td>\n",
       "      <td>0</td>\n",
       "      <td>0</td>\n",
       "      <td>1</td>\n",
       "      <td>36.0</td>\n",
       "      <td>0</td>\n",
       "      <td>1</td>\n",
       "      <td>0</td>\n",
       "    </tr>\n",
       "    <tr>\n",
       "      <th>925</th>\n",
       "      <td>2018-10-13</td>\n",
       "      <td>93</td>\n",
       "      <td>9318.0</td>\n",
       "      <td>1900</td>\n",
       "      <td>90</td>\n",
       "      <td>57.0</td>\n",
       "      <td>0.0</td>\n",
       "      <td>2018</td>\n",
       "      <td>10</td>\n",
       "      <td>5</td>\n",
       "      <td>...</td>\n",
       "      <td>False</td>\n",
       "      <td>False</td>\n",
       "      <td>0</td>\n",
       "      <td>0</td>\n",
       "      <td>0</td>\n",
       "      <td>1</td>\n",
       "      <td>22.0</td>\n",
       "      <td>1</td>\n",
       "      <td>0</td>\n",
       "      <td>0</td>\n",
       "    </tr>\n",
       "    <tr>\n",
       "      <th>926</th>\n",
       "      <td>2018-10-14</td>\n",
       "      <td>99</td>\n",
       "      <td>8124.0</td>\n",
       "      <td>1900</td>\n",
       "      <td>90</td>\n",
       "      <td>0.0</td>\n",
       "      <td>0.0</td>\n",
       "      <td>2018</td>\n",
       "      <td>10</td>\n",
       "      <td>6</td>\n",
       "      <td>...</td>\n",
       "      <td>False</td>\n",
       "      <td>False</td>\n",
       "      <td>0</td>\n",
       "      <td>0</td>\n",
       "      <td>0</td>\n",
       "      <td>1</td>\n",
       "      <td>15.0</td>\n",
       "      <td>0</td>\n",
       "      <td>1</td>\n",
       "      <td>0</td>\n",
       "    </tr>\n",
       "    <tr>\n",
       "      <th>...</th>\n",
       "      <td>...</td>\n",
       "      <td>...</td>\n",
       "      <td>...</td>\n",
       "      <td>...</td>\n",
       "      <td>...</td>\n",
       "      <td>...</td>\n",
       "      <td>...</td>\n",
       "      <td>...</td>\n",
       "      <td>...</td>\n",
       "      <td>...</td>\n",
       "      <td>...</td>\n",
       "      <td>...</td>\n",
       "      <td>...</td>\n",
       "      <td>...</td>\n",
       "      <td>...</td>\n",
       "      <td>...</td>\n",
       "      <td>...</td>\n",
       "      <td>...</td>\n",
       "      <td>...</td>\n",
       "      <td>...</td>\n",
       "      <td>...</td>\n",
       "    </tr>\n",
       "    <tr>\n",
       "      <th>1147</th>\n",
       "      <td>2019-05-23</td>\n",
       "      <td>86</td>\n",
       "      <td>8544.0</td>\n",
       "      <td>1900</td>\n",
       "      <td>90</td>\n",
       "      <td>0.0</td>\n",
       "      <td>0.0</td>\n",
       "      <td>2019</td>\n",
       "      <td>5</td>\n",
       "      <td>3</td>\n",
       "      <td>...</td>\n",
       "      <td>False</td>\n",
       "      <td>False</td>\n",
       "      <td>0</td>\n",
       "      <td>1</td>\n",
       "      <td>0</td>\n",
       "      <td>0</td>\n",
       "      <td>13.0</td>\n",
       "      <td>0</td>\n",
       "      <td>1</td>\n",
       "      <td>0</td>\n",
       "    </tr>\n",
       "    <tr>\n",
       "      <th>1148</th>\n",
       "      <td>2019-05-24</td>\n",
       "      <td>81</td>\n",
       "      <td>8814.0</td>\n",
       "      <td>1900</td>\n",
       "      <td>90</td>\n",
       "      <td>0.0</td>\n",
       "      <td>0.0</td>\n",
       "      <td>2019</td>\n",
       "      <td>5</td>\n",
       "      <td>4</td>\n",
       "      <td>...</td>\n",
       "      <td>False</td>\n",
       "      <td>False</td>\n",
       "      <td>0</td>\n",
       "      <td>1</td>\n",
       "      <td>0</td>\n",
       "      <td>0</td>\n",
       "      <td>11.0</td>\n",
       "      <td>0</td>\n",
       "      <td>1</td>\n",
       "      <td>0</td>\n",
       "    </tr>\n",
       "    <tr>\n",
       "      <th>1149</th>\n",
       "      <td>2019-05-25</td>\n",
       "      <td>76</td>\n",
       "      <td>9846.0</td>\n",
       "      <td>1900</td>\n",
       "      <td>90</td>\n",
       "      <td>146.0</td>\n",
       "      <td>56.0</td>\n",
       "      <td>2019</td>\n",
       "      <td>5</td>\n",
       "      <td>5</td>\n",
       "      <td>...</td>\n",
       "      <td>False</td>\n",
       "      <td>False</td>\n",
       "      <td>0</td>\n",
       "      <td>1</td>\n",
       "      <td>0</td>\n",
       "      <td>0</td>\n",
       "      <td>6.0</td>\n",
       "      <td>1</td>\n",
       "      <td>0</td>\n",
       "      <td>0</td>\n",
       "    </tr>\n",
       "    <tr>\n",
       "      <th>1150</th>\n",
       "      <td>2019-05-26</td>\n",
       "      <td>83</td>\n",
       "      <td>9882.0</td>\n",
       "      <td>1900</td>\n",
       "      <td>90</td>\n",
       "      <td>160.0</td>\n",
       "      <td>70.0</td>\n",
       "      <td>2019</td>\n",
       "      <td>5</td>\n",
       "      <td>6</td>\n",
       "      <td>...</td>\n",
       "      <td>False</td>\n",
       "      <td>False</td>\n",
       "      <td>0</td>\n",
       "      <td>1</td>\n",
       "      <td>0</td>\n",
       "      <td>0</td>\n",
       "      <td>1.0</td>\n",
       "      <td>1</td>\n",
       "      <td>0</td>\n",
       "      <td>0</td>\n",
       "    </tr>\n",
       "    <tr>\n",
       "      <th>1151</th>\n",
       "      <td>2019-05-27</td>\n",
       "      <td>77</td>\n",
       "      <td>8790.0</td>\n",
       "      <td>1900</td>\n",
       "      <td>90</td>\n",
       "      <td>0.0</td>\n",
       "      <td>0.0</td>\n",
       "      <td>2019</td>\n",
       "      <td>5</td>\n",
       "      <td>0</td>\n",
       "      <td>...</td>\n",
       "      <td>False</td>\n",
       "      <td>False</td>\n",
       "      <td>0</td>\n",
       "      <td>1</td>\n",
       "      <td>0</td>\n",
       "      <td>0</td>\n",
       "      <td>24.0</td>\n",
       "      <td>0</td>\n",
       "      <td>1</td>\n",
       "      <td>0</td>\n",
       "    </tr>\n",
       "  </tbody>\n",
       "</table>\n",
       "<p>230 rows × 35 columns</p>\n",
       "</div>"
      ],
      "text/plain": [
       "           date  n_sick   calls  n_duty  n_sby  sby_need  dafted  year  month  \\\n",
       "922  2018-10-10      97  7896.0    1900     90       0.0     0.0  2018     10   \n",
       "923  2018-10-11     103  7302.0    1900     90       0.0     0.0  2018     10   \n",
       "924  2018-10-12     106  7506.0    1900     90       0.0     0.0  2018     10   \n",
       "925  2018-10-13      93  9318.0    1900     90      57.0     0.0  2018     10   \n",
       "926  2018-10-14      99  8124.0    1900     90       0.0     0.0  2018     10   \n",
       "...         ...     ...     ...     ...    ...       ...     ...   ...    ...   \n",
       "1147 2019-05-23      86  8544.0    1900     90       0.0     0.0  2019      5   \n",
       "1148 2019-05-24      81  8814.0    1900     90       0.0     0.0  2019      5   \n",
       "1149 2019-05-25      76  9846.0    1900     90     146.0    56.0  2019      5   \n",
       "1150 2019-05-26      83  9882.0    1900     90     160.0    70.0  2019      5   \n",
       "1151 2019-05-27      77  8790.0    1900     90       0.0     0.0  2019      5   \n",
       "\n",
       "      day_of_week  ...  november  december  winter  spring  summer  fall  \\\n",
       "922             2  ...     False     False       0       0       0     1   \n",
       "923             3  ...     False     False       0       0       0     1   \n",
       "924             4  ...     False     False       0       0       0     1   \n",
       "925             5  ...     False     False       0       0       0     1   \n",
       "926             6  ...     False     False       0       0       0     1   \n",
       "...           ...  ...       ...       ...     ...     ...     ...   ...   \n",
       "1147            3  ...     False     False       0       1       0     0   \n",
       "1148            4  ...     False     False       0       1       0     0   \n",
       "1149            5  ...     False     False       0       1       0     0   \n",
       "1150            6  ...     False     False       0       1       0     0   \n",
       "1151            0  ...     False     False       0       1       0     0   \n",
       "\n",
       "      new_pred  understaffed  overstaffed  exact_match  \n",
       "922       57.0             0            1            0  \n",
       "923       48.0             0            1            0  \n",
       "924       36.0             0            1            0  \n",
       "925       22.0             1            0            0  \n",
       "926       15.0             0            1            0  \n",
       "...        ...           ...          ...          ...  \n",
       "1147      13.0             0            1            0  \n",
       "1148      11.0             0            1            0  \n",
       "1149       6.0             1            0            0  \n",
       "1150       1.0             1            0            0  \n",
       "1151      24.0             0            1            0  \n",
       "\n",
       "[230 rows x 35 columns]"
      ]
     },
     "execution_count": 215,
     "metadata": {},
     "output_type": "execute_result"
    }
   ],
   "source": [
    "df_copy"
   ]
  },
  {
   "cell_type": "code",
   "execution_count": 219,
   "metadata": {},
   "outputs": [
    {
     "name": "stdout",
     "output_type": "stream",
     "text": [
      "MSE: 10407.791304347826\n",
      "RMSE:  102.01858313242654\n"
     ]
    }
   ],
   "source": [
    "print('MSE:', mean_squared_error(y_test, df_copy['new_pred']))\n",
    "print('RMSE: ', np.sqrt(mean_squared_error(y_test, df_copy['new_pred'])))"
   ]
  },
  {
   "cell_type": "code",
   "execution_count": null,
   "metadata": {},
   "outputs": [],
   "source": []
  },
  {
   "cell_type": "code",
   "execution_count": null,
   "metadata": {},
   "outputs": [],
   "source": []
  },
  {
   "cell_type": "code",
   "execution_count": 205,
   "metadata": {},
   "outputs": [
    {
     "name": "stdout",
     "output_type": "stream",
     "text": [
      "Understaffed: 63 days, Percent: 27.391304347826086%\n",
      "Overstaffed: 121 days, Percent: 52.60869565217391%\n",
      "Exact match: 46 days, Percent: 20.0%\n"
     ]
    },
    {
     "name": "stderr",
     "output_type": "stream",
     "text": [
      "<ipython-input-205-6eed498aaada>:2: SettingWithCopyWarning: \n",
      "A value is trying to be set on a copy of a slice from a DataFrame.\n",
      "Try using .loc[row_indexer,col_indexer] = value instead\n",
      "\n",
      "See the caveats in the documentation: https://pandas.pydata.org/pandas-docs/stable/user_guide/indexing.html#returning-a-view-versus-a-copy\n",
      "  df_copy['understaffed'] = np.where(df_copy['new_pred'] < df_copy['sby_need'], 1, 0)\n",
      "<ipython-input-205-6eed498aaada>:3: SettingWithCopyWarning: \n",
      "A value is trying to be set on a copy of a slice from a DataFrame.\n",
      "Try using .loc[row_indexer,col_indexer] = value instead\n",
      "\n",
      "See the caveats in the documentation: https://pandas.pydata.org/pandas-docs/stable/user_guide/indexing.html#returning-a-view-versus-a-copy\n",
      "  df_copy['overstaffed'] = np.where(df_copy['new_pred'] > df_copy['sby_need'], 1, 0)\n",
      "<ipython-input-205-6eed498aaada>:4: SettingWithCopyWarning: \n",
      "A value is trying to be set on a copy of a slice from a DataFrame.\n",
      "Try using .loc[row_indexer,col_indexer] = value instead\n",
      "\n",
      "See the caveats in the documentation: https://pandas.pydata.org/pandas-docs/stable/user_guide/indexing.html#returning-a-view-versus-a-copy\n",
      "  df_copy['exact_match'] = np.where(df_copy['new_pred'] == df_copy['sby_need'], 1, 0)\n"
     ]
    }
   ],
   "source": [
    "# check how many times we are understaffed - predicted vs actual\n",
    "df_copy['understaffed'] = np.where(df_copy['new_pred'] < df_copy['sby_need'], 1, 0)\n",
    "df_copy['overstaffed'] = np.where(df_copy['new_pred'] > df_copy['sby_need'], 1, 0)\n",
    "df_copy['exact_match'] = np.where(df_copy['new_pred'] == df_copy['sby_need'], 1, 0)\n",
    "understaffed = df_copy['understaffed'].sum()\n",
    "overstaffed = df_copy['overstaffed'].sum()\n",
    "exact_match = df_copy['exact_match'].sum()\n",
    "print('Understaffed: {} days,'.format(understaffed), 'Percent: {}%'.format(understaffed/len(df_copy)*100))\n",
    "print('Overstaffed: {} days,'.format(overstaffed), 'Percent: {}%'.format(overstaffed/len(df_copy)*100))\n",
    "print('Exact match: {} days,'.format(exact_match), 'Percent: {}%'.format(exact_match/len(df_copy)*100))"
   ]
  },
  {
   "cell_type": "code",
   "execution_count": null,
   "metadata": {},
   "outputs": [],
   "source": []
  },
  {
   "cell_type": "code",
   "execution_count": null,
   "metadata": {},
   "outputs": [],
   "source": []
  }
 ],
 "metadata": {
  "kernelspec": {
   "display_name": "Python 3.8.5 ('base')",
   "language": "python",
   "name": "python3"
  },
  "language_info": {
   "codemirror_mode": {
    "name": "ipython",
    "version": 3
   },
   "file_extension": ".py",
   "mimetype": "text/x-python",
   "name": "python",
   "nbconvert_exporter": "python",
   "pygments_lexer": "ipython3",
   "version": "3.8.5"
  },
  "orig_nbformat": 4,
  "vscode": {
   "interpreter": {
    "hash": "5c3cd99063abd1b4c15ea40868a5df46d871e2273225f116d3d00cd8553a7cf8"
   }
  }
 },
 "nbformat": 4,
 "nbformat_minor": 2
}
